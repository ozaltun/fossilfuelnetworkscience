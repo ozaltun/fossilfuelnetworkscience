{
 "cells": [
  {
   "cell_type": "code",
   "execution_count": 1,
   "metadata": {},
   "outputs": [],
   "source": [
    "import numpy as np\n",
    "import networkx as nx\n",
    "import pandas as pd\n",
    "import matplotlib.pyplot as plt\n",
    "from helper import *\n",
    "import geopandas as gpd\n",
    "\n",
    "##UPDATE Data files: There are self loops"
   ]
  },
  {
   "cell_type": "code",
   "execution_count": 2,
   "metadata": {},
   "outputs": [],
   "source": [
    "trades_df2016, trades_df2011, trades_df2006, trades_df2001, trades_Total, gasTrades_Total, coalTrades_Total, oilTrades_Total = get_data()"
   ]
  },
  {
   "cell_type": "code",
   "execution_count": 3,
   "metadata": {},
   "outputs": [],
   "source": [
    "gasTrades_Total = genGraph4Year(gasTrades_Total, 2016)"
   ]
  },
  {
   "cell_type": "code",
   "execution_count": 4,
   "metadata": {},
   "outputs": [],
   "source": [
    "graph0_di = gasTrades_Total[1] # 0 is shipment in weight, 1 is shipment in value $USD"
   ]
  },
  {
   "cell_type": "code",
   "execution_count": 39,
   "metadata": {},
   "outputs": [
    {
     "data": {
      "text/plain": [
       "{'Value (1000USD)': 34119.702}"
      ]
     },
     "execution_count": 39,
     "metadata": {},
     "output_type": "execute_result"
    }
   ],
   "source": [
    "graph0_di['GBR']['GBR']"
   ]
  },
  {
   "cell_type": "code",
   "execution_count": 40,
   "metadata": {},
   "outputs": [],
   "source": [
    "graph0_undi = nx.Graph()\n",
    "graph0_undi.add_edges_from(graph0_di.edges(), weight=0)\n",
    "for u, v in graph0_di.edges():\n",
    "    graph0_undi[u][v]['weight'] += \\\n",
    "    graph0_di[u][v]['Value (1000USD)']"
   ]
  },
  {
   "cell_type": "code",
   "execution_count": 41,
   "metadata": {},
   "outputs": [
    {
     "name": "stdout",
     "output_type": "stream",
     "text": [
      "9588664.65638\n"
     ]
    }
   ],
   "source": [
    "print(graph0_di['USA']['CAN']['Value (1000USD)']+graph0_di['CAN']['USA']['Value (1000USD)'])"
   ]
  },
  {
   "cell_type": "code",
   "execution_count": 42,
   "metadata": {},
   "outputs": [
    {
     "data": {
      "text/plain": [
       "9588664.65638"
      ]
     },
     "execution_count": 42,
     "metadata": {},
     "output_type": "execute_result"
    }
   ],
   "source": [
    "graph0_undi['USA']['CAN']['weight']"
   ]
  },
  {
   "cell_type": "code",
   "execution_count": 43,
   "metadata": {},
   "outputs": [],
   "source": [
    "countries = list(graph0_undi.nodes())\n",
    "countries.sort()\n",
    "country_to_number = dict()\n",
    "for i, country in enumerate(countries):\n",
    "    country_to_number[country] = i+1"
   ]
  },
  {
   "cell_type": "code",
   "execution_count": 44,
   "metadata": {},
   "outputs": [],
   "source": [
    "G=nx.relabel_nodes(graph0_undi,country_to_number)"
   ]
  },
  {
   "cell_type": "code",
   "execution_count": 45,
   "metadata": {},
   "outputs": [
    {
     "name": "stdout",
     "output_type": "stream",
     "text": [
      "AUS\n",
      "{'weight': 163.599} None\n",
      "CAN\n",
      "{'weight': 224.617} None\n",
      "GBR\n",
      "{'weight': 34119.702} None\n",
      "LUX\n",
      "{'weight': 2.528} None\n",
      "SVK\n",
      "{'weight': 16266.672} None\n",
      "THA\n",
      "{'weight': 0.294} None\n",
      "ZAF\n",
      "{'weight': 0.15} None\n"
     ]
    }
   ],
   "source": [
    "for i, country in enumerate(countries):\n",
    "    if G.has_edge(i, i):\n",
    "        print(G[i][i], print(int_to_country[i]))"
   ]
  },
  {
   "cell_type": "code",
   "execution_count": 46,
   "metadata": {},
   "outputs": [],
   "source": [
    "G.remove_edges_from(G.selfloop_edges())"
   ]
  },
  {
   "cell_type": "code",
   "execution_count": 47,
   "metadata": {},
   "outputs": [],
   "source": [
    "for i, country in enumerate(countries):\n",
    "    if G.has_edge(i, i):\n",
    "        print(G[i][i], print(int_to_country[i]))"
   ]
  },
  {
   "cell_type": "code",
   "execution_count": 48,
   "metadata": {},
   "outputs": [
    {
     "data": {
      "text/plain": [
       "'\\nnx.triangles(graph0_undi)\\nall_cliques= nx.enumerate_all_cliques(graph0_undi)\\ntriad_cliques=[x for x in all_cliques if len(x)==3 ]\\ncycle_3 = [c for c in nx.cycle_basis(graph0_undi) if len(c)==3]\\nA = nx.adjacency_matrix(graph0_undi).todense()\\n'"
      ]
     },
     "execution_count": 48,
     "metadata": {},
     "output_type": "execute_result"
    }
   ],
   "source": [
    "\"\"\"\n",
    "nx.triangles(graph0_undi)\n",
    "all_cliques= nx.enumerate_all_cliques(graph0_undi)\n",
    "triad_cliques=[x for x in all_cliques if len(x)==3 ]\n",
    "cycle_3 = [c for c in nx.cycle_basis(graph0_undi) if len(c)==3]\n",
    "A = nx.adjacency_matrix(graph0_undi).todense()\n",
    "\"\"\""
   ]
  },
  {
   "cell_type": "code",
   "execution_count": 49,
   "metadata": {},
   "outputs": [],
   "source": [
    "#nx.write_graphml(G, \"gasTrades_2016.graphml\")\n",
    "nx.write_weighted_edgelist(G, \"gasTrades_2016.txt\")"
   ]
  },
  {
   "cell_type": "code",
   "execution_count": 50,
   "metadata": {},
   "outputs": [],
   "source": [
    "import pickle\n",
    "with open('country_to_int.pickle', 'wb') as handle:\n",
    "    pickle.dump(country_to_number, handle, protocol=pickle.HIGHEST_PROTOCOL)"
   ]
  },
  {
   "cell_type": "code",
   "execution_count": 51,
   "metadata": {},
   "outputs": [],
   "source": [
    "with open('country_to_int.pickle', 'rb') as handle:\n",
    "    country_to_int = pickle.load(handle)"
   ]
  },
  {
   "cell_type": "code",
   "execution_count": 52,
   "metadata": {},
   "outputs": [],
   "source": [
    "int_to_country = dict([[v,k] for k,v in country_to_int.items()])\n"
   ]
  },
  {
   "cell_type": "code",
   "execution_count": null,
   "metadata": {},
   "outputs": [],
   "source": []
  }
 ],
 "metadata": {
  "kernelspec": {
   "display_name": "Python 3",
   "language": "python",
   "name": "python3"
  },
  "language_info": {
   "codemirror_mode": {
    "name": "ipython",
    "version": 3
   },
   "file_extension": ".py",
   "mimetype": "text/x-python",
   "name": "python",
   "nbconvert_exporter": "python",
   "pygments_lexer": "ipython3",
   "version": "3.6.3"
  }
 },
 "nbformat": 4,
 "nbformat_minor": 2
}
