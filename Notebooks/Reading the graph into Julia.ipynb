{
 "cells": [
  {
   "cell_type": "code",
   "execution_count": 1,
   "metadata": {},
   "outputs": [],
   "source": [
    "using LightGraphs, SimpleWeightedGraphs\n",
    "using DelimitedFiles"
   ]
  },
  {
   "cell_type": "code",
   "execution_count": 2,
   "metadata": {},
   "outputs": [],
   "source": [
    "data = readdlm(\"gasTrades_2016.txt\");"
   ]
  },
  {
   "cell_type": "code",
   "execution_count": 14,
   "metadata": {},
   "outputs": [],
   "source": [
    "sources = data[:,1];\n",
    "destinations = data[:,2];\n",
    "weights = data[:,3];\n",
    "\n",
    "sources = convert(Array{Int64, 1}, sources);\n",
    "destinations = convert(Array{Int64, 1}, destinations);"
   ]
  },
  {
   "cell_type": "code",
   "execution_count": 15,
   "metadata": {},
   "outputs": [
    {
     "data": {
      "text/plain": [
       "{218, 2224} undirected simple Int64 graph with Float64 weights"
      ]
     },
     "execution_count": 15,
     "metadata": {},
     "output_type": "execute_result"
    }
   ],
   "source": [
    "s = SimpleWeightedGraph(sources, destinations, weights)"
   ]
  },
  {
   "cell_type": "code",
   "execution_count": 16,
   "metadata": {},
   "outputs": [
    {
     "data": {
      "text/plain": [
       "2228×3 Array{Float64,2}:\n",
       "   1.0   46.0   2861.29     \n",
       "   1.0   62.0   3388.74     \n",
       "   1.0   89.0    533.352    \n",
       "   1.0   94.0   3175.25     \n",
       "   1.0  171.0   1191.37     \n",
       "   1.0  176.0   2673.79     \n",
       "   1.0  207.0      2.33292e5\n",
       "   1.0  210.0     86.388    \n",
       "   1.0   40.0     30.146    \n",
       "   1.0  147.0      9.00852  \n",
       "   1.0  144.0  12894.9      \n",
       "   1.0  154.0     58.933    \n",
       "   1.0  155.0   3592.46     \n",
       "   ⋮                        \n",
       " 121.0   15.0      1.544    \n",
       " 121.0   90.0      0.002    \n",
       " 121.0  205.0   1525.01     \n",
       " 121.0   55.0     12.666    \n",
       " 182.0  193.0      0.422    \n",
       " 182.0   73.0      0.799    \n",
       " 137.0    6.0  13200.6      \n",
       " 193.0   19.0   1739.77     \n",
       " 193.0  143.0      0.539    \n",
       "  42.0   35.0     30.588    \n",
       " 218.0  217.0    469.335    \n",
       " 192.0   35.0     69.648    "
      ]
     },
     "execution_count": 16,
     "metadata": {},
     "output_type": "execute_result"
    }
   ],
   "source": [
    "data"
   ]
  },
  {
   "cell_type": "code",
   "execution_count": 17,
   "metadata": {},
   "outputs": [
    {
     "data": {
      "text/plain": [
       "2228-element Array{Int64,1}:\n",
       "  46\n",
       "  62\n",
       "  89\n",
       "  94\n",
       " 171\n",
       " 176\n",
       " 207\n",
       " 210\n",
       "  40\n",
       " 147\n",
       " 144\n",
       " 154\n",
       " 155\n",
       "   ⋮\n",
       "  15\n",
       "  90\n",
       " 205\n",
       "  55\n",
       " 193\n",
       "  73\n",
       "   6\n",
       "  19\n",
       " 143\n",
       "  35\n",
       " 217\n",
       "  35"
      ]
     },
     "execution_count": 17,
     "metadata": {},
     "output_type": "execute_result"
    }
   ],
   "source": [
    "destinations"
   ]
  },
  {
   "cell_type": "code",
   "execution_count": 18,
   "metadata": {},
   "outputs": [
    {
     "data": {
      "text/plain": [
       "218×218 SparseArrays.SparseMatrixCSC{Int64,Int64} with 4449 stored entries:\n",
       "  [40 ,   1]  =  1\n",
       "  [46 ,   1]  =  1\n",
       "  [62 ,   1]  =  1\n",
       "  [89 ,   1]  =  1\n",
       "  [94 ,   1]  =  1\n",
       "  [144,   1]  =  1\n",
       "  [147,   1]  =  1\n",
       "  [154,   1]  =  1\n",
       "  [155,   1]  =  1\n",
       "  [171,   1]  =  1\n",
       "  [176,   1]  =  1\n",
       "  [207,   1]  =  1\n",
       "  ⋮\n",
       "  [34 , 217]  =  1\n",
       "  [147, 217]  =  1\n",
       "  [203, 217]  =  1\n",
       "  [216, 217]  =  1\n",
       "  [218, 217]  =  1\n",
       "  [7  , 218]  =  1\n",
       "  [34 , 218]  =  1\n",
       "  [74 , 218]  =  1\n",
       "  [136, 218]  =  1\n",
       "  [147, 218]  =  1\n",
       "  [216, 218]  =  1\n",
       "  [217, 218]  =  1"
      ]
     },
     "execution_count": 18,
     "metadata": {},
     "output_type": "execute_result"
    }
   ],
   "source": [
    "adjacency_matrix(s)"
   ]
  },
  {
   "cell_type": "code",
   "execution_count": null,
   "metadata": {},
   "outputs": [],
   "source": []
  },
  {
   "cell_type": "code",
   "execution_count": null,
   "metadata": {},
   "outputs": [],
   "source": []
  }
 ],
 "metadata": {
  "kernelspec": {
   "display_name": "Julia 1.1.1",
   "language": "julia",
   "name": "julia-1.1"
  },
  "language_info": {
   "file_extension": ".jl",
   "mimetype": "application/julia",
   "name": "julia",
   "version": "1.1.1"
  }
 },
 "nbformat": 4,
 "nbformat_minor": 2
}
