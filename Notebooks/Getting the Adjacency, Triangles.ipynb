{
 "cells": [
  {
   "cell_type": "code",
   "execution_count": 1,
   "metadata": {},
   "outputs": [],
   "source": [
    "import numpy as np\n",
    "import networkx as nx\n",
    "import pandas as pd\n",
    "import matplotlib.pyplot as plt\n",
    "from helper import *\n",
    "import geopandas as gpd"
   ]
  },
  {
   "cell_type": "code",
   "execution_count": 2,
   "metadata": {},
   "outputs": [],
   "source": [
    "trades_df2016, trades_df2011, trades_df2006, trades_df2001, trades_Total, gasTrades_Total, coalTrades_Total, oilTrades_Total = get_data()"
   ]
  },
  {
   "cell_type": "code",
   "execution_count": 3,
   "metadata": {},
   "outputs": [],
   "source": [
    "gasTrades_Total = genGraph4Year(gasTrades_Total, 2016)"
   ]
  },
  {
   "cell_type": "code",
   "execution_count": 4,
   "metadata": {},
   "outputs": [],
   "source": [
    "graph0_di = gasTrades_Total[1] # 0 is shipment in weight, 1 is shipment in value $USD"
   ]
  },
  {
   "cell_type": "code",
   "execution_count": 5,
   "metadata": {},
   "outputs": [],
   "source": [
    "graph0_undi = nx.Graph()\n",
    "graph0_undi.add_edges_from(graph0_di.edges(), weight=0)\n",
    "for u, v in graph0_di.edges():\n",
    "    graph0_undi[u][v]['weight'] += \\\n",
    "    graph0_di[u][v]['Value (1000USD)']"
   ]
  },
  {
   "cell_type": "code",
   "execution_count": 6,
   "metadata": {},
   "outputs": [
    {
     "name": "stdout",
     "output_type": "stream",
     "text": [
      "9588664.65638\n"
     ]
    }
   ],
   "source": [
    "print(graph0_di['USA']['CAN']['Value (1000USD)']+graph0_di['CAN']['USA']['Value (1000USD)'])"
   ]
  },
  {
   "cell_type": "code",
   "execution_count": 8,
   "metadata": {},
   "outputs": [
    {
     "data": {
      "text/plain": [
       "9588664.65638"
      ]
     },
     "execution_count": 8,
     "metadata": {},
     "output_type": "execute_result"
    }
   ],
   "source": [
    "graph0_undi['USA']['CAN']['weight']"
   ]
  },
  {
   "cell_type": "code",
   "execution_count": 18,
   "metadata": {},
   "outputs": [
    {
     "data": {
      "text/plain": [
       "{'ABW': 41,\n",
       " 'AFG': 47,\n",
       " 'AGO': 138,\n",
       " 'AIA': 0,\n",
       " 'ALB': 251,\n",
       " 'AND': 6,\n",
       " 'ARE': 760,\n",
       " 'ARG': 340,\n",
       " 'ARM': 13,\n",
       " 'ASM': 0,\n",
       " 'ATA': 0,\n",
       " 'ATF': 0,\n",
       " 'ATG': 3,\n",
       " 'AUS': 527,\n",
       " 'AUT': 291,\n",
       " 'AZE': 126,\n",
       " 'BDI': 0,\n",
       " 'BEL': 1110,\n",
       " 'BEN': 3,\n",
       " 'BFA': 125,\n",
       " 'BGD': 24,\n",
       " 'BGR': 288,\n",
       " 'BHR': 129,\n",
       " 'BHS': 10,\n",
       " 'BIH': 385,\n",
       " 'BLR': 251,\n",
       " 'BLZ': 19,\n",
       " 'BMU': 25,\n",
       " 'BOL': 73,\n",
       " 'BRA': 369,\n",
       " 'BRB': 21,\n",
       " 'BRN': 15,\n",
       " 'BTN': 0,\n",
       " 'BWA': 21,\n",
       " 'CAF': 0,\n",
       " 'CAN': 361,\n",
       " 'CCK': 0,\n",
       " 'CHE': 985,\n",
       " 'CHL': 185,\n",
       " 'CHN': 1460,\n",
       " 'CIV': 77,\n",
       " 'CMR': 6,\n",
       " 'COD': 22,\n",
       " 'COG': 54,\n",
       " 'COK': 0,\n",
       " 'COL': 175,\n",
       " 'COM': 0,\n",
       " 'CPV': 38,\n",
       " 'CRI': 15,\n",
       " 'CUB': 1,\n",
       " 'CUW': 1,\n",
       " 'CXR': 0,\n",
       " 'CYM': 0,\n",
       " 'CYP': 74,\n",
       " 'CZE': 251,\n",
       " 'DEU': 1256,\n",
       " 'DJI': 6,\n",
       " 'DMA': 1,\n",
       " 'DNK': 290,\n",
       " 'DOM': 106,\n",
       " 'DZA': 365,\n",
       " 'ECU': 49,\n",
       " 'EGY': 486,\n",
       " 'ESP': 869,\n",
       " 'EST': 307,\n",
       " 'ETH': 28,\n",
       " 'FIN': 247,\n",
       " 'FJI': 54,\n",
       " 'FLK': 0,\n",
       " 'FRA': 1308,\n",
       " 'FRO': 0,\n",
       " 'FSM': 1,\n",
       " 'GAB': 12,\n",
       " 'GBR': 1530,\n",
       " 'GEO': 148,\n",
       " 'GHA': 208,\n",
       " 'GIB': 27,\n",
       " 'GIN': 22,\n",
       " 'GMB': 26,\n",
       " 'GNB': 1,\n",
       " 'GNQ': 113,\n",
       " 'GRC': 859,\n",
       " 'GRD': 1,\n",
       " 'GRL': 14,\n",
       " 'GTM': 43,\n",
       " 'GUM': 1,\n",
       " 'GUY': 24,\n",
       " 'HKG': 364,\n",
       " 'HND': 46,\n",
       " 'HRV': 123,\n",
       " 'HTI': 1,\n",
       " 'HUN': 306,\n",
       " 'IDN': 256,\n",
       " 'IND': 555,\n",
       " 'IRL': 422,\n",
       " 'IRN': 103,\n",
       " 'IRQ': 33,\n",
       " 'ISL': 96,\n",
       " 'ISR': 129,\n",
       " 'ITA': 1322,\n",
       " 'JAM': 34,\n",
       " 'JOR': 181,\n",
       " 'JPN': 486,\n",
       " 'KAZ': 361,\n",
       " 'KEN': 76,\n",
       " 'KGZ': 37,\n",
       " 'KHM': 14,\n",
       " 'KIR': 32,\n",
       " 'KNA': 0,\n",
       " 'KOR': 1246,\n",
       " 'KWT': 192,\n",
       " 'LAO': 3,\n",
       " 'LBN': 134,\n",
       " 'LBR': 11,\n",
       " 'LBY': 33,\n",
       " 'LCA': 24,\n",
       " 'LKA': 75,\n",
       " 'LSO': 0,\n",
       " 'LTU': 325,\n",
       " 'LUX': 122,\n",
       " 'LVA': 184,\n",
       " 'MAC': 1,\n",
       " 'MAR': 250,\n",
       " 'MDA': 71,\n",
       " 'MDG': 27,\n",
       " 'MDV': 30,\n",
       " 'MEX': 315,\n",
       " 'MHL': 11,\n",
       " 'MKD': 321,\n",
       " 'MLI': 27,\n",
       " 'MLT': 139,\n",
       " 'MMR': 28,\n",
       " 'MNE': 173,\n",
       " 'MNG': 27,\n",
       " 'MNP': 0,\n",
       " 'MOZ': 31,\n",
       " 'MRT': 34,\n",
       " 'MUS': 180,\n",
       " 'MWI': 3,\n",
       " 'MYS': 345,\n",
       " 'NAM': 162,\n",
       " 'NCL': 10,\n",
       " 'NER': 27,\n",
       " 'NGA': 538,\n",
       " 'NIC': 14,\n",
       " 'NIU': 0,\n",
       " 'NLD': 1940,\n",
       " 'NOR': 580,\n",
       " 'NPL': 3,\n",
       " 'NRU': 6,\n",
       " 'NZL': 161,\n",
       " 'OMN': 153,\n",
       " 'PAK': 153,\n",
       " 'PAN': 87,\n",
       " 'PER': 161,\n",
       " 'PHL': 268,\n",
       " 'PLW': 5,\n",
       " 'PNG': 71,\n",
       " 'POL': 716,\n",
       " 'PRK': 6,\n",
       " 'PRT': 306,\n",
       " 'PRY': 28,\n",
       " 'PSE': 0,\n",
       " 'PYF': 10,\n",
       " 'QAT': 468,\n",
       " 'ROU': 439,\n",
       " 'RUS': 749,\n",
       " 'RWA': 51,\n",
       " 'SAU': 356,\n",
       " 'SDN': 3,\n",
       " 'SEN': 187,\n",
       " 'SGP': 634,\n",
       " 'SHN': 0,\n",
       " 'SLB': 13,\n",
       " 'SLE': 16,\n",
       " 'SLV': 34,\n",
       " 'SMR': 0,\n",
       " 'SOM': 1,\n",
       " 'SPM': 0,\n",
       " 'SRB': 325,\n",
       " 'SSD': 0,\n",
       " 'STP': 30,\n",
       " 'SUR': 15,\n",
       " 'SVK': 327,\n",
       " 'SVN': 100,\n",
       " 'SWE': 608,\n",
       " 'SWZ': 5,\n",
       " 'SXM': 1,\n",
       " 'SYC': 31,\n",
       " 'SYR': 2,\n",
       " 'TCA': 1,\n",
       " 'TCD': 0,\n",
       " 'TGO': 35,\n",
       " 'THA': 329,\n",
       " 'TJK': 5,\n",
       " 'TKM': 32,\n",
       " 'TLS': 1,\n",
       " 'TON': 1,\n",
       " 'TTO': 195,\n",
       " 'TUN': 160,\n",
       " 'TUR': 419,\n",
       " 'TUV': 1,\n",
       " 'TZA': 179,\n",
       " 'UGA': 175,\n",
       " 'UKR': 137,\n",
       " 'URY': 20,\n",
       " 'USA': 1489,\n",
       " 'UZB': 35,\n",
       " 'VCT': 0,\n",
       " 'VEN': 10,\n",
       " 'VGB': 1,\n",
       " 'VNM': 120,\n",
       " 'VUT': 1,\n",
       " 'WSM': 6,\n",
       " 'YEM': 0,\n",
       " 'ZAF': 349,\n",
       " 'ZMB': 7,\n",
       " 'ZWE': 15}"
      ]
     },
     "execution_count": 18,
     "metadata": {},
     "output_type": "execute_result"
    }
   ],
   "source": [
    "\"\"\"\n",
    "nx.triangles(graph0_undi)\n",
    "all_cliques= nx.enumerate_all_cliques(graph0_undi)\n",
    "triad_cliques=[x for x in all_cliques if len(x)==3 ]\n",
    "cycle_3 = [c for c in nx.cycle_basis(graph0_undi) if len(c)==3]\n",
    "A = nx.adjacency_matrix(graph0_undi).todense()\n",
    "\"\"\""
   ]
  },
  {
   "cell_type": "code",
   "execution_count": 22,
   "metadata": {},
   "outputs": [],
   "source": []
  },
  {
   "cell_type": "code",
   "execution_count": 24,
   "metadata": {},
   "outputs": [
    {
     "data": {
      "text/plain": [
       "13460"
      ]
     },
     "execution_count": 24,
     "metadata": {},
     "output_type": "execute_result"
    }
   ],
   "source": [
    "len(triad_cliques)"
   ]
  },
  {
   "cell_type": "code",
   "execution_count": 29,
   "metadata": {},
   "outputs": [],
   "source": []
  },
  {
   "cell_type": "code",
   "execution_count": 32,
   "metadata": {},
   "outputs": [
    {
     "data": {
      "text/plain": [
       "1521"
      ]
     },
     "execution_count": 32,
     "metadata": {},
     "output_type": "execute_result"
    }
   ],
   "source": [
    "len(cycle_3)"
   ]
  },
  {
   "cell_type": "code",
   "execution_count": 36,
   "metadata": {},
   "outputs": [],
   "source": []
  },
  {
   "cell_type": "code",
   "execution_count": 37,
   "metadata": {},
   "outputs": [
    {
     "data": {
      "text/plain": [
       "(218, 218)"
      ]
     },
     "execution_count": 37,
     "metadata": {},
     "output_type": "execute_result"
    }
   ],
   "source": [
    "A.shape"
   ]
  },
  {
   "cell_type": "code",
   "execution_count": 38,
   "metadata": {},
   "outputs": [
    {
     "data": {
      "text/plain": [
       "<networkx.classes.graph.Graph at 0x13931eef0>"
      ]
     },
     "execution_count": 38,
     "metadata": {},
     "output_type": "execute_result"
    }
   ],
   "source": [
    "graph0_undi"
   ]
  },
  {
   "cell_type": "code",
   "execution_count": null,
   "metadata": {},
   "outputs": [],
   "source": []
  }
 ],
 "metadata": {
  "kernelspec": {
   "display_name": "Python 3",
   "language": "python",
   "name": "python3"
  },
  "language_info": {
   "codemirror_mode": {
    "name": "ipython",
    "version": 3
   },
   "file_extension": ".py",
   "mimetype": "text/x-python",
   "name": "python",
   "nbconvert_exporter": "python",
   "pygments_lexer": "ipython3",
   "version": "3.6.4"
  }
 },
 "nbformat": 4,
 "nbformat_minor": 2
}
