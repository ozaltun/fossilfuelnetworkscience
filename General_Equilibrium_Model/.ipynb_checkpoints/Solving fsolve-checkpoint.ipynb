{
 "cells": [
  {
   "cell_type": "code",
   "execution_count": 3,
   "metadata": {},
   "outputs": [],
   "source": [
    "from scipy.optimize import fsolve\n",
    "import numpy as np\n",
    "import pandas as pd\n",
    "import matplotlib.pyplot as plt\n",
    "\n",
    "from counterfactual_functions import *\n",
    "from helper import *"
   ]
  },
  {
   "cell_type": "code",
   "execution_count": 4,
   "metadata": {},
   "outputs": [],
   "source": [
    "data_dict = load_obj('/Users/boraozaltun/Dropbox (MIT)/Data/Trade/general_equilibrium_gravity/final_data/data_20200210.pickle')"
   ]
  },
  {
   "cell_type": "code",
   "execution_count": 22,
   "metadata": {},
   "outputs": [],
   "source": [
    "X = np.ones(5*n*g + 4*n*k + 3*n)\n",
    "\n"
   ]
  },
  {
   "cell_type": "code",
   "execution_count": 23,
   "metadata": {},
   "outputs": [],
   "source": [
    "def counterfactual(X, data):\n",
    "    n = data_dict['n']\n",
    "    g = data_dict['g']\n",
    "    k = data_dict['k']\n",
    "    E_hat, P_k_hat, P_k_goods_hat, P_g_goods_hat, D_k_hat, D_g_hat, Y_k_hat, Y_g_hat, C_k_hat, C_g_hat, r_hat, w_hat  = get_values_from_X(X, data_dict)\n",
    "    \n",
    "    values = []\n",
    "    \n",
    "    values.append(E_hat - get_E_hat(w_hat, r_hat, data))\n",
    "    values.append(P_k_hat - get_P_k_hat(P_k_goods_hat, data))\n",
    "    values.append(P_k_goods_hat - get_P_k_goods_hat(C_k_hat, data))\n",
    "    values.append(P_g_goods_hat - get_P_g_goods_hat(C_g_hat, data))\n",
    "    values.append(D_k_hat - get_D_k_hat(E_hat, P_k_goods_hat, P_k_hat, data))\n",
    "    values.append(D_g_hat - get_D_g_hat(P_g_goods_hat, C_k_hat, Y_k_hat, data))\n",
    "    values.append(Y_k_hat - get_Y_k_hat(C_k_hat, P_k_hat, D_k_hat, data))\n",
    "    values.append(Y_g_hat - get_Y_g_hat(C_g_hat, P_g_goods_hat, D_g_hat, data))\n",
    "    values.append(C_k_hat - get_C_k_hat(w_hat, P_g_goods_hat, data))\n",
    "    values.append(C_g_hat - get_C_g_hat(w_hat, r_hat, data)\n",
    "    values.append(r_hat - get_r_hat(Y_g_hat, C_g_hat, data))\n",
    "    \n",
    "    part1 = w_hat\n",
    "    "
   ]
  },
  {
   "cell_type": "code",
   "execution_count": 25,
   "metadata": {},
   "outputs": [
    {
     "data": {
      "text/plain": [
       "(134, 1)"
      ]
     },
     "execution_count": 25,
     "metadata": {},
     "output_type": "execute_result"
    }
   ],
   "source": [
    "E_hat.shape"
   ]
  },
  {
   "cell_type": "code",
   "execution_count": 30,
   "metadata": {},
   "outputs": [],
   "source": []
  },
  {
   "cell_type": "code",
   "execution_count": 31,
   "metadata": {},
   "outputs": [],
   "source": [
    "values = [E_hat, P_k_hat, P_k_goods_hat, P_g_goods_hat, D_k_hat, D_g_hat, Y_k_hat, Y_g_hat, C_k_hat, C_g_hat, r_hat, w_hat]"
   ]
  },
  {
   "cell_type": "code",
   "execution_count": 32,
   "metadata": {},
   "outputs": [],
   "source": [
    "X_new = get_X_from_values(values, data_dict)"
   ]
  },
  {
   "cell_type": "code",
   "execution_count": 34,
   "metadata": {},
   "outputs": [
    {
     "data": {
      "text/plain": [
       "(41674,)"
      ]
     },
     "execution_count": 34,
     "metadata": {},
     "output_type": "execute_result"
    }
   ],
   "source": [
    "X_new.shape"
   ]
  },
  {
   "cell_type": "code",
   "execution_count": null,
   "metadata": {},
   "outputs": [],
   "source": [
    "def get_w_hat():\n",
    "    part1_part1 = data['phi_L_g']*data['Y_g']/(data['E_n']*data['e_L']).reshape((n, 1)) * ((w_hat.reshape((n, 1))/ \\\n",
    "                    C_g_hat)**(1-data['rho_g'].reshape((1, g)))) *Y_g_hat\n",
    "    part1 = part1_part1.sum(axis=1)\n",
    "    \n",
    "    part2_part1 = data['phi_L_k']*data['Y_k']/(data['E_n']*data['e_L']).reshape((n, 1)) * ((w_hat.reshape((n, 1))/ \\\n",
    "                    C_k_hat)**(1-data['eta_k'].reshape((1, k)))) *Y_k_hat\n",
    "    \n",
    "    part2 = part2_part1.sum(axis=1)\n",
    "    \n",
    "    return part1 + part2\n"
   ]
  }
 ],
 "metadata": {
  "kernelspec": {
   "display_name": "Python 3",
   "language": "python",
   "name": "python3"
  },
  "language_info": {
   "codemirror_mode": {
    "name": "ipython",
    "version": 3
   },
   "file_extension": ".py",
   "mimetype": "text/x-python",
   "name": "python",
   "nbconvert_exporter": "python",
   "pygments_lexer": "ipython3",
   "version": "3.6.3"
  }
 },
 "nbformat": 4,
 "nbformat_minor": 2
}
