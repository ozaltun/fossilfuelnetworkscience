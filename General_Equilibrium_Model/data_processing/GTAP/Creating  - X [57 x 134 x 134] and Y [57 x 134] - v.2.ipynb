{
 "cells": [
  {
   "cell_type": "code",
   "execution_count": 1,
   "metadata": {},
   "outputs": [],
   "source": [
    "import numpy as np\n",
    "import pandas as pd\n",
    "import pickle\n",
    "from helper import *"
   ]
  },
  {
   "cell_type": "code",
   "execution_count": 5,
   "metadata": {},
   "outputs": [
    {
     "name": "stderr",
     "output_type": "stream",
     "text": [
      "/anaconda3/lib/python3.6/site-packages/numpy/lib/arraysetops.py:569: FutureWarning: elementwise comparison failed; returning scalar instead, but in the future will perform elementwise comparison\n",
      "  mask |= (ar1 == a)\n"
     ]
    }
   ],
   "source": [
    "## Datasets needed to get production: basedata/VXMD.csv, basedata/VST.csv, basedata/VDFM.csv, basedata/VDPM.csv,\n",
    "## basedata/VDGM.csv, basedata/\n",
    "\n",
    "## or just baseview/vom.csv\n",
    "username = 'ozaltun'\n",
    "root = '/Users/'+username+'/Dropbox (MIT)/Data/Trade/general_equilibrium_gravity/GTAP/output/basedata/{}.csv'\n",
    "\n",
    "vxmd = pd.read_csv(root.format('VXMD'), index_col=0, header=1, low_memory=False)\n",
    "\n",
    "vdpm = pd.read_csv(root.format('VDPM'), index_col=0, header=1, low_memory=False)\n",
    "vdgm = pd.read_csv(root.format('VDGM'), index_col=0, header=1, low_memory=False)\n",
    "vdfm = pd.read_csv(root.format('VDFM'), index_col=0, header=1, low_memory=False)\n",
    "\n",
    "\n",
    "vst = pd.read_csv(root.format('VST'), index_col=0, header=1, low_memory=False)\n",
    "\n",
    "\n",
    "\n",
    "comm_2_num = load_obj('/Users/'+username+'/Dropbox (MIT)/Data/Trade/general_equilibrium_gravity/GTAP/mapping/comm_2_num.pickle')\n",
    "reg_2_num = load_obj('/Users/'+username+'/Dropbox (MIT)/Data/Trade/general_equilibrium_gravity/GTAP/mapping/reg_2_num.pickle')\n",
    "prodcomm_2_num = load_obj('/Users/'+username+'/Dropbox (MIT)/Data/Trade/general_equilibrium_gravity/GTAP/mapping/prodcomm_2_num.pickle')\n"
   ]
  },
  {
   "cell_type": "code",
   "execution_count": 3,
   "metadata": {},
   "outputs": [
    {
     "name": "stdout",
     "output_type": "stream",
     "text": [
      "Number of empty values:  [-1000. -1000. -1000. ... -1000. -1000. -1000.]\n",
      "Number of empty values:  []\n",
      "Number of empty values:  []\n",
      "Number of empty values:  []\n",
      "Number of empty values:  [-1000. -1000. -1000. ... -1000. -1000. -1000.]\n"
     ]
    }
   ],
   "source": [
    "vdpm_np = convertRow2Matrix(vdpm, ['TRAD_COMM','REG'], [comm_2_num, reg_2_num])\n",
    "vdgm_np = convertRow2Matrix(vdgm, ['TRAD_COMM','REG'], [comm_2_num, reg_2_num])\n",
    "vdfm_np = convertRow2Matrix(vdfm, ['TRAD_COMM','PROD_COMM','REG'], [comm_2_num, prodcomm_2_num, reg_2_num])\n",
    "\n",
    "vst_np = convertRow2Matrix(vst, ['MARG_COMM','REG'], [comm_2_num, reg_2_num])\n"
   ]
  },
  {
   "cell_type": "code",
   "execution_count": null,
   "metadata": {},
   "outputs": [],
   "source": [
    "vdpm_np[vdpm_np<0] = 0\n",
    "vdgm_np[vdgm_np<0] = 0\n",
    "vdfm_np[vdfm_np<0] = 0\n",
    "vst_np[vst_np<0] = 0\n",
    "vdm_np = vdpm_np + vdgm_np + vdfm_np.sum(axis=1)"
   ]
  },
  {
   "cell_type": "code",
   "execution_count": 6,
   "metadata": {},
   "outputs": [
    {
     "name": "stdout",
     "output_type": "stream",
     "text": [
      "Number of empty values:  [-1000. -1000. -1000. ... -1000. -1000. -1000.]\n"
     ]
    }
   ],
   "source": [
    "vxmd_np = convertRow2Matrix(vxmd, ['TRAD_COMM','REG','REG.1'], [comm_2_num, reg_2_num, reg_2_num])\n",
    "vxmd_np[vxmd_np<0] = 0"
   ]
  },
  {
   "cell_type": "code",
   "execution_count": 8,
   "metadata": {},
   "outputs": [],
   "source": [
    "vom_np = vdm_np + vxmd_np.sum(axis=2) + vst_np"
   ]
  },
  {
   "cell_type": "code",
   "execution_count": 3,
   "metadata": {},
   "outputs": [],
   "source": [
    " # Lets go with export values since that is equal to the trade dataset tstrade..."
   ]
  },
  {
   "cell_type": "code",
   "execution_count": 12,
   "metadata": {},
   "outputs": [],
   "source": [
    "# Number of negatives check out!"
   ]
  },
  {
   "cell_type": "code",
   "execution_count": 14,
   "metadata": {},
   "outputs": [],
   "source": [
    "root_matrix = '/Users/'+username+'/Dropbox (MIT)/Data/Trade/general_equilibrium_gravity/GTAP/matrices/Y_v2.pickle'\n",
    "save_obj(vom_np, root_matrix)\n"
   ]
  },
  {
   "cell_type": "code",
   "execution_count": 15,
   "metadata": {},
   "outputs": [],
   "source": [
    "root_matrix = '/Users/'+username+'/Dropbox (MIT)/Data/Trade/general_equilibrium_gravity/GTAP/matrices/X_v2.pickle'\n",
    "save_obj(vxmd_np, root_matrix)\n"
   ]
  },
  {
   "cell_type": "code",
   "execution_count": null,
   "metadata": {},
   "outputs": [],
   "source": []
  }
 ],
 "metadata": {
  "kernelspec": {
   "display_name": "Python 3",
   "language": "python",
   "name": "python3"
  },
  "language_info": {
   "codemirror_mode": {
    "name": "ipython",
    "version": 3
   },
   "file_extension": ".py",
   "mimetype": "text/x-python",
   "name": "python",
   "nbconvert_exporter": "python",
   "pygments_lexer": "ipython3",
   "version": "3.6.3"
  }
 },
 "nbformat": 4,
 "nbformat_minor": 2
}
