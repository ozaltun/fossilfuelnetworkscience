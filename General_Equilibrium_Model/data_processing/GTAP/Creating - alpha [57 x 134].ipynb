{
 "cells": [
  {
   "cell_type": "code",
   "execution_count": 1,
   "metadata": {},
   "outputs": [],
   "source": [
    "import numpy as np\n",
    "import pandas as pd\n",
    "import pickle\n",
    "from helper import *"
   ]
  },
  {
   "cell_type": "code",
   "execution_count": 2,
   "metadata": {},
   "outputs": [],
   "source": [
    "##  Creating the alpha matrix: expenditure share on good i in region r:\n",
    "##  (VPA + VGA+ S_i VFA)/GDP"
   ]
  },
  {
   "cell_type": "code",
   "execution_count": 3,
   "metadata": {},
   "outputs": [],
   "source": [
    "username = 'ozaltun'"
   ]
  },
  {
   "cell_type": "code",
   "execution_count": 4,
   "metadata": {},
   "outputs": [
    {
     "name": "stderr",
     "output_type": "stream",
     "text": [
      "/anaconda3/lib/python3.6/site-packages/numpy/lib/arraysetops.py:569: FutureWarning: elementwise comparison failed; returning scalar instead, but in the future will perform elementwise comparison\n",
      "  mask |= (ar1 == a)\n"
     ]
    }
   ],
   "source": [
    "root = '/Users/'+username+'/Dropbox (MIT)/Data/Trade/general_equilibrium_gravity/GTAP/output/baseview/{}.csv'\n",
    "\n",
    "vpa =  pd.read_csv(root.format('SF02'), index_col=0, header=1, low_memory=False)\n",
    "vga =  pd.read_csv(root.format('SF03'), index_col=0, header=1, low_memory=False)\n",
    "vfa =  pd.read_csv(root.format('SF01'), index_col=0, header=1, low_memory=False)\n",
    "\n",
    "GDP =  pd.read_csv(root.format('MSUM'), index_col=0, header=1, low_memory=False)\n",
    "\n",
    "comm_2_num = load_obj('/Users/'+username+'/Dropbox (MIT)/Data/Trade/general_equilibrium_gravity/GTAP/mapping/comm_2_num.pickle')\n",
    "reg_2_num = load_obj('/Users/'+username+'/Dropbox (MIT)/Data/Trade/general_equilibrium_gravity/GTAP/mapping/reg_2_num.pickle')\n",
    "prodcomm_2_num = load_obj('/Users/'+username+'/Dropbox (MIT)/Data/Trade/general_equilibrium_gravity/GTAP/mapping/prodcomm_2_num.pickle')\n",
    "\n"
   ]
  },
  {
   "cell_type": "code",
   "execution_count": 5,
   "metadata": {},
   "outputs": [],
   "source": [
    "## SUM OVER DIR AND PURCHVALUE BITCH!"
   ]
  },
  {
   "cell_type": "code",
   "execution_count": 6,
   "metadata": {},
   "outputs": [],
   "source": [
    "vpa.drop(['DIR', 'PURCHVALUE'], axis=1, inplace=True)\n",
    "vga.drop(['DIR', 'PURCHVALUE'], axis=1, inplace=True)\n",
    "\n",
    "# Lets just get the TRAD_COMM values\n",
    "demd_2_comm = {i:i for i in list(comm_2_num.keys())}\n",
    "vfa['TRAD_COMM'] = vfa.DEMD_COMM.map(demd_2_comm)\n",
    "vfa = vfa[vfa.TRAD_COMM.isna() == False]\n",
    "vfa.drop(['DIR', 'PURCHVALUE','DEMD_COMM'], axis=1, inplace=True)\n"
   ]
  },
  {
   "cell_type": "code",
   "execution_count": 7,
   "metadata": {},
   "outputs": [],
   "source": [
    "# vpa = vpa.groupby(['TRAD_COMM','REG']).sum().reset_index()\n",
    "# vga = vga.groupby(['TRAD_COMM','REG']).sum().reset_index()\n",
    "# vfa = vfa.groupby( ['TRAD_COMM','PROD_COMM','REG']).sum().reset_index()"
   ]
  },
  {
   "cell_type": "code",
   "execution_count": 8,
   "metadata": {},
   "outputs": [
    {
     "name": "stdout",
     "output_type": "stream",
     "text": [
      "Number of empty values:  []\n",
      "Number of empty values:  []\n",
      "Number of empty values:  []\n"
     ]
    }
   ],
   "source": [
    "vpa_np = convertRow2Matrix(vpa, ['TRAD_COMM','REG'], [comm_2_num, reg_2_num])\n",
    "vga_np = convertRow2Matrix(vga, ['TRAD_COMM','REG'], [comm_2_num, reg_2_num])\n",
    "vfa_np = convertRow2Matrix(vfa, ['TRAD_COMM','PROD_COMM','REG'], [comm_2_num, prodcomm_2_num, reg_2_num])"
   ]
  },
  {
   "cell_type": "code",
   "execution_count": 9,
   "metadata": {},
   "outputs": [],
   "source": [
    "## Now get GDP\n",
    "GDP = GDP[GDP.SUMREP == 'GDP']"
   ]
  },
  {
   "cell_type": "code",
   "execution_count": 10,
   "metadata": {},
   "outputs": [],
   "source": [
    "GDP.drop(['SUMREP'], axis=1, inplace=True)"
   ]
  },
  {
   "cell_type": "code",
   "execution_count": 11,
   "metadata": {},
   "outputs": [],
   "source": [
    "# gdp_np = convertRow2Matrix(GDP, ['REG'], [reg_2_num])\n",
    "GDP['REG_Number'] = GDP.REG.map(reg_2_num)"
   ]
  },
  {
   "cell_type": "code",
   "execution_count": 12,
   "metadata": {},
   "outputs": [],
   "source": [
    "GDP.set_index('REG_Number', inplace=True)\n",
    "GDP.sort_index(inplace=True)"
   ]
  },
  {
   "cell_type": "code",
   "execution_count": 13,
   "metadata": {},
   "outputs": [],
   "source": [
    "gdp_np = GDP.Value.to_numpy()"
   ]
  },
  {
   "cell_type": "code",
   "execution_count": 14,
   "metadata": {},
   "outputs": [
    {
     "name": "stdout",
     "output_type": "stream",
     "text": [
      "(57, 134) (57, 134) (57, 58, 134) (134,)\n"
     ]
    }
   ],
   "source": [
    "print(vpa_np.shape, vga_np.shape, vfa_np.shape,gdp_np.shape )"
   ]
  },
  {
   "cell_type": "code",
   "execution_count": null,
   "metadata": {},
   "outputs": [],
   "source": [
    "## Similar to the TODO with e's, this is summing to more than one for\n",
    "## each row. We will bootsrap it now, by just dividing it by \"synthetic\n",
    "## GDP"
   ]
  },
  {
   "cell_type": "code",
   "execution_count": 15,
   "metadata": {},
   "outputs": [],
   "source": [
    "syn_gdp = (vpa_np.sum(axis=0) + vga_np.sum(axis=0) + vfa_np.sum(axis=1).reshape((57, 134)).sum(axis=0)).reshape((1, 134))"
   ]
  },
  {
   "cell_type": "code",
   "execution_count": 16,
   "metadata": {},
   "outputs": [],
   "source": [
    "alpha = (vpa_np + vga_np + vfa_np.sum(axis=1).reshape((57, 134)))/syn_gdp"
   ]
  },
  {
   "cell_type": "code",
   "execution_count": 19,
   "metadata": {},
   "outputs": [
    {
     "data": {
      "text/plain": [
       "array([1., 1., 1., 1., 1., 1., 1., 1., 1., 1., 1., 1., 1., 1., 1., 1., 1.,\n",
       "       1., 1., 1., 1., 1., 1., 1., 1., 1., 1., 1., 1., 1., 1., 1., 1., 1.,\n",
       "       1., 1., 1., 1., 1., 1., 1., 1., 1., 1., 1., 1., 1., 1., 1., 1., 1.,\n",
       "       1., 1., 1., 1., 1., 1., 1., 1., 1., 1., 1., 1., 1., 1., 1., 1., 1.,\n",
       "       1., 1., 1., 1., 1., 1., 1., 1., 1., 1., 1., 1., 1., 1., 1., 1., 1.,\n",
       "       1., 1., 1., 1., 1., 1., 1., 1., 1., 1., 1., 1., 1., 1., 1., 1., 1.,\n",
       "       1., 1., 1., 1., 1., 1., 1., 1., 1., 1., 1., 1., 1., 1., 1., 1., 1.,\n",
       "       1., 1., 1., 1., 1., 1., 1., 1., 1., 1., 1., 1., 1., 1., 1.])"
      ]
     },
     "execution_count": 19,
     "metadata": {},
     "output_type": "execute_result"
    }
   ],
   "source": [
    "alpha.sum(axis=0)"
   ]
  },
  {
   "cell_type": "code",
   "execution_count": 20,
   "metadata": {},
   "outputs": [],
   "source": [
    "root_matrix = '/Users/'+username+'/Dropbox (MIT)/Data/Trade/general_equilibrium_gravity/GTAP/matrices/alpha.pickle'\n",
    "save_obj(alpha, root_matrix)"
   ]
  },
  {
   "cell_type": "code",
   "execution_count": 21,
   "metadata": {},
   "outputs": [
    {
     "data": {
      "text/plain": [
       "array([], dtype=float64)"
      ]
     },
     "execution_count": 21,
     "metadata": {},
     "output_type": "execute_result"
    }
   ],
   "source": [
    "alpha[alpha>1]"
   ]
  },
  {
   "cell_type": "code",
   "execution_count": null,
   "metadata": {},
   "outputs": [],
   "source": []
  }
 ],
 "metadata": {
  "kernelspec": {
   "display_name": "Python 3",
   "language": "python",
   "name": "python3"
  },
  "language_info": {
   "codemirror_mode": {
    "name": "ipython",
    "version": 3
   },
   "file_extension": ".py",
   "mimetype": "text/x-python",
   "name": "python",
   "nbconvert_exporter": "python",
   "pygments_lexer": "ipython3",
   "version": "3.6.10"
  }
 },
 "nbformat": 4,
 "nbformat_minor": 2
}
