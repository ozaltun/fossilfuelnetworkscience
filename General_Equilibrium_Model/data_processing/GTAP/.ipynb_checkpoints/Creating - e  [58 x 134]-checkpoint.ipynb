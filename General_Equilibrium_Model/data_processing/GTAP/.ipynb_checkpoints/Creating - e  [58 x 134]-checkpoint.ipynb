{
 "cells": [
  {
   "cell_type": "code",
   "execution_count": 1,
   "metadata": {},
   "outputs": [],
   "source": [
    "import numpy as np\n",
    "import pandas as pd\n",
    "import pickle\n",
    "from helper import *"
   ]
  },
  {
   "cell_type": "code",
   "execution_count": 2,
   "metadata": {},
   "outputs": [],
   "source": [
    "username = 'ozaltun'"
   ]
  },
  {
   "cell_type": "code",
   "execution_count": 3,
   "metadata": {},
   "outputs": [],
   "source": [
    "root = '/Users/'+username+'/Dropbox (MIT)/Data/Trade/general_equilibrium_gravity/GTAP/output/baseview/{}.csv'\n",
    "\n",
    "vom =  pd.read_csv(root.format('VOM '), index_col=0, header=1, low_memory=False)\n",
    "GDP =  pd.read_csv(root.format('MSUM'), index_col=0, header=1, low_memory=False)\n",
    "\n",
    "reg_2_num = load_obj('/Users/'+username+'/Dropbox (MIT)/Data/Trade/general_equilibrium_gravity/GTAP/mapping/reg_2_num.pickle')\n",
    "nsavcomm_2_num = load_obj('/Users/'+username+'/Dropbox (MIT)/Data/Trade/general_equilibrium_gravity/GTAP/mapping/nsavcomm_2_num.pickle')\n"
   ]
  },
  {
   "cell_type": "code",
   "execution_count": 4,
   "metadata": {},
   "outputs": [],
   "source": [
    "GDP = GDP[GDP.SUMREP == 'GDP']\n",
    "GDP.drop(['SUMREP'], axis=1, inplace=True)\n",
    "GDP['REG_Number'] = GDP.REG.map(reg_2_num)\n",
    "GDP.set_index('REG_Number', inplace=True)\n",
    "GDP.sort_index(inplace=True)\n",
    "gdp_np = GDP.Value.to_numpy()"
   ]
  },
  {
   "cell_type": "code",
   "execution_count": 5,
   "metadata": {},
   "outputs": [
    {
     "name": "stdout",
     "output_type": "stream",
     "text": [
      "Number of empty values:  []\n"
     ]
    }
   ],
   "source": [
    "vom_np = convertRow2Matrix(vom, ['NSAV_COMM','REG'], [nsavcomm_2_num, reg_2_num])"
   ]
  },
  {
   "cell_type": "code",
   "execution_count": 6,
   "metadata": {},
   "outputs": [
    {
     "data": {
      "text/plain": [
       "(63, 134)"
      ]
     },
     "execution_count": 6,
     "metadata": {},
     "output_type": "execute_result"
    }
   ],
   "source": [
    "vom_np.shape"
   ]
  },
  {
   "cell_type": "code",
   "execution_count": 7,
   "metadata": {},
   "outputs": [],
   "source": [
    "## TODO: Figure out what the right thing to do for this is\n",
    "## When I did vom/GDP and summed for each country. Rows were\n",
    "## Larger than 1. This shouldn't be the case...\n",
    "\n",
    "## Current bootstrap is to just normalize its values..."
   ]
  },
  {
   "cell_type": "code",
   "execution_count": 8,
   "metadata": {},
   "outputs": [],
   "source": [
    "e = vom_np/vom_np.sum(axis=0).reshape((1, 134))"
   ]
  },
  {
   "cell_type": "code",
   "execution_count": 9,
   "metadata": {},
   "outputs": [],
   "source": [
    "## "
   ]
  },
  {
   "cell_type": "code",
   "execution_count": 10,
   "metadata": {},
   "outputs": [],
   "source": [
    "e_comm = e[:57, :]\n",
    "\n",
    "e_unsklab = e[62, :]\n",
    "e_capital = e[59, :]\n",
    "e_sklab = e[61, :]\n",
    "e_land = e[58, :]\n",
    "e_natlres = e[60,:]"
   ]
  },
  {
   "cell_type": "code",
   "execution_count": 11,
   "metadata": {},
   "outputs": [],
   "source": [
    "e_unsklab[(e_unsklab<0) & (e_sklab>0)] = 0"
   ]
  },
  {
   "cell_type": "code",
   "execution_count": 12,
   "metadata": {},
   "outputs": [],
   "source": [
    "e_sklab[(e_sklab<0) & (e_unsklab>0)] = 0"
   ]
  },
  {
   "cell_type": "code",
   "execution_count": 13,
   "metadata": {},
   "outputs": [],
   "source": [
    "e_lab = e_unsklab + e_sklab"
   ]
  },
  {
   "cell_type": "code",
   "execution_count": 14,
   "metadata": {},
   "outputs": [],
   "source": [
    "data = [e_lab, e_capital, e_land, e_natlres, e_comm]\n",
    "title = ['labor', 'capital', 'land', 'natlres', 'comm']"
   ]
  },
  {
   "cell_type": "code",
   "execution_count": 15,
   "metadata": {},
   "outputs": [],
   "source": [
    "root_matrix = '/Users/'+username+'/Dropbox (MIT)/Data/Trade/general_equilibrium_gravity/GTAP/matrices/e_{}.pickle'\n",
    "\n",
    "for i in range(len(data)):\n",
    "    save_obj(data[i], root_matrix.format(title[i]))"
   ]
  },
  {
   "cell_type": "code",
   "execution_count": null,
   "metadata": {},
   "outputs": [],
   "source": []
  },
  {
   "cell_type": "code",
   "execution_count": null,
   "metadata": {},
   "outputs": [],
   "source": []
  }
 ],
 "metadata": {
  "kernelspec": {
   "display_name": "Python 3",
   "language": "python",
   "name": "python3"
  },
  "language_info": {
   "codemirror_mode": {
    "name": "ipython",
    "version": 3
   },
   "file_extension": ".py",
   "mimetype": "text/x-python",
   "name": "python",
   "nbconvert_exporter": "python",
   "pygments_lexer": "ipython3",
   "version": "3.6.4"
  }
 },
 "nbformat": 4,
 "nbformat_minor": 2
}
