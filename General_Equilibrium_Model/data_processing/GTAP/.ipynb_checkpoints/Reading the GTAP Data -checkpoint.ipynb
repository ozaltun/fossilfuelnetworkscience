{
 "cells": [
  {
   "cell_type": "code",
   "execution_count": 1,
   "metadata": {},
   "outputs": [],
   "source": [
    "import numpy as np\n",
    "import pandas as pd\n",
    "import matplotlib.pyplot as plt\n",
    "import csv\n",
    "import os\n",
    "from helper import *"
   ]
  },
  {
   "cell_type": "code",
   "execution_count": 2,
   "metadata": {},
   "outputs": [],
   "source": [
    "input_root = '/Users/ozaltun/Dropbox (MIT)/Data/Trade/general_equilibrium_gravity/GTAP/input/{}'\n",
    "output_root = '/Users/ozaltun/Dropbox (MIT)/Data/Trade/general_equilibrium_gravity/GTAP/output/{}'"
   ]
  },
  {
   "cell_type": "code",
   "execution_count": 4,
   "metadata": {},
   "outputs": [],
   "source": [
    "files = ['BaseData.csv', 'BaseRate.csv', 'BaseView.csv','CO2.csv', 'gsdvole.csv', 'Default.csv','GTAPSam.csv','gview.csv',\\\n",
    "         'prmwgt.csv','Sets.csv','TStrade.csv']"
   ]
  },
  {
   "cell_type": "code",
   "execution_count": 7,
   "metadata": {},
   "outputs": [
    {
     "name": "stdout",
     "output_type": "stream",
     "text": [
      "['!Header: WSUB', ' dimensions: TRAD_COMM*REG [57*134]', ' description: Weights to aggregate SUBPAR']\n",
      "['!Header: WINC', ' dimensions: TRAD_COMM*REG [57*134]', ' description: Weights to aggregate INCPAR']\n",
      "['!Header: WESB', ' dimensions: PROD_COMM [58]', ' description: Weights to aggregate ESUBVA']\n",
      "['!Header: WSBD', ' dimensions: TRAD_COMM [57]', ' description: Weights to aggregate ESUBD']\n",
      "['!Header: WSBM', ' dimensions: TRAD_COMM [57]', ' description: Weights to aggregate ESUBM']\n",
      "['!Header: WROR', ' dimensions: REG [134]', ' description: Weights to aggregate RORFLEX']\n",
      "['!Header: WSBT', ' dimensions: PROD_COMM [58]', ' description: Weights to aggregate ESUBT']\n",
      "['!Header: WDPS', ' dimensions: REG [134]', ' description: Weights to aggregate DPSM']\n",
      "Weights to aggregate SUBPAR\n",
      "Weights to aggregate INCPAR\n",
      "Weights to aggregate ESUBVA\n",
      "Weights to aggregate ESUBD\n",
      "Weights to aggregate ESUBM\n",
      "Weights to aggregate RORFLEX\n",
      "Weights to aggregate ESUBT\n",
      "Weights to aggregate DPSM\n",
      "New Directory Created: prmwgt\n",
      "['!Header: DVER', ' dimensions: 1 [1]', ' description: DVER value from Sets file -- 0.0 if none']\n",
      "DVER value from Sets file -- 0.0 if none\n",
      "New Directory Created: sets\n",
      "['!Header: VTTS', ' dimensions: TRAD_COMM*REG*REG*YEAR [57*134*134*15]', ' description: NTSTRD(TRAD_COMM:REG:REG:LYEAR)']\n",
      "NTSTRD(TRAD_COMM:REG:REG:LYEAR)\n",
      "New Directory Created: tstrade\n"
     ]
    }
   ],
   "source": [
    "for file in files:\n",
    "    sort_gtap_data(file)"
   ]
  },
  {
   "cell_type": "code",
   "execution_count": 6,
   "metadata": {},
   "outputs": [
    {
     "data": {
      "text/plain": [
       "'metadata.csv'"
      ]
     },
     "execution_count": 6,
     "metadata": {},
     "output_type": "execute_result"
    }
   ],
   "source": [
    "file"
   ]
  },
  {
   "cell_type": "code",
   "execution_count": null,
   "metadata": {},
   "outputs": [],
   "source": []
  }
 ],
 "metadata": {
  "kernelspec": {
   "display_name": "Python 3",
   "language": "python",
   "name": "python3"
  },
  "language_info": {
   "codemirror_mode": {
    "name": "ipython",
    "version": 3
   },
   "file_extension": ".py",
   "mimetype": "text/x-python",
   "name": "python",
   "nbconvert_exporter": "python",
   "pygments_lexer": "ipython3",
   "version": "3.6.3"
  }
 },
 "nbformat": 4,
 "nbformat_minor": 2
}
