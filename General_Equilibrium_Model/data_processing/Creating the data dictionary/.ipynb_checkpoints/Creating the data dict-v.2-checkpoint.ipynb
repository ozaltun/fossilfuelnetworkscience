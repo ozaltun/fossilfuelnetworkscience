{
 "cells": [
  {
   "cell_type": "code",
   "execution_count": 1,
   "metadata": {},
   "outputs": [],
   "source": [
    "import numpy as np\n",
    "import pandas as pd\n",
    "import pickle\n",
    "\n",
    "username='ozaltun'\n",
    "def save_obj(obj, loc ):\n",
    "    with open(loc, 'wb') as f:\n",
    "        pickle.dump(obj, f, pickle.HIGHEST_PROTOCOL)\n",
    "\n",
    "def load_obj(loc):\n",
    "    with open(loc, 'rb') as f:\n",
    "        return pickle.load(f)\n",
    "\n",
    "def reverse_dict(my_map):\n",
    "    inv_map = {v: k for k, v in my_map.items()}\n",
    "    return inv_map\n",
    "\n",
    "reg_2_num = load_obj('/Users/'+username+'/Dropbox (MIT)/Data/Trade/general_equilibrium_gravity/GTAP/mapping/reg_2_num.pickle')\n",
    "\n",
    "comm_2_num = load_obj('/Users/'+username+'/Dropbox (MIT)/Data/Trade/general_equilibrium_gravity/GTAP/mapping/comm_2_num.pickle')\n",
    "\n",
    "prodcomm_2_num = load_obj('/Users/'+username+'/Dropbox (MIT)/Data/Trade/general_equilibrium_gravity/GTAP/mapping/prodcomm_2_num.pickle')\n",
    "nsavcomm_2_num = load_obj('/Users/'+username+'/Dropbox (MIT)/Data/Trade/general_equilibrium_gravity/GTAP/mapping/nsavcomm_2_num.pickle')\n",
    "demdcomm_2_num = load_obj('/Users/'+username+'/Dropbox (MIT)/Data/Trade/general_equilibrium_gravity/GTAP/mapping/demdcomm_2_num.pickle')\n"
   ]
  },
  {
   "cell_type": "code",
   "execution_count": 2,
   "metadata": {},
   "outputs": [],
   "source": [
    "root = '/Users/'+username+'/Dropbox (MIT)/Data/Trade/general_equilibrium_gravity/GTAP/matrices/{}.pickle'\n",
    "\n"
   ]
  },
  {
   "cell_type": "code",
   "execution_count": 3,
   "metadata": {},
   "outputs": [],
   "source": [
    "F_goods = ['b_t','tex','wap','lea','lum','ppp','p_c','crp','nmm','fmp','mvh','otn','ele',\\\n",
    "           'ome','omf','ely','gdt','wtr','cns','trd','otp','wtp','atp','cmn','ofi','isr','obs','ros','osg']\n",
    "\n",
    "C_goods = ['pdr','wht','gro','v_f','osd','c_b','pfb','ocr','ctl','oap','rmk','wol','frs','fsh','coa','oil',\\\n",
    "           'gas','omn','cmt','omt','vol','mil','pcr','sgr','i_s','nfm','ofd']"
   ]
  },
  {
   "cell_type": "code",
   "execution_count": 4,
   "metadata": {},
   "outputs": [
    {
     "data": {
      "text/plain": [
       "'pcr'"
      ]
     },
     "execution_count": 4,
     "metadata": {},
     "output_type": "execute_result"
    }
   ],
   "source": [
    "C_goods[22]"
   ]
  },
  {
   "cell_type": "code",
   "execution_count": 5,
   "metadata": {},
   "outputs": [],
   "source": [
    "data = {}\n",
    "n = 134\n",
    "g = len(C_goods)\n",
    "k = len(F_goods)\n",
    "\n",
    "data['n'] = n\n",
    "data['g'] = g\n",
    "data['k'] = k"
   ]
  },
  {
   "cell_type": "code",
   "execution_count": 6,
   "metadata": {},
   "outputs": [],
   "source": [
    "# Lets get the easy one out of the way\n",
    "data['E'] = load_obj(root.format('E')).reshape((n, 1))"
   ]
  },
  {
   "cell_type": "code",
   "execution_count": null,
   "metadata": {},
   "outputs": [],
   "source": []
  },
  {
   "cell_type": "code",
   "execution_count": 7,
   "metadata": {},
   "outputs": [],
   "source": [
    "# Now production:\n",
    "Y = load_obj(root.format('Y_v2'))\n",
    "data['Y_g'] = np.zeros((n, g))\n",
    "data['Y_k'] = np.zeros((n, k))\n",
    "\n",
    "\n",
    "for i, key in enumerate(C_goods):\n",
    "    data['Y_g'][:, i] = Y[comm_2_num[key], :]\n",
    "\n",
    "\n",
    "for i, key in enumerate(F_goods):\n",
    "    data['Y_k'][:, i] = Y[comm_2_num[key], :]"
   ]
  },
  {
   "cell_type": "code",
   "execution_count": 8,
   "metadata": {},
   "outputs": [],
   "source": [
    "# Now demand:\n",
    "D = load_obj(root.format('D'))\n",
    "data['D_g_old'] = np.zeros((n, g))\n",
    "data['D_k_old'] = np.zeros((n, k))\n",
    "\n",
    "\n",
    "for i, key in enumerate(C_goods):\n",
    "    data['D_g_old'][:, i] = D[comm_2_num[key], :]\n",
    "\n",
    "\n",
    "for i, key in enumerate(F_goods):\n",
    "    data['D_k_old'][:, i] = D[comm_2_num[key], :]"
   ]
  },
  {
   "cell_type": "code",
   "execution_count": 9,
   "metadata": {},
   "outputs": [],
   "source": [
    "# Now trade\n",
    "X = load_obj(root.format('X_v2'))\n",
    "\n",
    "data['X_g'] = np.zeros((n, n, g))\n",
    "data['X_k'] = np.zeros((n, n, k))\n",
    "\n",
    "\n",
    "for i, key in enumerate(C_goods):\n",
    "    data['X_g'][:, :, i] = X[comm_2_num[key], :, :].T\n",
    "\n",
    "for i, key in enumerate(F_goods):\n",
    "    data['X_k'][:, :, i] = X[comm_2_num[key], :, :].T"
   ]
  },
  {
   "cell_type": "code",
   "execution_count": 10,
   "metadata": {},
   "outputs": [
    {
     "name": "stdout",
     "output_type": "stream",
     "text": [
      "(array([], dtype=int64), array([], dtype=int64), array([], dtype=int64))\n"
     ]
    }
   ],
   "source": [
    "# Adjust local consumption\n",
    "for i in range(n):\n",
    "    temp = np.zeros(g)\n",
    "    for j in range(n):\n",
    "        if i != j:\n",
    "            temp += data['X_g'][j, i, :]\n",
    "        \n",
    "    data['X_g'][i, i, :] = data['Y_g'][i,:] - temp\n",
    "\n",
    "# Re-adjust with demand figures\n",
    "idx_g = np.where(data['X_g'] <= 0)\n",
    "print(idx_g)"
   ]
  },
  {
   "cell_type": "code",
   "execution_count": 11,
   "metadata": {},
   "outputs": [],
   "source": [
    "# data['X_g'][idx_g] = data['D_g_old'][idx_g[1:]]\n",
    "\n",
    "# # Now go back \n",
    "# for i in range(idx_g[0].shape[0]):\n",
    "#     print(idx_g[1][i], idx_g[2][i])\n",
    "#     data['Y_g'][idx_g[1][i], idx_g[2][i]] += data['X_g'][:, idx_g[1][i], idx_g[2][i]].sum()"
   ]
  },
  {
   "cell_type": "code",
   "execution_count": 12,
   "metadata": {},
   "outputs": [],
   "source": [
    "#data['X'][data['X']<0]"
   ]
  },
  {
   "cell_type": "code",
   "execution_count": 13,
   "metadata": {},
   "outputs": [
    {
     "name": "stdout",
     "output_type": "stream",
     "text": [
      "(array([], dtype=int64), array([], dtype=int64), array([], dtype=int64))\n"
     ]
    }
   ],
   "source": [
    "for i in range(n):\n",
    "    temp = np.zeros(k)\n",
    "    for j in range(n):\n",
    "        if i != j:\n",
    "            temp += data['X_k'][j, i, :]\n",
    "        \n",
    "    data['X_k'][i, i, :] = data['Y_k'][i,:] - temp\n",
    "\n",
    "idx_k = np.where(data['X_k'] <= 0)\n",
    "print(idx_k)\n",
    "\n",
    "# data['X_k'][idx_k] = data['D_k_old'][idx_k[1:]]\n",
    "\n",
    " \n",
    "# for i in range(idx_k[0].shape[0]):\n",
    "#     print(idx_k[1][i], idx_k[2][i])\n",
    "#     data['Y_g'][idx_k[1][i], idx_k[2][i]] += data['X_k'][:, idx_k[1][i], idx_k[2][i]].sum()"
   ]
  },
  {
   "cell_type": "code",
   "execution_count": 14,
   "metadata": {},
   "outputs": [],
   "source": [
    "data['D_g'] = data['X_g'].sum(axis=1)\n",
    "data['D_k'] = data['X_k'].sum(axis=1)"
   ]
  },
  {
   "cell_type": "code",
   "execution_count": 19,
   "metadata": {},
   "outputs": [
    {
     "data": {
      "text/plain": [
       "array([-7.83648805e+04, -1.04952345e+04, -6.01273736e+03,  3.74747690e+05,\n",
       "        2.11552886e+04,  2.59915456e+05,  1.24594887e+05, -1.31658473e+03,\n",
       "        1.09006418e+05,  5.70366936e+03,  4.59055106e+02, -6.26052408e+03,\n",
       "       -5.35094893e+02,  4.36589738e+04,  1.77644914e+04,  5.88736196e+04,\n",
       "        5.10272632e+04, -1.46742324e+04, -4.47668221e+03,  1.42374137e+03,\n",
       "        1.15585065e+04, -1.15227452e+03, -1.03537506e+04, -1.88226705e+03,\n",
       "       -2.31477660e+03, -5.15743260e+04, -4.79057300e+05,  1.65201261e+04,\n",
       "       -3.42371362e+03, -1.12017865e+04, -2.16370139e+03, -2.99381568e+04,\n",
       "       -2.01953173e+04, -1.38251988e+04, -8.37415329e+03, -2.11119798e+03,\n",
       "       -7.73687101e+03, -1.43728903e+03, -1.62810887e+04, -9.65744482e+02,\n",
       "        6.10520529e+02, -4.94525022e+03, -3.68881634e+03, -2.18595428e+03,\n",
       "       -3.47969418e+03, -1.99337670e+03, -8.00425480e+01, -7.87050583e+03,\n",
       "        1.85436175e+04, -3.19690304e+04, -2.90408191e+03,  1.60106501e+04,\n",
       "       -8.43001811e+03, -2.95153824e+03,  1.31575294e+04, -1.51929082e+04,\n",
       "        2.80657750e+05, -3.48219320e+04,  6.01261445e+03,  5.85468064e+04,\n",
       "        6.81742345e+04, -7.32182507e+03, -5.10422081e+03, -5.78167520e+03,\n",
       "       -1.05779568e+03,  3.92703917e+04, -1.98179139e+04, -4.35166773e+03,\n",
       "        1.39981388e+03, -7.58889804e+02, -5.60571492e+04,  3.21038336e+04,\n",
       "       -8.16267720e+04,  4.24733786e+04, -3.44390223e+04, -4.85520965e+03,\n",
       "       -2.48097122e+03, -3.81768648e+03,  6.27191960e+03, -3.05449968e+03,\n",
       "       -1.64400712e+04, -8.64875650e+04, -2.29719429e+04, -2.37434699e+03,\n",
       "       -1.70204687e+04, -2.64320569e+04, -8.19171863e+02, -1.72839047e+03,\n",
       "       -1.01563024e+03, -4.66233242e+03, -2.58453842e+03,  3.63451551e+03,\n",
       "       -2.20185575e+04,  8.27202580e+03,  4.53082428e+03, -1.06963820e+04,\n",
       "       -1.27032828e+04, -4.58450194e+04, -1.14315897e+04, -6.25148746e+04,\n",
       "       -3.31663000e+04, -7.81662613e+03, -6.86815353e+03, -7.97506756e+02,\n",
       "       -1.78261369e+04, -2.96882709e+03, -1.08525828e+03, -1.35297760e+03,\n",
       "       -4.85461223e+02, -5.00587660e+03, -1.22293410e+03, -3.46933325e+04,\n",
       "       -1.72430214e+03, -1.78547392e+03, -9.78143083e+03, -7.67666201e+03,\n",
       "       -2.22077193e+04, -3.76960634e+03, -3.32870043e+03, -9.49423196e+02,\n",
       "       -7.82945696e+02, -4.36916579e+02, -1.17917040e+03, -4.92742341e+02,\n",
       "       -3.37770959e+03, -1.69242132e+03, -2.40576617e+03, -1.90795989e+03,\n",
       "       -9.37602669e+03, -2.31783112e+03, -2.31169023e+03, -2.05608874e+04,\n",
       "        1.85148991e+02, -4.32421173e-01])"
      ]
     },
     "execution_count": 19,
     "metadata": {},
     "output_type": "execute_result"
    }
   ],
   "source": [
    "data['Y_k'].sum(axis=1) - data['D_k'].sum(axis=1)"
   ]
  },
  {
   "cell_type": "code",
   "execution_count": 15,
   "metadata": {},
   "outputs": [
    {
     "data": {
      "text/plain": [
       "array([[0.92809387, 1.17198485, 1.30824556, ..., 1.15072178, 1.24791238,\n",
       "        1.03757037],\n",
       "       [0.78231855, 0.76732765, 0.9563188 , ..., 1.01017044, 0.92376915,\n",
       "        0.99100177],\n",
       "       [0.85362392, 0.92444554, 0.68930729, ..., 0.9646983 , 0.88847598,\n",
       "        0.92030438],\n",
       "       ...,\n",
       "       [0.93972551, 1.49309625, 1.73144694, ..., 1.00947769, 0.97646067,\n",
       "        1.00268168],\n",
       "       [0.98683739, 0.40327679, 0.18645853, ..., 0.54885798, 0.92443589,\n",
       "        0.97167778],\n",
       "       [0.89055958, 0.64663716, 0.62161707, ..., 0.92008753, 0.94241843,\n",
       "        0.9843674 ]])"
      ]
     },
     "execution_count": 15,
     "metadata": {},
     "output_type": "execute_result"
    }
   ],
   "source": [
    "# This shouldn't be the case\n",
    "(data['X_k']/data['Y_k'].reshape((1, n, k))).sum(axis=1)"
   ]
  },
  {
   "cell_type": "code",
   "execution_count": 15,
   "metadata": {},
   "outputs": [],
   "source": [
    "# Trade fraction\n",
    "data['lambda_g'] = data['X_g']/data['D_g'].reshape((n, 1, g))\n",
    "data['lambda_k'] = data['X_k']/data['D_k'].reshape((n, 1, k))"
   ]
  },
  {
   "cell_type": "code",
   "execution_count": 16,
   "metadata": {},
   "outputs": [],
   "source": [
    "data['lambda_k'] = data['lambda_k'] /data['lambda_k'].sum(axis=1).reshape((n, 1, k))"
   ]
  },
  {
   "cell_type": "code",
   "execution_count": 17,
   "metadata": {},
   "outputs": [],
   "source": [
    "data['lambda_g'] = data['lambda_g'] /data['lambda_g'].sum(axis=1).reshape((n, 1, g))"
   ]
  },
  {
   "cell_type": "code",
   "execution_count": 18,
   "metadata": {},
   "outputs": [],
   "source": [
    "# Now interlinkage\n",
    "d = load_obj(root.format('d_l'))\n",
    "\n",
    "data['d'] = np.zeros((n, k, g))\n",
    "\n",
    "for i, comm in enumerate(C_goods):\n",
    "    for j, final in enumerate(F_goods):\n",
    "        data['d'][:, j, i] = d[comm_2_num[comm], comm_2_num[final], :]"
   ]
  },
  {
   "cell_type": "code",
   "execution_count": 19,
   "metadata": {},
   "outputs": [
    {
     "data": {
      "text/plain": [
       "array([[1., 1., 1., ..., 1., 1., 1.],\n",
       "       [1., 1., 1., ..., 1., 1., 1.],\n",
       "       [1., 1., 1., ..., 1., 1., 1.],\n",
       "       ...,\n",
       "       [1., 1., 1., ..., 1., 1., 1.],\n",
       "       [1., 1., 1., ..., 1., 1., 1.],\n",
       "       [1., 1., 1., ..., 1., 1., 1.]])"
      ]
     },
     "execution_count": 19,
     "metadata": {},
     "output_type": "execute_result"
    }
   ],
   "source": [
    "data['d'] = data['d']/data['d'].sum(axis=1).reshape((n, 1, g))\n",
    "data['d'].sum(axis=1)"
   ]
  },
  {
   "cell_type": "code",
   "execution_count": 20,
   "metadata": {},
   "outputs": [],
   "source": [
    "# Share of labor\n",
    "e_labor = load_obj(root.format('e_labor'))\n",
    "\n",
    "data['e_L'] = e_labor.reshape((n, 1))\n",
    "\n",
    "\n",
    "# Share of commodities\n",
    "e_comm = load_obj(root.format('e_comm'))\n",
    "data['e'] = np.zeros((n, g))\n",
    "\n",
    "for i, key in enumerate(C_goods):\n",
    "    data['e'][:, i] = e_comm[comm_2_num[key], :]\n"
   ]
  },
  {
   "cell_type": "code",
   "execution_count": 21,
   "metadata": {},
   "outputs": [],
   "source": [
    "data['e_L'] =( 1 - data['e'].sum(axis=1)).reshape((n, 1))"
   ]
  },
  {
   "cell_type": "code",
   "execution_count": 22,
   "metadata": {},
   "outputs": [],
   "source": [
    "# alpha\n",
    "alpha = load_obj(root.format('alpha'))\n",
    "data['alpha'] = np.zeros((n, k))\n",
    "\n",
    "for i, key in enumerate(F_goods):\n",
    "    data['alpha'][:, i] = alpha[comm_2_num[key], :]"
   ]
  },
  {
   "cell_type": "code",
   "execution_count": 23,
   "metadata": {},
   "outputs": [
    {
     "data": {
      "text/plain": [
       "(134, 29)"
      ]
     },
     "execution_count": 23,
     "metadata": {},
     "output_type": "execute_result"
    }
   ],
   "source": [
    "data['alpha'].shape"
   ]
  },
  {
   "cell_type": "code",
   "execution_count": 24,
   "metadata": {},
   "outputs": [],
   "source": [
    "# Doing this so that equation (15) works out\n",
    "data['alpha'] = data['alpha']/data['alpha'].sum(axis=1).reshape(134, 1)"
   ]
  },
  {
   "cell_type": "code",
   "execution_count": 25,
   "metadata": {},
   "outputs": [
    {
     "data": {
      "text/plain": [
       "(array([ 86, 113, 114]), array([ 86, 113, 114]), array([ 4,  1, 11]))"
      ]
     },
     "execution_count": 25,
     "metadata": {},
     "output_type": "execute_result"
    }
   ],
   "source": [
    "idx_k"
   ]
  },
  {
   "cell_type": "code",
   "execution_count": 26,
   "metadata": {},
   "outputs": [
    {
     "data": {
      "text/plain": [
       "(array([  7,  17, 115, 122, 132]),\n",
       " array([  7,  17, 115, 122, 132]),\n",
       " array([15, 15, 15, 25, 15]))"
      ]
     },
     "execution_count": 26,
     "metadata": {},
     "output_type": "execute_result"
    }
   ],
   "source": [
    "idx_g"
   ]
  },
  {
   "cell_type": "code",
   "execution_count": 27,
   "metadata": {},
   "outputs": [],
   "source": [
    "# phi\n",
    "phi_labor = load_obj(root.format('phi_labor'))\n",
    "phi_comm = load_obj(root.format('phi_comm'))\n",
    "phi_natlres = load_obj(root.format('phi_natlres')) # See if you need to integrate land\n",
    "\n",
    "\n",
    "data['phi_L_g'] = np.zeros((n, g))\n",
    "data['phi_L_k'] = np.zeros((n, k))\n",
    "\n",
    "data['phi_R'] = np.zeros((n, g))\n",
    "\n",
    "data['phi'] = np.zeros((n, k, g))\n",
    "\n",
    "for i, key in enumerate(C_goods):\n",
    "    data['phi_L_g'][:, i] = phi_labor[comm_2_num[key], :]\n",
    "    data['phi_R'][:, i] = phi_natlres[comm_2_num[key], :]\n",
    "    \n",
    "for i, key in enumerate(F_goods):    \n",
    "    data['phi_L_k'][:, i] = phi_labor[comm_2_num[key], :]\n",
    "    \n",
    "for i, comm in enumerate(C_goods):\n",
    "    for j, final in enumerate(F_goods):\n",
    "        data['phi'][:, j, i] = phi_comm[comm_2_num[comm], comm_2_num[final], :]"
   ]
  },
  {
   "cell_type": "code",
   "execution_count": 28,
   "metadata": {},
   "outputs": [
    {
     "data": {
      "text/plain": [
       "27"
      ]
     },
     "execution_count": 28,
     "metadata": {},
     "output_type": "execute_result"
    }
   ],
   "source": [
    "g"
   ]
  },
  {
   "cell_type": "code",
   "execution_count": 29,
   "metadata": {},
   "outputs": [
    {
     "data": {
      "text/plain": [
       "<Figure size 640x480 with 1 Axes>"
      ]
     },
     "metadata": {},
     "output_type": "display_data"
    }
   ],
   "source": [
    "#data['phi'].shape\n",
    "import matplotlib.pyplot as plt\n",
    "plt.hist((data['phi_L_k'] + data['phi'].sum(axis=2)))\n",
    "plt.show()"
   ]
  },
  {
   "cell_type": "code",
   "execution_count": 30,
   "metadata": {},
   "outputs": [],
   "source": [
    "normalizer = (data['phi_L_k'] + data['phi'].sum(axis=2))\n",
    "data['phi'] = data['phi']/(normalizer.reshape(n, k, 1))\n",
    "data['phi_L_k'] = data['phi_L_k']/normalizer"
   ]
  },
  {
   "cell_type": "code",
   "execution_count": 31,
   "metadata": {},
   "outputs": [
    {
     "data": {
      "text/plain": [
       "array([[1., 1., 1., ..., 1., 1., 1.],\n",
       "       [1., 1., 1., ..., 1., 1., 1.],\n",
       "       [1., 1., 1., ..., 1., 1., 1.],\n",
       "       ...,\n",
       "       [1., 1., 1., ..., 1., 1., 1.],\n",
       "       [1., 1., 1., ..., 1., 1., 1.],\n",
       "       [1., 1., 1., ..., 1., 1., 1.]])"
      ]
     },
     "execution_count": 31,
     "metadata": {},
     "output_type": "execute_result"
    }
   ],
   "source": [
    "(data['phi_L_k'] + data['phi'].sum(axis=2))"
   ]
  },
  {
   "cell_type": "code",
   "execution_count": 32,
   "metadata": {},
   "outputs": [],
   "source": [
    "# Update based on notes:\n",
    "# data['phi'] = data['d']*data['D_g'].reshape((n, 1, g))/data['Y_k'].reshape((n, k, 1))\n",
    "\n",
    "# data['phi_L_k'] = 1 - data['phi'].sum(axis=2)\n",
    "\n",
    "#print(np.where(data['phi'] >1),'blah', np.where(data['phi_L_k'] <=0))\n"
   ]
  },
  {
   "cell_type": "code",
   "execution_count": 33,
   "metadata": {},
   "outputs": [
    {
     "data": {
      "text/plain": [
       "array([[0.44294515, 0.19006865, 0.26945997, ..., 0.17351325, 0.08717896,\n",
       "        0.20720717],\n",
       "       [0.18039509, 0.25823858, 0.26892866, ..., 0.18716175, 0.16726221,\n",
       "        0.14889207],\n",
       "       [0.23307219, 0.16677951, 0.19689275, ..., 0.19079225, 0.16455418,\n",
       "        0.1477375 ],\n",
       "       ...,\n",
       "       [0.16240087, 0.09625914, 0.14095484, ..., 0.12698475, 0.09198167,\n",
       "        0.12592377],\n",
       "       [0.05920727, 0.11396144, 0.21551473, ..., 0.13909438, 0.12510697,\n",
       "        0.12589002],\n",
       "       [0.23736425, 0.28123183, 0.25812743, ..., 0.09403206, 0.15563437,\n",
       "        0.13504728]])"
      ]
     },
     "execution_count": 33,
     "metadata": {},
     "output_type": "execute_result"
    }
   ],
   "source": [
    "data['phi_L_g']"
   ]
  },
  {
   "cell_type": "code",
   "execution_count": 34,
   "metadata": {},
   "outputs": [
    {
     "data": {
      "text/plain": [
       "array([], dtype=float64)"
      ]
     },
     "execution_count": 34,
     "metadata": {},
     "output_type": "execute_result"
    }
   ],
   "source": [
    "import matplotlib.pyplot as plt\n",
    "data['phi_R'] = 1 - data['phi_L_g']\n",
    "data['phi_R'][data['phi_R']<0]"
   ]
  },
  {
   "cell_type": "code",
   "execution_count": 35,
   "metadata": {},
   "outputs": [],
   "source": [
    "data['theta_k'] = np.ones((k, 1))*5.\n",
    "data['theta_g'] = np.ones((g, 1))*5.\n",
    "\n",
    "data['eta'] = np.ones((k, 1))*0.4\n",
    "data['rho_g'] = np.ones((g, 1))*0.4\n",
    "\n",
    "data['sigma'] = 0.4"
   ]
  },
  {
   "cell_type": "code",
   "execution_count": 36,
   "metadata": {},
   "outputs": [],
   "source": [
    "### Change non zero elements to zero ###"
   ]
  },
  {
   "cell_type": "code",
   "execution_count": 37,
   "metadata": {},
   "outputs": [
    {
     "name": "stdout",
     "output_type": "stream",
     "text": [
      "n\n",
      "g\n",
      "k\n",
      "E\n",
      "Y_g\n",
      "Y_k\n",
      "D_g_old\n",
      "D_k_old\n",
      "X_g\n",
      "X_k\n",
      "D_g\n",
      "D_k\n",
      "lambda_g\n",
      "lambda_k\n",
      "d\n",
      "e_L\n",
      "e\n",
      "alpha\n",
      "phi_L_g\n",
      "phi_L_k\n",
      "phi_R\n",
      "phi\n",
      "theta_k\n",
      "theta_g\n",
      "eta\n",
      "rho_g\n",
      "sigma\n"
     ]
    }
   ],
   "source": [
    "for i in data.keys():\n",
    "    print(i)\n",
    "    if i not in ['n', 'g','k','sigma']:\n",
    "        data[i][data[i]<0] = 0"
   ]
  },
  {
   "cell_type": "code",
   "execution_count": 38,
   "metadata": {},
   "outputs": [],
   "source": [
    "loc = '/Users/'+username+'/Dropbox (MIT)/Data/Trade/general_equilibrium_gravity/final_data/data_20200212.pickle'\n",
    "save_obj(data, loc)"
   ]
  },
  {
   "cell_type": "code",
   "execution_count": null,
   "metadata": {},
   "outputs": [],
   "source": []
  }
 ],
 "metadata": {
  "kernelspec": {
   "display_name": "Python 3",
   "language": "python",
   "name": "python3"
  },
  "language_info": {
   "codemirror_mode": {
    "name": "ipython",
    "version": 3
   },
   "file_extension": ".py",
   "mimetype": "text/x-python",
   "name": "python",
   "nbconvert_exporter": "python",
   "pygments_lexer": "ipython3",
   "version": "3.6.4"
  }
 },
 "nbformat": 4,
 "nbformat_minor": 2
}
