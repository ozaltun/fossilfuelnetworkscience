{
 "cells": [
  {
   "cell_type": "code",
   "execution_count": 1,
   "metadata": {},
   "outputs": [],
   "source": [
    "import numpy as np\n",
    "import pandas as pd\n",
    "import pickle\n",
    "\n",
    "username='ozaltun'\n",
    "def save_obj(obj, loc ):\n",
    "    with open(loc, 'wb') as f:\n",
    "        pickle.dump(obj, f, pickle.HIGHEST_PROTOCOL)\n",
    "\n",
    "def load_obj(loc):\n",
    "    with open(loc, 'rb') as f:\n",
    "        return pickle.load(f)\n",
    "\n",
    "def reverse_dict(my_map):\n",
    "    inv_map = {v: k for k, v in my_map.items()}\n",
    "    return inv_map\n",
    "\n",
    "reg_2_num = load_obj('/Users/'+username+'/Dropbox (MIT)/Data/Trade/general_equilibrium_gravity/GTAP/mapping/reg_2_num.pickle')\n",
    "\n",
    "comm_2_num = load_obj('/Users/'+username+'/Dropbox (MIT)/Data/Trade/general_equilibrium_gravity/GTAP/mapping/comm_2_num.pickle')\n",
    "\n",
    "prodcomm_2_num = load_obj('/Users/'+username+'/Dropbox (MIT)/Data/Trade/general_equilibrium_gravity/GTAP/mapping/prodcomm_2_num.pickle')\n",
    "nsavcomm_2_num = load_obj('/Users/'+username+'/Dropbox (MIT)/Data/Trade/general_equilibrium_gravity/GTAP/mapping/nsavcomm_2_num.pickle')\n",
    "demdcomm_2_num = load_obj('/Users/'+username+'/Dropbox (MIT)/Data/Trade/general_equilibrium_gravity/GTAP/mapping/demdcomm_2_num.pickle')\n"
   ]
  },
  {
   "cell_type": "code",
   "execution_count": 2,
   "metadata": {},
   "outputs": [],
   "source": [
    "root = '/Users/'+username+'/Dropbox (MIT)/Data/Trade/general_equilibrium_gravity/GTAP/matrices/{}.pickle'\n",
    "\n"
   ]
  },
  {
   "cell_type": "code",
   "execution_count": 3,
   "metadata": {},
   "outputs": [],
   "source": [
    "F_goods = ['ofd','b_t','tex','wap','lea','lum','ppp','p_c','crp','nmm','fmp','mvh','otn','ele',\\\n",
    "           'ome','omf','ely','gdt','wtr','cns','trd','otp','wtp','atp','cmn','ofi','isr','obs','ros','osg']\n",
    "\n",
    "C_goods = ['pdr', 'wht','gro','v_f','osd','c_b','pfb','ocr','ctl','oap','rmk','wol','frs','fsh','coa','oil',\\\n",
    "           'gas','omn','cmt','omt','vol','mil','pcr','sgr','i_s','nfm']"
   ]
  },
  {
   "cell_type": "code",
   "execution_count": 4,
   "metadata": {},
   "outputs": [
    {
     "data": {
      "text/plain": [
       "'mil'"
      ]
     },
     "execution_count": 4,
     "metadata": {},
     "output_type": "execute_result"
    }
   ],
   "source": [
    "C_goods[21]"
   ]
  },
  {
   "cell_type": "code",
   "execution_count": 5,
   "metadata": {},
   "outputs": [
    {
     "data": {
      "text/plain": [
       "'ofd'"
      ]
     },
     "execution_count": 5,
     "metadata": {},
     "output_type": "execute_result"
    }
   ],
   "source": [
    "F_goods[0]"
   ]
  },
  {
   "cell_type": "code",
   "execution_count": 6,
   "metadata": {},
   "outputs": [],
   "source": [
    "data = {}\n",
    "n = 134\n",
    "g = len(C_goods)\n",
    "k = len(F_goods)\n",
    "\n",
    "data['n'] = n\n",
    "data['g'] = g\n",
    "data['k'] = k"
   ]
  },
  {
   "cell_type": "code",
   "execution_count": 7,
   "metadata": {},
   "outputs": [],
   "source": [
    "# Lets get the easy one out of the way\n",
    "data['E'] = np.around(load_obj(root.format('E')).reshape((n, 1)), decimals=6)"
   ]
  },
  {
   "cell_type": "code",
   "execution_count": null,
   "metadata": {},
   "outputs": [],
   "source": []
  },
  {
   "cell_type": "code",
   "execution_count": 8,
   "metadata": {},
   "outputs": [],
   "source": [
    "# Now production:\n",
    "Y = np.around(load_obj(root.format('Y_v2')), decimals=6)\n",
    "data['Y_g'] = np.zeros((n, g))\n",
    "data['Y_k'] = np.zeros((n, k))\n",
    "\n",
    "\n",
    "for i, key in enumerate(C_goods):\n",
    "    data['Y_g'][:, i] = Y[comm_2_num[key], :]\n",
    "\n",
    "\n",
    "for i, key in enumerate(F_goods):\n",
    "    data['Y_k'][:, i] = Y[comm_2_num[key], :]"
   ]
  },
  {
   "cell_type": "code",
   "execution_count": 9,
   "metadata": {},
   "outputs": [],
   "source": [
    "# Now demand:\n",
    "D = np.around(load_obj(root.format('D')), decimals=6)\n",
    "data['D_g_old'] = np.zeros((n, g))\n",
    "data['D_k_old'] = np.zeros((n, k))\n",
    "\n",
    "\n",
    "for i, key in enumerate(C_goods):\n",
    "    data['D_g_old'][:, i] = D[comm_2_num[key], :]\n",
    "\n",
    "\n",
    "for i, key in enumerate(F_goods):\n",
    "    data['D_k_old'][:, i] = D[comm_2_num[key], :]"
   ]
  },
  {
   "cell_type": "code",
   "execution_count": 10,
   "metadata": {},
   "outputs": [],
   "source": [
    "# Now trade\n",
    "X = np.around(load_obj(root.format('X_v2')), decimals=6)\n",
    "\n",
    "data['X_g'] = np.zeros((n, n, g))\n",
    "data['X_k'] = np.zeros((n, n, k))\n",
    "\n",
    "\n",
    "for i, key in enumerate(C_goods):\n",
    "    data['X_g'][:, :, i] = X[comm_2_num[key], :, :].T\n",
    "\n",
    "for i, key in enumerate(F_goods):\n",
    "    data['X_k'][:, :, i] = X[comm_2_num[key], :, :].T"
   ]
  },
  {
   "cell_type": "code",
   "execution_count": 11,
   "metadata": {},
   "outputs": [
    {
     "name": "stdout",
     "output_type": "stream",
     "text": [
      "(array([], dtype=int64), array([], dtype=int64), array([], dtype=int64))\n"
     ]
    }
   ],
   "source": [
    "# Adjust local consumption\n",
    "for i in range(n):\n",
    "    temp = np.zeros(g)\n",
    "    for j in range(n):\n",
    "        if i != j:\n",
    "            temp += data['X_g'][j, i, :]\n",
    "        \n",
    "    data['X_g'][i, i, :] = data['Y_g'][i,:] - temp\n",
    "\n",
    "# Re-adjust with demand figures\n",
    "idx_g = np.where(data['X_g'] < 0)\n",
    "print(idx_g)"
   ]
  },
  {
   "cell_type": "code",
   "execution_count": 12,
   "metadata": {},
   "outputs": [],
   "source": [
    "# data['X_g'][idx_g] = data['D_g_old'][idx_g[1:]]\n",
    "\n",
    "# # Now go back \n",
    "# for i in range(idx_g[0].shape[0]):\n",
    "#     print(idx_g[1][i], idx_g[2][i])\n",
    "#     data['Y_g'][idx_g[1][i], idx_g[2][i]] += data['X_g'][:, idx_g[1][i], idx_g[2][i]].sum()"
   ]
  },
  {
   "cell_type": "code",
   "execution_count": 13,
   "metadata": {},
   "outputs": [],
   "source": [
    "#data['X'][data['X']<0]"
   ]
  },
  {
   "cell_type": "code",
   "execution_count": 14,
   "metadata": {},
   "outputs": [
    {
     "name": "stdout",
     "output_type": "stream",
     "text": [
      "(array([], dtype=int64), array([], dtype=int64), array([], dtype=int64))\n"
     ]
    }
   ],
   "source": [
    "for i in range(n):\n",
    "    temp = np.zeros(k)\n",
    "    for j in range(n):\n",
    "        if i != j:\n",
    "            temp += data['X_k'][j, i, :]\n",
    "        \n",
    "    data['X_k'][i, i, :] = data['Y_k'][i,:] - temp\n",
    "\n",
    "idx_k = np.where(data['X_k'] < 0)\n",
    "print(idx_k)\n",
    "\n",
    "# data['X_k'][idx_k] = data['D_k_old'][idx_k[1:]]\n",
    "\n",
    " \n",
    "# for i in range(idx_k[0].shape[0]):\n",
    "#     print(idx_k[1][i], idx_k[2][i])\n",
    "#     data['Y_g'][idx_k[1][i], idx_k[2][i]] += data['X_k'][:, idx_k[1][i], idx_k[2][i]].sum()"
   ]
  },
  {
   "cell_type": "code",
   "execution_count": 15,
   "metadata": {},
   "outputs": [],
   "source": [
    "data['D_g'] = data['X_g'].sum(axis=1)\n",
    "data['D_k'] = data['X_k'].sum(axis=1)"
   ]
  },
  {
   "cell_type": "code",
   "execution_count": 16,
   "metadata": {},
   "outputs": [
    {
     "name": "stdout",
     "output_type": "stream",
     "text": [
      "4.470348358154297e-08\n",
      "0.0\n"
     ]
    }
   ],
   "source": [
    "## Supply == Demand\n",
    "\n",
    "print(data['Y_k'].sum(axis=1).sum(axis=0) - data['D_k'].sum(axis=0).sum())\n",
    "print(data['Y_g'].sum(axis=1).sum(axis=0) - data['D_g'].sum(axis=0).sum())"
   ]
  },
  {
   "cell_type": "code",
   "execution_count": 17,
   "metadata": {},
   "outputs": [
    {
     "name": "stdout",
     "output_type": "stream",
     "text": [
      "[[1. 1. 1. ... 1. 1. 1.]\n",
      " [1. 1. 1. ... 1. 1. 1.]\n",
      " [1. 1. 1. ... 1. 1. 1.]\n",
      " ...\n",
      " [1. 1. 1. ... 1. 1. 1.]\n",
      " [1. 1. 1. ... 1. 1. 1.]\n",
      " [1. 1. 1. ... 1. 1. 1.]]\n",
      "[[1. 1. 1. ... 1. 1. 1.]\n",
      " [1. 1. 1. ... 1. 1. 1.]\n",
      " [1. 1. 1. ... 1. 1. 1.]\n",
      " ...\n",
      " [1. 1. 1. ... 1. 1. 1.]\n",
      " [1. 1. 1. ... 1. 1. 1.]\n",
      " [1. 1. 1. ... 1. 1. 1.]]\n"
     ]
    }
   ],
   "source": [
    "# Nice !\n",
    "print((data['X_k']/data['Y_k'].reshape((1, n, k))).sum(axis=0))\n",
    "print((data['X_g']/data['Y_g'].reshape((1, n, g))).sum(axis=0))\n",
    "\n"
   ]
  },
  {
   "cell_type": "code",
   "execution_count": 18,
   "metadata": {},
   "outputs": [],
   "source": [
    "# Trade fraction\n",
    "data['lambda_g'] = data['X_g']/data['D_g'].reshape((n, 1, g))\n",
    "data['lambda_k'] = data['X_k']/data['D_k'].reshape((n, 1, k))"
   ]
  },
  {
   "cell_type": "code",
   "execution_count": 19,
   "metadata": {},
   "outputs": [],
   "source": [
    "data['lambda_k'] = data['lambda_k'] /data['lambda_k'].sum(axis=1).reshape((n, 1, k))"
   ]
  },
  {
   "cell_type": "code",
   "execution_count": 20,
   "metadata": {},
   "outputs": [],
   "source": [
    "data['lambda_g'] = data['lambda_g'] /data['lambda_g'].sum(axis=1).reshape((n, 1, g))"
   ]
  },
  {
   "cell_type": "code",
   "execution_count": 21,
   "metadata": {},
   "outputs": [],
   "source": [
    "# Now interlinkage\n",
    "d = np.around(load_obj(root.format('d_l')), decimals=6)\n",
    "\n",
    "data['d'] = np.zeros((n, k, g))\n",
    "\n",
    "for i, comm in enumerate(C_goods):\n",
    "    for j, final in enumerate(F_goods):\n",
    "        data['d'][:, j, i] = d[comm_2_num[comm], comm_2_num[final], :]"
   ]
  },
  {
   "cell_type": "code",
   "execution_count": 22,
   "metadata": {},
   "outputs": [
    {
     "data": {
      "text/plain": [
       "(array([], dtype=int64), array([], dtype=int64))"
      ]
     },
     "execution_count": 22,
     "metadata": {},
     "output_type": "execute_result"
    }
   ],
   "source": [
    "np.where(data['d'].sum(axis=1) == 0)"
   ]
  },
  {
   "cell_type": "code",
   "execution_count": 23,
   "metadata": {},
   "outputs": [
    {
     "data": {
      "text/plain": [
       "30"
      ]
     },
     "execution_count": 23,
     "metadata": {},
     "output_type": "execute_result"
    }
   ],
   "source": [
    "k"
   ]
  },
  {
   "cell_type": "code",
   "execution_count": 24,
   "metadata": {},
   "outputs": [
    {
     "data": {
      "text/plain": [
       "array([[1., 1., 1., ..., 1., 1., 1.],\n",
       "       [1., 1., 1., ..., 1., 1., 1.],\n",
       "       [1., 1., 1., ..., 1., 1., 1.],\n",
       "       ...,\n",
       "       [1., 1., 1., ..., 1., 1., 1.],\n",
       "       [1., 1., 1., ..., 1., 1., 1.],\n",
       "       [1., 1., 1., ..., 1., 1., 1.]])"
      ]
     },
     "execution_count": 24,
     "metadata": {},
     "output_type": "execute_result"
    }
   ],
   "source": [
    "data['d'] = data['d']/data['d'].sum(axis=1).reshape((n, 1, g))\n",
    "data['d'].sum(axis=1)"
   ]
  },
  {
   "cell_type": "code",
   "execution_count": 25,
   "metadata": {},
   "outputs": [],
   "source": [
    "# Share of labor\n",
    "e_labor = np.around(load_obj(root.format('e_labor')), decimals=6)\n",
    "\n",
    "data['e_L'] = e_labor.reshape((n, 1))\n",
    "\n",
    "\n",
    "# Share of commodities\n",
    "e_comm = load_obj(root.format('e_comm'))\n",
    "data['e'] = np.zeros((n, g))\n",
    "\n",
    "for i, key in enumerate(C_goods):\n",
    "    data['e'][:, i] = e_comm[comm_2_num[key], :]\n"
   ]
  },
  {
   "cell_type": "code",
   "execution_count": 26,
   "metadata": {},
   "outputs": [],
   "source": [
    "data['e_L'] =( 1 - data['e'].sum(axis=1)).reshape((n, 1))"
   ]
  },
  {
   "cell_type": "code",
   "execution_count": 27,
   "metadata": {},
   "outputs": [],
   "source": [
    "# alpha\n",
    "alpha = np.around(load_obj(root.format('alpha')), decimals=6)\n",
    "data['alpha'] = np.zeros((n, k))\n",
    "\n",
    "for i, key in enumerate(F_goods):\n",
    "    data['alpha'][:, i] = alpha[comm_2_num[key], :]"
   ]
  },
  {
   "cell_type": "code",
   "execution_count": 28,
   "metadata": {},
   "outputs": [
    {
     "data": {
      "text/plain": [
       "(134, 30)"
      ]
     },
     "execution_count": 28,
     "metadata": {},
     "output_type": "execute_result"
    }
   ],
   "source": [
    "data['alpha'].shape"
   ]
  },
  {
   "cell_type": "code",
   "execution_count": 29,
   "metadata": {},
   "outputs": [],
   "source": [
    "# Doing this so that equation (15) works out\n",
    "data['alpha'] = data['alpha']/data['alpha'].sum(axis=1).reshape(134, 1)"
   ]
  },
  {
   "cell_type": "code",
   "execution_count": 30,
   "metadata": {},
   "outputs": [
    {
     "data": {
      "text/plain": [
       "(array([], dtype=int64), array([], dtype=int64), array([], dtype=int64))"
      ]
     },
     "execution_count": 30,
     "metadata": {},
     "output_type": "execute_result"
    }
   ],
   "source": [
    "idx_k"
   ]
  },
  {
   "cell_type": "code",
   "execution_count": 31,
   "metadata": {},
   "outputs": [
    {
     "data": {
      "text/plain": [
       "(array([], dtype=int64), array([], dtype=int64), array([], dtype=int64))"
      ]
     },
     "execution_count": 31,
     "metadata": {},
     "output_type": "execute_result"
    }
   ],
   "source": [
    "idx_g"
   ]
  },
  {
   "cell_type": "code",
   "execution_count": 32,
   "metadata": {},
   "outputs": [],
   "source": [
    "# phi\n",
    "phi_labor = np.around(load_obj(root.format('phi_labor')), decimals=6)\n",
    "phi_comm = np.around(load_obj(root.format('phi_comm')), decimals=6)\n",
    "phi_natlres = np.around(load_obj(root.format('phi_natlres')), decimals=6) # See if you need to integrate land\n",
    "phi_land = np.around(load_obj(root.format('phi_land')), decimals=6)\n",
    "\n",
    "data['phi_L_g'] = np.zeros((n, g))\n",
    "data['phi_L_k'] = np.zeros((n, k))\n",
    "\n",
    "data['phi_R'] = np.zeros((n, g))\n",
    "\n",
    "data['phi'] = np.zeros((n, k, g))\n",
    "\n",
    "for i, key in enumerate(C_goods):\n",
    "    data['phi_L_g'][:, i] = phi_labor[comm_2_num[key], :]\n",
    "    data['phi_R'][:, i] = phi_natlres[comm_2_num[key], :] + phi_land[comm_2_num[key], :]\n",
    "    \n",
    "for i, key in enumerate(F_goods):    \n",
    "    data['phi_L_k'][:, i] = phi_labor[comm_2_num[key], :]\n",
    "    \n",
    "for i, comm in enumerate(C_goods):\n",
    "    for j, final in enumerate(F_goods):\n",
    "        data['phi'][:, j, i] = phi_comm[comm_2_num[comm], comm_2_num[final], :]"
   ]
  },
  {
   "cell_type": "code",
   "execution_count": 33,
   "metadata": {},
   "outputs": [
    {
     "data": {
      "text/plain": [
       "(array([  3,   5,   5,   5,   7,   8,   8,   8,  13,  13,  13,  13,  16,\n",
       "         17,  20,  20,  21,  22,  27,  29,  29,  30,  30,  30,  33,  33,\n",
       "         34,  34,  35,  35,  35,  37,  37,  37,  38,  40,  40,  41,  41,\n",
       "         41,  43,  43,  43,  49,  50,  58,  62,  62,  64,  64,  67,  67,\n",
       "         79,  79,  85,  89,  89,  89, 105, 107, 107, 109, 109, 109, 113,\n",
       "        113, 117, 117, 117, 117, 117, 121, 124, 124, 126, 126, 129, 129,\n",
       "        131, 131, 131, 133]),\n",
       " array([25, 23, 25, 26, 12, 24, 25, 26, 22, 23, 24, 26, 26, 26, 24, 25, 23,\n",
       "        26, 26, 25, 26, 24, 25, 26, 22, 23, 22, 23, 24, 25, 26, 22, 23, 26,\n",
       "        23, 25, 26, 21, 22, 23, 16, 25, 26, 26, 25, 26, 25, 26, 22, 26, 25,\n",
       "        26, 25, 26, 26, 24, 25, 26,  9, 25, 26, 15, 24, 25, 24, 25, 22, 23,\n",
       "        24, 25, 26, 23, 24, 25, 25, 26, 23, 24, 24, 25, 26, 26]))"
      ]
     },
     "execution_count": 33,
     "metadata": {},
     "output_type": "execute_result"
    }
   ],
   "source": [
    "np.where(data['phi'].sum(axis=2) == 0)"
   ]
  },
  {
   "cell_type": "code",
   "execution_count": 42,
   "metadata": {},
   "outputs": [
    {
     "data": {
      "text/plain": [
       "(array([], dtype=int64), array([], dtype=int64))"
      ]
     },
     "execution_count": 42,
     "metadata": {},
     "output_type": "execute_result"
    }
   ],
   "source": [
    "np.where(data['phi'].sum(axis=2) == 1)"
   ]
  },
  {
   "cell_type": "code",
   "execution_count": 43,
   "metadata": {},
   "outputs": [],
   "source": [
    "data['phi_L_k'] = 1 - data['phi'].sum(axis=2)"
   ]
  },
  {
   "cell_type": "code",
   "execution_count": 44,
   "metadata": {},
   "outputs": [],
   "source": [
    "# normalizer = (data['phi_L_k'] + data['phi'].sum(axis=2))\n",
    "# data['phi'] = data['phi']/(normalizer.reshape(n, k, 1))\n",
    "# data['phi_L_k'] = data['phi_L_k']/normalizer"
   ]
  },
  {
   "cell_type": "code",
   "execution_count": 45,
   "metadata": {},
   "outputs": [
    {
     "data": {
      "text/plain": [
       "array([[1., 1., 1., ..., 1., 1., 1.],\n",
       "       [1., 1., 1., ..., 1., 1., 1.],\n",
       "       [1., 1., 1., ..., 1., 1., 1.],\n",
       "       ...,\n",
       "       [1., 1., 1., ..., 1., 1., 1.],\n",
       "       [1., 1., 1., ..., 1., 1., 1.],\n",
       "       [1., 1., 1., ..., 1., 1., 1.]])"
      ]
     },
     "execution_count": 45,
     "metadata": {},
     "output_type": "execute_result"
    }
   ],
   "source": [
    "(data['phi_L_k'] + data['phi'].sum(axis=2))"
   ]
  },
  {
   "cell_type": "code",
   "execution_count": 46,
   "metadata": {},
   "outputs": [],
   "source": [
    "# Update based on notes:\n",
    "# data['phi'] = data['d']*data['D_g'].reshape((n, 1, g))/data['Y_k'].reshape((n, k, 1))\n",
    "\n",
    "# data['phi_L_k'] = 1 - data['phi'].sum(axis=2)\n",
    "\n",
    "#print(np.where(data['phi'] >1),'blah', np.where(data['phi_L_k'] <=0))\n"
   ]
  },
  {
   "cell_type": "code",
   "execution_count": 47,
   "metadata": {},
   "outputs": [
    {
     "data": {
      "text/plain": [
       "array([[0.442945, 0.190069, 0.26946 , ..., 0.151499, 0.173513, 0.087179],\n",
       "       [0.180395, 0.258239, 0.268929, ..., 0.203775, 0.187162, 0.167262],\n",
       "       [0.233072, 0.16678 , 0.196893, ..., 0.172642, 0.190792, 0.164554],\n",
       "       ...,\n",
       "       [0.162401, 0.096259, 0.140955, ..., 0.043654, 0.126985, 0.091982],\n",
       "       [0.059207, 0.113961, 0.215515, ..., 0.043239, 0.139094, 0.125107],\n",
       "       [0.237364, 0.281232, 0.258127, ..., 0.189792, 0.094032, 0.155634]])"
      ]
     },
     "execution_count": 47,
     "metadata": {},
     "output_type": "execute_result"
    }
   ],
   "source": [
    "data['phi_L_g']"
   ]
  },
  {
   "cell_type": "code",
   "execution_count": 48,
   "metadata": {},
   "outputs": [
    {
     "data": {
      "text/plain": [
       "array([], dtype=float64)"
      ]
     },
     "execution_count": 48,
     "metadata": {},
     "output_type": "execute_result"
    }
   ],
   "source": [
    "import matplotlib.pyplot as plt\n",
    "data['phi_L_g'] = 1 - data['phi_R']\n",
    "data['phi_L_g'][data['phi_L_g']<0]"
   ]
  },
  {
   "cell_type": "code",
   "execution_count": 49,
   "metadata": {},
   "outputs": [],
   "source": [
    "data['theta_k'] = np.ones((k, 1))*5.\n",
    "data['theta_g'] = np.ones((g, 1))*5.\n",
    "\n",
    "data['eta'] = np.ones((k, 1))*0.4\n",
    "data['rho_g'] = np.ones((g, 1))*0.4\n",
    "\n",
    "data['sigma'] = 0.4"
   ]
  },
  {
   "cell_type": "code",
   "execution_count": 50,
   "metadata": {},
   "outputs": [],
   "source": [
    "### Change non zero elements to zero ###"
   ]
  },
  {
   "cell_type": "code",
   "execution_count": 51,
   "metadata": {},
   "outputs": [
    {
     "name": "stdout",
     "output_type": "stream",
     "text": [
      "n\n",
      "g\n",
      "k\n",
      "E\n",
      "Y_g\n",
      "Y_k\n",
      "D_g_old\n",
      "D_k_old\n",
      "X_g\n",
      "X_k\n",
      "D_g\n",
      "D_k\n",
      "lambda_g\n",
      "lambda_k\n",
      "d\n",
      "e_L\n",
      "e\n",
      "alpha\n",
      "phi_L_g\n",
      "phi_L_k\n",
      "phi_R\n",
      "phi\n",
      "theta_k\n",
      "theta_g\n",
      "eta\n",
      "rho_g\n",
      "sigma\n"
     ]
    }
   ],
   "source": [
    "for i in data.keys():\n",
    "    print(i)\n",
    "    if i not in ['n', 'g','k','sigma']:\n",
    "        data[i] = np.around(data[i], decimals=4)\n",
    "        data[i][data[i]<0] = 0"
   ]
  },
  {
   "cell_type": "code",
   "execution_count": 52,
   "metadata": {},
   "outputs": [],
   "source": [
    "data['E_L'] = (data['phi_L_g']*data['Y_g']).sum(axis=1) + (data['phi_L_k']*data['Y_k']).sum(axis=1)"
   ]
  },
  {
   "cell_type": "code",
   "execution_count": 53,
   "metadata": {},
   "outputs": [],
   "source": [
    "loc = '/Users/'+username+'/Dropbox (MIT)/Data/Trade/general_equilibrium_gravity/final_data/data_20200226.pickle'\n",
    "save_obj(data, loc)"
   ]
  },
  {
   "cell_type": "code",
   "execution_count": null,
   "metadata": {},
   "outputs": [],
   "source": []
  }
 ],
 "metadata": {
  "kernelspec": {
   "display_name": "Python 3",
   "language": "python",
   "name": "python3"
  },
  "language_info": {
   "codemirror_mode": {
    "name": "ipython",
    "version": 3
   },
   "file_extension": ".py",
   "mimetype": "text/x-python",
   "name": "python",
   "nbconvert_exporter": "python",
   "pygments_lexer": "ipython3",
   "version": "3.6.4"
  }
 },
 "nbformat": 4,
 "nbformat_minor": 2
}
