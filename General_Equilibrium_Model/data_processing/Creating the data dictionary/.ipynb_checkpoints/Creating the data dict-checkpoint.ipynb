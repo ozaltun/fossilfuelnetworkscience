{
 "cells": [
  {
   "cell_type": "code",
   "execution_count": 1,
   "metadata": {},
   "outputs": [],
   "source": [
    "import numpy as np\n",
    "import pandas as pd\n",
    "import pickle\n",
    "\n",
    "def save_obj(obj, loc ):\n",
    "    with open(loc, 'wb') as f:\n",
    "        pickle.dump(obj, f, pickle.HIGHEST_PROTOCOL)\n",
    "\n",
    "def load_obj(loc):\n",
    "    with open(loc, 'rb') as f:\n",
    "        return pickle.load(f)\n",
    "\n",
    "def reverse_dict(my_map):\n",
    "    inv_map = {v: k for k, v in my_map.items()}\n",
    "    return inv_map\n",
    "\n",
    "reg_2_num = load_obj('/Users/boraozaltun/Dropbox (MIT)/Data/Trade/general_equilibrium_gravity/GTAP/mapping/reg_2_num.pickle')\n",
    "\n",
    "comm_2_num = load_obj('/Users/boraozaltun/Dropbox (MIT)/Data/Trade/general_equilibrium_gravity/GTAP/mapping/comm_2_num.pickle')\n",
    "\n",
    "prodcomm_2_num = load_obj('/Users/boraozaltun/Dropbox (MIT)/Data/Trade/general_equilibrium_gravity/GTAP/mapping/prodcomm_2_num.pickle')\n",
    "nsavcomm_2_num = load_obj('/Users/boraozaltun/Dropbox (MIT)/Data/Trade/general_equilibrium_gravity/GTAP/mapping/nsavcomm_2_num.pickle')\n",
    "demdcomm_2_num = load_obj('/Users/boraozaltun/Dropbox (MIT)/Data/Trade/general_equilibrium_gravity/GTAP/mapping/demdcomm_2_num.pickle')"
   ]
  },
  {
   "cell_type": "code",
   "execution_count": 2,
   "metadata": {},
   "outputs": [],
   "source": [
    "root = '/Users/boraozaltun/Dropbox (MIT)/Data/Trade/general_equilibrium_gravity/GTAP/matrices/{}.pickle'"
   ]
  },
  {
   "cell_type": "code",
   "execution_count": 3,
   "metadata": {},
   "outputs": [],
   "source": [
    "F_goods = ['ofd','b_t','tex','wap','lea','lum','ppp','p_c','crp','nmm','i_s','nfm','fmp','mvh','otn','ele',\\\n",
    "           'ome','omf','ely','gdt','wtr','cns','trd','otp','wtp','atp','cmn','ofi','isr','obs','ros','osg']\n",
    "\n",
    "C_goods = ['pdr','wht','gro','v_f','osd','c_b','pfb','ocr','ctl','oap','rmk','wol','frs','fsh','coa','oil',\\\n",
    "           'gas','omn','cmt','omt','vol','mil','pcr','sgr','ofd','b_t','tex','wap','lea','lum','ppp','p_c',\\\n",
    "           'crp','nmm','i_s','nfm']"
   ]
  },
  {
   "cell_type": "code",
   "execution_count": 4,
   "metadata": {},
   "outputs": [],
   "source": [
    "data = {}\n",
    "n = 134\n",
    "g = len(C_goods)\n",
    "k = len(F_goods)\n",
    "\n",
    "data['n'] = n\n",
    "data['g'] = g\n",
    "data['k'] = k"
   ]
  },
  {
   "cell_type": "code",
   "execution_count": 5,
   "metadata": {},
   "outputs": [],
   "source": [
    "# Lets get the easy one out of the way\n",
    "data['E'] = load_obj(root.format('E')).reshape((n, 1))"
   ]
  },
  {
   "cell_type": "code",
   "execution_count": 6,
   "metadata": {},
   "outputs": [],
   "source": [
    "# Now production:\n",
    "Y = load_obj(root.format('Y'))\n",
    "data['Y_g'] = np.zeros((n, g))\n",
    "data['Y_k'] = np.zeros((n, k))\n",
    "\n",
    "\n",
    "for i, key in enumerate(C_goods):\n",
    "    data['Y_g'][:, i] = Y[comm_2_num[key], :]\n",
    "\n",
    "\n",
    "for i, key in enumerate(F_goods):\n",
    "    data['Y_k'][:, i] = Y[comm_2_num[key], :]"
   ]
  },
  {
   "cell_type": "code",
   "execution_count": 7,
   "metadata": {},
   "outputs": [],
   "source": [
    "# Now demand:\n",
    "D = load_obj(root.format('D'))\n",
    "data['D_g'] = np.zeros((n, g))\n",
    "data['D_k'] = np.zeros((n, k))\n",
    "\n",
    "\n",
    "for i, key in enumerate(C_goods):\n",
    "    data['D_g'][:, i] = D[comm_2_num[key], :]\n",
    "\n",
    "\n",
    "for i, key in enumerate(F_goods):\n",
    "    data['D_k'][:, i] = D[comm_2_num[key], :]"
   ]
  },
  {
   "cell_type": "code",
   "execution_count": 8,
   "metadata": {},
   "outputs": [],
   "source": [
    "# Now trade\n",
    "X = load_obj(root.format('X'))\n",
    "\n",
    "data['X_g'] = np.zeros((n, n, g))\n",
    "data['X_k'] = np.zeros((n, n, k))\n",
    "\n",
    "\n",
    "for i, key in enumerate(C_goods):\n",
    "    data['X_g'][:, :, i] = X[comm_2_num[key], :, :].T\n",
    "\n",
    "\n",
    "for i, key in enumerate(F_goods):\n",
    "    data['X_k'][:, :, i] = X[comm_2_num[key], :, :].T"
   ]
  },
  {
   "cell_type": "code",
   "execution_count": 15,
   "metadata": {},
   "outputs": [
    {
     "data": {
      "text/plain": [
       "4512.628714543874"
      ]
     },
     "execution_count": 15,
     "metadata": {},
     "output_type": "execute_result"
    }
   ],
   "source": []
  },
  {
   "cell_type": "code",
   "execution_count": 9,
   "metadata": {},
   "outputs": [],
   "source": [
    "# Trade fraction\n",
    "data['lambda_g'] = data['X_g']/data['D_g'].reshape((n, 1, g))\n",
    "data['lambda_k'] = data['X_k']/data['D_k'].reshape((n, 1, k))"
   ]
  },
  {
   "cell_type": "code",
   "execution_count": 10,
   "metadata": {},
   "outputs": [],
   "source": [
    "# Now interlinkage\n",
    "d = load_obj(root.format('d_l'))\n",
    "\n",
    "data['d'] = np.zeros((n, k, g))\n",
    "\n",
    "for i, comm in enumerate(C_goods):\n",
    "    for j, final in enumerate(F_goods):\n",
    "        data['d'][:, j, i] = d[comm_2_num[comm], comm_2_num[final], :]"
   ]
  },
  {
   "cell_type": "code",
   "execution_count": 11,
   "metadata": {},
   "outputs": [],
   "source": [
    "# Share of labor\n",
    "e_labor = load_obj(root.format('e_labor'))\n",
    "\n",
    "data['e_L'] = e_labor.reshape((n, 1))\n",
    "\n",
    "\n",
    "# Share of commodities\n",
    "e_comm = load_obj(root.format('e_comm'))\n",
    "data['e'] = np.zeros((n, g))\n",
    "\n",
    "for i, key in enumerate(C_goods):\n",
    "    data['e'][:, i] = e_comm[comm_2_num[key], :]\n"
   ]
  },
  {
   "cell_type": "code",
   "execution_count": 12,
   "metadata": {},
   "outputs": [],
   "source": [
    "# alpha\n",
    "alpha = load_obj(root.format('alpha'))\n",
    "data['alpha'] = np.zeros((n, k))\n",
    "\n",
    "for i, key in enumerate(F_goods):\n",
    "    data['alpha'][:, i] = alpha[comm_2_num[key], :]"
   ]
  },
  {
   "cell_type": "code",
   "execution_count": 13,
   "metadata": {},
   "outputs": [],
   "source": [
    "# phi\n",
    "phi_labor = load_obj(root.format('phi_labor'))\n",
    "phi_comm = load_obj(root.format('phi_comm'))\n",
    "phi_natlres = load_obj(root.format('phi_natlres')) # See if you need to integrate land\n",
    "\n",
    "\n",
    "data['phi_L_g'] = np.zeros((n, g))\n",
    "data['phi_L_k'] = np.zeros((n, k))\n",
    "\n",
    "data['phi_R'] = np.zeros((n, g))\n",
    "\n",
    "data['phi'] = np.zeros((n, k, g))\n",
    "\n",
    "for i, key in enumerate(C_goods):\n",
    "    data['phi_L_g'][:, i] = phi_labor[comm_2_num[key], :]\n",
    "    data['phi_R'][:, i] = phi_natlres[comm_2_num[key], :]\n",
    "    \n",
    "for i, key in enumerate(F_goods):    \n",
    "    data['phi_L_k'][:, i] = phi_labor[comm_2_num[key], :]\n",
    "    \n",
    "for i, comm in enumerate(C_goods):\n",
    "    for j, final in enumerate(F_goods):\n",
    "        data['phi'][:, j, i] = d[comm_2_num[comm], comm_2_num[final], :]"
   ]
  },
  {
   "cell_type": "code",
   "execution_count": 14,
   "metadata": {},
   "outputs": [],
   "source": [
    "data['theta_k'] = np.ones((k, 1))*5.\n",
    "data['theta_g'] = np.ones((g, 1))*5.\n",
    "\n",
    "data['eta'] = np.ones((k, 1))*0.4\n",
    "data['rho_g'] = np.ones((g, 1))*0.4\n",
    "\n",
    "data['sigma'] = 0.4"
   ]
  },
  {
   "cell_type": "code",
   "execution_count": 15,
   "metadata": {},
   "outputs": [],
   "source": [
    "### Change non zero elements to zero ###"
   ]
  },
  {
   "cell_type": "code",
   "execution_count": 16,
   "metadata": {},
   "outputs": [
    {
     "name": "stdout",
     "output_type": "stream",
     "text": [
      "n\n",
      "g\n",
      "k\n",
      "E\n",
      "Y_g\n",
      "Y_k\n",
      "D_g\n",
      "D_k\n",
      "X_g\n",
      "X_k\n",
      "lambda_g\n",
      "lambda_k\n",
      "d\n",
      "e_L\n",
      "e\n",
      "alpha\n",
      "phi_L_g\n",
      "phi_L_k\n",
      "phi_R\n",
      "phi\n",
      "theta_k\n",
      "theta_g\n",
      "eta\n",
      "rho_g\n",
      "sigma\n"
     ]
    }
   ],
   "source": [
    "for i in data.keys():\n",
    "    print(i)\n",
    "    if i not in ['n', 'g','k','sigma']:\n",
    "        data[i][data[i]<0] = 0"
   ]
  },
  {
   "cell_type": "code",
   "execution_count": 17,
   "metadata": {},
   "outputs": [],
   "source": [
    "loc = '/Users/boraozaltun/Dropbox (MIT)/Data/Trade/general_equilibrium_gravity/final_data/data_20200210.pickle'\n",
    "save_obj(data, loc)"
   ]
  },
  {
   "cell_type": "code",
   "execution_count": null,
   "metadata": {},
   "outputs": [],
   "source": []
  }
 ],
 "metadata": {
  "kernelspec": {
   "display_name": "Python 3",
   "language": "python",
   "name": "python3"
  },
  "language_info": {
   "codemirror_mode": {
    "name": "ipython",
    "version": 3
   },
   "file_extension": ".py",
   "mimetype": "text/x-python",
   "name": "python",
   "nbconvert_exporter": "python",
   "pygments_lexer": "ipython3",
   "version": "3.6.3"
  }
 },
 "nbformat": 4,
 "nbformat_minor": 2
}
