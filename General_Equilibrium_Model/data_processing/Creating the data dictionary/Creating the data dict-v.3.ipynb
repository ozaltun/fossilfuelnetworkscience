{
 "cells": [
  {
   "cell_type": "code",
   "execution_count": 2,
   "metadata": {},
   "outputs": [],
   "source": [
    "import numpy as np\n",
    "import pandas as pd\n",
    "import pickle\n",
    "\n",
    "username='boraozaltun'\n",
    "def save_obj(obj, loc ):\n",
    "    with open(loc, 'wb') as f:\n",
    "        pickle.dump(obj, f, pickle.HIGHEST_PROTOCOL)\n",
    "\n",
    "def load_obj(loc):\n",
    "    with open(loc, 'rb') as f:\n",
    "        return pickle.load(f)\n",
    "\n",
    "def reverse_dict(my_map):\n",
    "    inv_map = {v: k for k, v in my_map.items()}\n",
    "    return inv_map\n",
    "\n",
    "reg_2_num = load_obj('/Users/'+username+'/Dropbox (MIT)/Data/Trade/general_equilibrium_gravity/GTAP/mapping/reg_2_num.pickle')\n",
    "\n",
    "comm_2_num = load_obj('/Users/'+username+'/Dropbox (MIT)/Data/Trade/general_equilibrium_gravity/GTAP/mapping/comm_2_num.pickle')\n",
    "\n",
    "prodcomm_2_num = load_obj('/Users/'+username+'/Dropbox (MIT)/Data/Trade/general_equilibrium_gravity/GTAP/mapping/prodcomm_2_num.pickle')\n",
    "nsavcomm_2_num = load_obj('/Users/'+username+'/Dropbox (MIT)/Data/Trade/general_equilibrium_gravity/GTAP/mapping/nsavcomm_2_num.pickle')\n",
    "demdcomm_2_num = load_obj('/Users/'+username+'/Dropbox (MIT)/Data/Trade/general_equilibrium_gravity/GTAP/mapping/demdcomm_2_num.pickle')\n"
   ]
  },
  {
   "cell_type": "code",
   "execution_count": 3,
   "metadata": {},
   "outputs": [],
   "source": [
    "root = '/Users/'+username+'/Dropbox (MIT)/Data/Trade/general_equilibrium_gravity/GTAP/matrices/{}.pickle'\n",
    "\n"
   ]
  },
  {
   "cell_type": "code",
   "execution_count": 4,
   "metadata": {},
   "outputs": [],
   "source": [
    "F_goods = ['b_t','tex','wap','lea','lum','ppp','p_c','crp','nmm','fmp','mvh','otn','ele',\\\n",
    "           'ome','omf','ely','gdt','wtr','cns','trd','otp','wtp','atp','cmn','ofi','isr','obs','ros','osg']\n",
    "\n",
    "C_goods = ['pdr','wht','gro','v_f','osd','c_b','pfb','ocr','ctl','oap','rmk','wol','frs','fsh','coa','oil',\\\n",
    "           'gas','omn','cmt','omt','vol','mil','pcr','sgr','i_s','nfm','ofd']"
   ]
  },
  {
   "cell_type": "code",
   "execution_count": 5,
   "metadata": {},
   "outputs": [
    {
     "data": {
      "text/plain": [
       "'pcr'"
      ]
     },
     "execution_count": 5,
     "metadata": {},
     "output_type": "execute_result"
    }
   ],
   "source": [
    "C_goods[22]"
   ]
  },
  {
   "cell_type": "code",
   "execution_count": 6,
   "metadata": {},
   "outputs": [],
   "source": [
    "data = {}\n",
    "n = 134\n",
    "g = len(C_goods)\n",
    "k = len(F_goods)\n",
    "\n",
    "data['n'] = n\n",
    "data['g'] = g\n",
    "data['k'] = k"
   ]
  },
  {
   "cell_type": "code",
   "execution_count": 7,
   "metadata": {},
   "outputs": [],
   "source": [
    "# Lets get the easy one out of the way\n",
    "data['E'] = load_obj(root.format('E')).reshape((n, 1))"
   ]
  },
  {
   "cell_type": "code",
   "execution_count": null,
   "metadata": {},
   "outputs": [],
   "source": []
  },
  {
   "cell_type": "code",
   "execution_count": 8,
   "metadata": {},
   "outputs": [],
   "source": [
    "# Now production:\n",
    "Y = load_obj(root.format('Y_v2'))\n",
    "data['Y_g'] = np.zeros((n, g))\n",
    "data['Y_k'] = np.zeros((n, k))\n",
    "\n",
    "\n",
    "for i, key in enumerate(C_goods):\n",
    "    data['Y_g'][:, i] = Y[comm_2_num[key], :]\n",
    "\n",
    "\n",
    "for i, key in enumerate(F_goods):\n",
    "    data['Y_k'][:, i] = Y[comm_2_num[key], :]"
   ]
  },
  {
   "cell_type": "code",
   "execution_count": 9,
   "metadata": {},
   "outputs": [],
   "source": [
    "# Now demand:\n",
    "D = load_obj(root.format('D'))\n",
    "data['D_g_old'] = np.zeros((n, g))\n",
    "data['D_k_old'] = np.zeros((n, k))\n",
    "\n",
    "\n",
    "for i, key in enumerate(C_goods):\n",
    "    data['D_g_old'][:, i] = D[comm_2_num[key], :]\n",
    "\n",
    "\n",
    "for i, key in enumerate(F_goods):\n",
    "    data['D_k_old'][:, i] = D[comm_2_num[key], :]"
   ]
  },
  {
   "cell_type": "code",
   "execution_count": 10,
   "metadata": {},
   "outputs": [],
   "source": [
    "# Now trade\n",
    "X = load_obj(root.format('X_v2'))\n",
    "\n",
    "data['X_g'] = np.zeros((n, n, g))\n",
    "data['X_k'] = np.zeros((n, n, k))\n",
    "\n",
    "\n",
    "for i, key in enumerate(C_goods):\n",
    "    data['X_g'][:, :, i] = X[comm_2_num[key], :, :].T\n",
    "\n",
    "for i, key in enumerate(F_goods):\n",
    "    data['X_k'][:, :, i] = X[comm_2_num[key], :, :].T"
   ]
  },
  {
   "cell_type": "code",
   "execution_count": 11,
   "metadata": {},
   "outputs": [
    {
     "name": "stdout",
     "output_type": "stream",
     "text": [
      "(array([], dtype=int64), array([], dtype=int64), array([], dtype=int64))\n"
     ]
    }
   ],
   "source": [
    "# Adjust local consumption\n",
    "for i in range(n):\n",
    "    temp = np.zeros(g)\n",
    "    for j in range(n):\n",
    "        if i != j:\n",
    "            temp += data['X_g'][j, i, :]\n",
    "        \n",
    "    data['X_g'][i, i, :] = data['Y_g'][i,:] - temp\n",
    "\n",
    "# Re-adjust with demand figures\n",
    "idx_g = np.where(data['X_g'] <= 0)\n",
    "print(idx_g)"
   ]
  },
  {
   "cell_type": "code",
   "execution_count": 12,
   "metadata": {},
   "outputs": [],
   "source": [
    "# data['X_g'][idx_g] = data['D_g_old'][idx_g[1:]]\n",
    "\n",
    "# # Now go back \n",
    "# for i in range(idx_g[0].shape[0]):\n",
    "#     print(idx_g[1][i], idx_g[2][i])\n",
    "#     data['Y_g'][idx_g[1][i], idx_g[2][i]] += data['X_g'][:, idx_g[1][i], idx_g[2][i]].sum()"
   ]
  },
  {
   "cell_type": "code",
   "execution_count": 13,
   "metadata": {},
   "outputs": [],
   "source": [
    "#data['X'][data['X']<0]"
   ]
  },
  {
   "cell_type": "code",
   "execution_count": 14,
   "metadata": {},
   "outputs": [
    {
     "name": "stdout",
     "output_type": "stream",
     "text": [
      "(array([], dtype=int64), array([], dtype=int64), array([], dtype=int64))\n"
     ]
    }
   ],
   "source": [
    "for i in range(n):\n",
    "    temp = np.zeros(k)\n",
    "    for j in range(n):\n",
    "        if i != j:\n",
    "            temp += data['X_k'][j, i, :]\n",
    "        \n",
    "    data['X_k'][i, i, :] = data['Y_k'][i,:] - temp\n",
    "\n",
    "idx_k = np.where(data['X_k'] <= 0)\n",
    "print(idx_k)\n",
    "\n",
    "# data['X_k'][idx_k] = data['D_k_old'][idx_k[1:]]\n",
    "\n",
    " \n",
    "# for i in range(idx_k[0].shape[0]):\n",
    "#     print(idx_k[1][i], idx_k[2][i])\n",
    "#     data['Y_g'][idx_k[1][i], idx_k[2][i]] += data['X_k'][:, idx_k[1][i], idx_k[2][i]].sum()"
   ]
  },
  {
   "cell_type": "code",
   "execution_count": 15,
   "metadata": {},
   "outputs": [],
   "source": [
    "data['D_g'] = data['X_g'].sum(axis=1)\n",
    "data['D_k'] = data['X_k'].sum(axis=1)"
   ]
  },
  {
   "cell_type": "code",
   "execution_count": 16,
   "metadata": {},
   "outputs": [
    {
     "name": "stdout",
     "output_type": "stream",
     "text": [
      "0.0\n",
      "0.0\n"
     ]
    }
   ],
   "source": [
    "## Supply == Demand\n",
    "\n",
    "print(data['Y_k'].sum(axis=1).sum(axis=0) - data['D_k'].sum(axis=0).sum())\n",
    "print(data['Y_g'].sum(axis=1).sum(axis=0) - data['D_g'].sum(axis=0).sum())"
   ]
  },
  {
   "cell_type": "code",
   "execution_count": 17,
   "metadata": {},
   "outputs": [
    {
     "name": "stdout",
     "output_type": "stream",
     "text": [
      "[[1. 1. 1. ... 1. 1. 1.]\n",
      " [1. 1. 1. ... 1. 1. 1.]\n",
      " [1. 1. 1. ... 1. 1. 1.]\n",
      " ...\n",
      " [1. 1. 1. ... 1. 1. 1.]\n",
      " [1. 1. 1. ... 1. 1. 1.]\n",
      " [1. 1. 1. ... 1. 1. 1.]]\n",
      "[[1. 1. 1. ... 1. 1. 1.]\n",
      " [1. 1. 1. ... 1. 1. 1.]\n",
      " [1. 1. 1. ... 1. 1. 1.]\n",
      " ...\n",
      " [1. 1. 1. ... 1. 1. 1.]\n",
      " [1. 1. 1. ... 1. 1. 1.]\n",
      " [1. 1. 1. ... 1. 1. 1.]]\n"
     ]
    }
   ],
   "source": [
    "# Nice !\n",
    "print((data['X_k']/data['Y_k'].reshape((1, n, k))).sum(axis=0))\n",
    "print((data['X_g']/data['Y_g'].reshape((1, n, g))).sum(axis=0))\n",
    "\n"
   ]
  },
  {
   "cell_type": "code",
   "execution_count": 18,
   "metadata": {},
   "outputs": [],
   "source": [
    "# Trade fraction\n",
    "data['lambda_g'] = data['X_g']/data['D_g'].reshape((n, 1, g))\n",
    "data['lambda_k'] = data['X_k']/data['D_k'].reshape((n, 1, k))"
   ]
  },
  {
   "cell_type": "code",
   "execution_count": 19,
   "metadata": {},
   "outputs": [],
   "source": [
    "data['lambda_k'] = data['lambda_k'] /data['lambda_k'].sum(axis=1).reshape((n, 1, k))"
   ]
  },
  {
   "cell_type": "code",
   "execution_count": 20,
   "metadata": {},
   "outputs": [],
   "source": [
    "data['lambda_g'] = data['lambda_g'] /data['lambda_g'].sum(axis=1).reshape((n, 1, g))"
   ]
  },
  {
   "cell_type": "code",
   "execution_count": 21,
   "metadata": {},
   "outputs": [],
   "source": [
    "# Now interlinkage\n",
    "d = load_obj(root.format('d_l'))\n",
    "\n",
    "data['d'] = np.zeros((n, k, g))\n",
    "\n",
    "for i, comm in enumerate(C_goods):\n",
    "    for j, final in enumerate(F_goods):\n",
    "        data['d'][:, j, i] = d[comm_2_num[comm], comm_2_num[final], :]"
   ]
  },
  {
   "cell_type": "code",
   "execution_count": 22,
   "metadata": {},
   "outputs": [
    {
     "data": {
      "text/plain": [
       "array([[1., 1., 1., ..., 1., 1., 1.],\n",
       "       [1., 1., 1., ..., 1., 1., 1.],\n",
       "       [1., 1., 1., ..., 1., 1., 1.],\n",
       "       ...,\n",
       "       [1., 1., 1., ..., 1., 1., 1.],\n",
       "       [1., 1., 1., ..., 1., 1., 1.],\n",
       "       [1., 1., 1., ..., 1., 1., 1.]])"
      ]
     },
     "execution_count": 22,
     "metadata": {},
     "output_type": "execute_result"
    }
   ],
   "source": [
    "data['d'] = data['d']/data['d'].sum(axis=1).reshape((n, 1, g))\n",
    "data['d'].sum(axis=1)"
   ]
  },
  {
   "cell_type": "code",
   "execution_count": 23,
   "metadata": {},
   "outputs": [],
   "source": [
    "# Share of labor\n",
    "e_labor = load_obj(root.format('e_labor'))\n",
    "\n",
    "data['e_L'] = e_labor.reshape((n, 1))\n",
    "\n",
    "\n",
    "# Share of commodities\n",
    "e_comm = load_obj(root.format('e_comm'))\n",
    "data['e'] = np.zeros((n, g))\n",
    "\n",
    "for i, key in enumerate(C_goods):\n",
    "    data['e'][:, i] = e_comm[comm_2_num[key], :]\n"
   ]
  },
  {
   "cell_type": "code",
   "execution_count": 24,
   "metadata": {},
   "outputs": [],
   "source": [
    "data['e_L'] =( 1 - data['e'].sum(axis=1)).reshape((n, 1))"
   ]
  },
  {
   "cell_type": "code",
   "execution_count": 25,
   "metadata": {},
   "outputs": [],
   "source": [
    "# alpha\n",
    "alpha = load_obj(root.format('alpha'))\n",
    "data['alpha'] = np.zeros((n, k))\n",
    "\n",
    "for i, key in enumerate(F_goods):\n",
    "    data['alpha'][:, i] = alpha[comm_2_num[key], :]"
   ]
  },
  {
   "cell_type": "code",
   "execution_count": 26,
   "metadata": {},
   "outputs": [
    {
     "data": {
      "text/plain": [
       "(134, 29)"
      ]
     },
     "execution_count": 26,
     "metadata": {},
     "output_type": "execute_result"
    }
   ],
   "source": [
    "data['alpha'].shape"
   ]
  },
  {
   "cell_type": "code",
   "execution_count": 27,
   "metadata": {},
   "outputs": [],
   "source": [
    "# Doing this so that equation (15) works out\n",
    "data['alpha'] = data['alpha']/data['alpha'].sum(axis=1).reshape(134, 1)"
   ]
  },
  {
   "cell_type": "code",
   "execution_count": 28,
   "metadata": {},
   "outputs": [
    {
     "data": {
      "text/plain": [
       "(array([], dtype=int64), array([], dtype=int64), array([], dtype=int64))"
      ]
     },
     "execution_count": 28,
     "metadata": {},
     "output_type": "execute_result"
    }
   ],
   "source": [
    "idx_k"
   ]
  },
  {
   "cell_type": "code",
   "execution_count": 29,
   "metadata": {},
   "outputs": [
    {
     "data": {
      "text/plain": [
       "(array([], dtype=int64), array([], dtype=int64), array([], dtype=int64))"
      ]
     },
     "execution_count": 29,
     "metadata": {},
     "output_type": "execute_result"
    }
   ],
   "source": [
    "idx_g"
   ]
  },
  {
   "cell_type": "code",
   "execution_count": 30,
   "metadata": {},
   "outputs": [],
   "source": [
    "# phi\n",
    "phi_labor = load_obj(root.format('phi_labor'))\n",
    "phi_comm = load_obj(root.format('phi_comm'))\n",
    "phi_natlres = load_obj(root.format('phi_natlres')) # See if you need to integrate land\n",
    "\n",
    "\n",
    "data['phi_L_g'] = np.zeros((n, g))\n",
    "data['phi_L_k'] = np.zeros((n, k))\n",
    "\n",
    "data['phi_R'] = np.zeros((n, g))\n",
    "\n",
    "data['phi'] = np.zeros((n, k, g))\n",
    "\n",
    "for i, key in enumerate(C_goods):\n",
    "    data['phi_L_g'][:, i] = phi_labor[comm_2_num[key], :]\n",
    "    data['phi_R'][:, i] = phi_natlres[comm_2_num[key], :]\n",
    "    \n",
    "for i, key in enumerate(F_goods):    \n",
    "    data['phi_L_k'][:, i] = phi_labor[comm_2_num[key], :]\n",
    "    \n",
    "for i, comm in enumerate(C_goods):\n",
    "    for j, final in enumerate(F_goods):\n",
    "        data['phi'][:, j, i] = phi_comm[comm_2_num[comm], comm_2_num[final], :]"
   ]
  },
  {
   "cell_type": "code",
   "execution_count": 31,
   "metadata": {},
   "outputs": [
    {
     "data": {
      "text/plain": [
       "27"
      ]
     },
     "execution_count": 31,
     "metadata": {},
     "output_type": "execute_result"
    }
   ],
   "source": [
    "g"
   ]
  },
  {
   "cell_type": "code",
   "execution_count": 32,
   "metadata": {},
   "outputs": [
    {
     "data": {
      "image/png": "[encoded data removed]",
      "text/plain": [
       "<Figure size 432x288 with 1 Axes>"
      ]
     },
     "metadata": {},
     "output_type": "display_data"
    }
   ],
   "source": [
    "#data['phi'].shape\n",
    "import matplotlib.pyplot as plt\n",
    "plt.hist((data['phi_L_k'] + data['phi'].sum(axis=2)))\n",
    "plt.show()"
   ]
  },
  {
   "cell_type": "code",
   "execution_count": 33,
   "metadata": {},
   "outputs": [],
   "source": [
    "normalizer = (data['phi_L_k'] + data['phi'].sum(axis=2))\n",
    "data['phi'] = data['phi']/(normalizer.reshape(n, k, 1))\n",
    "data['phi_L_k'] = data['phi_L_k']/normalizer"
   ]
  },
  {
   "cell_type": "code",
   "execution_count": 34,
   "metadata": {},
   "outputs": [
    {
     "data": {
      "text/plain": [
       "array([[1., 1., 1., ..., 1., 1., 1.],\n",
       "       [1., 1., 1., ..., 1., 1., 1.],\n",
       "       [1., 1., 1., ..., 1., 1., 1.],\n",
       "       ...,\n",
       "       [1., 1., 1., ..., 1., 1., 1.],\n",
       "       [1., 1., 1., ..., 1., 1., 1.],\n",
       "       [1., 1., 1., ..., 1., 1., 1.]])"
      ]
     },
     "execution_count": 34,
     "metadata": {},
     "output_type": "execute_result"
    }
   ],
   "source": [
    "(data['phi_L_k'] + data['phi'].sum(axis=2))"
   ]
  },
  {
   "cell_type": "code",
   "execution_count": 35,
   "metadata": {},
   "outputs": [],
   "source": [
    "# Update based on notes:\n",
    "# data['phi'] = data['d']*data['D_g'].reshape((n, 1, g))/data['Y_k'].reshape((n, k, 1))\n",
    "\n",
    "# data['phi_L_k'] = 1 - data['phi'].sum(axis=2)\n",
    "\n",
    "#print(np.where(data['phi'] >1),'blah', np.where(data['phi_L_k'] <=0))\n"
   ]
  },
  {
   "cell_type": "code",
   "execution_count": 36,
   "metadata": {},
   "outputs": [
    {
     "data": {
      "text/plain": [
       "array([[0.44294515, 0.19006865, 0.26945997, ..., 0.17351325, 0.08717896,\n",
       "        0.20720717],\n",
       "       [0.18039509, 0.25823858, 0.26892866, ..., 0.18716175, 0.16726221,\n",
       "        0.14889207],\n",
       "       [0.23307219, 0.16677951, 0.19689275, ..., 0.19079225, 0.16455418,\n",
       "        0.1477375 ],\n",
       "       ...,\n",
       "       [0.16240087, 0.09625914, 0.14095484, ..., 0.12698475, 0.09198167,\n",
       "        0.12592377],\n",
       "       [0.05920727, 0.11396144, 0.21551473, ..., 0.13909438, 0.12510697,\n",
       "        0.12589002],\n",
       "       [0.23736425, 0.28123183, 0.25812743, ..., 0.09403206, 0.15563437,\n",
       "        0.13504728]])"
      ]
     },
     "execution_count": 36,
     "metadata": {},
     "output_type": "execute_result"
    }
   ],
   "source": [
    "data['phi_L_g']"
   ]
  },
  {
   "cell_type": "code",
   "execution_count": 37,
   "metadata": {},
   "outputs": [
    {
     "data": {
      "text/plain": [
       "array([], dtype=float64)"
      ]
     },
     "execution_count": 37,
     "metadata": {},
     "output_type": "execute_result"
    }
   ],
   "source": [
    "import matplotlib.pyplot as plt\n",
    "data['phi_R'] = 1 - data['phi_L_g']\n",
    "data['phi_R'][data['phi_R']<0]"
   ]
  },
  {
   "cell_type": "code",
   "execution_count": 38,
   "metadata": {},
   "outputs": [],
   "source": [
    "data['theta_k'] = np.ones((k, 1))*5.\n",
    "data['theta_g'] = np.ones((g, 1))*5.\n",
    "\n",
    "data['eta'] = np.ones((k, 1))*0.4\n",
    "data['rho_g'] = np.ones((g, 1))*0.4\n",
    "\n",
    "data['sigma'] = 0.4"
   ]
  },
  {
   "cell_type": "code",
   "execution_count": 39,
   "metadata": {},
   "outputs": [],
   "source": [
    "### Change non zero elements to zero ###"
   ]
  },
  {
   "cell_type": "code",
   "execution_count": 40,
   "metadata": {},
   "outputs": [
    {
     "name": "stdout",
     "output_type": "stream",
     "text": [
      "n\n",
      "g\n",
      "k\n",
      "E\n",
      "Y_g\n",
      "Y_k\n",
      "D_g_old\n",
      "D_k_old\n",
      "X_g\n",
      "X_k\n",
      "D_g\n",
      "D_k\n",
      "lambda_g\n",
      "lambda_k\n",
      "d\n",
      "e_L\n",
      "e\n",
      "alpha\n",
      "phi_L_g\n",
      "phi_L_k\n",
      "phi_R\n",
      "phi\n",
      "theta_k\n",
      "theta_g\n",
      "eta\n",
      "rho_g\n",
      "sigma\n"
     ]
    }
   ],
   "source": [
    "for i in data.keys():\n",
    "    print(i)\n",
    "    if i not in ['n', 'g','k','sigma']:\n",
    "        data[i][data[i]<0] = 0"
   ]
  },
  {
   "cell_type": "code",
   "execution_count": 54,
   "metadata": {},
   "outputs": [],
   "source": [
    "data['E_L'] = (data['phi_L_g']*data['Y_g']).sum(axis=1) + (data['phi_L_k']*data['Y_k']).sum(axis=1)"
   ]
  },
  {
   "cell_type": "code",
   "execution_count": 55,
   "metadata": {},
   "outputs": [],
   "source": [
    "loc = '/Users/'+username+'/Dropbox (MIT)/Data/Trade/general_equilibrium_gravity/final_data/data_20200219.pickle'\n",
    "save_obj(data, loc)"
   ]
  },
  {
   "cell_type": "code",
   "execution_count": null,
   "metadata": {},
   "outputs": [],
   "source": []
  }
 ],
 "metadata": {
  "kernelspec": {
   "display_name": "Python 3",
   "language": "python",
   "name": "python3"
  },
  "language_info": {
   "codemirror_mode": {
    "name": "ipython",
    "version": 3
   },
   "file_extension": ".py",
   "mimetype": "text/x-python",
   "name": "python",
   "nbconvert_exporter": "python",
   "pygments_lexer": "ipython3",
   "version": "3.6.3"
  }
 },
 "nbformat": 4,
 "nbformat_minor": 2
}
