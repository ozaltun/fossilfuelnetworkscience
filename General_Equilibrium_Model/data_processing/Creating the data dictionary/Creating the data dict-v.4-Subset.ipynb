{
 "cells": [
  {
   "cell_type": "code",
   "execution_count": 46,
   "metadata": {},
   "outputs": [],
   "source": [
    "import numpy as np\n",
    "import pandas as pd\n",
    "import pickle\n",
    "\n",
    "username='boraozaltun'\n",
    "def save_obj(obj, loc ):\n",
    "    with open(loc, 'wb') as f:\n",
    "        pickle.dump(obj, f, pickle.HIGHEST_PROTOCOL)\n",
    "\n",
    "def load_obj(loc):\n",
    "    with open(loc, 'rb') as f:\n",
    "        return pickle.load(f)\n",
    "\n",
    "def reverse_dict(my_map):\n",
    "    inv_map = {v: k for k, v in my_map.items()}\n",
    "    return inv_map\n",
    "\n",
    "reg_2_num = load_obj('/Users/'+username+'/Dropbox (MIT)/Data/Trade/general_equilibrium_gravity/GTAP/mapping/reg_2_num.pickle')\n",
    "\n",
    "comm_2_num = load_obj('/Users/'+username+'/Dropbox (MIT)/Data/Trade/general_equilibrium_gravity/GTAP/mapping/comm_2_num.pickle')\n",
    "\n",
    "prodcomm_2_num = load_obj('/Users/'+username+'/Dropbox (MIT)/Data/Trade/general_equilibrium_gravity/GTAP/mapping/prodcomm_2_num.pickle')\n",
    "nsavcomm_2_num = load_obj('/Users/'+username+'/Dropbox (MIT)/Data/Trade/general_equilibrium_gravity/GTAP/mapping/nsavcomm_2_num.pickle')\n",
    "demdcomm_2_num = load_obj('/Users/'+username+'/Dropbox (MIT)/Data/Trade/general_equilibrium_gravity/GTAP/mapping/demdcomm_2_num.pickle')\n"
   ]
  },
  {
   "cell_type": "code",
   "execution_count": 47,
   "metadata": {},
   "outputs": [],
   "source": [
    "root = '/Users/'+username+'/Dropbox (MIT)/Data/Trade/general_equilibrium_gravity/GTAP/matrices/{}.pickle'\n",
    "\n"
   ]
  },
  {
   "cell_type": "code",
   "execution_count": 48,
   "metadata": {},
   "outputs": [],
   "source": [
    "C_goods = ['farm', 'food', 'coa', 'oil','gas', 'oxd']\n",
    "\n",
    "F_goods = ['man','bus','oxd','trans','util']"
   ]
  },
  {
   "cell_type": "code",
   "execution_count": 49,
   "metadata": {},
   "outputs": [],
   "source": [
    "data = {}\n",
    "n = 134\n",
    "g = len(C_goods)\n",
    "k = len(F_goods)\n",
    "\n",
    "data['n'] = n\n",
    "data['g'] = g\n",
    "data['k'] = k"
   ]
  },
  {
   "cell_type": "code",
   "execution_count": 50,
   "metadata": {},
   "outputs": [],
   "source": [
    "root_to_map = '/Users/'+username+'/Dropbox (MIT)/Data/Trade/general_equilibrium_gravity/final_data/56_to_11.xlsx'\n",
    "data_map = pd.read_excel(root_to_map)\n",
    "\n",
    "list_56 = data_map['56-sector'].tolist()\n",
    "list_11 = data_map['11-sector'].tolist()\n",
    "compress_dict = {}\n",
    "\n",
    "for i, item in enumerate(list_11): \n",
    "    if item not in compress_dict:\n",
    "        compress_dict[item] = [comm_2_num[list_56[i]]]\n",
    "    else:\n",
    "        compress_dict[item].append(comm_2_num[list_56[i]])"
   ]
  },
  {
   "cell_type": "code",
   "execution_count": 51,
   "metadata": {},
   "outputs": [
    {
     "data": {
      "text/plain": [
       "{'bus': [46, 50, 51, 52, 53, 54],\n",
       " 'coa': [14],\n",
       " 'farm': [6, 7, 8, 9, 11, 12],\n",
       " 'food': [0, 1, 2, 3, 4, 5, 10, 13, 18, 19, 20, 21, 22, 23, 24],\n",
       " 'gas': [16],\n",
       " 'man': [25,\n",
       "  26,\n",
       "  27,\n",
       "  28,\n",
       "  29,\n",
       "  30,\n",
       "  31,\n",
       "  32,\n",
       "  33,\n",
       "  34,\n",
       "  35,\n",
       "  36,\n",
       "  37,\n",
       "  38,\n",
       "  39,\n",
       "  40,\n",
       "  41,\n",
       "  45],\n",
       " 'oil': [15],\n",
       " 'osg': [55],\n",
       " 'oxd': [17],\n",
       " 'trans': [47, 48, 49],\n",
       " 'util': [42, 43, 44]}"
      ]
     },
     "execution_count": 51,
     "metadata": {},
     "output_type": "execute_result"
    }
   ],
   "source": [
    "compress_dict"
   ]
  },
  {
   "cell_type": "code",
   "execution_count": 52,
   "metadata": {},
   "outputs": [],
   "source": [
    "# Lets get the easy one out of the way\n",
    "data['E'] = load_obj(root.format('E')).reshape((n, 1))"
   ]
  },
  {
   "cell_type": "code",
   "execution_count": 53,
   "metadata": {},
   "outputs": [],
   "source": [
    "# Now production:\n",
    "Y = load_obj(root.format('Y_v2'))\n",
    "data['Y_g'] = np.zeros((n, g))\n",
    "data['Y_k'] = np.zeros((n, k))\n",
    "\n",
    "\n",
    "for i, key in enumerate(C_goods):\n",
    "    data['Y_g'][:, i] = Y[compress_dict[key], :].sum(axis=0)\n",
    "\n",
    "\n",
    "for i, key in enumerate(F_goods):\n",
    "    data['Y_k'][:, i] = Y[compress_dict[key], :].sum(axis=0)"
   ]
  },
  {
   "cell_type": "code",
   "execution_count": 54,
   "metadata": {},
   "outputs": [
    {
     "data": {
      "text/plain": [
       "(134, 6)"
      ]
     },
     "execution_count": 54,
     "metadata": {},
     "output_type": "execute_result"
    }
   ],
   "source": [
    "data['Y_g'].shape"
   ]
  },
  {
   "cell_type": "code",
   "execution_count": 55,
   "metadata": {},
   "outputs": [],
   "source": [
    "# Now demand:\n",
    "D = load_obj(root.format('D'))\n",
    "data['D_g_old'] = np.zeros((n, g))\n",
    "data['D_k_old'] = np.zeros((n, k))\n",
    "\n",
    "\n",
    "for i, key in enumerate(C_goods):\n",
    "    data['D_g_old'][:, i] = D[compress_dict[key], :].sum(axis=0)\n",
    "\n",
    "\n",
    "for i, key in enumerate(F_goods):\n",
    "    data['D_k_old'][:, i] = D[compress_dict[key], :].sum(axis=0)"
   ]
  },
  {
   "cell_type": "code",
   "execution_count": 56,
   "metadata": {},
   "outputs": [],
   "source": [
    "# Now trade\n",
    "X = load_obj(root.format('X_v2'))\n",
    "\n",
    "data['X_g'] = np.zeros((n, n, g))\n",
    "data['X_k'] = np.zeros((n, n, k))\n",
    "\n",
    "\n",
    "for i, key in enumerate(C_goods):\n",
    "    data['X_g'][:, :, i] = X[compress_dict[key], :, :].sum(axis=0).T\n",
    "\n",
    "for i, key in enumerate(F_goods):\n",
    "    data['X_k'][:, :, i] = X[compress_dict[key], :, :].sum(axis=0).T"
   ]
  },
  {
   "cell_type": "code",
   "execution_count": 57,
   "metadata": {},
   "outputs": [
    {
     "name": "stdout",
     "output_type": "stream",
     "text": [
      "(array([], dtype=int64), array([], dtype=int64), array([], dtype=int64))\n"
     ]
    }
   ],
   "source": [
    "# Adjust local consumption\n",
    "for i in range(n):\n",
    "    temp = np.zeros(g)\n",
    "    for j in range(n):\n",
    "        if i != j:\n",
    "            temp += data['X_g'][j, i, :]\n",
    "        \n",
    "    data['X_g'][i, i, :] = data['Y_g'][i,:] - temp\n",
    "\n",
    "# Re-adjust with demand figures\n",
    "idx_g = np.where(data['X_g'] < 0)\n",
    "print(idx_g)"
   ]
  },
  {
   "cell_type": "code",
   "execution_count": 58,
   "metadata": {},
   "outputs": [],
   "source": [
    "# data['X_g'][idx_g] = data['D_g_old'][idx_g[1:]]\n",
    "\n",
    "# # Now go back \n",
    "# for i in range(idx_g[0].shape[0]):\n",
    "#     print(idx_g[1][i], idx_g[2][i])\n",
    "#     data['Y_g'][idx_g[1][i], idx_g[2][i]] += data['X_g'][:, idx_g[1][i], idx_g[2][i]].sum()"
   ]
  },
  {
   "cell_type": "code",
   "execution_count": 59,
   "metadata": {},
   "outputs": [],
   "source": [
    "#data['X'][data['X']<0]"
   ]
  },
  {
   "cell_type": "code",
   "execution_count": 60,
   "metadata": {},
   "outputs": [
    {
     "name": "stdout",
     "output_type": "stream",
     "text": [
      "(array([], dtype=int64), array([], dtype=int64), array([], dtype=int64))\n"
     ]
    }
   ],
   "source": [
    "for i in range(n):\n",
    "    temp = np.zeros(k)\n",
    "    for j in range(n):\n",
    "        if i != j:\n",
    "            temp += data['X_k'][j, i, :]\n",
    "        \n",
    "    data['X_k'][i, i, :] = data['Y_k'][i,:] - temp\n",
    "\n",
    "idx_k = np.where(data['X_k'] < 0)\n",
    "print(idx_k)"
   ]
  },
  {
   "cell_type": "code",
   "execution_count": 61,
   "metadata": {},
   "outputs": [],
   "source": [
    "data['D_g'] = data['X_g'].sum(axis=1)\n",
    "data['D_k'] = data['X_k'].sum(axis=1)"
   ]
  },
  {
   "cell_type": "code",
   "execution_count": 62,
   "metadata": {},
   "outputs": [
    {
     "name": "stdout",
     "output_type": "stream",
     "text": [
      "2.9802322387695312e-08\n",
      "1.862645149230957e-09\n"
     ]
    }
   ],
   "source": [
    "## Supply == Demand\n",
    "\n",
    "print(data['Y_k'].sum(axis=1).sum(axis=0) - data['D_k'].sum(axis=0).sum())\n",
    "print(data['Y_g'].sum(axis=1).sum(axis=0) - data['D_g'].sum(axis=0).sum())"
   ]
  },
  {
   "cell_type": "code",
   "execution_count": 63,
   "metadata": {},
   "outputs": [
    {
     "name": "stdout",
     "output_type": "stream",
     "text": [
      "(array([], dtype=int64), array([], dtype=int64))\n",
      "(array([], dtype=int64), array([], dtype=int64))\n"
     ]
    }
   ],
   "source": [
    "# Nice !\n",
    "print(np.where((data['X_g']/data['Y_g'].reshape((1, n, g))).sum(axis=0)<.9)) # Some values below 1\n",
    "print(np.where((data['X_k']/data['Y_k'].reshape((1, n, k))).sum(axis=0)<.9))\n",
    "\n",
    "\n",
    "data['lambda_2_g'] = data['X_g']/data['Y_g'].reshape((1, n, g))\n",
    "data['lambda_2_k'] = data['X_k']/data['Y_k'].reshape((1, n, k))"
   ]
  },
  {
   "cell_type": "code",
   "execution_count": 64,
   "metadata": {},
   "outputs": [],
   "source": [
    "data['lambda_2_k'] = data['lambda_2_k'] /data['lambda_2_k'].sum(axis=0).reshape((1, n, k))\n",
    "data['lambda_2_g'] = data['lambda_2_g'] /data['lambda_2_g'].sum(axis=0).reshape((1, n, g))"
   ]
  },
  {
   "cell_type": "code",
   "execution_count": 65,
   "metadata": {},
   "outputs": [],
   "source": [
    "# Trade fraction\n",
    "data['lambda_g'] = data['X_g']/data['D_g'].reshape((n, 1, g))\n",
    "data['lambda_k'] = data['X_k']/data['D_k'].reshape((n, 1, k))"
   ]
  },
  {
   "cell_type": "code",
   "execution_count": 66,
   "metadata": {},
   "outputs": [],
   "source": [
    "data['lambda_k'] = data['lambda_k'] /data['lambda_k'].sum(axis=1).reshape((n, 1, k))"
   ]
  },
  {
   "cell_type": "code",
   "execution_count": 67,
   "metadata": {},
   "outputs": [],
   "source": [
    "data['lambda_g'] = data['lambda_g'] /data['lambda_g'].sum(axis=1).reshape((n, 1, g))"
   ]
  },
  {
   "cell_type": "code",
   "execution_count": 68,
   "metadata": {},
   "outputs": [],
   "source": [
    "# Now interlinkage\n",
    "d = np.around(load_obj(root.format('d_l')), decimals=6)\n",
    "\n",
    "data['d'] = np.zeros((n, k, g))\n",
    "\n",
    "for i, comm in enumerate(C_goods):\n",
    "    for j, final in enumerate(F_goods):\n",
    "        data['d'][:, j, i] =  d[compress_dict[comm], :, :].sum(axis=0)[compress_dict[final], :].sum(axis=0)"
   ]
  },
  {
   "cell_type": "code",
   "execution_count": 69,
   "metadata": {},
   "outputs": [
    {
     "data": {
      "text/plain": [
       "(array([], dtype=int64), array([], dtype=int64))"
      ]
     },
     "execution_count": 69,
     "metadata": {},
     "output_type": "execute_result"
    }
   ],
   "source": [
    "np.where(data['d'].sum(axis=1) == 0)"
   ]
  },
  {
   "cell_type": "code",
   "execution_count": 70,
   "metadata": {},
   "outputs": [
    {
     "data": {
      "text/plain": [
       "array([[1., 1., 1., 1., 1., 1.],\n",
       "       [1., 1., 1., 1., 1., 1.],\n",
       "       [1., 1., 1., 1., 1., 1.],\n",
       "       [1., 1., 1., 1., 1., 1.],\n",
       "       [1., 1., 1., 1., 1., 1.],\n",
       "       [1., 1., 1., 1., 1., 1.],\n",
       "       [1., 1., 1., 1., 1., 1.],\n",
       "       [1., 1., 1., 1., 1., 1.],\n",
       "       [1., 1., 1., 1., 1., 1.],\n",
       "       [1., 1., 1., 1., 1., 1.],\n",
       "       [1., 1., 1., 1., 1., 1.],\n",
       "       [1., 1., 1., 1., 1., 1.],\n",
       "       [1., 1., 1., 1., 1., 1.],\n",
       "       [1., 1., 1., 1., 1., 1.],\n",
       "       [1., 1., 1., 1., 1., 1.],\n",
       "       [1., 1., 1., 1., 1., 1.],\n",
       "       [1., 1., 1., 1., 1., 1.],\n",
       "       [1., 1., 1., 1., 1., 1.],\n",
       "       [1., 1., 1., 1., 1., 1.],\n",
       "       [1., 1., 1., 1., 1., 1.],\n",
       "       [1., 1., 1., 1., 1., 1.],\n",
       "       [1., 1., 1., 1., 1., 1.],\n",
       "       [1., 1., 1., 1., 1., 1.],\n",
       "       [1., 1., 1., 1., 1., 1.],\n",
       "       [1., 1., 1., 1., 1., 1.],\n",
       "       [1., 1., 1., 1., 1., 1.],\n",
       "       [1., 1., 1., 1., 1., 1.],\n",
       "       [1., 1., 1., 1., 1., 1.],\n",
       "       [1., 1., 1., 1., 1., 1.],\n",
       "       [1., 1., 1., 1., 1., 1.],\n",
       "       [1., 1., 1., 1., 1., 1.],\n",
       "       [1., 1., 1., 1., 1., 1.],\n",
       "       [1., 1., 1., 1., 1., 1.],\n",
       "       [1., 1., 1., 1., 1., 1.],\n",
       "       [1., 1., 1., 1., 1., 1.],\n",
       "       [1., 1., 1., 1., 1., 1.],\n",
       "       [1., 1., 1., 1., 1., 1.],\n",
       "       [1., 1., 1., 1., 1., 1.],\n",
       "       [1., 1., 1., 1., 1., 1.],\n",
       "       [1., 1., 1., 1., 1., 1.],\n",
       "       [1., 1., 1., 1., 1., 1.],\n",
       "       [1., 1., 1., 1., 1., 1.],\n",
       "       [1., 1., 1., 1., 1., 1.],\n",
       "       [1., 1., 1., 1., 1., 1.],\n",
       "       [1., 1., 1., 1., 1., 1.],\n",
       "       [1., 1., 1., 1., 1., 1.],\n",
       "       [1., 1., 1., 1., 1., 1.],\n",
       "       [1., 1., 1., 1., 1., 1.],\n",
       "       [1., 1., 1., 1., 1., 1.],\n",
       "       [1., 1., 1., 1., 1., 1.],\n",
       "       [1., 1., 1., 1., 1., 1.],\n",
       "       [1., 1., 1., 1., 1., 1.],\n",
       "       [1., 1., 1., 1., 1., 1.],\n",
       "       [1., 1., 1., 1., 1., 1.],\n",
       "       [1., 1., 1., 1., 1., 1.],\n",
       "       [1., 1., 1., 1., 1., 1.],\n",
       "       [1., 1., 1., 1., 1., 1.],\n",
       "       [1., 1., 1., 1., 1., 1.],\n",
       "       [1., 1., 1., 1., 1., 1.],\n",
       "       [1., 1., 1., 1., 1., 1.],\n",
       "       [1., 1., 1., 1., 1., 1.],\n",
       "       [1., 1., 1., 1., 1., 1.],\n",
       "       [1., 1., 1., 1., 1., 1.],\n",
       "       [1., 1., 1., 1., 1., 1.],\n",
       "       [1., 1., 1., 1., 1., 1.],\n",
       "       [1., 1., 1., 1., 1., 1.],\n",
       "       [1., 1., 1., 1., 1., 1.],\n",
       "       [1., 1., 1., 1., 1., 1.],\n",
       "       [1., 1., 1., 1., 1., 1.],\n",
       "       [1., 1., 1., 1., 1., 1.],\n",
       "       [1., 1., 1., 1., 1., 1.],\n",
       "       [1., 1., 1., 1., 1., 1.],\n",
       "       [1., 1., 1., 1., 1., 1.],\n",
       "       [1., 1., 1., 1., 1., 1.],\n",
       "       [1., 1., 1., 1., 1., 1.],\n",
       "       [1., 1., 1., 1., 1., 1.],\n",
       "       [1., 1., 1., 1., 1., 1.],\n",
       "       [1., 1., 1., 1., 1., 1.],\n",
       "       [1., 1., 1., 1., 1., 1.],\n",
       "       [1., 1., 1., 1., 1., 1.],\n",
       "       [1., 1., 1., 1., 1., 1.],\n",
       "       [1., 1., 1., 1., 1., 1.],\n",
       "       [1., 1., 1., 1., 1., 1.],\n",
       "       [1., 1., 1., 1., 1., 1.],\n",
       "       [1., 1., 1., 1., 1., 1.],\n",
       "       [1., 1., 1., 1., 1., 1.],\n",
       "       [1., 1., 1., 1., 1., 1.],\n",
       "       [1., 1., 1., 1., 1., 1.],\n",
       "       [1., 1., 1., 1., 1., 1.],\n",
       "       [1., 1., 1., 1., 1., 1.],\n",
       "       [1., 1., 1., 1., 1., 1.],\n",
       "       [1., 1., 1., 1., 1., 1.],\n",
       "       [1., 1., 1., 1., 1., 1.],\n",
       "       [1., 1., 1., 1., 1., 1.],\n",
       "       [1., 1., 1., 1., 1., 1.],\n",
       "       [1., 1., 1., 1., 1., 1.],\n",
       "       [1., 1., 1., 1., 1., 1.],\n",
       "       [1., 1., 1., 1., 1., 1.],\n",
       "       [1., 1., 1., 1., 1., 1.],\n",
       "       [1., 1., 1., 1., 1., 1.],\n",
       "       [1., 1., 1., 1., 1., 1.],\n",
       "       [1., 1., 1., 1., 1., 1.],\n",
       "       [1., 1., 1., 1., 1., 1.],\n",
       "       [1., 1., 1., 1., 1., 1.],\n",
       "       [1., 1., 1., 1., 1., 1.],\n",
       "       [1., 1., 1., 1., 1., 1.],\n",
       "       [1., 1., 1., 1., 1., 1.],\n",
       "       [1., 1., 1., 1., 1., 1.],\n",
       "       [1., 1., 1., 1., 1., 1.],\n",
       "       [1., 1., 1., 1., 1., 1.],\n",
       "       [1., 1., 1., 1., 1., 1.],\n",
       "       [1., 1., 1., 1., 1., 1.],\n",
       "       [1., 1., 1., 1., 1., 1.],\n",
       "       [1., 1., 1., 1., 1., 1.],\n",
       "       [1., 1., 1., 1., 1., 1.],\n",
       "       [1., 1., 1., 1., 1., 1.],\n",
       "       [1., 1., 1., 1., 1., 1.],\n",
       "       [1., 1., 1., 1., 1., 1.],\n",
       "       [1., 1., 1., 1., 1., 1.],\n",
       "       [1., 1., 1., 1., 1., 1.],\n",
       "       [1., 1., 1., 1., 1., 1.],\n",
       "       [1., 1., 1., 1., 1., 1.],\n",
       "       [1., 1., 1., 1., 1., 1.],\n",
       "       [1., 1., 1., 1., 1., 1.],\n",
       "       [1., 1., 1., 1., 1., 1.],\n",
       "       [1., 1., 1., 1., 1., 1.],\n",
       "       [1., 1., 1., 1., 1., 1.],\n",
       "       [1., 1., 1., 1., 1., 1.],\n",
       "       [1., 1., 1., 1., 1., 1.],\n",
       "       [1., 1., 1., 1., 1., 1.],\n",
       "       [1., 1., 1., 1., 1., 1.],\n",
       "       [1., 1., 1., 1., 1., 1.],\n",
       "       [1., 1., 1., 1., 1., 1.],\n",
       "       [1., 1., 1., 1., 1., 1.]])"
      ]
     },
     "execution_count": 70,
     "metadata": {},
     "output_type": "execute_result"
    }
   ],
   "source": [
    "data['d'] = data['d']/data['d'].sum(axis=1).reshape((n, 1, g))\n",
    "data['d'].sum(axis=1)"
   ]
  },
  {
   "cell_type": "code",
   "execution_count": 73,
   "metadata": {},
   "outputs": [
    {
     "data": {
      "text/plain": [
       "(array([  1,   1,   1,   1,   1,   5,   5,   5,   5,   5,   5,   6,   6,\n",
       "          6,   6,   6,   8,   8,   8,   8,   8,   8,   8,   8,   9,   9,\n",
       "          9,   9,  11,  11,  11,  11,  11,  11,  11,  12,  12,  12,  12,\n",
       "         12,  13,  13,  13,  13,  13,  13,  13,  14,  14,  14,  14,  14,\n",
       "         15,  15,  15,  15,  15,  15,  16,  16,  16,  16,  16,  16,  17,\n",
       "         18,  18,  18,  18,  19,  19,  19,  19,  19,  20,  20,  20,  21,\n",
       "         21,  21,  21,  21,  21,  21,  21,  21,  22,  22,  22,  22,  22,\n",
       "         23,  23,  23,  23,  23,  23,  23,  23,  24,  24,  24,  24,  24,\n",
       "         24,  24,  26,  26,  27,  27,  27,  27,  27,  27,  27,  27,  27,\n",
       "         29,  29,  29,  29,  29,  29,  30,  30,  30,  30,  31,  31,  33,\n",
       "         33,  34,  34,  34,  34,  34,  34,  35,  35,  35,  35,  37,  37,\n",
       "         37,  37,  37,  37,  38,  38,  38,  40,  40,  40,  40,  41,  41,\n",
       "         41,  41,  41,  41,  41,  41,  41,  41,  42,  42,  43,  43,  43,\n",
       "         43,  43,  43,  43,  44,  44,  45,  45,  45,  45,  48,  49,  49,\n",
       "         49,  50,  50,  50,  52,  52,  52,  52,  53,  54,  54,  57,  57,\n",
       "         57,  57,  57,  57,  57,  58,  59,  59,  59,  59,  60,  60,  60,\n",
       "         62,  65,  66,  66,  66,  66,  67,  67,  67,  67,  68,  70,  71,\n",
       "         71,  72,  72,  73,  74,  76,  76,  76,  76,  79,  79,  79,  79,\n",
       "         80,  80,  86,  88,  88,  89,  89,  89,  89,  90,  90,  90,  90,\n",
       "         91,  91,  91,  91,  92,  92,  92,  92,  93,  93,  93,  93,  93,\n",
       "         93,  94,  94,  94,  94,  95,  95,  95,  95,  96,  96,  96,  96,\n",
       "         96,  96,  97,  97,  97,  97,  97,  98,  99,  99, 100, 100, 101,\n",
       "        101, 101, 101, 101, 101, 101, 102, 102, 102, 102, 102, 103, 105,\n",
       "        106, 106, 106, 106, 106, 107, 107, 107, 107, 107, 107, 107, 107,\n",
       "        108, 108, 109, 109, 109, 109, 110, 110, 110, 110, 111, 111, 111,\n",
       "        111, 111, 111, 112, 112, 112, 112, 112, 112, 112, 112, 112, 113,\n",
       "        113, 115, 115, 115, 116, 116, 116, 116, 116, 116, 117, 117, 117,\n",
       "        117, 117, 118, 118, 118, 118, 118, 118, 118, 119, 119, 120, 120,\n",
       "        120, 120, 120, 121, 121, 121, 121, 122, 122, 123, 123, 123, 124,\n",
       "        124, 124, 125, 125, 125, 125, 126, 126, 126, 126, 126, 126, 128,\n",
       "        128, 129, 129, 130, 130, 131, 131, 131, 132, 132, 133]),\n",
       " array([1, 2, 2, 3, 4, 1, 2, 2, 3, 3, 4, 1, 2, 3, 3, 3, 1, 1, 2, 2, 3, 3,\n",
       "        4, 4, 2, 2, 3, 3, 1, 1, 3, 3, 4, 4, 4, 1, 2, 2, 3, 3, 2, 2, 2, 2,\n",
       "        3, 3, 4, 2, 2, 3, 3, 4, 1, 2, 2, 2, 3, 4, 1, 1, 2, 2, 3, 3, 3, 2,\n",
       "        3, 3, 4, 1, 2, 2, 3, 4, 2, 3, 3, 2, 2, 2, 3, 3, 3, 4, 4, 4, 1, 2,\n",
       "        2, 3, 3, 1, 1, 2, 2, 3, 3, 4, 4, 1, 2, 2, 2, 3, 3, 3, 2, 2, 1, 1,\n",
       "        1, 2, 2, 3, 3, 4, 4, 1, 2, 2, 2, 4, 4, 2, 3, 3, 4, 3, 3, 2, 3, 2,\n",
       "        2, 2, 3, 3, 3, 2, 2, 3, 4, 1, 2, 2, 2, 3, 4, 2, 3, 4, 2, 2, 3, 4,\n",
       "        2, 2, 2, 2, 3, 3, 3, 3, 3, 3, 3, 4, 1, 2, 3, 3, 4, 4, 4, 2, 2, 1,\n",
       "        2, 3, 3, 2, 1, 3, 4, 2, 2, 3, 1, 2, 3, 3, 2, 2, 3, 1, 2, 3, 3, 3,\n",
       "        3, 3, 2, 1, 2, 3, 4, 2, 3, 3, 2, 3, 1, 2, 3, 4, 2, 2, 3, 3, 2, 2,\n",
       "        2, 3, 2, 2, 2, 4, 1, 2, 3, 4, 2, 2, 2, 3, 2, 2, 2, 1, 3, 1, 2, 2,\n",
       "        3, 1, 2, 2, 3, 1, 1, 3, 3, 1, 2, 3, 3, 1, 1, 1, 2, 3, 3, 1, 2, 3,\n",
       "        3, 1, 1, 3, 3, 1, 1, 1, 3, 3, 3, 1, 1, 3, 3, 3, 2, 1, 3, 2, 3, 1,\n",
       "        2, 2, 2, 3, 4, 4, 1, 3, 3, 4, 4, 4, 2, 2, 2, 3, 3, 4, 1, 2, 2, 2,\n",
       "        2, 2, 3, 4, 2, 3, 1, 2, 3, 4, 1, 3, 3, 4, 1, 2, 2, 2, 3, 3, 1, 1,\n",
       "        2, 2, 3, 3, 3, 4, 4, 3, 4, 2, 3, 3, 1, 2, 3, 3, 3, 4, 2, 2, 3, 4,\n",
       "        4, 1, 1, 2, 2, 3, 3, 4, 3, 3, 2, 2, 2, 2, 3, 2, 2, 3, 3, 2, 3, 2,\n",
       "        3, 3, 3, 3, 4, 2, 3, 3, 3, 1, 2, 3, 3, 4, 4, 3, 4, 2, 4, 1, 3, 2,\n",
       "        3, 4, 3, 3, 2]),\n",
       " array([3, 0, 3, 3, 3, 3, 1, 3, 3, 5, 5, 3, 3, 2, 3, 5, 2, 3, 3, 4, 3, 5,\n",
       "        3, 5, 3, 4, 3, 4, 3, 4, 3, 5, 0, 1, 3, 3, 0, 3, 2, 3, 0, 1, 2, 3,\n",
       "        2, 3, 3, 2, 3, 2, 3, 5, 3, 0, 1, 3, 3, 3, 3, 4, 1, 3, 2, 3, 4, 3,\n",
       "        2, 3, 3, 2, 2, 3, 2, 0, 3, 3, 5, 0, 1, 4, 0, 2, 5, 0, 1, 5, 3, 2,\n",
       "        3, 2, 3, 2, 3, 2, 3, 3, 5, 3, 5, 3, 0, 3, 4, 2, 3, 4, 3, 4, 2, 3,\n",
       "        4, 2, 3, 2, 3, 3, 5, 3, 1, 3, 4, 0, 1, 3, 3, 5, 5, 2, 3, 3, 3, 1,\n",
       "        3, 4, 3, 4, 5, 0, 1, 5, 0, 3, 0, 1, 3, 3, 3, 3, 3, 5, 1, 3, 3, 3,\n",
       "        0, 1, 3, 4, 0, 1, 2, 3, 4, 5, 2, 0, 3, 3, 1, 3, 0, 1, 3, 0, 4, 3,\n",
       "        1, 3, 4, 3, 3, 3, 3, 2, 4, 2, 3, 3, 2, 3, 2, 3, 3, 3, 3, 0, 1, 2,\n",
       "        3, 5, 3, 3, 3, 3, 3, 3, 2, 3, 3, 3, 3, 3, 3, 3, 2, 3, 2, 3, 3, 3,\n",
       "        3, 3, 3, 4, 3, 3, 3, 3, 3, 3, 0, 1, 2, 3, 3, 4, 4, 2, 5, 3, 3, 4,\n",
       "        3, 3, 0, 3, 0, 3, 5, 3, 5, 3, 3, 2, 3, 2, 3, 4, 3, 2, 3, 3, 3, 3,\n",
       "        5, 3, 5, 4, 5, 3, 4, 5, 3, 4, 5, 3, 5, 3, 4, 5, 3, 3, 5, 3, 3, 2,\n",
       "        1, 2, 3, 2, 1, 5, 3, 2, 3, 3, 5, 1, 0, 0, 1, 1, 5, 1, 4, 0, 1, 3,\n",
       "        4, 5, 3, 3, 3, 3, 3, 3, 3, 4, 4, 2, 3, 0, 3, 0, 1, 3, 3, 4, 2, 3,\n",
       "        1, 2, 2, 3, 5, 3, 5, 5, 5, 3, 2, 3, 3, 3, 2, 3, 4, 3, 0, 1, 0, 0,\n",
       "        1, 2, 3, 2, 3, 2, 3, 3, 2, 5, 0, 1, 3, 5, 2, 0, 3, 2, 3, 1, 5, 3,\n",
       "        2, 3, 2, 5, 5, 3, 2, 3, 4, 3, 3, 1, 3, 1, 3, 3, 1, 4, 5, 2, 2, 3,\n",
       "        3, 3, 2, 3, 3]))"
      ]
     },
     "execution_count": 73,
     "metadata": {},
     "output_type": "execute_result"
    }
   ],
   "source": [
    "np.where(data['d'] == 0)"
   ]
  },
  {
   "cell_type": "code",
   "execution_count": 26,
   "metadata": {},
   "outputs": [],
   "source": [
    "# Share of labor\n",
    "e_labor = load_obj(root.format('e_labor'))\n",
    "\n",
    "data['e_L'] = e_labor.reshape((n, 1))\n",
    "\n",
    "\n",
    "# Share of commodities\n",
    "e_comm = load_obj(root.format('e_comm'))\n",
    "data['e'] = np.zeros((n, g))\n",
    "\n",
    "for i, key in enumerate(C_goods):\n",
    "    data['e'][:, i] = e_comm[compress_dict[key], :].sum(axis=0)\n"
   ]
  },
  {
   "cell_type": "code",
   "execution_count": 27,
   "metadata": {},
   "outputs": [],
   "source": [
    "data['e_L'] =( 1 - data['e'].sum(axis=1)).reshape((n, 1))"
   ]
  },
  {
   "cell_type": "code",
   "execution_count": 28,
   "metadata": {},
   "outputs": [],
   "source": [
    "# alpha\n",
    "alpha = load_obj(root.format('alpha'))\n",
    "data['alpha'] = np.zeros((n, k))\n",
    "\n",
    "for i, key in enumerate(F_goods):\n",
    "    data['alpha'][:, i] = alpha[compress_dict[key], :].sum(axis=0)"
   ]
  },
  {
   "cell_type": "code",
   "execution_count": 29,
   "metadata": {},
   "outputs": [
    {
     "data": {
      "text/plain": [
       "(134, 5)"
      ]
     },
     "execution_count": 29,
     "metadata": {},
     "output_type": "execute_result"
    }
   ],
   "source": [
    "data['alpha'].shape"
   ]
  },
  {
   "cell_type": "code",
   "execution_count": 30,
   "metadata": {},
   "outputs": [],
   "source": [
    "# Doing this so that equation (15) works out\n",
    "data['alpha'] = data['alpha']/data['alpha'].sum(axis=1).reshape(n, 1)"
   ]
  },
  {
   "cell_type": "code",
   "execution_count": 31,
   "metadata": {},
   "outputs": [
    {
     "data": {
      "text/plain": [
       "(array([], dtype=int64), array([], dtype=int64), array([], dtype=int64))"
      ]
     },
     "execution_count": 31,
     "metadata": {},
     "output_type": "execute_result"
    }
   ],
   "source": [
    "idx_k"
   ]
  },
  {
   "cell_type": "code",
   "execution_count": 32,
   "metadata": {},
   "outputs": [
    {
     "data": {
      "text/plain": [
       "(array([], dtype=int64), array([], dtype=int64), array([], dtype=int64))"
      ]
     },
     "execution_count": 32,
     "metadata": {},
     "output_type": "execute_result"
    }
   ],
   "source": [
    "idx_g"
   ]
  },
  {
   "cell_type": "code",
   "execution_count": 33,
   "metadata": {},
   "outputs": [],
   "source": [
    "# phi\n",
    "phi_labor = load_obj(root.format('phi_labor'))\n",
    "phi_comm = load_obj(root.format('phi_comm'))\n",
    "phi_natlres = load_obj(root.format('phi_natlres')) # See if you need to integrate land\n",
    "phi_land = load_obj(root.format('phi_land'))\n",
    "\n",
    "data['phi_L_g'] = np.zeros((n, g))\n",
    "data['phi_L_k'] = np.zeros((n, k))\n",
    "\n",
    "data['phi_R'] = np.zeros((n, g))\n",
    "\n",
    "data['phi'] = np.zeros((n, k, g))\n",
    "\n",
    "for i, key in enumerate(C_goods):\n",
    "    data['phi_L_g'][:, i] = phi_labor[compress_dict[key], :].sum(axis=0)\n",
    "    data['phi_R'][:, i] = phi_natlres[compress_dict[key], :].sum(axis=0) + phi_land[compress_dict[key], :].sum(axis=0)\n",
    "    \n",
    "for i, key in enumerate(F_goods):    \n",
    "    data['phi_L_k'][:, i] = phi_labor[compress_dict[key], :].sum(axis=0)\n",
    "    \n",
    "for i, comm in enumerate(C_goods):\n",
    "    for j, final in enumerate(F_goods):\n",
    "        data['phi'][:, j, i] = phi_comm[compress_dict[comm],:,:].sum(axis=0)[compress_dict[final], :].sum(axis=0)\n",
    "        "
   ]
  },
  {
   "cell_type": "code",
   "execution_count": 34,
   "metadata": {},
   "outputs": [
    {
     "data": {
      "text/plain": [
       "(array([], dtype=int64), array([], dtype=int64))"
      ]
     },
     "execution_count": 34,
     "metadata": {},
     "output_type": "execute_result"
    }
   ],
   "source": [
    "np.where(data['phi'].sum(axis=2) == 0)"
   ]
  },
  {
   "cell_type": "code",
   "execution_count": 35,
   "metadata": {},
   "outputs": [
    {
     "data": {
      "text/plain": [
       "(array([], dtype=int64), array([], dtype=int64))"
      ]
     },
     "execution_count": 35,
     "metadata": {},
     "output_type": "execute_result"
    }
   ],
   "source": [
    "np.where(data['phi'].sum(axis=2) == 1)"
   ]
  },
  {
   "cell_type": "code",
   "execution_count": 36,
   "metadata": {},
   "outputs": [],
   "source": [
    "normalizer = (data['phi_L_k'] + data['phi'].sum(axis=2))\n",
    "data['phi'] = data['phi']/(normalizer.reshape(n, k, 1))\n",
    "data['phi_L_k'] = data['phi_L_k']/normalizer"
   ]
  },
  {
   "cell_type": "code",
   "execution_count": 37,
   "metadata": {},
   "outputs": [
    {
     "data": {
      "text/plain": [
       "array([[1., 1., 1., 1., 1.],\n",
       "       [1., 1., 1., 1., 1.],\n",
       "       [1., 1., 1., 1., 1.],\n",
       "       [1., 1., 1., 1., 1.],\n",
       "       [1., 1., 1., 1., 1.],\n",
       "       [1., 1., 1., 1., 1.],\n",
       "       [1., 1., 1., 1., 1.],\n",
       "       [1., 1., 1., 1., 1.],\n",
       "       [1., 1., 1., 1., 1.],\n",
       "       [1., 1., 1., 1., 1.],\n",
       "       [1., 1., 1., 1., 1.],\n",
       "       [1., 1., 1., 1., 1.],\n",
       "       [1., 1., 1., 1., 1.],\n",
       "       [1., 1., 1., 1., 1.],\n",
       "       [1., 1., 1., 1., 1.],\n",
       "       [1., 1., 1., 1., 1.],\n",
       "       [1., 1., 1., 1., 1.],\n",
       "       [1., 1., 1., 1., 1.],\n",
       "       [1., 1., 1., 1., 1.],\n",
       "       [1., 1., 1., 1., 1.],\n",
       "       [1., 1., 1., 1., 1.],\n",
       "       [1., 1., 1., 1., 1.],\n",
       "       [1., 1., 1., 1., 1.],\n",
       "       [1., 1., 1., 1., 1.],\n",
       "       [1., 1., 1., 1., 1.],\n",
       "       [1., 1., 1., 1., 1.],\n",
       "       [1., 1., 1., 1., 1.],\n",
       "       [1., 1., 1., 1., 1.],\n",
       "       [1., 1., 1., 1., 1.],\n",
       "       [1., 1., 1., 1., 1.],\n",
       "       [1., 1., 1., 1., 1.],\n",
       "       [1., 1., 1., 1., 1.],\n",
       "       [1., 1., 1., 1., 1.],\n",
       "       [1., 1., 1., 1., 1.],\n",
       "       [1., 1., 1., 1., 1.],\n",
       "       [1., 1., 1., 1., 1.],\n",
       "       [1., 1., 1., 1., 1.],\n",
       "       [1., 1., 1., 1., 1.],\n",
       "       [1., 1., 1., 1., 1.],\n",
       "       [1., 1., 1., 1., 1.],\n",
       "       [1., 1., 1., 1., 1.],\n",
       "       [1., 1., 1., 1., 1.],\n",
       "       [1., 1., 1., 1., 1.],\n",
       "       [1., 1., 1., 1., 1.],\n",
       "       [1., 1., 1., 1., 1.],\n",
       "       [1., 1., 1., 1., 1.],\n",
       "       [1., 1., 1., 1., 1.],\n",
       "       [1., 1., 1., 1., 1.],\n",
       "       [1., 1., 1., 1., 1.],\n",
       "       [1., 1., 1., 1., 1.],\n",
       "       [1., 1., 1., 1., 1.],\n",
       "       [1., 1., 1., 1., 1.],\n",
       "       [1., 1., 1., 1., 1.],\n",
       "       [1., 1., 1., 1., 1.],\n",
       "       [1., 1., 1., 1., 1.],\n",
       "       [1., 1., 1., 1., 1.],\n",
       "       [1., 1., 1., 1., 1.],\n",
       "       [1., 1., 1., 1., 1.],\n",
       "       [1., 1., 1., 1., 1.],\n",
       "       [1., 1., 1., 1., 1.],\n",
       "       [1., 1., 1., 1., 1.],\n",
       "       [1., 1., 1., 1., 1.],\n",
       "       [1., 1., 1., 1., 1.],\n",
       "       [1., 1., 1., 1., 1.],\n",
       "       [1., 1., 1., 1., 1.],\n",
       "       [1., 1., 1., 1., 1.],\n",
       "       [1., 1., 1., 1., 1.],\n",
       "       [1., 1., 1., 1., 1.],\n",
       "       [1., 1., 1., 1., 1.],\n",
       "       [1., 1., 1., 1., 1.],\n",
       "       [1., 1., 1., 1., 1.],\n",
       "       [1., 1., 1., 1., 1.],\n",
       "       [1., 1., 1., 1., 1.],\n",
       "       [1., 1., 1., 1., 1.],\n",
       "       [1., 1., 1., 1., 1.],\n",
       "       [1., 1., 1., 1., 1.],\n",
       "       [1., 1., 1., 1., 1.],\n",
       "       [1., 1., 1., 1., 1.],\n",
       "       [1., 1., 1., 1., 1.],\n",
       "       [1., 1., 1., 1., 1.],\n",
       "       [1., 1., 1., 1., 1.],\n",
       "       [1., 1., 1., 1., 1.],\n",
       "       [1., 1., 1., 1., 1.],\n",
       "       [1., 1., 1., 1., 1.],\n",
       "       [1., 1., 1., 1., 1.],\n",
       "       [1., 1., 1., 1., 1.],\n",
       "       [1., 1., 1., 1., 1.],\n",
       "       [1., 1., 1., 1., 1.],\n",
       "       [1., 1., 1., 1., 1.],\n",
       "       [1., 1., 1., 1., 1.],\n",
       "       [1., 1., 1., 1., 1.],\n",
       "       [1., 1., 1., 1., 1.],\n",
       "       [1., 1., 1., 1., 1.],\n",
       "       [1., 1., 1., 1., 1.],\n",
       "       [1., 1., 1., 1., 1.],\n",
       "       [1., 1., 1., 1., 1.],\n",
       "       [1., 1., 1., 1., 1.],\n",
       "       [1., 1., 1., 1., 1.],\n",
       "       [1., 1., 1., 1., 1.],\n",
       "       [1., 1., 1., 1., 1.],\n",
       "       [1., 1., 1., 1., 1.],\n",
       "       [1., 1., 1., 1., 1.],\n",
       "       [1., 1., 1., 1., 1.],\n",
       "       [1., 1., 1., 1., 1.],\n",
       "       [1., 1., 1., 1., 1.],\n",
       "       [1., 1., 1., 1., 1.],\n",
       "       [1., 1., 1., 1., 1.],\n",
       "       [1., 1., 1., 1., 1.],\n",
       "       [1., 1., 1., 1., 1.],\n",
       "       [1., 1., 1., 1., 1.],\n",
       "       [1., 1., 1., 1., 1.],\n",
       "       [1., 1., 1., 1., 1.],\n",
       "       [1., 1., 1., 1., 1.],\n",
       "       [1., 1., 1., 1., 1.],\n",
       "       [1., 1., 1., 1., 1.],\n",
       "       [1., 1., 1., 1., 1.],\n",
       "       [1., 1., 1., 1., 1.],\n",
       "       [1., 1., 1., 1., 1.],\n",
       "       [1., 1., 1., 1., 1.],\n",
       "       [1., 1., 1., 1., 1.],\n",
       "       [1., 1., 1., 1., 1.],\n",
       "       [1., 1., 1., 1., 1.],\n",
       "       [1., 1., 1., 1., 1.],\n",
       "       [1., 1., 1., 1., 1.],\n",
       "       [1., 1., 1., 1., 1.],\n",
       "       [1., 1., 1., 1., 1.],\n",
       "       [1., 1., 1., 1., 1.],\n",
       "       [1., 1., 1., 1., 1.],\n",
       "       [1., 1., 1., 1., 1.],\n",
       "       [1., 1., 1., 1., 1.],\n",
       "       [1., 1., 1., 1., 1.],\n",
       "       [1., 1., 1., 1., 1.],\n",
       "       [1., 1., 1., 1., 1.],\n",
       "       [1., 1., 1., 1., 1.]])"
      ]
     },
     "execution_count": 37,
     "metadata": {},
     "output_type": "execute_result"
    }
   ],
   "source": [
    "(data['phi_L_k'] + data['phi'].sum(axis=2))"
   ]
  },
  {
   "cell_type": "code",
   "execution_count": 38,
   "metadata": {},
   "outputs": [],
   "source": [
    "# Update based on notes:\n",
    "# data['phi'] = data['d']*data['D_g'].reshape((n, 1, g))/data['Y_k'].reshape((n, k, 1))\n",
    "\n",
    "# data['phi_L_k'] = 1 - data['phi'].sum(axis=2)\n",
    "\n",
    "#print(np.where(data['phi'] >1),'blah', np.where(data['phi_L_k'] <=0))\n"
   ]
  },
  {
   "cell_type": "code",
   "execution_count": 39,
   "metadata": {},
   "outputs": [],
   "source": [
    "normalizer = (data['phi_L_g'] + data['phi_R'])\n",
    "data['phi_L_g'] = data['phi_L_g']/normalizer\n",
    "data['phi_R'] = data['phi_R']/normalizer"
   ]
  },
  {
   "cell_type": "code",
   "execution_count": 40,
   "metadata": {},
   "outputs": [
    {
     "data": {
      "text/plain": [
       "array([[1., 1., 1., 1., 1., 1.],\n",
       "       [1., 1., 1., 1., 1., 1.],\n",
       "       [1., 1., 1., 1., 1., 1.],\n",
       "       [1., 1., 1., 1., 1., 1.],\n",
       "       [1., 1., 1., 1., 1., 1.],\n",
       "       [1., 1., 1., 1., 1., 1.],\n",
       "       [1., 1., 1., 1., 1., 1.],\n",
       "       [1., 1., 1., 1., 1., 1.],\n",
       "       [1., 1., 1., 1., 1., 1.],\n",
       "       [1., 1., 1., 1., 1., 1.],\n",
       "       [1., 1., 1., 1., 1., 1.],\n",
       "       [1., 1., 1., 1., 1., 1.],\n",
       "       [1., 1., 1., 1., 1., 1.],\n",
       "       [1., 1., 1., 1., 1., 1.],\n",
       "       [1., 1., 1., 1., 1., 1.],\n",
       "       [1., 1., 1., 1., 1., 1.],\n",
       "       [1., 1., 1., 1., 1., 1.],\n",
       "       [1., 1., 1., 1., 1., 1.],\n",
       "       [1., 1., 1., 1., 1., 1.],\n",
       "       [1., 1., 1., 1., 1., 1.],\n",
       "       [1., 1., 1., 1., 1., 1.],\n",
       "       [1., 1., 1., 1., 1., 1.],\n",
       "       [1., 1., 1., 1., 1., 1.],\n",
       "       [1., 1., 1., 1., 1., 1.],\n",
       "       [1., 1., 1., 1., 1., 1.],\n",
       "       [1., 1., 1., 1., 1., 1.],\n",
       "       [1., 1., 1., 1., 1., 1.],\n",
       "       [1., 1., 1., 1., 1., 1.],\n",
       "       [1., 1., 1., 1., 1., 1.],\n",
       "       [1., 1., 1., 1., 1., 1.],\n",
       "       [1., 1., 1., 1., 1., 1.],\n",
       "       [1., 1., 1., 1., 1., 1.],\n",
       "       [1., 1., 1., 1., 1., 1.],\n",
       "       [1., 1., 1., 1., 1., 1.],\n",
       "       [1., 1., 1., 1., 1., 1.],\n",
       "       [1., 1., 1., 1., 1., 1.],\n",
       "       [1., 1., 1., 1., 1., 1.],\n",
       "       [1., 1., 1., 1., 1., 1.],\n",
       "       [1., 1., 1., 1., 1., 1.],\n",
       "       [1., 1., 1., 1., 1., 1.],\n",
       "       [1., 1., 1., 1., 1., 1.],\n",
       "       [1., 1., 1., 1., 1., 1.],\n",
       "       [1., 1., 1., 1., 1., 1.],\n",
       "       [1., 1., 1., 1., 1., 1.],\n",
       "       [1., 1., 1., 1., 1., 1.],\n",
       "       [1., 1., 1., 1., 1., 1.],\n",
       "       [1., 1., 1., 1., 1., 1.],\n",
       "       [1., 1., 1., 1., 1., 1.],\n",
       "       [1., 1., 1., 1., 1., 1.],\n",
       "       [1., 1., 1., 1., 1., 1.],\n",
       "       [1., 1., 1., 1., 1., 1.],\n",
       "       [1., 1., 1., 1., 1., 1.],\n",
       "       [1., 1., 1., 1., 1., 1.],\n",
       "       [1., 1., 1., 1., 1., 1.],\n",
       "       [1., 1., 1., 1., 1., 1.],\n",
       "       [1., 1., 1., 1., 1., 1.],\n",
       "       [1., 1., 1., 1., 1., 1.],\n",
       "       [1., 1., 1., 1., 1., 1.],\n",
       "       [1., 1., 1., 1., 1., 1.],\n",
       "       [1., 1., 1., 1., 1., 1.],\n",
       "       [1., 1., 1., 1., 1., 1.],\n",
       "       [1., 1., 1., 1., 1., 1.],\n",
       "       [1., 1., 1., 1., 1., 1.],\n",
       "       [1., 1., 1., 1., 1., 1.],\n",
       "       [1., 1., 1., 1., 1., 1.],\n",
       "       [1., 1., 1., 1., 1., 1.],\n",
       "       [1., 1., 1., 1., 1., 1.],\n",
       "       [1., 1., 1., 1., 1., 1.],\n",
       "       [1., 1., 1., 1., 1., 1.],\n",
       "       [1., 1., 1., 1., 1., 1.],\n",
       "       [1., 1., 1., 1., 1., 1.],\n",
       "       [1., 1., 1., 1., 1., 1.],\n",
       "       [1., 1., 1., 1., 1., 1.],\n",
       "       [1., 1., 1., 1., 1., 1.],\n",
       "       [1., 1., 1., 1., 1., 1.],\n",
       "       [1., 1., 1., 1., 1., 1.],\n",
       "       [1., 1., 1., 1., 1., 1.],\n",
       "       [1., 1., 1., 1., 1., 1.],\n",
       "       [1., 1., 1., 1., 1., 1.],\n",
       "       [1., 1., 1., 1., 1., 1.],\n",
       "       [1., 1., 1., 1., 1., 1.],\n",
       "       [1., 1., 1., 1., 1., 1.],\n",
       "       [1., 1., 1., 1., 1., 1.],\n",
       "       [1., 1., 1., 1., 1., 1.],\n",
       "       [1., 1., 1., 1., 1., 1.],\n",
       "       [1., 1., 1., 1., 1., 1.],\n",
       "       [1., 1., 1., 1., 1., 1.],\n",
       "       [1., 1., 1., 1., 1., 1.],\n",
       "       [1., 1., 1., 1., 1., 1.],\n",
       "       [1., 1., 1., 1., 1., 1.],\n",
       "       [1., 1., 1., 1., 1., 1.],\n",
       "       [1., 1., 1., 1., 1., 1.],\n",
       "       [1., 1., 1., 1., 1., 1.],\n",
       "       [1., 1., 1., 1., 1., 1.],\n",
       "       [1., 1., 1., 1., 1., 1.],\n",
       "       [1., 1., 1., 1., 1., 1.],\n",
       "       [1., 1., 1., 1., 1., 1.],\n",
       "       [1., 1., 1., 1., 1., 1.],\n",
       "       [1., 1., 1., 1., 1., 1.],\n",
       "       [1., 1., 1., 1., 1., 1.],\n",
       "       [1., 1., 1., 1., 1., 1.],\n",
       "       [1., 1., 1., 1., 1., 1.],\n",
       "       [1., 1., 1., 1., 1., 1.],\n",
       "       [1., 1., 1., 1., 1., 1.],\n",
       "       [1., 1., 1., 1., 1., 1.],\n",
       "       [1., 1., 1., 1., 1., 1.],\n",
       "       [1., 1., 1., 1., 1., 1.],\n",
       "       [1., 1., 1., 1., 1., 1.],\n",
       "       [1., 1., 1., 1., 1., 1.],\n",
       "       [1., 1., 1., 1., 1., 1.],\n",
       "       [1., 1., 1., 1., 1., 1.],\n",
       "       [1., 1., 1., 1., 1., 1.],\n",
       "       [1., 1., 1., 1., 1., 1.],\n",
       "       [1., 1., 1., 1., 1., 1.],\n",
       "       [1., 1., 1., 1., 1., 1.],\n",
       "       [1., 1., 1., 1., 1., 1.],\n",
       "       [1., 1., 1., 1., 1., 1.],\n",
       "       [1., 1., 1., 1., 1., 1.],\n",
       "       [1., 1., 1., 1., 1., 1.],\n",
       "       [1., 1., 1., 1., 1., 1.],\n",
       "       [1., 1., 1., 1., 1., 1.],\n",
       "       [1., 1., 1., 1., 1., 1.],\n",
       "       [1., 1., 1., 1., 1., 1.],\n",
       "       [1., 1., 1., 1., 1., 1.],\n",
       "       [1., 1., 1., 1., 1., 1.],\n",
       "       [1., 1., 1., 1., 1., 1.],\n",
       "       [1., 1., 1., 1., 1., 1.],\n",
       "       [1., 1., 1., 1., 1., 1.],\n",
       "       [1., 1., 1., 1., 1., 1.],\n",
       "       [1., 1., 1., 1., 1., 1.],\n",
       "       [1., 1., 1., 1., 1., 1.],\n",
       "       [1., 1., 1., 1., 1., 1.],\n",
       "       [1., 1., 1., 1., 1., 1.],\n",
       "       [1., 1., 1., 1., 1., 1.]])"
      ]
     },
     "execution_count": 40,
     "metadata": {},
     "output_type": "execute_result"
    }
   ],
   "source": [
    "(data['phi_L_g'] + data['phi_R'])"
   ]
  },
  {
   "cell_type": "code",
   "execution_count": 41,
   "metadata": {},
   "outputs": [],
   "source": [
    "data['theta_k'] = np.ones((k, 1))*5.\n",
    "data['theta_g'] = np.ones((g, 1))*5.\n",
    "\n",
    "data['eta'] = np.ones((k, 1))*0.4\n",
    "data['rho_g'] = np.ones((g, 1))*0.4\n",
    "\n",
    "data['sigma'] = 0.4"
   ]
  },
  {
   "cell_type": "code",
   "execution_count": 42,
   "metadata": {},
   "outputs": [],
   "source": [
    "### Change non zero elements to zero ###"
   ]
  },
  {
   "cell_type": "code",
   "execution_count": 43,
   "metadata": {},
   "outputs": [
    {
     "name": "stdout",
     "output_type": "stream",
     "text": [
      "n\n",
      "g\n",
      "k\n",
      "E\n",
      "Y_g\n",
      "Y_k\n",
      "D_g_old\n",
      "D_k_old\n",
      "X_g\n",
      "X_k\n",
      "D_g\n",
      "D_k\n",
      "lambda_2_g\n",
      "lambda_2_k\n",
      "lambda_g\n",
      "lambda_k\n",
      "d\n",
      "e_L\n",
      "e\n",
      "alpha\n",
      "phi_L_g\n",
      "phi_L_k\n",
      "phi_R\n",
      "phi\n",
      "theta_k\n",
      "theta_g\n",
      "eta\n",
      "rho_g\n",
      "sigma\n"
     ]
    }
   ],
   "source": [
    "for i in data.keys():\n",
    "    print(i)\n",
    "    if i not in ['n', 'g','k','sigma']:\n",
    "        data[i][data[i]<0] = 0"
   ]
  },
  {
   "cell_type": "code",
   "execution_count": 44,
   "metadata": {},
   "outputs": [],
   "source": [
    "data['E_L'] = (data['phi_L_g']*data['Y_g']).sum(axis=1) + (data['phi_L_k']*data['Y_k']).sum(axis=1)"
   ]
  },
  {
   "cell_type": "code",
   "execution_count": 45,
   "metadata": {},
   "outputs": [],
   "source": [
    "loc = '/Users/'+username+'/Dropbox (MIT)/Data/Trade/general_equilibrium_gravity/final_data/data_subset_20200304.pickle'\n",
    "save_obj(data, loc)"
   ]
  },
  {
   "cell_type": "code",
   "execution_count": null,
   "metadata": {},
   "outputs": [],
   "source": []
  },
  {
   "cell_type": "code",
   "execution_count": null,
   "metadata": {},
   "outputs": [],
   "source": []
  }
 ],
 "metadata": {
  "kernelspec": {
   "display_name": "Python 3",
   "language": "python",
   "name": "python3"
  },
  "language_info": {
   "codemirror_mode": {
    "name": "ipython",
    "version": 3
   },
   "file_extension": ".py",
   "mimetype": "text/x-python",
   "name": "python",
   "nbconvert_exporter": "python",
   "pygments_lexer": "ipython3",
   "version": "3.6.10"
  }
 },
 "nbformat": 4,
 "nbformat_minor": 2
}
