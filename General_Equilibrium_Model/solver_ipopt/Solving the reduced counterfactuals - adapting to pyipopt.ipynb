{
 "cells": [
  {
   "cell_type": "code",
   "execution_count": 1,
   "metadata": {},
   "outputs": [],
   "source": [
    "import autograd.numpy as np\n",
    "import pyipopt\n",
    "from autograd import grad, hessian, jacobian"
   ]
  },
  {
   "cell_type": "code",
   "execution_count": 2,
   "metadata": {},
   "outputs": [],
   "source": [
    "import matplotlib.pyplot as plt\n",
    "from counterfactual_functions import *\n",
    "from helper import *\n",
    "\n",
    "username='boraozaltun'\n",
    "\n",
    "data_dict = load_obj('/Users/'+username+'/Dropbox (MIT)/Data/Trade/general_equilibrium_gravity/final_data/data_20200219.pickle')\n",
    "\n",
    "reg_2_num = load_obj('/Users/'+username+'/Dropbox (MIT)/Data/Trade/general_equilibrium_gravity/GTAP/mapping/reg_2_num.pickle')\n",
    "comm_2_num = load_obj('/Users/'+username+'/Dropbox (MIT)/Data/Trade/general_equilibrium_gravity/GTAP/mapping/comm_2_num.pickle')\n",
    "\n",
    "n = data_dict['n']\n",
    "g = data_dict['g']\n",
    "k = data_dict['k']\n",
    "\n",
    "data_dict['R_hat'] = np.ones((n, g))\n",
    "X_0 = np.ones(n*g + n)*1.0\n",
    "\n",
    "eval_F = lambda x: reduced_counterfactual(x, data_dict)\n",
    "eval_f = lambda x: np.linalg.norm(reduced_counterfactual(x, data_dict))\n",
    "\n",
    "\n",
    "eval_grad_f = grad(eval_f)\n",
    "\n"
   ]
  },
  {
   "cell_type": "code",
   "execution_count": 3,
   "metadata": {},
   "outputs": [],
   "source": [
    "nvar = X_0.shape[0]\n",
    "x_L = np.zeros((nvar), dtype=float)\n",
    "x_U = np.ones((nvar), dtype=float) * 100.0\n",
    "\n",
    "ncon = 0\n",
    "\n",
    "\n",
    "g_L = np.array([], dtype=float)\n",
    "g_U = np.array([], dtype=float)\n",
    "\n"
   ]
  },
  {
   "cell_type": "code",
   "execution_count": 4,
   "metadata": {},
   "outputs": [],
   "source": [
    "def eval_g(X, user_data=None):\n",
    "    \"\"\"\n",
    "    Evaluate the constraint functions.\n",
    "    \"\"\"\n",
    "    return np.array([], dtype=float)\n",
    "\n",
    "nnzj = 0\n",
    "\n",
    "def eval_jac_g(X, flag, user_data=None):\n",
    "    \"\"\"\n",
    "    Evaluate the sparse Jacobian of constraint functions g.\n",
    "    @param X: parameter values\n",
    "    @param flag: this asks for the sparsity structure\n",
    "    \"\"\"\n",
    "    print('eval_jac_g')\n",
    "    print(X)\n",
    "    print(flag)\n",
    "    print(user_data)\n",
    "    print()\n",
    "    #XXX\n",
    "    if flag:\n",
    "        rows = np.array([], dtype=int)\n",
    "        cols = np.array([], dtype=int)\n",
    "        return (rows, cols)\n",
    "    else:\n",
    "        return np.array([], dtype=float)\n",
    "\n",
    "nnzh = int((nvar*(nvar+1))/2)\n",
    "\n",
    "def apply_new(x):\n",
    "    return True"
   ]
  },
  {
   "cell_type": "code",
   "execution_count": 5,
   "metadata": {},
   "outputs": [
    {
     "data": {
      "text/plain": [
       "True"
      ]
     },
     "execution_count": 5,
     "metadata": {},
     "output_type": "execute_result"
    }
   ],
   "source": [
    "nlp = pyipopt.create(\n",
    "            nvar,\n",
    "            x_L,\n",
    "            x_U,\n",
    "            ncon,\n",
    "            g_L,\n",
    "            g_U,\n",
    "            nnzj,\n",
    "            nnzh,\n",
    "            eval_f,\n",
    "            eval_grad_f,\n",
    "            eval_g,\n",
    "            eval_jac_g)\n",
    "\n",
    "nlp.num_option('tol', 1e-5)"
   ]
  },
  {
   "cell_type": "code",
   "execution_count": 6,
   "metadata": {},
   "outputs": [
    {
     "name": "stdout",
     "output_type": "stream",
     "text": [
      "eval_jac_g\n",
      "[0.000e+000 1.136e-321 0.000e+000 ... 1.000e+002 1.000e+002 1.000e+002]\n",
      "True\n",
      "None\n",
      "\n"
     ]
    },
    {
     "name": "stderr",
     "output_type": "stream",
     "text": [
      "/Library/Frameworks/Python.framework/Versions/3.6/lib/python3.6/site-packages/autograd/numpy/numpy_vjps.py:444: FutureWarning: Using a non-tuple sequence for multidimensional indexing is deprecated; use `arr[tuple(seq)]` instead of `arr[seq]`. In the future this will be interpreted as an array index, `arr[np.array(seq)]`, which will result either in an error or a different result.\n",
      "  return lambda g: g[idxs]\n"
     ]
    }
   ],
   "source": [
    "results = nlp.solve(X_0)"
   ]
  },
  {
   "cell_type": "code",
   "execution_count": 8,
   "metadata": {},
   "outputs": [],
   "source": [
    "x, zl, zu, constraint_multipliers, obj, status = results"
   ]
  },
  {
   "cell_type": "code",
   "execution_count": 9,
   "metadata": {},
   "outputs": [
    {
     "data": {
      "text/plain": [
       "True"
      ]
     },
     "execution_count": 9,
     "metadata": {},
     "output_type": "execute_result"
    }
   ],
   "source": [
    "nlp.close()"
   ]
  },
  {
   "cell_type": "code",
   "execution_count": 10,
   "metadata": {},
   "outputs": [],
   "source": [
    "## If this is still not the right result, I think I might be doing something wrong in setting IPOPT up.\n",
    "\n",
    "## Because this makes no sense. i am giving it a point where it is the minimum, but somehow it is still not\n",
    "## converginng? Try with scipy and see what happens!"
   ]
  },
  {
   "cell_type": "code",
   "execution_count": 14,
   "metadata": {},
   "outputs": [
    {
     "data": {
      "text/plain": [
       "array([27.42525958, 27.42524017, 27.42528234, ..., 27.42543462,\n",
       "       27.42521803, 27.42524074])"
      ]
     },
     "execution_count": 14,
     "metadata": {},
     "output_type": "execute_result"
    }
   ],
   "source": [
    "x"
   ]
  },
  {
   "cell_type": "code",
   "execution_count": 15,
   "metadata": {},
   "outputs": [
    {
     "data": {
      "text/plain": [
       "array([9.06744335e-06, 9.06744092e-06, 9.06744619e-06, ...,\n",
       "       9.06746522e-06, 9.06743816e-06, 9.06744099e-06])"
      ]
     },
     "execution_count": 15,
     "metadata": {},
     "output_type": "execute_result"
    }
   ],
   "source": [
    "zu"
   ]
  },
  {
   "cell_type": "code",
   "execution_count": 16,
   "metadata": {},
   "outputs": [
    {
     "data": {
      "text/plain": [
       "array([], dtype=float64)"
      ]
     },
     "execution_count": 16,
     "metadata": {},
     "output_type": "execute_result"
    }
   ],
   "source": [
    "constraint_multipliers"
   ]
  },
  {
   "cell_type": "code",
   "execution_count": 17,
   "metadata": {},
   "outputs": [
    {
     "data": {
      "text/plain": [
       "0.009584056029704937"
      ]
     },
     "execution_count": 17,
     "metadata": {},
     "output_type": "execute_result"
    }
   ],
   "source": [
    "obj"
   ]
  },
  {
   "cell_type": "code",
   "execution_count": 18,
   "metadata": {},
   "outputs": [
    {
     "data": {
      "text/plain": [
       "-1"
      ]
     },
     "execution_count": 18,
     "metadata": {},
     "output_type": "execute_result"
    }
   ],
   "source": [
    "status"
   ]
  },
  {
   "cell_type": "code",
   "execution_count": 19,
   "metadata": {},
   "outputs": [],
   "source": [
    "from scipy.optimize import root"
   ]
  },
  {
   "cell_type": "code",
   "execution_count": 20,
   "metadata": {},
   "outputs": [],
   "source": [
    "sol = root(eval_F, X_0)"
   ]
  },
  {
   "cell_type": "code",
   "execution_count": 21,
   "metadata": {},
   "outputs": [
    {
     "data": {
      "text/plain": [
       "    fjac: array([[-4.93850158e-01, -6.56199386e-05, -7.53603121e-05, ...,\n",
       "        -1.13815145e-07,  3.67145631e-07,  8.07720387e-08],\n",
       "       [-2.49571062e-03, -3.19132753e-01, -8.15480852e-03, ...,\n",
       "         1.94599338e-06,  3.02232377e-06,  4.81961104e-06],\n",
       "       [-4.21877720e-02, -9.66115303e-02, -8.76361365e-01, ...,\n",
       "         3.49266467e-05,  3.94107389e-05,  4.29081300e-05],\n",
       "       ...,\n",
       "       [-5.28493367e-07, -5.28535853e-05,  3.42826873e-06, ...,\n",
       "        -9.52888760e-01,  2.63429077e-01,  8.97408437e-02],\n",
       "       [ 1.32943436e-06,  4.42217437e-06, -2.30103696e-05, ...,\n",
       "        -6.67626764e-02, -5.06676745e-01,  8.51867714e-01],\n",
       "       [-1.88164368e-06, -1.63125288e-04, -2.89970282e-05, ...,\n",
       "        -2.24899219e-02, -2.07490480e-04, -4.02275486e-05]])\n",
       "     fun: array([ 0.00000000e+00,  2.22044605e-16,  4.44089210e-16, ...,\n",
       "        0.00000000e+00, -2.22044605e-16, -4.44089210e-16])\n",
       " message: 'The solution converged.'\n",
       "    nfev: 3754\n",
       "     qtf: array([-4.91104287e-16, -3.01364848e-16, -2.27490329e-16, ...,\n",
       "       -5.47276423e-17, -2.19066470e-16,  2.14372300e-17])\n",
       "       r: array([-2.02932569e+00, -6.38224403e-03, -4.12250831e-02, ...,\n",
       "       -6.92849312e-01,  6.92845500e-01, -2.65157520e-05])\n",
       "  status: 1\n",
       " success: True\n",
       "       x: array([1., 1., 1., ..., 1., 1., 1.])"
      ]
     },
     "execution_count": 21,
     "metadata": {},
     "output_type": "execute_result"
    }
   ],
   "source": [
    "sol"
   ]
  },
  {
   "cell_type": "code",
   "execution_count": 23,
   "metadata": {},
   "outputs": [
    {
     "data": {
      "text/plain": [
       "array([1., 1., 1., ..., 1., 1., 1.])"
      ]
     },
     "execution_count": 23,
     "metadata": {},
     "output_type": "execute_result"
    }
   ],
   "source": [
    "sol.x"
   ]
  },
  {
   "cell_type": "code",
   "execution_count": null,
   "metadata": {},
   "outputs": [],
   "source": []
  }
 ],
 "metadata": {
  "kernelspec": {
   "display_name": "Python 3",
   "language": "python",
   "name": "python3"
  },
  "language_info": {
   "codemirror_mode": {
    "name": "ipython",
    "version": 3
   },
   "file_extension": ".py",
   "mimetype": "text/x-python",
   "name": "python",
   "nbconvert_exporter": "python",
   "pygments_lexer": "ipython3",
   "version": "3.6.3"
  }
 },
 "nbformat": 4,
 "nbformat_minor": 2
}
