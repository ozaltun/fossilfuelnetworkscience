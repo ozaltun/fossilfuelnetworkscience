{
 "cells": [
  {
   "cell_type": "code",
   "execution_count": 1,
   "metadata": {},
   "outputs": [],
   "source": [
    "import autograd.numpy as np\n",
    "import pyipopt\n",
    "from autograd import grad, hessian, jacobian"
   ]
  },
  {
   "cell_type": "code",
   "execution_count": 2,
   "metadata": {},
   "outputs": [],
   "source": [
    "import matplotlib.pyplot as plt\n",
    "from counterfactual_functions import *\n",
    "from helper import *\n",
    "\n",
    "username='boraozaltun'\n",
    "\n",
    "data_dict = load_obj('/Users/'+username+'/Dropbox (MIT)/Data/Trade/general_equilibrium_gravity/final_data/data_20200212.pickle')\n",
    "\n",
    "reg_2_num = load_obj('/Users/'+username+'/Dropbox (MIT)/Data/Trade/general_equilibrium_gravity/GTAP/mapping/reg_2_num.pickle')\n",
    "comm_2_num = load_obj('/Users/'+username+'/Dropbox (MIT)/Data/Trade/general_equilibrium_gravity/GTAP/mapping/comm_2_num.pickle')\n",
    "\n",
    "n = data_dict['n']\n",
    "g = data_dict['g']\n",
    "k = data_dict['k']\n",
    "\n",
    "data_dict['R_hat'] = np.ones((n, g))\n",
    "X_0 = np.ones(n*g + n)*1.0\n",
    "\n",
    "eval_F = lambda x: reduced_counterfactual(x, data_dict)\n",
    "eval_f = lambda x: np.linalg.norm(reduced_counterfactual(x, data_dict))\n",
    "\n",
    "\n",
    "eval_grad_f = grad(eval_f)\n",
    "\n"
   ]
  },
  {
   "cell_type": "code",
   "execution_count": 3,
   "metadata": {},
   "outputs": [],
   "source": [
    "nvar = X_0.shape[0]\n",
    "x_L = np.zeros((nvar))\n",
    "x_U = np.ones((nvar)) * 1000.0\n",
    "\n",
    "ncon = nvar\n",
    "\n",
    "\n",
    "g_L = np.array([], dtype=float)\n",
    "g_U = np.array([], dtype=float)\n",
    "\n",
    "nnzj = 0\n",
    "nnzh = 0#int((nvar*(nvar+1))/2)\n",
    "\n",
    "\n",
    "\n",
    "def eval_g(X, user_data=None):\n",
    "    \"\"\"\n",
    "    Evaluate the constraint functions.\n",
    "    \"\"\"\n",
    "    return numpy.array([], dtype=float)\n",
    "\n",
    "def eval_jac_g(X, flag, user_data=None):\n",
    "    \"\"\"\n",
    "    Evaluate the sparse Jacobian of constraint functions g.\n",
    "    @param X: parameter values\n",
    "    @param flag: this asks for the sparsity structure\n",
    "    \"\"\"\n",
    "    print('eval_jac_g')\n",
    "    print(X)\n",
    "    print(flag)\n",
    "    print(user_data)\n",
    "    print()\n",
    "    #XXX\n",
    "    if flag:\n",
    "        rows = numpy.array([], dtype=int)\n",
    "        cols = numpy.array([], dtype=int)\n",
    "        return (rows, cols)\n",
    "    else:\n",
    "        return numpy.array([], dtype=float)\n"
   ]
  },
  {
   "cell_type": "code",
   "execution_count": 8,
   "metadata": {},
   "outputs": [
    {
     "ename": "MemoryError",
     "evalue": "Cannot create IpoptProblem instance",
     "output_type": "error",
     "traceback": [
      "\u001b[0;31m---------------------------------------------------------------------------\u001b[0m",
      "\u001b[0;31mMemoryError\u001b[0m                               Traceback (most recent call last)",
      "\u001b[0;32m<ipython-input-8-42de0cf3c8c0>\u001b[0m in \u001b[0;36m<module>\u001b[0;34m()\u001b[0m\n\u001b[1;32m     13\u001b[0m             \u001b[0;32mlambda\u001b[0m \u001b[0mx\u001b[0m\u001b[0;34m:\u001b[0m \u001b[0;32mNone\u001b[0m\u001b[0;34m,\u001b[0m\u001b[0;34m\u001b[0m\u001b[0m\n\u001b[1;32m     14\u001b[0m             \u001b[0;32mlambda\u001b[0m \u001b[0mx\u001b[0m\u001b[0;34m:\u001b[0m \u001b[0;32mNone\u001b[0m\u001b[0;34m,\u001b[0m\u001b[0;34m\u001b[0m\u001b[0m\n\u001b[0;32m---> 15\u001b[0;31m             lambda x: None)\n\u001b[0m",
      "\u001b[0;31mMemoryError\u001b[0m: Cannot create IpoptProblem instance"
     ]
    }
   ],
   "source": [
    "nlp = pyipopt.create(\n",
    "            nvar,\n",
    "            x_L,\n",
    "            x_U,\n",
    "            ncon,\n",
    "            g_L,\n",
    "            g_U,\n",
    "            nnzj,\n",
    "            nnzh,\n",
    "            eval_f,\n",
    "            eval_grad_f,\n",
    "            lambda x: None,\n",
    "            lambda x: None,\n",
    "            lambda x: None,\n",
    "            lambda x: None)"
   ]
  },
  {
   "cell_type": "code",
   "execution_count": 10,
   "metadata": {},
   "outputs": [],
   "source": [
    "results = nlp.solve(X_0)"
   ]
  },
  {
   "cell_type": "code",
   "execution_count": 11,
   "metadata": {},
   "outputs": [
    {
     "data": {
      "text/plain": [
       "(array([1., 1., 1., ..., 1., 1., 1.]),\n",
       " array([0., 0., 0., ..., 0., 0., 0.]),\n",
       " array([0., 0., 0., ..., 0., 0., 0.]),\n",
       " array([0., 0., 0., ..., 0., 0., 0.]),\n",
       " 6.95321986630614e-310,\n",
       " 2)"
      ]
     },
     "execution_count": 11,
     "metadata": {},
     "output_type": "execute_result"
    }
   ],
   "source": [
    "results"
   ]
  },
  {
   "cell_type": "code",
   "execution_count": 6,
   "metadata": {},
   "outputs": [
    {
     "name": "stdout",
     "output_type": "stream",
     "text": [
      "hello\n"
     ]
    }
   ],
   "source": [
    "print('hello')"
   ]
  },
  {
   "cell_type": "code",
   "execution_count": null,
   "metadata": {},
   "outputs": [],
   "source": []
  }
 ],
 "metadata": {
  "kernelspec": {
   "display_name": "Python 3",
   "language": "python",
   "name": "python3"
  },
  "language_info": {
   "codemirror_mode": {
    "name": "ipython",
    "version": 3
   },
   "file_extension": ".py",
   "mimetype": "text/x-python",
   "name": "python",
   "nbconvert_exporter": "python",
   "pygments_lexer": "ipython3",
   "version": "3.6.3"
  }
 },
 "nbformat": 4,
 "nbformat_minor": 2
}
