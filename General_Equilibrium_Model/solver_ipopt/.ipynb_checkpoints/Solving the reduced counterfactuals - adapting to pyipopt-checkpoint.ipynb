{
 "cells": [
  {
   "cell_type": "code",
   "execution_count": 1,
   "metadata": {},
   "outputs": [],
   "source": [
    "import autograd.numpy as np\n",
    "import pyipopt\n",
    "from autograd import grad, hessian, jacobian"
   ]
  },
  {
   "cell_type": "code",
   "execution_count": 2,
   "metadata": {},
   "outputs": [],
   "source": [
    "import matplotlib.pyplot as plt\n",
    "from counterfactual_functions import *\n",
    "from helper import *\n",
    "\n",
    "username='boraozaltun'\n",
    "\n",
    "data_dict = load_obj('/Users/'+username+'/Dropbox (MIT)/Data/Trade/general_equilibrium_gravity/final_data/data_20200226.pickle')\n",
    "\n",
    "reg_2_num = load_obj('/Users/'+username+'/Dropbox (MIT)/Data/Trade/general_equilibrium_gravity/GTAP/mapping/reg_2_num.pickle')\n",
    "comm_2_num = load_obj('/Users/'+username+'/Dropbox (MIT)/Data/Trade/general_equilibrium_gravity/GTAP/mapping/comm_2_num.pickle')\n",
    "\n",
    "n = data_dict['n']\n",
    "g = data_dict['g']\n",
    "k = data_dict['k']\n",
    "\n",
    "data_dict['R_hat'] = np.ones((n, g))\n",
    "X_0 = np.ones(n*g + n)*1.0\n",
    "\n",
    "eval_g = lambda x: reduced_counterfactual(x, data_dict) # System of residuals\n",
    "eval_f = lambda x: np.sum(reduced_counterfactual(x, data_dict)**2) # Norm of residuals\n",
    "\n",
    "\n",
    "eval_grad_f = grad(eval_f)\n",
    "\n"
   ]
  },
  {
   "cell_type": "code",
   "execution_count": 3,
   "metadata": {},
   "outputs": [
    {
     "data": {
      "text/plain": [
       "array([   0,    1,    2, ..., 3615, 3616, 3617])"
      ]
     },
     "execution_count": 3,
     "metadata": {},
     "output_type": "execute_result"
    }
   ],
   "source": [
    "np.linspace(0, len(X_0) -1, len(X_0)).astype(int)"
   ]
  },
  {
   "cell_type": "code",
   "execution_count": 4,
   "metadata": {},
   "outputs": [],
   "source": [
    "nvar = X_0.shape[0]\n",
    "x_L = np.zeros((nvar), dtype=float)\n",
    "x_U = np.ones((nvar), dtype=float) * 100.0\n",
    "\n",
    "ncon = 0\n",
    "\n",
    "\n",
    "g_L = np.array([], dtype=float)\n",
    "g_U = np.array([], dtype=float)\n",
    "\n"
   ]
  },
  {
   "cell_type": "code",
   "execution_count": 5,
   "metadata": {},
   "outputs": [],
   "source": [
    "def eval_g(X, user_data=None):\n",
    "    \"\"\"\n",
    "    Evaluate the constraint functions.\n",
    "    \"\"\"\n",
    "    return np.array([], dtype=float)\n",
    "\n",
    "nnzj = 0\n",
    "\n",
    "def eval_jac_g(X, flag, user_data=None):\n",
    "    \"\"\"\n",
    "    Evaluate the sparse Jacobian of constraint functions g.\n",
    "    @param X: parameter values\n",
    "    @param flag: this asks for the sparsity structure\n",
    "    \"\"\"\n",
    "    print('eval_jac_g')\n",
    "    print(X)\n",
    "    print(flag)\n",
    "    print(user_data)\n",
    "    print()\n",
    "    #XXX\n",
    "    if flag:\n",
    "        rows = np.array([], dtype=int)\n",
    "        cols = np.array([], dtype=int)\n",
    "        return (rows, cols)\n",
    "    else:\n",
    "        return np.array([], dtype=float)\n",
    "\n",
    "nnzh = int((nvar*(nvar+1))/2)\n",
    "\n",
    "def apply_new(x):\n",
    "    return True"
   ]
  },
  {
   "cell_type": "code",
   "execution_count": 6,
   "metadata": {},
   "outputs": [
    {
     "data": {
      "text/plain": [
       "0.0012237703648266683"
      ]
     },
     "execution_count": 6,
     "metadata": {},
     "output_type": "execute_result"
    }
   ],
   "source": [
    "eval_f(X_0)"
   ]
  },
  {
   "cell_type": "code",
   "execution_count": 6,
   "metadata": {},
   "outputs": [
    {
     "data": {
      "text/plain": [
       "True"
      ]
     },
     "execution_count": 6,
     "metadata": {},
     "output_type": "execute_result"
    }
   ],
   "source": [
    "nlp = pyipopt.create(\n",
    "            nvar,\n",
    "            x_L,\n",
    "            x_U,\n",
    "            ncon,\n",
    "            g_L,\n",
    "            g_U,\n",
    "            nnzj,\n",
    "            nnzh,\n",
    "            eval_f,\n",
    "            eval_grad_f,\n",
    "            eval_g,\n",
    "            eval_jac_g)\n",
    "\n",
    "nlp.num_option('tol', 1e-5)\n",
    "nlp.int_option('max_iter', 10000)"
   ]
  },
  {
   "cell_type": "code",
   "execution_count": null,
   "metadata": {},
   "outputs": [
    {
     "name": "stdout",
     "output_type": "stream",
     "text": [
      "eval_jac_g\n",
      "[0.0000000e+000 1.1363510e-321 2.1592962e-314 ... 1.0000000e+002\n",
      " 1.0000000e+002 1.0000000e+002]\n",
      "True\n",
      "None\n",
      "\n"
     ]
    },
    {
     "name": "stderr",
     "output_type": "stream",
     "text": [
      "/Library/Frameworks/Python.framework/Versions/3.6/lib/python3.6/site-packages/autograd/numpy/numpy_vjps.py:444: FutureWarning: Using a non-tuple sequence for multidimensional indexing is deprecated; use `arr[tuple(seq)]` instead of `arr[seq]`. In the future this will be interpreted as an array index, `arr[np.array(seq)]`, which will result either in an error or a different result.\n",
      "  return lambda g: g[idxs]\n"
     ]
    }
   ],
   "source": [
    "results = nlp.solve(X_0)"
   ]
  },
  {
   "cell_type": "code",
   "execution_count": null,
   "metadata": {},
   "outputs": [],
   "source": [
    "x, zl, zu, constraint_multipliers, obj, status = results"
   ]
  },
  {
   "cell_type": "code",
   "execution_count": 10,
   "metadata": {},
   "outputs": [
    {
     "data": {
      "text/plain": [
       "True"
      ]
     },
     "execution_count": 10,
     "metadata": {},
     "output_type": "execute_result"
    }
   ],
   "source": [
    "nlp.close()"
   ]
  },
  {
   "cell_type": "code",
   "execution_count": 11,
   "metadata": {},
   "outputs": [],
   "source": [
    "## If this is still not the right result, I think I might be doing something wrong in setting IPOPT up.\n",
    "\n",
    "## Because this makes no sense. i am giving it a point where it is the minimum, but somehow it is still not\n",
    "## converginng? Try with scipy and see what happens!"
   ]
  },
  {
   "cell_type": "code",
   "execution_count": 12,
   "metadata": {},
   "outputs": [
    {
     "data": {
      "text/plain": [
       "array([24.40836396, 24.37957109, 24.40631657, ..., 24.41635119,\n",
       "       24.40467041, 24.40323108])"
      ]
     },
     "execution_count": 12,
     "metadata": {},
     "output_type": "execute_result"
    }
   ],
   "source": [
    "x"
   ]
  },
  {
   "cell_type": "code",
   "execution_count": 13,
   "metadata": {},
   "outputs": [
    {
     "data": {
      "text/plain": [
       "array([1.32289935e-13, 1.32239577e-13, 1.32286532e-13, ...,\n",
       "       1.32306163e-13, 1.32282589e-13, 1.32280263e-13])"
      ]
     },
     "execution_count": 13,
     "metadata": {},
     "output_type": "execute_result"
    }
   ],
   "source": [
    "zu"
   ]
  },
  {
   "cell_type": "code",
   "execution_count": 14,
   "metadata": {},
   "outputs": [
    {
     "data": {
      "text/plain": [
       "array([], dtype=float64)"
      ]
     },
     "execution_count": 14,
     "metadata": {},
     "output_type": "execute_result"
    }
   ],
   "source": [
    "constraint_multipliers"
   ]
  },
  {
   "cell_type": "code",
   "execution_count": 15,
   "metadata": {},
   "outputs": [
    {
     "data": {
      "text/plain": [
       "0.0036492466747670483"
      ]
     },
     "execution_count": 15,
     "metadata": {},
     "output_type": "execute_result"
    }
   ],
   "source": [
    "obj"
   ]
  },
  {
   "cell_type": "code",
   "execution_count": 18,
   "metadata": {},
   "outputs": [
    {
     "data": {
      "text/plain": [
       "-1"
      ]
     },
     "execution_count": 18,
     "metadata": {},
     "output_type": "execute_result"
    }
   ],
   "source": [
    "status"
   ]
  },
  {
   "cell_type": "code",
   "execution_count": 19,
   "metadata": {},
   "outputs": [],
   "source": [
    "from scipy.optimize import root"
   ]
  },
  {
   "cell_type": "code",
   "execution_count": 20,
   "metadata": {},
   "outputs": [],
   "source": [
    "sol = root(eval_F, X_0)"
   ]
  },
  {
   "cell_type": "code",
   "execution_count": 21,
   "metadata": {},
   "outputs": [
    {
     "data": {
      "text/plain": [
       "    fjac: array([[-4.93850158e-01, -6.56199386e-05, -7.53603121e-05, ...,\n",
       "        -1.13815145e-07,  3.67145631e-07,  8.07720387e-08],\n",
       "       [-2.49571062e-03, -3.19132753e-01, -8.15480852e-03, ...,\n",
       "         1.94599338e-06,  3.02232377e-06,  4.81961104e-06],\n",
       "       [-4.21877720e-02, -9.66115303e-02, -8.76361365e-01, ...,\n",
       "         3.49266467e-05,  3.94107389e-05,  4.29081300e-05],\n",
       "       ...,\n",
       "       [-5.28493367e-07, -5.28535853e-05,  3.42826873e-06, ...,\n",
       "        -9.52888760e-01,  2.63429077e-01,  8.97408437e-02],\n",
       "       [ 1.32943436e-06,  4.42217437e-06, -2.30103696e-05, ...,\n",
       "        -6.67626764e-02, -5.06676745e-01,  8.51867714e-01],\n",
       "       [-1.88164368e-06, -1.63125288e-04, -2.89970282e-05, ...,\n",
       "        -2.24899219e-02, -2.07490480e-04, -4.02275486e-05]])\n",
       "     fun: array([ 0.00000000e+00,  2.22044605e-16,  4.44089210e-16, ...,\n",
       "        0.00000000e+00, -2.22044605e-16, -4.44089210e-16])\n",
       " message: 'The solution converged.'\n",
       "    nfev: 3754\n",
       "     qtf: array([-4.91104287e-16, -3.01364848e-16, -2.27490329e-16, ...,\n",
       "       -5.47276423e-17, -2.19066470e-16,  2.14372300e-17])\n",
       "       r: array([-2.02932569e+00, -6.38224403e-03, -4.12250831e-02, ...,\n",
       "       -6.92849312e-01,  6.92845500e-01, -2.65157520e-05])\n",
       "  status: 1\n",
       " success: True\n",
       "       x: array([1., 1., 1., ..., 1., 1., 1.])"
      ]
     },
     "execution_count": 21,
     "metadata": {},
     "output_type": "execute_result"
    }
   ],
   "source": [
    "sol"
   ]
  },
  {
   "cell_type": "code",
   "execution_count": 23,
   "metadata": {},
   "outputs": [
    {
     "data": {
      "text/plain": [
       "array([1., 1., 1., ..., 1., 1., 1.])"
      ]
     },
     "execution_count": 23,
     "metadata": {},
     "output_type": "execute_result"
    }
   ],
   "source": [
    "sol.x"
   ]
  },
  {
   "cell_type": "code",
   "execution_count": 18,
   "metadata": {},
   "outputs": [
    {
     "name": "stderr",
     "output_type": "stream",
     "text": [
      "/Library/Frameworks/Python.framework/Versions/3.6/lib/python3.6/site-packages/ipykernel_launcher.py:1: RuntimeWarning: invalid value encountered in true_divide\n",
      "  \"\"\"Entry point for launching an IPython kernel.\n"
     ]
    },
    {
     "data": {
      "text/plain": [
       "array([[[7.55977691e-01, 7.87414483e-01, 8.67150877e-01, ...,\n",
       "         5.95091727e-01, 8.28473443e-01, 1.96492510e-01],\n",
       "        [0.00000000e+00, 1.02327379e-05, 8.10383470e-03, ...,\n",
       "         2.23876520e-04, 9.06236573e-02, 1.40491073e-01],\n",
       "        [0.00000000e+00, 5.08738130e-05, 4.57508864e-05, ...,\n",
       "         1.17292861e-04, 8.34586485e-04, 5.50305608e-01],\n",
       "        ...,\n",
       "        [0.00000000e+00, 5.15761827e-05, 6.99265789e-05, ...,\n",
       "         3.50029567e-04, 2.60401364e-03, 2.44821641e-03],\n",
       "        [0.00000000e+00, 0.00000000e+00, 1.07033172e-04, ...,\n",
       "         1.63552268e-06, 0.00000000e+00, 0.00000000e+00],\n",
       "        [0.00000000e+00, 8.05729633e-03, 6.20689655e-03, ...,\n",
       "         5.78592093e-04, 7.00418371e-03, 8.05567472e-03]],\n",
       "\n",
       "       [[1.51835010e-02, 3.09205279e-03, 1.02603843e-03, ...,\n",
       "         2.47681417e-02, 1.19463542e-02, 1.29921274e-02],\n",
       "        [9.87746404e-01, 9.95519198e-01, 9.03134286e-01, ...,\n",
       "         9.83617436e-01, 6.93234667e-01, 4.04307998e-01],\n",
       "        [0.00000000e+00, 3.31785737e-05, 2.28754432e-05, ...,\n",
       "         5.49141564e-03, 2.10348301e-03, 3.73547732e-03],\n",
       "        ...,\n",
       "        [0.00000000e+00, 1.04743405e-05, 1.09661761e-05, ...,\n",
       "         1.53426840e-05, 7.49874460e-05, 3.21344842e-04],\n",
       "        [0.00000000e+00, 0.00000000e+00, 2.18435044e-05, ...,\n",
       "         5.45174227e-07, 0.00000000e+00, 0.00000000e+00],\n",
       "        [0.00000000e+00, 0.00000000e+00, 0.00000000e+00, ...,\n",
       "         0.00000000e+00, 9.87166831e-04, 1.14400114e-03]],\n",
       "\n",
       "       [[1.40450021e-01, 7.00748507e-03, 1.09439067e-03, ...,\n",
       "         3.26005165e-03, 3.56104538e-03, 3.09330375e-04],\n",
       "        [1.18984195e-02, 1.46669244e-04, 5.71664920e-04, ...,\n",
       "         7.40927200e-03, 6.99011499e-02, 4.78661900e-03],\n",
       "        [6.83966245e-01, 9.28110878e-01, 8.93715607e-01, ...,\n",
       "         6.96020607e-01, 2.33962691e-01, 2.24103066e-01],\n",
       "        ...,\n",
       "        [0.00000000e+00, 1.72362564e-06, 1.69769253e-06, ...,\n",
       "         5.50763016e-06, 1.66114657e-04, 6.03090180e-05],\n",
       "        [0.00000000e+00, 0.00000000e+00, 4.36870088e-06, ...,\n",
       "         1.09034845e-05, 0.00000000e+00, 0.00000000e+00],\n",
       "        [0.00000000e+00, 0.00000000e+00, 0.00000000e+00, ...,\n",
       "         0.00000000e+00, 0.00000000e+00, 0.00000000e+00]],\n",
       "\n",
       "       ...,\n",
       "\n",
       "       [[2.66475891e-03, 4.89349516e-08, 2.07585483e-05, ...,\n",
       "         6.30416822e-06, 7.06651390e-04, 1.78556460e-02],\n",
       "        [0.00000000e+00, 2.27394176e-06, 3.63346347e-06, ...,\n",
       "         4.09037054e-05, 1.21383790e-05, 5.41826918e-05],\n",
       "        [0.00000000e+00, 9.88721497e-04, 7.87931933e-05, ...,\n",
       "         3.03906556e-05, 3.71737971e-02, 1.30733734e-05],\n",
       "        ...,\n",
       "        [2.09005617e-01, 9.54361045e-01, 9.37793058e-01, ...,\n",
       "         7.73660939e-01, 6.25092097e-01, 3.18797340e-02],\n",
       "        [0.00000000e+00, 0.00000000e+00, 4.00464247e-05, ...,\n",
       "         4.15422761e-04, 8.48659689e-02, 4.01436479e-02],\n",
       "        [0.00000000e+00, 0.00000000e+00, 0.00000000e+00, ...,\n",
       "         0.00000000e+00, 2.35039722e-03, 2.66933600e-03]],\n",
       "\n",
       "       [[0.00000000e+00, 0.00000000e+00, 3.77428151e-08, ...,\n",
       "         2.77106295e-07, 0.00000000e+00, 1.35313941e-08],\n",
       "        [0.00000000e+00, 0.00000000e+00, 0.00000000e+00, ...,\n",
       "         3.18213591e-06, 2.22043518e-07, 1.35343943e-07],\n",
       "        [0.00000000e+00, 0.00000000e+00, 0.00000000e+00, ...,\n",
       "         2.26046198e-06, 0.00000000e+00, 5.73952981e-07],\n",
       "        ...,\n",
       "        [9.76429372e-02, 1.74483950e-04, 1.98844303e-02, ...,\n",
       "         1.30663608e-03, 2.85488954e-04, 5.20935822e-05],\n",
       "        [1.00000000e+00, 1.00000000e+00, 9.90557781e-01, ...,\n",
       "         2.64401322e-01, 5.41429282e-01, 5.41376019e-01],\n",
       "        [0.00000000e+00, 0.00000000e+00, 0.00000000e+00, ...,\n",
       "         0.00000000e+00, 0.00000000e+00, 0.00000000e+00]],\n",
       "\n",
       "       [[0.00000000e+00, 2.20207282e-07, 3.39685336e-07, ...,\n",
       "         2.07829722e-07, 8.86676218e-07, 4.62773678e-07],\n",
       "        [0.00000000e+00, 0.00000000e+00, 0.00000000e+00, ...,\n",
       "         0.00000000e+00, 1.55430463e-06, 1.08275154e-06],\n",
       "        [0.00000000e+00, 0.00000000e+00, 0.00000000e+00, ...,\n",
       "         0.00000000e+00, 0.00000000e+00, 0.00000000e+00],\n",
       "        ...,\n",
       "        [0.00000000e+00, 0.00000000e+00, 0.00000000e+00, ...,\n",
       "         0.00000000e+00, 2.49841560e-07, 3.14281773e-07],\n",
       "        [0.00000000e+00, 0.00000000e+00, 0.00000000e+00, ...,\n",
       "         0.00000000e+00, 0.00000000e+00, 0.00000000e+00],\n",
       "        [9.40740741e-01, 5.38048344e-01, 6.53103448e-01, ...,\n",
       "         9.66634523e-01, 5.50133973e-01, 4.80814147e-01]]])"
      ]
     },
     "execution_count": 18,
     "metadata": {},
     "output_type": "execute_result"
    }
   ],
   "source": [
    "data_dict['X_g']/data_dict['Y_g'].reshape((1, data_dict['n'], data_dict['g']))"
   ]
  },
  {
   "cell_type": "code",
   "execution_count": 35,
   "metadata": {},
   "outputs": [],
   "source": [
    "data_dict['Y_g_temp'][np.where(data_dict['Y_g'] == 0)] = 0"
   ]
  },
  {
   "cell_type": "code",
   "execution_count": 19,
   "metadata": {},
   "outputs": [
    {
     "data": {
      "text/plain": [
       "(array([37, 62]), array([16, 16]))"
      ]
     },
     "execution_count": 19,
     "metadata": {},
     "output_type": "execute_result"
    }
   ],
   "source": [
    "np.where(data_dict['Y_g']==0)"
   ]
  },
  {
   "cell_type": "code",
   "execution_count": null,
   "metadata": {},
   "outputs": [],
   "source": []
  }
 ],
 "metadata": {
  "kernelspec": {
   "display_name": "Python 3",
   "language": "python",
   "name": "python3"
  },
  "language_info": {
   "codemirror_mode": {
    "name": "ipython",
    "version": 3
   },
   "file_extension": ".py",
   "mimetype": "text/x-python",
   "name": "python",
   "nbconvert_exporter": "python",
   "pygments_lexer": "ipython3",
   "version": "3.6.3"
  }
 },
 "nbformat": 4,
 "nbformat_minor": 2
}
