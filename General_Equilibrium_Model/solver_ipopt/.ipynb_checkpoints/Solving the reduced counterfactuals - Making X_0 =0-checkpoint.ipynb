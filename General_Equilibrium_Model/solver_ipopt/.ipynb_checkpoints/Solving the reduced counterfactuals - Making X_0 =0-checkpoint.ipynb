{
 "cells": [
  {
   "cell_type": "code",
   "execution_count": 1,
   "metadata": {},
   "outputs": [],
   "source": [
    "import autograd.numpy as np\n",
    "import pandas as pd\n",
    "import matplotlib.pyplot as plt\n",
    "from counterfactual_functions import *\n",
    "from helper import *\n",
    "import pyipopt\n",
    "from autograd import grad, hessian\n",
    "\n"
   ]
  },
  {
   "cell_type": "code",
   "execution_count": 2,
   "metadata": {},
   "outputs": [
    {
     "name": "stdout",
     "output_type": "stream",
     "text": [
      "(array([  0,   0,   0, ..., 133, 133, 133]), array([18, 19, 20, ..., 23, 24, 25]))\n"
     ]
    }
   ],
   "source": [
    "username='boraozaltun'\n",
    "\n",
    "data_dict = load_obj('/Users/'+username+'/Dropbox (MIT)/Data/Trade/general_equilibrium_gravity/final_data/data_20200226.pickle')\n",
    "\n",
    "# For stability\n",
    "print(np.where(data_dict['phi_R'] == 0))\n",
    "#data_dict['phi_R'][data_dict['phi_R'] == 0 ] = 1e-14\n",
    "\n"
   ]
  },
  {
   "cell_type": "code",
   "execution_count": 3,
   "metadata": {},
   "outputs": [],
   "source": [
    "reg_2_num = load_obj('/Users/'+username+'/Dropbox (MIT)/Data/Trade/general_equilibrium_gravity/GTAP/mapping/reg_2_num.pickle')\n",
    "comm_2_num = load_obj('/Users/'+username+'/Dropbox (MIT)/Data/Trade/general_equilibrium_gravity/GTAP/mapping/comm_2_num.pickle')"
   ]
  },
  {
   "cell_type": "code",
   "execution_count": 4,
   "metadata": {},
   "outputs": [],
   "source": [
    "n = data_dict['n']\n",
    "g = data_dict['g']\n",
    "k = data_dict['k']\n",
    "\n",
    "data_dict['R_hat'] = np.ones((n, g))\n",
    "X_0 = np.ones(n*g + n)*1.0"
   ]
  },
  {
   "cell_type": "code",
   "execution_count": 5,
   "metadata": {},
   "outputs": [],
   "source": [
    "F = lambda x: reduced_counterfactual(x, data_dict)\n",
    "f = lambda x: np.linalg.norm(reduced_counterfactual(x, data_dict))\n"
   ]
  },
  {
   "cell_type": "code",
   "execution_count": 6,
   "metadata": {},
   "outputs": [
    {
     "data": {
      "text/plain": [
       "1.5797580287425462e-14"
      ]
     },
     "execution_count": 6,
     "metadata": {},
     "output_type": "execute_result"
    }
   ],
   "source": [
    "f(X_0) # This should be just about 1..."
   ]
  },
  {
   "cell_type": "code",
   "execution_count": 7,
   "metadata": {},
   "outputs": [],
   "source": [
    "X = X_0\n",
    "data = dict(data_dict)\n",
    "r_hat, w_hat = get_values_from_X_reduced(X, data)\n",
    "# print(r_hat.mean())\n",
    "\n",
    "C_g_hat = get_C_g_hat(w_hat, r_hat, data)\n",
    "E_hat = get_E_hat(w_hat, r_hat, data)\n",
    "\n",
    "P_g_goods_hat = get_P_g_goods_hat(C_g_hat, data)\n",
    "\n",
    "C_k_hat = get_C_k_hat(w_hat, P_g_goods_hat, data)\n",
    "\n",
    "P_k_goods_hat = get_P_k_goods_hat(C_k_hat, data)\n",
    "\n",
    "P_k_hat = get_P_k_hat(P_k_goods_hat, data)\n",
    "\n",
    "D_k_hat = get_D_k_hat(E_hat, P_k_goods_hat, P_k_hat, data)\n",
    "\n",
    "Y_k_hat = get_Y_k_hat(C_k_hat, P_k_goods_hat, D_k_hat, data)\n",
    "# print(np.mean(Y_k_hat))\n",
    "D_g_hat = get_D_g_hat(P_g_goods_hat, C_k_hat, Y_k_hat, data)\n",
    "# print(np.mean(D_g_hat))\n",
    "Y_g_hat = get_Y_g_hat(C_g_hat, P_g_goods_hat, D_g_hat, data)"
   ]
  },
  {
   "cell_type": "code",
   "execution_count": 8,
   "metadata": {},
   "outputs": [],
   "source": [
    "data = dict(data_dict)\n",
    "part1 = data['phi_R'] * (r_hat ** (1- data['rho_g'].reshape((1, data['g']))))\n",
    "part2 = data['phi_L_g'] * (w_hat.reshape((data['n'], 1)) ** (1 - data['rho_g'].reshape((1, data['g']))) )\n",
    "\n",
    "C_g_hat = (part1 + part2) ** (1/(1-data['rho_g'].reshape((1, data['g'])) ))\n"
   ]
  },
  {
   "cell_type": "code",
   "execution_count": 9,
   "metadata": {},
   "outputs": [
    {
     "data": {
      "text/plain": [
       "0.0"
      ]
     },
     "execution_count": 9,
     "metadata": {},
     "output_type": "execute_result"
    }
   ],
   "source": [
    "np.linalg.norm(C_g_hat - 1)"
   ]
  },
  {
   "cell_type": "code",
   "execution_count": 10,
   "metadata": {},
   "outputs": [
    {
     "data": {
      "text/plain": [
       "0.0"
      ]
     },
     "execution_count": 10,
     "metadata": {},
     "output_type": "execute_result"
    }
   ],
   "source": [
    "np.linalg.norm(data['phi_R']+data['phi_L_g'] -1)"
   ]
  },
  {
   "cell_type": "code",
   "execution_count": 11,
   "metadata": {},
   "outputs": [
    {
     "data": {
      "text/plain": [
       "1.5634053252502143e-14"
      ]
     },
     "execution_count": 11,
     "metadata": {},
     "output_type": "execute_result"
    }
   ],
   "source": [
    "np.linalg.norm(r_hat - get_r_hat(r_hat, Y_g_hat, C_g_hat, data))"
   ]
  },
  {
   "cell_type": "code",
   "execution_count": 12,
   "metadata": {},
   "outputs": [
    {
     "data": {
      "text/plain": [
       "2.2671395712616936e-15"
      ]
     },
     "execution_count": 12,
     "metadata": {},
     "output_type": "execute_result"
    }
   ],
   "source": [
    "np.linalg.norm(w_hat - get_w_hat(w_hat, Y_g_hat, Y_k_hat, C_k_hat, C_g_hat, data))"
   ]
  },
  {
   "cell_type": "code",
   "execution_count": 13,
   "metadata": {},
   "outputs": [],
   "source": [
    "part1_part1 = data['phi_L_g']*data['Y_g']/(data['E']*data['e_L']).reshape((data['n'], 1))\n",
    "part1_part2 = ((w_hat.reshape((data['n'], 1))/C_g_hat)**(1-data['rho_g'].reshape((1, data['g'])))) *Y_g_hat\n",
    "\n",
    "part1 = (part1_part1*part1_part2).sum(axis=1).reshape((data['n'], 1))\n",
    "\n",
    "part2_part1 = data['phi_L_k']*data['Y_k']/(data['E']*data['e_L']).reshape((data['n'], 1))\n",
    "\n",
    "part2_part2 =  ((w_hat.reshape((data['n'], 1))/C_k_hat)**(1-data['eta'].reshape((1, data['k'])))) *Y_k_hat\n",
    "\n",
    "part2 = (part2_part1*part2_part2).sum(axis=1).reshape((data['n'], 1))\n",
    "\n",
    "w_hat_new = ((part1 + part2)/(part1_part1.sum(axis=1)+ part2_part1.sum(axis=1)).reshape((data['n'], 1)))"
   ]
  },
  {
   "cell_type": "code",
   "execution_count": 14,
   "metadata": {},
   "outputs": [
    {
     "data": {
      "text/plain": [
       "2.2315206618374916e-15"
      ]
     },
     "execution_count": 14,
     "metadata": {},
     "output_type": "execute_result"
    }
   ],
   "source": [
    "np.linalg.norm(w_hat-w_hat_new)"
   ]
  },
  {
   "cell_type": "code",
   "execution_count": null,
   "metadata": {},
   "outputs": [],
   "source": []
  }
 ],
 "metadata": {
  "kernelspec": {
   "display_name": "Python 3",
   "language": "python",
   "name": "python3"
  },
  "language_info": {
   "codemirror_mode": {
    "name": "ipython",
    "version": 3
   },
   "file_extension": ".py",
   "mimetype": "text/x-python",
   "name": "python",
   "nbconvert_exporter": "python",
   "pygments_lexer": "ipython3",
   "version": "3.6.3"
  }
 },
 "nbformat": 4,
 "nbformat_minor": 2
}
