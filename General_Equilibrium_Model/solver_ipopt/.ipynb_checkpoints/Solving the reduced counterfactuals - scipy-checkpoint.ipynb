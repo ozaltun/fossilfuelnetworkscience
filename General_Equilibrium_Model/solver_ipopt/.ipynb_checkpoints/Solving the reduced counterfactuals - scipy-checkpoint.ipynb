{
 "cells": [
  {
   "cell_type": "code",
   "execution_count": 1,
   "metadata": {},
   "outputs": [],
   "source": [
    "import autograd.numpy as np\n",
    "import pyipopt\n",
    "from autograd import grad, hessian, jacobian\n",
    "from scipy.optimize import root"
   ]
  },
  {
   "cell_type": "code",
   "execution_count": 2,
   "metadata": {},
   "outputs": [],
   "source": [
    "import matplotlib.pyplot as plt\n",
    "from counterfactual_functions import *\n",
    "from helper import *\n",
    "\n",
    "username='boraozaltun'\n",
    "\n",
    "data_dict = load_obj('/Users/'+username+'/Dropbox (MIT)/Data/Trade/general_equilibrium_gravity/final_data/data_20200219.pickle')\n",
    "\n",
    "reg_2_num = load_obj('/Users/'+username+'/Dropbox (MIT)/Data/Trade/general_equilibrium_gravity/GTAP/mapping/reg_2_num.pickle')\n",
    "comm_2_num = load_obj('/Users/'+username+'/Dropbox (MIT)/Data/Trade/general_equilibrium_gravity/GTAP/mapping/comm_2_num.pickle')\n",
    "\n",
    "n = data_dict['n']\n",
    "g = data_dict['g']\n",
    "k = data_dict['k']\n",
    "\n",
    "data_dict['R_hat'] = np.ones((n, g))\n",
    "data_dict['R_hat'][reg_2_num['usa'], 15] = 2\n",
    "data_dict['R_hat'][reg_2_num['usa'], 16] = 2\n",
    "\n",
    "\n",
    "\n",
    "X_0 = np.ones(n*g + n)*1.0\n",
    "\n",
    "\n",
    "eval_F = lambda x: reduced_counterfactual(x, data_dict)\n",
    "eval_f = lambda x: np.linalg.norm(reduced_counterfactual(x, data_dict))\n",
    "\n",
    "\n",
    "eval_grad_f = grad(eval_f)\n"
   ]
  },
  {
   "cell_type": "code",
   "execution_count": 3,
   "metadata": {},
   "outputs": [
    {
     "name": "stderr",
     "output_type": "stream",
     "text": [
      "/Users/boraozaltun/GitHub/fossilfuelnetworkscience/General_Equilibrium_Model/solver_ipopt/counterfactual_functions.py:130: RuntimeWarning: invalid value encountered in power\n",
      "  part1 = data['phi_R'] * (r_hat ** (1- data['rho_g'].reshape((1, data['g']))))\n",
      "/Users/boraozaltun/GitHub/fossilfuelnetworkscience/General_Equilibrium_Model/solver_ipopt/counterfactual_functions.py:131: RuntimeWarning: invalid value encountered in power\n",
      "  part2 = data['phi_L_g'] * (w_hat.reshape((data['n'], 1)) ** (1 - data['rho_g'].reshape((1, data['g']))) )\n",
      "/Users/boraozaltun/GitHub/fossilfuelnetworkscience/General_Equilibrium_Model/solver_ipopt/counterfactual_functions.py:116: RuntimeWarning: invalid value encountered in power\n",
      "  part1 = data['phi_L_k'] * (w_hat.reshape((data['n'], 1)) ** (1 - data['eta'].reshape((1, data['k']))))\n"
     ]
    }
   ],
   "source": [
    "sol = root(eval_F, X_0)"
   ]
  },
  {
   "cell_type": "code",
   "execution_count": 5,
   "metadata": {},
   "outputs": [
    {
     "data": {
      "text/plain": [
       "    fjac: array([[-4.93850158e-01, -6.56199386e-05, -7.53603121e-05, ...,\n",
       "        -1.13815145e-07,  3.67145631e-07,  8.07720387e-08],\n",
       "       [-2.49571062e-03, -3.19132753e-01, -8.15480852e-03, ...,\n",
       "         1.94599338e-06,  3.02232377e-06,  4.81961104e-06],\n",
       "       [-4.21877720e-02, -9.66115304e-02, -8.76361366e-01, ...,\n",
       "         3.49266467e-05,  3.94107389e-05,  4.29081301e-05],\n",
       "       ...,\n",
       "       [-5.26584998e-07, -5.29376188e-05,  3.58001070e-06, ...,\n",
       "        -9.52574127e-01,  2.64146634e-01,  9.07629030e-02],\n",
       "       [ 1.34425036e-06,  5.94692714e-06, -2.29413936e-05, ...,\n",
       "        -6.68675654e-02, -5.08786257e-01,  8.50513401e-01],\n",
       "       [-1.87619306e-06, -1.63807868e-04, -2.88994098e-05, ...,\n",
       "        -2.25288847e-02, -2.07903638e-04,  7.61605766e-03]])\n",
       "     fun: array([ 0.00000000e+00,  2.22044605e-16,  4.44089210e-16, ...,\n",
       "        0.00000000e+00, -2.22044605e-16, -4.44089210e-16])\n",
       " message: 'The iteration is not making good progress, as measured by the \\n  improvement from the last ten iterations.'\n",
       "    nfev: 7515\n",
       "     qtf: array([ 3.67145582e-09,  2.27782236e-07,  1.15198890e-05, ...,\n",
       "        1.90619527e-03, -3.98857916e-03,  6.22709330e-03])\n",
       "       r: array([nan, nan, nan, ..., nan, nan, nan])\n",
       "  status: 5\n",
       " success: False\n",
       "       x: array([1., 1., 1., ..., 1., 1., 1.])"
      ]
     },
     "execution_count": 5,
     "metadata": {},
     "output_type": "execute_result"
    }
   ],
   "source": [
    "sol"
   ]
  },
  {
   "cell_type": "code",
   "execution_count": 6,
   "metadata": {},
   "outputs": [],
   "source": [
    "## Good to see this isn't working! Now lets try minimization on scipy"
   ]
  },
  {
   "cell_type": "code",
   "execution_count": 7,
   "metadata": {},
   "outputs": [],
   "source": [
    "from scipy.optimize import minimize"
   ]
  },
  {
   "cell_type": "code",
   "execution_count": 8,
   "metadata": {},
   "outputs": [],
   "source": [
    "bounds_f = [(0., None) for x in range(n*g+n)]\n",
    "sol = minimize(eval_f, X_0, method='L-BFGS-B', bounds=bounds_f)"
   ]
  },
  {
   "cell_type": "code",
   "execution_count": 9,
   "metadata": {},
   "outputs": [
    {
     "data": {
      "text/plain": [
       "array([1.00001639, 1.0000508 , 1.00001052, ..., 1.00030198, 0.99934083,\n",
       "       0.99983071])"
      ]
     },
     "execution_count": 9,
     "metadata": {},
     "output_type": "execute_result"
    }
   ],
   "source": [
    "sol.x"
   ]
  },
  {
   "cell_type": "code",
   "execution_count": 10,
   "metadata": {},
   "outputs": [
    {
     "data": {
      "text/plain": [
       "      fun: 0.5730956886578845\n",
       " hess_inv: <3752x3752 LbfgsInvHessProduct with dtype=float64>\n",
       "      jac: array([ 0.00448773,  0.04161543,  0.00303869, ...,  0.10320248,\n",
       "        0.05570536, -0.01206533])\n",
       "  message: b'STOP: TOTAL NO. of f AND g EVALUATIONS EXCEEDS LIMIT'\n",
       "     nfev: 18765\n",
       "      nit: 2\n",
       "   status: 1\n",
       "  success: False\n",
       "        x: array([1.00001639, 1.0000508 , 1.00001052, ..., 1.00030198, 0.99934083,\n",
       "       0.99983071])"
      ]
     },
     "execution_count": 10,
     "metadata": {},
     "output_type": "execute_result"
    }
   ],
   "source": [
    "sol"
   ]
  },
  {
   "cell_type": "code",
   "execution_count": null,
   "metadata": {},
   "outputs": [],
   "source": []
  }
 ],
 "metadata": {
  "kernelspec": {
   "display_name": "Python 3",
   "language": "python",
   "name": "python3"
  },
  "language_info": {
   "codemirror_mode": {
    "name": "ipython",
    "version": 3
   },
   "file_extension": ".py",
   "mimetype": "text/x-python",
   "name": "python",
   "nbconvert_exporter": "python",
   "pygments_lexer": "ipython3",
   "version": "3.6.3"
  }
 },
 "nbformat": 4,
 "nbformat_minor": 2
}
