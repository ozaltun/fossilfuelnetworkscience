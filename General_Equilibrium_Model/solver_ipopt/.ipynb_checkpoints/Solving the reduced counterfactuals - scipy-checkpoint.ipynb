{
 "cells": [
  {
   "cell_type": "code",
   "execution_count": 1,
   "metadata": {},
   "outputs": [],
   "source": [
    "import autograd.numpy as np\n",
    "import pyipopt\n",
    "from autograd import grad, hessian, jacobian\n",
    "from scipy.optimize import root"
   ]
  },
  {
   "cell_type": "code",
   "execution_count": 2,
   "metadata": {},
   "outputs": [],
   "source": [
    "import matplotlib.pyplot as plt\n",
    "from counterfactual_functions import *\n",
    "from helper import *\n",
    "\n",
    "username='boraozaltun'\n",
    "\n",
    "data_dict = load_obj('/Users/'+username+'/Dropbox (MIT)/Data/Trade/general_equilibrium_gravity/final_data/data_20200219.pickle')\n",
    "\n",
    "reg_2_num = load_obj('/Users/'+username+'/Dropbox (MIT)/Data/Trade/general_equilibrium_gravity/GTAP/mapping/reg_2_num.pickle')\n",
    "comm_2_num = load_obj('/Users/'+username+'/Dropbox (MIT)/Data/Trade/general_equilibrium_gravity/GTAP/mapping/comm_2_num.pickle')\n",
    "\n",
    "n = data_dict['n']\n",
    "g = data_dict['g']\n",
    "k = data_dict['k']\n",
    "\n",
    "data_dict['R_hat'] = np.ones((n, g))\n",
    "data_dict['R_hat'][reg_2_num['usa'], 15] = 2\n",
    "data_dict['R_hat'][reg_2_num['usa'], 16] = 2\n",
    "\n",
    "\n",
    "\n",
    "X_0 = np.ones(n*g + n)*1.0\n",
    "\n",
    "\n",
    "eval_F = lambda x: reduced_counterfactual(x, data_dict)\n",
    "eval_f = lambda x: np.linalg.norm(reduced_counterfactual(x, data_dict))\n",
    "\n",
    "\n",
    "eval_grad_f = grad(eval_f)\n"
   ]
  },
  {
   "cell_type": "code",
   "execution_count": 3,
   "metadata": {},
   "outputs": [
    {
     "name": "stderr",
     "output_type": "stream",
     "text": [
      "/Users/boraozaltun/GitHub/fossilfuelnetworkscience/General_Equilibrium_Model/solver_ipopt/counterfactual_functions.py:130: RuntimeWarning: invalid value encountered in power\n",
      "  part1 = data['phi_R'] * (r_hat ** (1- data['rho_g'].reshape((1, data['g']))))\n",
      "/Users/boraozaltun/GitHub/fossilfuelnetworkscience/General_Equilibrium_Model/solver_ipopt/counterfactual_functions.py:131: RuntimeWarning: invalid value encountered in power\n",
      "  part2 = data['phi_L_g'] * (w_hat.reshape((data['n'], 1)) ** (1 - data['rho_g'].reshape((1, data['g']))) )\n",
      "/Users/boraozaltun/GitHub/fossilfuelnetworkscience/General_Equilibrium_Model/solver_ipopt/counterfactual_functions.py:116: RuntimeWarning: invalid value encountered in power\n",
      "  part1 = data['phi_L_k'] * (w_hat.reshape((data['n'], 1)) ** (1 - data['eta'].reshape((1, data['k']))))\n"
     ]
    }
   ],
   "source": [
    "sol = root(eval_F, X_0)"
   ]
  },
  {
   "cell_type": "code",
   "execution_count": 4,
   "metadata": {},
   "outputs": [
    {
     "data": {
      "text/plain": [
       "    fjac: array([[-4.93838150e-01, -6.56571203e-05, -7.54300600e-05, ...,\n",
       "        -1.17480868e-07,  3.74470268e-07,  7.34255427e-08],\n",
       "       [-2.49777906e-03, -3.19104403e-01, -8.16096569e-03, ...,\n",
       "         1.94165251e-06,  3.03068492e-06,  4.81940098e-06],\n",
       "       [-4.22183664e-02, -9.66852212e-02, -8.76332365e-01, ...,\n",
       "         3.49239263e-05,  3.94178865e-05,  4.29159405e-05],\n",
       "       ...,\n",
       "       [-5.10496079e-07, -5.28186090e-05,  3.58218896e-06, ...,\n",
       "        -9.52620912e-01,  2.63976925e-01,  9.07008218e-02],\n",
       "       [ 1.32832892e-06,  6.29866229e-06, -2.28321143e-05, ...,\n",
       "        -6.67908567e-02, -5.08825882e-01,  8.50465858e-01],\n",
       "       [-1.88318144e-06, -1.64070375e-04, -2.89488989e-05, ...,\n",
       "        -2.25351234e-02, -2.07946479e-04,  1.03689246e-02]])\n",
       "     fun: array([-1.05164455e-04, -1.42485289e-04, -1.72949624e-04, ...,\n",
       "       -3.14860304e-05, -3.15236971e-04, -1.24774571e-04])\n",
       " message: 'The iteration is not making good progress, as measured by the \\n  improvement from the last ten iterations.'\n",
       "    nfev: 7515\n",
       "     qtf: array([-0.0001073 , -0.00027281, -0.00013145, ...,  0.00171292,\n",
       "       -0.0039248 ,  0.00844343])\n",
       "       r: array([nan, nan, nan, ..., nan, nan, nan])\n",
       "  status: 5\n",
       " success: False\n",
       "       x: array([1., 1., 1., ..., 1., 1., 1.])"
      ]
     },
     "execution_count": 4,
     "metadata": {},
     "output_type": "execute_result"
    }
   ],
   "source": [
    "sol"
   ]
  },
  {
   "cell_type": "code",
   "execution_count": 5,
   "metadata": {},
   "outputs": [],
   "source": [
    "## Good to see this isn't working! Now lets try minimization on scipy"
   ]
  },
  {
   "cell_type": "code",
   "execution_count": 6,
   "metadata": {},
   "outputs": [],
   "source": [
    "from scipy.optimize import minimize"
   ]
  },
  {
   "cell_type": "code",
   "execution_count": 7,
   "metadata": {},
   "outputs": [],
   "source": [
    "bounds_f = [(0., None) for x in range(n*g+n)]\n",
    "sol = minimize(eval_f, X_0, method='L-BFGS-B', bounds=bounds_f)"
   ]
  },
  {
   "cell_type": "code",
   "execution_count": 8,
   "metadata": {},
   "outputs": [
    {
     "data": {
      "text/plain": [
       "array([0.99999515, 0.99997872, 0.99999559, ..., 0.99984793, 1.00049899,\n",
       "       1.00018102])"
      ]
     },
     "execution_count": 8,
     "metadata": {},
     "output_type": "execute_result"
    }
   ],
   "source": [
    "sol.x"
   ]
  },
  {
   "cell_type": "code",
   "execution_count": 9,
   "metadata": {},
   "outputs": [
    {
     "data": {
      "text/plain": [
       "      fun: 0.6676358078061486\n",
       " hess_inv: <3752x3752 LbfgsInvHessProduct with dtype=float64>\n",
       "      jac: array([-0.01114515, -0.03907683, -0.00613616, ..., -0.19250656,\n",
       "        0.32859051,  0.09230468])\n",
       "  message: b'STOP: TOTAL NO. of f AND g EVALUATIONS EXCEEDS LIMIT'\n",
       "     nfev: 15012\n",
       "      nit: 1\n",
       "   status: 1\n",
       "  success: False\n",
       "        x: array([0.99999515, 0.99997872, 0.99999559, ..., 0.99984793, 1.00049899,\n",
       "       1.00018102])"
      ]
     },
     "execution_count": 9,
     "metadata": {},
     "output_type": "execute_result"
    }
   ],
   "source": [
    "sol"
   ]
  },
  {
   "cell_type": "code",
   "execution_count": null,
   "metadata": {},
   "outputs": [],
   "source": []
  }
 ],
 "metadata": {
  "kernelspec": {
   "display_name": "Python 3",
   "language": "python",
   "name": "python3"
  },
  "language_info": {
   "codemirror_mode": {
    "name": "ipython",
    "version": 3
   },
   "file_extension": ".py",
   "mimetype": "text/x-python",
   "name": "python",
   "nbconvert_exporter": "python",
   "pygments_lexer": "ipython3",
   "version": "3.6.3"
  }
 },
 "nbformat": 4,
 "nbformat_minor": 2
}
