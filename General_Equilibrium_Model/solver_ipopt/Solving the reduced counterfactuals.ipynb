{
 "cells": [
  {
   "cell_type": "code",
   "execution_count": 14,
   "metadata": {},
   "outputs": [],
   "source": [
    "# I think that the 12 equations can be reduced to (2) w_hat, r_hat. Lets see!"
   ]
  },
  {
   "cell_type": "code",
   "execution_count": 1,
   "metadata": {},
   "outputs": [],
   "source": [
    "from scipy.optimize import fsolve, root, newton_krylov\n",
    "from scipy.optimize import minimize\n",
    "import numpy as np\n",
    "import pandas as pd\n",
    "import matplotlib.pyplot as plt\n",
    "# from jax import jacfwd, jacrev\n",
    "from counterfactual_functions import *\n",
    "from helper import *"
   ]
  },
  {
   "cell_type": "code",
   "execution_count": 2,
   "metadata": {},
   "outputs": [
    {
     "name": "stdout",
     "output_type": "stream",
     "text": [
      "(array([], dtype=int64), array([], dtype=int64))\n"
     ]
    }
   ],
   "source": [
    "username='ozaltun'\n",
    "\n",
    "data_dict = load_obj('/Users/'+username+'/Dropbox (MIT)/Data/Trade/general_equilibrium_gravity/final_data/data_20200212.pickle')\n",
    "\n",
    "# For stability\n",
    "print(np.where(data_dict['phi_R'] == 0))\n",
    "data_dict['phi_R'][data_dict['phi_R'] == 0 ] = 1e-14\n",
    "\n",
    "\n",
    "\n"
   ]
  },
  {
   "cell_type": "code",
   "execution_count": 3,
   "metadata": {},
   "outputs": [],
   "source": [
    "reg_2_num = load_obj('/Users/'+username+'/Dropbox (MIT)/Data/Trade/general_equilibrium_gravity/GTAP/mapping/reg_2_num.pickle')\n",
    "comm_2_num = load_obj('/Users/'+username+'/Dropbox (MIT)/Data/Trade/general_equilibrium_gravity/GTAP/mapping/comm_2_num.pickle')\n"
   ]
  },
  {
   "cell_type": "code",
   "execution_count": 4,
   "metadata": {},
   "outputs": [],
   "source": [
    "n = data_dict['n']\n",
    "g = data_dict['g']\n",
    "k = data_dict['k']\n",
    "\n",
    "data_dict['R_hat'] = np.ones((n, g))\n",
    "X_0 = np.ones(n*g + n)"
   ]
  },
  {
   "cell_type": "code",
   "execution_count": 5,
   "metadata": {},
   "outputs": [
    {
     "name": "stdout",
     "output_type": "stream",
     "text": [
      "-0.014108421146603317\n",
      "5.526296244513146\n"
     ]
    }
   ],
   "source": [
    "\n",
    "F = lambda x: reduced_counterfactual(x, data_dict)\n",
    "\n",
    "\n",
    "print(F(X_0).mean())\n",
    "\n",
    "f = lambda x: np.linalg.norm(reduced_counterfactual(x, data_dict))\n",
    "\n",
    "print(f(X_0))"
   ]
  },
  {
   "cell_type": "code",
   "execution_count": 6,
   "metadata": {},
   "outputs": [],
   "source": [
    "bounds_f = [(0., None) for x in range(n*g+n)]\n",
    "sol = minimize(f, X_0, method='L-BFGS-B', bounds=bounds_f)"
   ]
  },
  {
   "cell_type": "code",
   "execution_count": 12,
   "metadata": {},
   "outputs": [
    {
     "data": {
      "text/plain": [
       "      fun: 5.355333217234638\n",
       " hess_inv: <3752x3752 LbfgsInvHessProduct with dtype=float64>\n",
       "      jac: array([-0.00836708, -0.02518261, -0.0045997 , ..., -0.05496412,\n",
       "        0.03757457, -0.00067972])\n",
       "  message: b'STOP: TOTAL NO. of f AND g EVALUATIONS EXCEEDS LIMIT'\n",
       "     nfev: 15012\n",
       "      nit: 2\n",
       "   status: 1\n",
       "  success: False\n",
       "        x: array([1.00009752, 1.00033792, 1.0000491 , ..., 0.99815036, 1.00245662,\n",
       "       1.00141002])"
      ]
     },
     "execution_count": 12,
     "metadata": {},
     "output_type": "execute_result"
    }
   ],
   "source": [
    "sol"
   ]
  },
  {
   "cell_type": "code",
   "execution_count": 13,
   "metadata": {},
   "outputs": [],
   "source": [
    "data_dict['R_hat'][reg_2_num['usa'], 15] = 2\n",
    "data_dict['R_hat'][reg_2_num['usa'], 16] = 2\n",
    "\n",
    "F = lambda x: reduced_counterfactual(x, data_dict)\n",
    "f = lambda x: np.linalg.norm(reduced_counterfactual(x, data_dict))"
   ]
  },
  {
   "cell_type": "code",
   "execution_count": 14,
   "metadata": {},
   "outputs": [
    {
     "data": {
      "text/plain": [
       "-0.013841896626347454"
      ]
     },
     "execution_count": 14,
     "metadata": {},
     "output_type": "execute_result"
    }
   ],
   "source": [
    "F(X_0).mean()"
   ]
  },
  {
   "cell_type": "code",
   "execution_count": 15,
   "metadata": {},
   "outputs": [],
   "source": [
    "bounds_f = [(0., None) for x in range(n*g+n)]\n",
    "sol = minimize(f, X_0, method='L-BFGS-B', bounds=bounds_f)"
   ]
  },
  {
   "cell_type": "code",
   "execution_count": 16,
   "metadata": {},
   "outputs": [
    {
     "data": {
      "text/plain": [
       "      fun: 5.398229143559428\n",
       " hess_inv: <3752x3752 LbfgsInvHessProduct with dtype=float64>\n",
       "      jac: array([-0.00834977, -0.02508758, -0.00459304, ..., -0.05577476,\n",
       "        0.03879812, -0.00012657])\n",
       "  message: b'STOP: TOTAL NO. of f AND g EVALUATIONS EXCEEDS LIMIT'\n",
       "     nfev: 15012\n",
       "      nit: 2\n",
       "   status: 1\n",
       "  success: False\n",
       "        x: array([1.00009805, 1.00033965, 1.00004945, ..., 0.99815023, 1.00246014,\n",
       "       1.00141342])"
      ]
     },
     "execution_count": 16,
     "metadata": {},
     "output_type": "execute_result"
    }
   ],
   "source": [
    "sol"
   ]
  },
  {
   "cell_type": "code",
   "execution_count": 17,
   "metadata": {},
   "outputs": [],
   "source": [
    "# I think now is a good time to go to IPOPT !!"
   ]
  },
  {
   "cell_type": "markdown",
   "metadata": {},
   "source": [
    "## Archive: Solutions that are not working. Mainly because of "
   ]
  },
  {
   "cell_type": "code",
   "execution_count": null,
   "metadata": {},
   "outputs": [],
   "source": [
    "# X = root(F, X_0, tol=1e-4)"
   ]
  },
  {
   "cell_type": "code",
   "execution_count": 20,
   "metadata": {},
   "outputs": [],
   "source": [
    "# X = root(F, X_0, tol=1e-4, method='krylov')"
   ]
  },
  {
   "cell_type": "code",
   "execution_count": 14,
   "metadata": {},
   "outputs": [],
   "source": [
    "# sol = root(F, X_0, method='broyden1', tol=1e-4)"
   ]
  },
  {
   "cell_type": "code",
   "execution_count": 9,
   "metadata": {},
   "outputs": [],
   "source": [
    "# Next thing to try: normalize all the values that need to be normalizedx"
   ]
  },
  {
   "cell_type": "code",
   "execution_count": 10,
   "metadata": {},
   "outputs": [],
   "source": [
    "# It seems quite early on, something is going wrong\n",
    "# Also, curious if I can speed it up in different ways "
   ]
  },
  {
   "cell_type": "code",
   "execution_count": 8,
   "metadata": {},
   "outputs": [],
   "source": [
    "# f = lambda W: reduced_counterfactual(W, data_dict)"
   ]
  },
  {
   "cell_type": "code",
   "execution_count": 10,
   "metadata": {},
   "outputs": [],
   "source": [
    "# J = jacfwd(f)"
   ]
  },
  {
   "cell_type": "code",
   "execution_count": null,
   "metadata": {},
   "outputs": [],
   "source": [
    "# J(X_0)"
   ]
  },
  {
   "cell_type": "code",
   "execution_count": null,
   "metadata": {},
   "outputs": [],
   "source": []
  }
 ],
 "metadata": {
  "kernelspec": {
   "display_name": "Python 3",
   "language": "python",
   "name": "python3"
  },
  "language_info": {
   "codemirror_mode": {
    "name": "ipython",
    "version": 3
   },
   "file_extension": ".py",
   "mimetype": "text/x-python",
   "name": "python",
   "nbconvert_exporter": "python",
   "pygments_lexer": "ipython3",
   "version": "3.6.4"
  }
 },
 "nbformat": 4,
 "nbformat_minor": 2
}
