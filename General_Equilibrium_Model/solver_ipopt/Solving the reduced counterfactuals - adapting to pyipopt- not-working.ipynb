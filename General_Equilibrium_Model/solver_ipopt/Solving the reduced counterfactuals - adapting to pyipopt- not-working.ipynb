{
 "cells": [
  {
   "cell_type": "code",
   "execution_count": 5,
   "metadata": {},
   "outputs": [],
   "source": [
    "import autograd.numpy as np\n",
    "import pyipopt\n",
    "from autograd import grad, hessian, jacobian\n",
    "\n",
    "import matplotlib.pyplot as plt\n",
    "from counterfactual_functions import *\n",
    "from helper import *\n",
    "\n",
    "\n",
    "\n",
    "username='boraozaltun'\n",
    "\n",
    "data_dict = load_obj('/Users/'+username+'/Dropbox (MIT)/Data/Trade/general_equilibrium_gravity/final_data/data_20200219.pickle')\n",
    "\n",
    "reg_2_num = load_obj('/Users/'+username+'/Dropbox (MIT)/Data/Trade/general_equilibrium_gravity/GTAP/mapping/reg_2_num.pickle')\n",
    "comm_2_num = load_obj('/Users/'+username+'/Dropbox (MIT)/Data/Trade/general_equilibrium_gravity/GTAP/mapping/comm_2_num.pickle')\n",
    "\n",
    "\n",
    "def eval_jac_g(X, flag, user_data=None):\n",
    "    \"\"\"\n",
    "    Evaluate the sparse Jacobian of constraint functions g.\n",
    "    @param X: parameter values\n",
    "    @param flag: this asks for the sparsity structure\n",
    "    \"\"\"\n",
    "    print('eval_jac_g')\n",
    "\n",
    "    if flag:\n",
    "        temp = np.ones((X.shape[0], X.shape[0]))\n",
    "        rows, cols = np.nonzero(temp)\n",
    "        #rows = np.linspace(0, len(X) -1, len(X)).astype(int)\n",
    "        #cols = np.linspace(0, len(X) -1, len(X)).astype(int)\n",
    "        return (rows, cols)\n",
    "    else:\n",
    "\n",
    "        return jacobian(eval_g)(X)\n",
    "\n",
    "\n",
    "n = data_dict['n']\n",
    "g = data_dict['g']\n",
    "k = data_dict['k']\n",
    "\n",
    "data_dict['R_hat'] = np.ones((n, g))\n",
    "X_0 = np.ones(n*g + n)*1.0\n",
    "\n",
    "eval_g = lambda x: reduced_counterfactual(x, data_dict)\n",
    "eval_f = lambda x: np.linalg.norm(reduced_counterfactual(x, data_dict))\n",
    "\n",
    "nvar = X_0.shape[0]\n",
    "x_L = np.zeros((nvar))\n",
    "x_U = np.ones((nvar)) * 10000.0\n",
    "\n",
    "ncon = nvar\n",
    "\n",
    "g_L = np.zeros((nvar))*1.0\n",
    "g_U = np.zeros((nvar))*1.0\n",
    "\n",
    "eval_grad_f = grad(eval_f)\n",
    "\n",
    "nnzj = nvar*nvar\n",
    "nnzh =  int((nvar*(nvar+1))/2)\n"
   ]
  },
  {
   "cell_type": "code",
   "execution_count": 6,
   "metadata": {},
   "outputs": [
    {
     "name": "stdout",
     "output_type": "stream",
     "text": [
      "Going to call solve\n",
      "x0 = [1. 1. 1. ... 1. 1. 1.]\n"
     ]
    }
   ],
   "source": [
    "\n",
    "nlp = pyipopt.create(nvar, x_L, x_U, ncon, g_L, g_U, nnzj, nnzh, eval_f, eval_grad_f, eval_g, eval_jac_g)\n",
    "\n",
    "print(\"Going to call solve\")\n",
    "print(\"x0 = {}\".format(X_0))\n"
   ]
  },
  {
   "cell_type": "code",
   "execution_count": null,
   "metadata": {},
   "outputs": [
    {
     "name": "stdout",
     "output_type": "stream",
     "text": [
      "eval_jac_g\n"
     ]
    },
    {
     "name": "stderr",
     "output_type": "stream",
     "text": [
      "/Library/Frameworks/Python.framework/Versions/3.6/lib/python3.6/site-packages/autograd/numpy/numpy_vjps.py:444: FutureWarning: Using a non-tuple sequence for multidimensional indexing is deprecated; use `arr[tuple(seq)]` instead of `arr[seq]`. In the future this will be interpreted as an array index, `arr[np.array(seq)]`, which will result either in an error or a different result.\n",
      "  return lambda g: g[idxs]\n"
     ]
    },
    {
     "name": "stdout",
     "output_type": "stream",
     "text": [
      "eval_jac_g\n"
     ]
    }
   ],
   "source": [
    "x, zl, zu, constraint_multipliers, obj, status = nlp.solve(X_0)\n",
    "\n",
    "print('x:', x)\n",
    "print('zl:', zl)\n",
    "print('zu:', zu)\n",
    "print('constraint_multipliers:', constraint_multipliers)\n",
    "print('obj:', obj)\n",
    "print('status:', status)\n",
    "\n",
    "save_obj(x, 'x_output.pickle')\n",
    "\n",
    "\n",
    "\n"
   ]
  },
  {
   "cell_type": "code",
   "execution_count": null,
   "metadata": {},
   "outputs": [],
   "source": []
  }
 ],
 "metadata": {
  "kernelspec": {
   "display_name": "Python 3",
   "language": "python",
   "name": "python3"
  },
  "language_info": {
   "codemirror_mode": {
    "name": "ipython",
    "version": 3
   },
   "file_extension": ".py",
   "mimetype": "text/x-python",
   "name": "python",
   "nbconvert_exporter": "python",
   "pygments_lexer": "ipython3",
   "version": "3.6.3"
  }
 },
 "nbformat": 4,
 "nbformat_minor": 2
}
