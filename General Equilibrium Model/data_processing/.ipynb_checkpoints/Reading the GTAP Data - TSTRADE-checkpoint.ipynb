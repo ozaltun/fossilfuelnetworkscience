{
 "cells": [
  {
   "cell_type": "code",
   "execution_count": 1,
   "metadata": {},
   "outputs": [],
   "source": [
    "import numpy as np\n",
    "import pandas as pd\n",
    "import matplotlib.pyplot as plt"
   ]
  },
  {
   "cell_type": "code",
   "execution_count": 2,
   "metadata": {},
   "outputs": [],
   "source": [
    "root = '/Users/boraozaltun/Dropbox (MIT)/Data/Trade/general_equilibrium_gravity/GTAP/input/{}'"
   ]
  },
  {
   "cell_type": "code",
   "execution_count": 3,
   "metadata": {},
   "outputs": [],
   "source": [
    "files = ['basedata.csv', 'gview.csv', 'TSTRADE.csv']"
   ]
  },
  {
   "cell_type": "code",
   "execution_count": 4,
   "metadata": {
    "collapsed": true
   },
   "outputs": [
    {
     "ename": "ParserError",
     "evalue": "Error tokenizing data. C error: Expected 3 fields in line 4, saw 4\n",
     "output_type": "error",
     "traceback": [
      "\u001b[0;31m---------------------------------------------------------------------------\u001b[0m",
      "\u001b[0;31mParserError\u001b[0m                               Traceback (most recent call last)",
      "\u001b[0;32m<ipython-input-4-2b84662d2f67>\u001b[0m in \u001b[0;36m<module>\u001b[0;34m()\u001b[0m\n\u001b[1;32m      1\u001b[0m \u001b[0;31m# Pandas can't figure it out, need to clean\u001b[0m\u001b[0;34m\u001b[0m\u001b[0;34m\u001b[0m\u001b[0m\n\u001b[0;32m----> 2\u001b[0;31m \u001b[0mbasedata\u001b[0m \u001b[0;34m=\u001b[0m \u001b[0mpd\u001b[0m\u001b[0;34m.\u001b[0m\u001b[0mread_csv\u001b[0m\u001b[0;34m(\u001b[0m\u001b[0mroot\u001b[0m\u001b[0;34m.\u001b[0m\u001b[0mformat\u001b[0m\u001b[0;34m(\u001b[0m\u001b[0mfiles\u001b[0m\u001b[0;34m[\u001b[0m\u001b[0;36m1\u001b[0m\u001b[0;34m]\u001b[0m\u001b[0;34m)\u001b[0m\u001b[0;34m,\u001b[0m \u001b[0mheader\u001b[0m\u001b[0;34m=\u001b[0m\u001b[0;36m0\u001b[0m\u001b[0;34m)\u001b[0m\u001b[0;34m\u001b[0m\u001b[0m\n\u001b[0m",
      "\u001b[0;32m/Library/Frameworks/Python.framework/Versions/3.6/lib/python3.6/site-packages/pandas/io/parsers.py\u001b[0m in \u001b[0;36mparser_f\u001b[0;34m(filepath_or_buffer, sep, delimiter, header, names, index_col, usecols, squeeze, prefix, mangle_dupe_cols, dtype, engine, converters, true_values, false_values, skipinitialspace, skiprows, skipfooter, nrows, na_values, keep_default_na, na_filter, verbose, skip_blank_lines, parse_dates, infer_datetime_format, keep_date_col, date_parser, dayfirst, iterator, chunksize, compression, thousands, decimal, lineterminator, quotechar, quoting, doublequote, escapechar, comment, encoding, dialect, tupleize_cols, error_bad_lines, warn_bad_lines, delim_whitespace, low_memory, memory_map, float_precision)\u001b[0m\n\u001b[1;32m    700\u001b[0m                     skip_blank_lines=skip_blank_lines)\n\u001b[1;32m    701\u001b[0m \u001b[0;34m\u001b[0m\u001b[0m\n\u001b[0;32m--> 702\u001b[0;31m         \u001b[0;32mreturn\u001b[0m \u001b[0m_read\u001b[0m\u001b[0;34m(\u001b[0m\u001b[0mfilepath_or_buffer\u001b[0m\u001b[0;34m,\u001b[0m \u001b[0mkwds\u001b[0m\u001b[0;34m)\u001b[0m\u001b[0;34m\u001b[0m\u001b[0m\n\u001b[0m\u001b[1;32m    703\u001b[0m \u001b[0;34m\u001b[0m\u001b[0m\n\u001b[1;32m    704\u001b[0m     \u001b[0mparser_f\u001b[0m\u001b[0;34m.\u001b[0m\u001b[0m__name__\u001b[0m \u001b[0;34m=\u001b[0m \u001b[0mname\u001b[0m\u001b[0;34m\u001b[0m\u001b[0m\n",
      "\u001b[0;32m/Library/Frameworks/Python.framework/Versions/3.6/lib/python3.6/site-packages/pandas/io/parsers.py\u001b[0m in \u001b[0;36m_read\u001b[0;34m(filepath_or_buffer, kwds)\u001b[0m\n\u001b[1;32m    433\u001b[0m \u001b[0;34m\u001b[0m\u001b[0m\n\u001b[1;32m    434\u001b[0m     \u001b[0;32mtry\u001b[0m\u001b[0;34m:\u001b[0m\u001b[0;34m\u001b[0m\u001b[0m\n\u001b[0;32m--> 435\u001b[0;31m         \u001b[0mdata\u001b[0m \u001b[0;34m=\u001b[0m \u001b[0mparser\u001b[0m\u001b[0;34m.\u001b[0m\u001b[0mread\u001b[0m\u001b[0;34m(\u001b[0m\u001b[0mnrows\u001b[0m\u001b[0;34m)\u001b[0m\u001b[0;34m\u001b[0m\u001b[0m\n\u001b[0m\u001b[1;32m    436\u001b[0m     \u001b[0;32mfinally\u001b[0m\u001b[0;34m:\u001b[0m\u001b[0;34m\u001b[0m\u001b[0m\n\u001b[1;32m    437\u001b[0m         \u001b[0mparser\u001b[0m\u001b[0;34m.\u001b[0m\u001b[0mclose\u001b[0m\u001b[0;34m(\u001b[0m\u001b[0;34m)\u001b[0m\u001b[0;34m\u001b[0m\u001b[0m\n",
      "\u001b[0;32m/Library/Frameworks/Python.framework/Versions/3.6/lib/python3.6/site-packages/pandas/io/parsers.py\u001b[0m in \u001b[0;36mread\u001b[0;34m(self, nrows)\u001b[0m\n\u001b[1;32m   1137\u001b[0m     \u001b[0;32mdef\u001b[0m \u001b[0mread\u001b[0m\u001b[0;34m(\u001b[0m\u001b[0mself\u001b[0m\u001b[0;34m,\u001b[0m \u001b[0mnrows\u001b[0m\u001b[0;34m=\u001b[0m\u001b[0;32mNone\u001b[0m\u001b[0;34m)\u001b[0m\u001b[0;34m:\u001b[0m\u001b[0;34m\u001b[0m\u001b[0m\n\u001b[1;32m   1138\u001b[0m         \u001b[0mnrows\u001b[0m \u001b[0;34m=\u001b[0m \u001b[0m_validate_integer\u001b[0m\u001b[0;34m(\u001b[0m\u001b[0;34m'nrows'\u001b[0m\u001b[0;34m,\u001b[0m \u001b[0mnrows\u001b[0m\u001b[0;34m)\u001b[0m\u001b[0;34m\u001b[0m\u001b[0m\n\u001b[0;32m-> 1139\u001b[0;31m         \u001b[0mret\u001b[0m \u001b[0;34m=\u001b[0m \u001b[0mself\u001b[0m\u001b[0;34m.\u001b[0m\u001b[0m_engine\u001b[0m\u001b[0;34m.\u001b[0m\u001b[0mread\u001b[0m\u001b[0;34m(\u001b[0m\u001b[0mnrows\u001b[0m\u001b[0;34m)\u001b[0m\u001b[0;34m\u001b[0m\u001b[0m\n\u001b[0m\u001b[1;32m   1140\u001b[0m \u001b[0;34m\u001b[0m\u001b[0m\n\u001b[1;32m   1141\u001b[0m         \u001b[0;31m# May alter columns / col_dict\u001b[0m\u001b[0;34m\u001b[0m\u001b[0;34m\u001b[0m\u001b[0m\n",
      "\u001b[0;32m/Library/Frameworks/Python.framework/Versions/3.6/lib/python3.6/site-packages/pandas/io/parsers.py\u001b[0m in \u001b[0;36mread\u001b[0;34m(self, nrows)\u001b[0m\n\u001b[1;32m   1993\u001b[0m     \u001b[0;32mdef\u001b[0m \u001b[0mread\u001b[0m\u001b[0;34m(\u001b[0m\u001b[0mself\u001b[0m\u001b[0;34m,\u001b[0m \u001b[0mnrows\u001b[0m\u001b[0;34m=\u001b[0m\u001b[0;32mNone\u001b[0m\u001b[0;34m)\u001b[0m\u001b[0;34m:\u001b[0m\u001b[0;34m\u001b[0m\u001b[0m\n\u001b[1;32m   1994\u001b[0m         \u001b[0;32mtry\u001b[0m\u001b[0;34m:\u001b[0m\u001b[0;34m\u001b[0m\u001b[0m\n\u001b[0;32m-> 1995\u001b[0;31m             \u001b[0mdata\u001b[0m \u001b[0;34m=\u001b[0m \u001b[0mself\u001b[0m\u001b[0;34m.\u001b[0m\u001b[0m_reader\u001b[0m\u001b[0;34m.\u001b[0m\u001b[0mread\u001b[0m\u001b[0;34m(\u001b[0m\u001b[0mnrows\u001b[0m\u001b[0;34m)\u001b[0m\u001b[0;34m\u001b[0m\u001b[0m\n\u001b[0m\u001b[1;32m   1996\u001b[0m         \u001b[0;32mexcept\u001b[0m \u001b[0mStopIteration\u001b[0m\u001b[0;34m:\u001b[0m\u001b[0;34m\u001b[0m\u001b[0m\n\u001b[1;32m   1997\u001b[0m             \u001b[0;32mif\u001b[0m \u001b[0mself\u001b[0m\u001b[0;34m.\u001b[0m\u001b[0m_first_chunk\u001b[0m\u001b[0;34m:\u001b[0m\u001b[0;34m\u001b[0m\u001b[0m\n",
      "\u001b[0;32mpandas/_libs/parsers.pyx\u001b[0m in \u001b[0;36mpandas._libs.parsers.TextReader.read\u001b[0;34m()\u001b[0m\n",
      "\u001b[0;32mpandas/_libs/parsers.pyx\u001b[0m in \u001b[0;36mpandas._libs.parsers.TextReader._read_low_memory\u001b[0;34m()\u001b[0m\n",
      "\u001b[0;32mpandas/_libs/parsers.pyx\u001b[0m in \u001b[0;36mpandas._libs.parsers.TextReader._read_rows\u001b[0;34m()\u001b[0m\n",
      "\u001b[0;32mpandas/_libs/parsers.pyx\u001b[0m in \u001b[0;36mpandas._libs.parsers.TextReader._tokenize_rows\u001b[0;34m()\u001b[0m\n",
      "\u001b[0;32mpandas/_libs/parsers.pyx\u001b[0m in \u001b[0;36mpandas._libs.parsers.raise_parser_error\u001b[0;34m()\u001b[0m\n",
      "\u001b[0;31mParserError\u001b[0m: Error tokenizing data. C error: Expected 3 fields in line 4, saw 4\n"
     ]
    }
   ],
   "source": [
    "# Pandas can't figure it out, need to clean\n",
    "TSTRADE = pd.read_csv(root.format(files[1]), header=0)"
   ]
  },
  {
   "cell_type": "code",
   "execution_count": 5,
   "metadata": {},
   "outputs": [
    {
     "name": "stdout",
     "output_type": "stream",
     "text": [
      "['!Header: DVER', ' dimensions: 1 [1]', ' description: Format of GTAP Data']\n",
      "['!Header: 0IMB', ' dimensions: 1 [1]', ' description: Summary measure of imbalances', ' should be close to zero']\n",
      "['!Header: 1IMP', ' dimensions: 1 [1]', ' description: Summary measure for excess importation', ' should be close to zero']\n",
      "['!Header: 1SRP', ' dimensions: 1 [1]', ' description: Summary measure for economic surplus', ' should be close to zero']\n",
      "['!Header: 1TND', ' dimensions: 1 [1]', ' description: Summary measure for transport services', ' should be close to zero']\n",
      "['!Header: 1TNS', ' dimensions: 1 [1]', ' description: Summary measure for transport services', ' should be close to zero']\n",
      "['!Header: 2IMP', ' dimensions: TRAD_COMM*REG [57*134]', ' description: Checking the accounting on traded commodities supply and demand']\n",
      "['!Header: 2SRP', ' dimensions: REG [134]', ' description: Economic surplus in region s.  This should be close to zero.']\n",
      "['!Header: 2TND', ' dimensions: TRAD_COMM*REG*REG [57*134*134]', ' description: Difference between global demand and margins', ' should be close to zero']\n",
      "['!Header: 2TNS', ' dimensions: 1 [1]', ' description: Diff btwn ttl supply of trnsprt srvcs & ttl margins', ' should be close t']\n",
      "['!Header: AG01', ' dimensions: REG*GDPEXPEND [134*5]', ' description: GDPEXP = C + I + G + X - M', ' GDP from the expenditure side']\n",
      "['!Header: AG02', ' dimensions: REG*GDPSOURCE [134*3]', ' description: GDPSRC = NETFACTINC + NETAXES + VDEP', ' GDP from the sources side']\n",
      "['!Header: AG03', ' dimensions: ENDW_COMM*PROD_COMM*REG [5*58*134]', ' description: Sources of factor income (NETFACTINC + VDEP) by sector - EVFA(j', 'r)']\n",
      "['!Header: AG04', ' dimensions: REG*CAPACCT [134*2]', ' description: S - I = X - M: CAPITALACCT']\n",
      "['!Header: AG05', ' dimensions: REG*CURACCT*TRAD_COMM [134*2*57]', ' description: X - M = S - I: CURRENTACCT']\n",
      "['!Header: AG06', ' dimensions: REG [134]', ' description: Capital stock by region - VKB']\n",
      "['!Header: BI01', ' dimensions: TRAD_COMM*REG*REG*EXPVALUE [57*134*134*2]', ' description: Decomposition of exports at world prices: VXWD=VXMD+XTAX']\n",
      "['!Header: BI02', ' dimensions: TRAD_COMM*REG*REG*IMPVALUE [57*134*134*2]', ' description: Decomposition of imports at market prices: VIMS=VIWS+MTAX']\n",
      "['!Header: BI03', ' dimensions: TRAD_COMM*REG*REG*MKTVALUE [57*134*134*2]', ' description: Decomposition of cif values - CIFDECOMP']\n",
      "['!Header: CM01', ' dimensions: TRAD_COMM*OUT*REG [57*3*134]', ' description: Disposition of output - OUTDISP']\n",
      "['!Header: CM02', ' dimensions: TRAD_COMM*SALES*REG [57*3*134]', ' description: Disposition of domestic goods - DOMSALESDISP']\n",
      "['!Header: CM03', ' dimensions: TRAD_COMM*SALES*REG [57*3*134]', ' description: Disposition of imported goods - IMPSALESDISP']\n",
      "['!Header: CM04', ' dimensions: TRAD_COMM*REG*OUTVALUE [57*134*2]', ' description: Value of output at market prices:  VOM = VOA + OUTTAX']\n",
      "['!Header: CM05', ' dimensions: TRAD_COMM*REG [57*134]', ' description: Self-sufficiency or domestic share in total use - SUFFICIENCY']\n",
      "['!Header: SDEP', ' dimensions: REG [134]', ' description: VDEP bad-sign flag; 1 if negative', ' else 0']\n",
      "['!Header: SDFA', ' dimensions: TRAD_COMM*PROD_COMM*REG [57*58*134]', ' description: VDFA bad-sign flag; 1 if negative', ' else 0']\n",
      "['!Header: SDFM', ' dimensions: TRAD_COMM*PROD_COMM*REG [57*58*134]', ' description: VDFM bad-sign flag; 1 if negative', ' else 0']\n",
      "['!Header: SDGA', ' dimensions: TRAD_COMM*REG [57*134]', ' description: VDGA bad-sign flag; 1 if negative', ' else 0']\n",
      "['!Header: SDGM', ' dimensions: TRAD_COMM*REG [57*134]', ' description: VDGM bad-sign flag; 1 if negative', ' else 0']\n",
      "['!Header: SDPA', ' dimensions: TRAD_COMM*REG [57*134]', ' description: VDPA bad-sign flag; 1 if negative', ' else 0']\n",
      "['!Header: SDPM', ' dimensions: TRAD_COMM*REG [57*134]', ' description: VDPM bad-sign flag; 1 if negative', ' else 0']\n",
      "['!Header: SF01', ' dimensions: DEMD_COMM*PROD_COMM*REG*DIR*PURCHVALUE [62*58*134*2*2]', ' description: Cost structure of firms - VFA']\n",
      "['!Header: SF02', ' dimensions: TRAD_COMM*REG*DIR*PURCHVALUE [57*134*2*2]', ' description: Cost structure of consumption - VPA']\n",
      "['!Header: SF03', ' dimensions: TRAD_COMM*REG*DIR*PURCHVALUE [57*134*2*2]', ' description: Cost structure of government - VGA']\n",
      "['!Header: SFM ', ' dimensions: ENDW_COMM*PROD_COMM*REG [5*58*134]', ' description: VFM bad-sign flag; 1 if negative', ' else 0']\n",
      "['!Header: SIFA', ' dimensions: TRAD_COMM*PROD_COMM*REG [57*58*134]', ' description: VIFA bad-sign flag; 1 if negative', ' else 0']\n",
      "['!Header: SIFM', ' dimensions: TRAD_COMM*PROD_COMM*REG [57*58*134]', ' description: VIFM bad-sign flag; 1 if negative', ' else 0']\n",
      "['!Header: SIGA', ' dimensions: TRAD_COMM*REG [57*134]', ' description: VIGA bad-sign flag; 1 if negative', ' else 0']\n",
      "['!Header: SIGM', ' dimensions: TRAD_COMM*REG [57*134]', ' description: VIGM bad-sign flag; 1 if negative', ' else 0']\n",
      "['!Header: SIMS', ' dimensions: TRAD_COMM*REG*REG [57*134*134]', ' description: VIMS bad-sign flag; 1 if negative', ' else 0']\n",
      "['!Header: SIPA', ' dimensions: TRAD_COMM*REG [57*134]', ' description: VIPA bad-sign flag; 1 if negative', ' else 0']\n",
      "['!Header: SIPM', ' dimensions: TRAD_COMM*REG [57*134]', ' description: VIPM bad-sign flag; 1 if negative', ' else 0']\n",
      "['!Header: SIWS', ' dimensions: TRAD_COMM*REG*REG [57*134*134]', ' description: VIWS bad-sign flag; 1 if negative', ' else 0']\n",
      "['!Header: SKB ', ' dimensions: REG [134]', ' description: VKB bad-sign flag; 1 if negative', ' else 0']\n",
      "['!Header: SST ', ' dimensions: MARG_COMM*REG [3*134]', ' description: VST bad-sign flag; 1 if negative', ' else 0']\n",
      "['!Header: STWR', ' dimensions: MARG_COMM*TRAD_COMM*REG*REG [3*57*134*134]', ' description: VTWR bad-sign flag; 1 if negative', ' else 0']\n",
      "['!Header: SVFA', ' dimensions: ENDW_COMM*PROD_COMM*REG [5*58*134]', ' description: EVFA bad-sign flag; 1 if negative', ' else 0']\n",
      "['!Header: SVOA', ' dimensions: ENDW_COMM*REG [5*134]', ' description: EVOA bad-sign flag; 1 if negative', ' else 0']\n",
      "['!Header: SXMD', ' dimensions: TRAD_COMM*REG*REG [57*134*134]', ' description: VXMD bad-sign flag; 1 if negative', ' else 0']\n",
      "['!Header: SXWD', ' dimensions: TRAD_COMM*REG*REG [57*134*134]', ' description: VXWD bad-sign flag; 1 if negative', ' else 0']\n"
     ]
    }
   ],
   "source": [
    "import csv\n",
    "\n",
    "data_dict = {}\n",
    "with open(root.format(files[2])) as csvfile:\n",
    "    readCSV = csv.reader(csvfile, delimiter=',')\n",
    "    for row in readCSV:\n",
    "        if 'Header' in row[0]:\n",
    "            key = row[2].split('description: ')[1]\n",
    "            data_dict[key] = {}\n",
    "            data_dict[key]['header']= row\n",
    "            data_dict[key]['data'] = []\n",
    "            print(row)\n",
    "        else:\n",
    "            data_dict[key]['data'].append(row)\n",
    "        \n",
    "        "
   ]
  },
  {
   "cell_type": "code",
   "execution_count": 6,
   "metadata": {},
   "outputs": [
    {
     "name": "stdout",
     "output_type": "stream",
     "text": [
      "Format of GTAP Data\n",
      "Summary measure of imbalances\n",
      "Summary measure for excess importation\n",
      "Summary measure for economic surplus\n",
      "Summary measure for transport services\n",
      "Checking the accounting on traded commodities supply and demand\n",
      "Economic surplus in region s.  This should be close to zero.\n",
      "Difference between global demand and margins\n",
      "Diff btwn ttl supply of trnsprt srvcs & ttl margins\n",
      "GDPEXP = C + I + G + X - M\n",
      "GDPSRC = NETFACTINC + NETAXES + VDEP\n",
      "Sources of factor income (NETFACTINC + VDEP) by sector - EVFA(j\n",
      "S - I = X - M: CAPITALACCT\n",
      "X - M = S - I: CURRENTACCT\n",
      "Capital stock by region - VKB\n",
      "Decomposition of exports at world prices: VXWD=VXMD+XTAX\n",
      "Decomposition of imports at market prices: VIMS=VIWS+MTAX\n",
      "Decomposition of cif values - CIFDECOMP\n",
      "Disposition of output - OUTDISP\n",
      "Disposition of domestic goods - DOMSALESDISP\n",
      "Disposition of imported goods - IMPSALESDISP\n",
      "Value of output at market prices:  VOM = VOA + OUTTAX\n",
      "Self-sufficiency or domestic share in total use - SUFFICIENCY\n",
      "VDEP bad-sign flag; 1 if negative\n",
      "VDFA bad-sign flag; 1 if negative\n",
      "VDFM bad-sign flag; 1 if negative\n",
      "VDGA bad-sign flag; 1 if negative\n",
      "VDGM bad-sign flag; 1 if negative\n",
      "VDPA bad-sign flag; 1 if negative\n",
      "VDPM bad-sign flag; 1 if negative\n",
      "Cost structure of firms - VFA\n",
      "Cost structure of consumption - VPA\n",
      "Cost structure of government - VGA\n",
      "VFM bad-sign flag; 1 if negative\n",
      "VIFA bad-sign flag; 1 if negative\n",
      "VIFM bad-sign flag; 1 if negative\n",
      "VIGA bad-sign flag; 1 if negative\n",
      "VIGM bad-sign flag; 1 if negative\n",
      "VIMS bad-sign flag; 1 if negative\n",
      "VIPA bad-sign flag; 1 if negative\n",
      "VIPM bad-sign flag; 1 if negative\n",
      "VIWS bad-sign flag; 1 if negative\n",
      "VKB bad-sign flag; 1 if negative\n",
      "VST bad-sign flag; 1 if negative\n",
      "VTWR bad-sign flag; 1 if negative\n",
      "EVFA bad-sign flag; 1 if negative\n",
      "EVOA bad-sign flag; 1 if negative\n",
      "VXMD bad-sign flag; 1 if negative\n",
      "VXWD bad-sign flag; 1 if negative\n"
     ]
    }
   ],
   "source": [
    "acronym_list = []\n",
    "for i in data_dict.keys():\n",
    "    print(i)\n",
    "    data_dict[i]['header'][0] = data_dict[i]['header'][0].split('!Header: ')[1]"
   ]
  },
  {
   "cell_type": "code",
   "execution_count": 7,
   "metadata": {},
   "outputs": [],
   "source": [
    "root2 = '/Users/boraozaltun/Dropbox (MIT)/Data/Trade/general_equilibrium_gravity/GTAP/output/TSTRADE/{}'"
   ]
  },
  {
   "cell_type": "code",
   "execution_count": null,
   "metadata": {},
   "outputs": [],
   "source": [
    "## Just a naive check that there are nnon issues in turning the data into pandas\n",
    "for i in data_dict.keys():\n",
    "    data_dict[i]['data_df'] = pd.DataFrame(data_dict[i]['data'])"
   ]
  },
  {
   "cell_type": "code",
   "execution_count": null,
   "metadata": {},
   "outputs": [],
   "source": [
    "header_list = []\n",
    "for i in data_dict.keys():\n",
    "    data_dict[i]['data_df'].to_csv(root2.format(i+'.csv'))\n",
    "    header_list.append(data_dict[i]['header'])"
   ]
  },
  {
   "cell_type": "code",
   "execution_count": null,
   "metadata": {},
   "outputs": [],
   "source": [
    "pd.DataFrame(header_list).to_csv(root2.format('Data Description.csv'))"
   ]
  },
  {
   "cell_type": "code",
   "execution_count": null,
   "metadata": {},
   "outputs": [],
   "source": [
    "del data_dict"
   ]
  },
  {
   "cell_type": "code",
   "execution_count": null,
   "metadata": {},
   "outputs": [],
   "source": []
  }
 ],
 "metadata": {
  "kernelspec": {
   "display_name": "Python 3",
   "language": "python",
   "name": "python3"
  },
  "language_info": {
   "codemirror_mode": {
    "name": "ipython",
    "version": 3
   },
   "file_extension": ".py",
   "mimetype": "text/x-python",
   "name": "python",
   "nbconvert_exporter": "python",
   "pygments_lexer": "ipython3",
   "version": "3.6.3"
  }
 },
 "nbformat": 4,
 "nbformat_minor": 2
}
