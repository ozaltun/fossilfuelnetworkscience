{
 "cells": [
  {
   "cell_type": "code",
   "execution_count": 1,
   "metadata": {},
   "outputs": [],
   "source": [
    "import numpy as np\n",
    "import pandas as pd\n",
    "import pickle\n",
    "from helper import *"
   ]
  },
  {
   "cell_type": "code",
   "execution_count": null,
   "metadata": {},
   "outputs": [],
   "source": [
    "#  Creatin the demand matrices"
   ]
  },
  {
   "cell_type": "code",
   "execution_count": 2,
   "metadata": {},
   "outputs": [],
   "source": [
    "## Datasets needed to get production: basedata/VXMD.csv, basedata/VST.csv, basedata/VDFM.csv, basedata/VDPM.csv,\n",
    "## basedata/VDGM.csv, basedata/\n",
    "\n",
    "## or just baseview/vom.csv\n",
    "\n",
    "# Domestic demand for a produce: VDPMir + VDGMir + SjVDFMijr  \n",
    "root = '/Users/boraozaltun/Dropbox (MIT)/Data/Trade/general_equilibrium_gravity/GTAP/output/basedata/{}.csv'\n",
    "\n",
    "vdpm =  pd.read_csv(root.format('VDPM'), index_col=0, header=1, low_memory=False)\n",
    "vdgm =  pd.read_csv(root.format('VDGM'), index_col=0, header=1, low_memory=False)\n",
    "vdfm =  pd.read_csv(root.format('VDFM'), index_col=0, header=1, low_memory=False)\n",
    "\n",
    "vipm =  pd.read_csv(root.format('VIPM'), index_col=0, header=1, low_memory=False)\n",
    "vigm =  pd.read_csv(root.format('VIGM'), index_col=0, header=1, low_memory=False)\n",
    "vifm =  pd.read_csv(root.format('VIFM'), index_col=0, header=1, low_memory=False)\n",
    "\n",
    "comm_2_num = load_obj('/Users/boraozaltun/Dropbox (MIT)/Data/Trade/general_equilibrium_gravity/GTAP/mapping/comm_2_num.pickle')\n",
    "reg_2_num = load_obj('/Users/boraozaltun/Dropbox (MIT)/Data/Trade/general_equilibrium_gravity/GTAP/mapping/reg_2_num.pickle')\n",
    "prodcomm_2_num = load_obj('/Users/boraozaltun/Dropbox (MIT)/Data/Trade/general_equilibrium_gravity/GTAP/mapping/prodcomm_2_num.pickle')"
   ]
  },
  {
   "cell_type": "code",
   "execution_count": 7,
   "metadata": {},
   "outputs": [
    {
     "name": "stdout",
     "output_type": "stream",
     "text": [
      "Number of empty values:  []\n",
      "Number of empty values:  []\n",
      "Number of empty values:  []\n"
     ]
    }
   ],
   "source": [
    "vdpm_np = convertRow2Matrix(vdpm, ['TRAD_COMM','REG'], [comm_2_num, reg_2_num])\n",
    "vdgm_np = convertRow2Matrix(vdgm, ['TRAD_COMM','REG'], [comm_2_num, reg_2_num])\n",
    "vdfm_np = convertRow2Matrix(vdfm, ['TRAD_COMM','PROD_COMM','REG'], [comm_2_num, prodcomm_2_num, reg_2_num])"
   ]
  },
  {
   "cell_type": "code",
   "execution_count": 11,
   "metadata": {},
   "outputs": [
    {
     "name": "stdout",
     "output_type": "stream",
     "text": [
      "Number of empty values:  []\n",
      "Number of empty values:  []\n",
      "Number of empty values:  []\n"
     ]
    }
   ],
   "source": [
    "vipm_np = convertRow2Matrix(vipm, ['TRAD_COMM','REG'], [comm_2_num, reg_2_num])\n",
    "vigm_np = convertRow2Matrix(vigm, ['TRAD_COMM','REG'], [comm_2_num, reg_2_num])\n",
    "vifm_np = convertRow2Matrix(vifm, ['TRAD_COMM','PROD_COMM','REG'], [comm_2_num, prodcomm_2_num, reg_2_num])"
   ]
  },
  {
   "cell_type": "code",
   "execution_count": 15,
   "metadata": {},
   "outputs": [],
   "source": [
    "del vdpm, vdgm, vdfm, vipm, vigm, vifm"
   ]
  },
  {
   "cell_type": "code",
   "execution_count": 16,
   "metadata": {},
   "outputs": [],
   "source": [
    "## See Section 4 in the paper. Demand is calibrated using the trade data... But in the data description,\n",
    "## Check out vim. It seems better for this dataset"
   ]
  },
  {
   "cell_type": "code",
   "execution_count": 17,
   "metadata": {},
   "outputs": [],
   "source": [
    "# Local Supply for Demand for a good in a country :\n",
    "vdm = vdpm_np + vdgm_np + vdfm_np.sum(axis=1)"
   ]
  },
  {
   "cell_type": "code",
   "execution_count": 18,
   "metadata": {},
   "outputs": [],
   "source": [
    "# Imported Supply for Demand in a country :\n",
    "vim = vipm_np + vigm_np + vifm_np.sum(axis=1)"
   ]
  },
  {
   "cell_type": "code",
   "execution_count": 19,
   "metadata": {},
   "outputs": [],
   "source": [
    "D = vdm + vim"
   ]
  },
  {
   "cell_type": "code",
   "execution_count": 21,
   "metadata": {},
   "outputs": [
    {
     "data": {
      "text/plain": [
       "array([[4.51293589e+01, 2.22204931e+00, 1.75614334e+01, ...,\n",
       "        3.85263924e+00, 1.39074195e+00, 1.37864159e-02],\n",
       "       [3.22800545e+03, 1.11366606e+02, 7.39844395e+01, ...,\n",
       "        1.11049938e+03, 1.01624309e+00, 1.16110489e-01],\n",
       "       [2.31354246e+03, 1.59287940e+02, 4.07264814e+01, ...,\n",
       "        2.29180264e+03, 1.85171122e+02, 1.50010139e-01],\n",
       "       ...,\n",
       "       [6.30130770e+04, 7.89187239e+03, 1.87439402e+03, ...,\n",
       "        2.13156915e+04, 2.11132721e+02, 6.54503272e+00],\n",
       "       [1.76216889e+05, 3.04154244e+04, 7.13865523e+03, ...,\n",
       "        7.33960222e+04, 8.04582260e+02, 2.68017310e+01],\n",
       "       [7.70555954e+04, 1.22433714e+04, 2.63488896e+03, ...,\n",
       "        1.21776120e+04, 1.71952995e+02, 9.59033568e+00]])"
      ]
     },
     "execution_count": 21,
     "metadata": {},
     "output_type": "execute_result"
    }
   ],
   "source": [
    "D.sum(axis=1)"
   ]
  },
  {
   "cell_type": "code",
   "execution_count": 22,
   "metadata": {},
   "outputs": [],
   "source": [
    "root_matrix = '/Users/boraozaltun/Dropbox (MIT)/Data/Trade/general_equilibrium_gravity/GTAP/matrices/D.pickle'\n",
    "save_obj(D, root_matrix)"
   ]
  },
  {
   "cell_type": "code",
   "execution_count": 23,
   "metadata": {},
   "outputs": [
    {
     "data": {
      "text/plain": [
       "array([-3.32522276e+02, -5.52114818e+03, -4.77742133e+03, -2.09411482e+04,\n",
       "       -7.06301582e+03, -1.39084855e+01, -1.13061851e+03, -6.64251505e+03,\n",
       "       -5.67954921e+02, -1.68719536e+03, -4.59865477e+00, -7.66459083e+02,\n",
       "       -2.29968511e+03, -2.71224497e+03, -7.80751255e+03, -8.63031653e+04,\n",
       "       -2.79591205e+04, -5.84017627e+04, -6.71649177e+03, -7.52968752e+03,\n",
       "       -1.19730533e+04, -6.95334743e+03, -5.10756427e+03, -5.38423696e+03,\n",
       "       -3.32869648e+04, -1.31371302e+04, -4.47871133e+04, -4.58159340e+04,\n",
       "       -1.76530205e+04, -2.93246541e+04, -2.16021736e+04, -5.48270378e+04,\n",
       "       -1.18899131e+05, -2.50356957e+04, -3.67792951e+04, -1.80567297e+04,\n",
       "       -2.54018683e+04, -7.97908591e+04, -1.47253765e+04, -4.09614245e+04,\n",
       "       -1.19233275e+05, -1.70042439e+04, -4.76919274e+01, -2.25755392e-03,\n",
       "       -2.22847814e-03,  1.13784997e-02, -1.46052521e-02,  1.57392480e+05,\n",
       "        3.14287722e+05,  7.03239869e+04, -1.72353471e-02, -2.44370336e-02,\n",
       "        1.74577336e-02, -1.46019410e-01,  5.53665496e-02, -3.59057410e-01,\n",
       "       -4.14556917e-02])"
      ]
     },
     "execution_count": 23,
     "metadata": {},
     "output_type": "execute_result"
    }
   ],
   "source": [
    "(Y.sum(axis=1) - D.sum(axis=1))"
   ]
  },
  {
   "cell_type": "code",
   "execution_count": 24,
   "metadata": {},
   "outputs": [
    {
     "data": {
      "text/plain": [
       "-0.004555784250461842"
      ]
     },
     "execution_count": 24,
     "metadata": {},
     "output_type": "execute_result"
    }
   ],
   "source": [
    "(Y.sum().sum() - D.sum().sum())/Y.sum().sum()"
   ]
  },
  {
   "cell_type": "code",
   "execution_count": null,
   "metadata": {},
   "outputs": [],
   "source": [
    "# This might come to bite you in the ass. Get PRoduction to match consumption. \n",
    "# Maybe since it is \"market prices\", there is this mismatch??"
   ]
  }
 ],
 "metadata": {
  "kernelspec": {
   "display_name": "Python 3",
   "language": "python",
   "name": "python3"
  },
  "language_info": {
   "codemirror_mode": {
    "name": "ipython",
    "version": 3
   },
   "file_extension": ".py",
   "mimetype": "text/x-python",
   "name": "python",
   "nbconvert_exporter": "python",
   "pygments_lexer": "ipython3",
   "version": "3.6.3"
  }
 },
 "nbformat": 4,
 "nbformat_minor": 2
}
