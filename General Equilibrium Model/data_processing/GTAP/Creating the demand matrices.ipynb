{
 "cells": [
  {
   "cell_type": "code",
   "execution_count": 1,
   "metadata": {},
   "outputs": [],
   "source": [
    "import numpy as np\n",
    "import pandas as pd\n",
    "import pickle"
   ]
  },
  {
   "cell_type": "code",
   "execution_count": 2,
   "metadata": {},
   "outputs": [],
   "source": [
    "## Datasets needed to get production: basedata/VXMD.csv, basedata/VST.csv, basedata/VDFM.csv, basedata/VDPM.csv,\n",
    "## basedata/VDGM.csv, basedata/\n",
    "\n",
    "## or just baseview/vom.csv\n",
    "\n",
    "\n",
    "############### Some important functions to carry around #####################\n",
    "def save_obj(obj, loc ):\n",
    "    with open(loc, 'wb') as f:\n",
    "        pickle.dump(obj, f, pickle.HIGHEST_PROTOCOL)\n",
    "\n",
    "def load_obj(loc):\n",
    "    with open(loc, 'rb') as f:\n",
    "        return pickle.load(f)\n",
    "\n",
    "def reverse_dict(my_map):\n",
    "    inv_map = {v: k for k, v in my_map.items()}\n",
    "    return inv_map\n",
    "\n",
    "def convertRow2Matrix(df, index_cols, maps):\n",
    "    ''' This is a new function: example use:\n",
    "    \n",
    "    vom_np_2 = convertRow2Matrix(vom, ['TRAD_COMM','REG'], [comm_2_num, reg_2_num])\n",
    "    \n",
    "    '''\n",
    "    df_copy = df.copy()\n",
    "    index_cols_n = [col+'_Number' for col in index_cols]\n",
    "    for i, col in enumerate(index_cols):\n",
    "        df_copy[index_cols_n[i]] = df_copy[col].map(maps[i])\n",
    "    \n",
    "    df_mi = df_copy.set_index(index_cols_n)\n",
    "    df_mi.drop(index_cols, axis=1, inplace=True)\n",
    "    \n",
    "    shape = list(map(len, df_mi.index.levels))\n",
    "    output = np.full(shape, -1000)\n",
    "    \n",
    "    for i in list(df_mi.index.values):\n",
    "        output[i] = df_mi.loc[i].values[0]\n",
    "        \n",
    "    print('Number of empty values: ', output[output<0])\n",
    "    \n",
    "    return output\n",
    "\n",
    "############################################################################\n",
    "\n",
    "# Domestic demand for a produce: VDPMir + VDGMir + SjVDFMijr  \n",
    "root = '/Users/boraozaltun/Dropbox (MIT)/Data/Trade/general_equilibrium_gravity/GTAP/output/basedata/{}.csv'\n",
    "\n",
    "vdpm =  pd.read_csv(root.format('VDPM'), index_col=0, header=1, low_memory=False)\n",
    "vdgm =  pd.read_csv(root.format('VDGM'), index_col=0, header=1, low_memory=False)\n",
    "vdfm =  pd.read_csv(root.format('VDFM'), index_col=0, header=1, low_memory=False)\n",
    "\n",
    "vipm =  pd.read_csv(root.format('VIPM'), index_col=0, header=1, low_memory=False)\n",
    "vigm =  pd.read_csv(root.format('VIGM'), index_col=0, header=1, low_memory=False)\n",
    "vifm =  pd.read_csv(root.format('VIFM'), index_col=0, header=1, low_memory=False)\n",
    "\n",
    "comm_2_num = load_obj('/Users/boraozaltun/Dropbox (MIT)/Data/Trade/general_equilibrium_gravity/GTAP/mapping/comm_2_num.pickle')\n",
    "reg_2_num = load_obj('/Users/boraozaltun/Dropbox (MIT)/Data/Trade/general_equilibrium_gravity/GTAP/mapping/reg_2_num.pickle')\n",
    "prodcomm_2_num = load_obj('/Users/boraozaltun/Dropbox (MIT)/Data/Trade/general_equilibrium_gravity/GTAP/mapping/prodcomm_2_num.pickle')"
   ]
  },
  {
   "cell_type": "code",
   "execution_count": 3,
   "metadata": {},
   "outputs": [],
   "source": [
    "root = '/Users/boraozaltun/Dropbox (MIT)/Data/Trade/general_equilibrium_gravity/GTAP/matrices/{}.pickle'\n",
    "X = load_obj(root.format('X'))\n",
    "Y = load_obj(root.format('Y'))"
   ]
  },
  {
   "cell_type": "code",
   "execution_count": 4,
   "metadata": {},
   "outputs": [
    {
     "name": "stdout",
     "output_type": "stream",
     "text": [
      "Number of empty values:  []\n",
      "Number of empty values:  []\n",
      "Number of empty values:  []\n"
     ]
    }
   ],
   "source": [
    "vdpm_np = convertRow2Matrix(vdpm, ['TRAD_COMM','REG'], [comm_2_num, reg_2_num])\n",
    "vdgm_np = convertRow2Matrix(vdgm, ['TRAD_COMM','REG'], [comm_2_num, reg_2_num])\n",
    "vdfm_np = convertRow2Matrix(vdfm, ['TRAD_COMM','PROD_COMM','REG'], [comm_2_num, prodcomm_2_num, reg_2_num])"
   ]
  },
  {
   "cell_type": "code",
   "execution_count": 5,
   "metadata": {},
   "outputs": [
    {
     "name": "stdout",
     "output_type": "stream",
     "text": [
      "Number of empty values:  []\n",
      "Number of empty values:  []\n",
      "Number of empty values:  []\n"
     ]
    }
   ],
   "source": [
    "vipm_np = convertRow2Matrix(vipm, ['TRAD_COMM','REG'], [comm_2_num, reg_2_num])\n",
    "vigm_np = convertRow2Matrix(vigm, ['TRAD_COMM','REG'], [comm_2_num, reg_2_num])\n",
    "vifm_np = convertRow2Matrix(vifm, ['TRAD_COMM','PROD_COMM','REG'], [comm_2_num, prodcomm_2_num, reg_2_num])"
   ]
  },
  {
   "cell_type": "code",
   "execution_count": 6,
   "metadata": {},
   "outputs": [],
   "source": [
    "del vdpm, vdgm, vdfm, vipm, vigm, vifm"
   ]
  },
  {
   "cell_type": "code",
   "execution_count": 7,
   "metadata": {},
   "outputs": [],
   "source": [
    "## See Section 4 in the paper. Demand is calibrated using the trade data... But in the data description,\n",
    "## Check out vim. It seems better for this dataset"
   ]
  },
  {
   "cell_type": "code",
   "execution_count": 8,
   "metadata": {},
   "outputs": [],
   "source": [
    "# Local Supply for Demand for a good in a country :\n",
    "vdm = vdpm_np + vdgm_np + vdfm_np.sum(axis=1)"
   ]
  },
  {
   "cell_type": "code",
   "execution_count": 9,
   "metadata": {},
   "outputs": [],
   "source": [
    "# Imported Supply for Demand in a country :\n",
    "vim = vipm_np + vigm_np + vifm_np.sum(axis=1)"
   ]
  },
  {
   "cell_type": "code",
   "execution_count": 10,
   "metadata": {},
   "outputs": [],
   "source": [
    "D = vdm + vim"
   ]
  },
  {
   "cell_type": "code",
   "execution_count": 12,
   "metadata": {},
   "outputs": [
    {
     "data": {
      "text/plain": [
       "array([  136751,   146417,   220083,   747641,   159321,    48575,\n",
       "          64233,   297030,   229747,   468730,   283674,    28102,\n",
       "         212323,   207321,   239652,  1765109,   351158,   682544,\n",
       "         370885,   442143,   262815,   657513,   154064,   142830,\n",
       "        1983982,   961830,  1121357,   751020,   366773,   969239,\n",
       "        1841645,  2933172,  4971856,  1253501,  1856539,  1110737,\n",
       "        1825925,  3210606,   944758,  2608844,  5389349,   984617,\n",
       "        2079392,   270288,   364127,  8286448, 10297559,  3869466,\n",
       "         346337,   737571,  2107156,  3951544,  1426810, 11226918,\n",
       "        3208434, 13715612,  3249377])"
      ]
     },
     "execution_count": 12,
     "metadata": {},
     "output_type": "execute_result"
    }
   ],
   "source": [
    "D.sum(axis=1)"
   ]
  },
  {
   "cell_type": "code",
   "execution_count": 21,
   "metadata": {},
   "outputs": [],
   "source": [
    "root_matrix = '/Users/boraozaltun/Dropbox (MIT)/Data/Trade/general_equilibrium_gravity/GTAP/matrices/D.pickle'\n",
    "save_obj(D, root_matrix)"
   ]
  },
  {
   "cell_type": "code",
   "execution_count": 18,
   "metadata": {},
   "outputs": [
    {
     "data": {
      "text/plain": [
       "array([    346,   -4174,   -3108,  -19148,   -5904,     475,    -412,\n",
       "         -4511,     612,     -62,     920,    -298,    -538,   -1557,\n",
       "         -6877,  -85923,  -26718,  -55889,   -5159,   -6115,  -10281,\n",
       "         -5256,   -4184,   -3991,  -30029,  -10984,  -41225,  -43003,\n",
       "        -15554,  -25815,  -16843,  -50146, -112992,  -21203,  -33523,\n",
       "        -14968,  -20405,  -76053,  -11748,  -37422, -114077,  -13290,\n",
       "          4023,    1491,    2569,    3421,    4979,  162536,  317368,\n",
       "         74473,    4228,    4786,    4097,    5765,    3542,    3469,\n",
       "           966])"
      ]
     },
     "execution_count": 18,
     "metadata": {},
     "output_type": "execute_result"
    }
   ],
   "source": [
    "(Y.sum(axis=1) - D.sum(axis=1))"
   ]
  },
  {
   "cell_type": "code",
   "execution_count": 20,
   "metadata": {},
   "outputs": [
    {
     "data": {
      "text/plain": [
       "-0.0031359733571236226"
      ]
     },
     "execution_count": 20,
     "metadata": {},
     "output_type": "execute_result"
    }
   ],
   "source": [
    "(Y.sum().sum() - D.sum().sum())/Y.sum().sum()"
   ]
  },
  {
   "cell_type": "code",
   "execution_count": null,
   "metadata": {},
   "outputs": [],
   "source": []
  }
 ],
 "metadata": {
  "kernelspec": {
   "display_name": "Python 3",
   "language": "python",
   "name": "python3"
  },
  "language_info": {
   "codemirror_mode": {
    "name": "ipython",
    "version": 3
   },
   "file_extension": ".py",
   "mimetype": "text/x-python",
   "name": "python",
   "nbconvert_exporter": "python",
   "pygments_lexer": "ipython3",
   "version": "3.6.3"
  }
 },
 "nbformat": 4,
 "nbformat_minor": 2
}
