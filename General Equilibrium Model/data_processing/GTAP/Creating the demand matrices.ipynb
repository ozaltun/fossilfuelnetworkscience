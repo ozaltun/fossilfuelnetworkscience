{
 "cells": [
  {
   "cell_type": "code",
   "execution_count": 1,
   "metadata": {},
   "outputs": [],
   "source": [
    "import numpy as np\n",
    "import pandas as pd\n",
    "import pickle"
   ]
  },
  {
   "cell_type": "code",
   "execution_count": 2,
   "metadata": {},
   "outputs": [],
   "source": [
    "## Datasets needed to get production: basedata/VXMD.csv, basedata/VST.csv, basedata/VDFM.csv, basedata/VDPM.csv,\n",
    "## basedata/VDGM.csv, basedata/\n",
    "\n",
    "## or just baseview/vom.csv\n",
    "\n",
    "\n",
    "############### Some important functions to carry around #####################\n",
    "def save_obj(obj, loc ):\n",
    "    with open(loc, 'wb') as f:\n",
    "        pickle.dump(obj, f, pickle.HIGHEST_PROTOCOL)\n",
    "\n",
    "def load_obj(loc):\n",
    "    with open(loc, 'rb') as f:\n",
    "        return pickle.load(f)\n",
    "\n",
    "def reverse_dict(my_map):\n",
    "    inv_map = {v: k for k, v in my_map.items()}\n",
    "    return inv_map\n",
    "############################################################################\n",
    "\n",
    "comm_2_num = load_obj('/Users/ozaltun/Dropbox (MIT)/Data/Trade/general_equilibrium_gravity/GTAP/mapping/comm_2_num.pickle')\n",
    "reg_2_num = load_obj('/Users/ozaltun/Dropbox (MIT)/Data/Trade/general_equilibrium_gravity/GTAP/mapping/reg_2_num.pickle')"
   ]
  },
  {
   "cell_type": "code",
   "execution_count": 3,
   "metadata": {},
   "outputs": [],
   "source": [
    "root = '/Users/ozaltun/Dropbox (MIT)/Data/Trade/general_equilibrium_gravity/GTAP/matrices/{}.pickle'\n",
    "X = load_obj(root.format('X'))\n",
    "Y = load_obj(root.format('Y'))"
   ]
  },
  {
   "cell_type": "code",
   "execution_count": 4,
   "metadata": {},
   "outputs": [],
   "source": [
    "## See Section 4 in the paper. Demand is calibrated using the trade data..."
   ]
  },
  {
   "cell_type": "code",
   "execution_count": 5,
   "metadata": {},
   "outputs": [],
   "source": [
    "D = X.sum(axis=1)"
   ]
  },
  {
   "cell_type": "code",
   "execution_count": 6,
   "metadata": {},
   "outputs": [
    {
     "name": "stdout",
     "output_type": "stream",
     "text": [
      "938\n",
      "134\n"
     ]
    }
   ],
   "source": [
    "# Total number of negative values (7x134) = 6x134 from non-TRAD_COMM 1x134 from dwe:dwelling that is not in\n",
    "# the export dataset.\n",
    "print(D[D<0].shape[0])\n",
    "\n",
    "# We can see the dwe negative values:\n",
    "D_subset = D[5:62, :]\n",
    "print(D_subset[D_subset<0].shape[0])"
   ]
  },
  {
   "cell_type": "code",
   "execution_count": 7,
   "metadata": {},
   "outputs": [],
   "source": [
    "# That makes sense!"
   ]
  },
  {
   "cell_type": "code",
   "execution_count": 8,
   "metadata": {},
   "outputs": [],
   "source": [
    "# This is the amount that is produced and not exported (locally consumed). We will add this to D!\n",
    "prod_export_diff = Y - X.sum(axis=2)\n",
    "\n",
    "# Non - TRAD_COMM values aren't accurate, so lets re-configurate those. \n",
    "# We also need to adjust the dwelling row since it is all locally produced.\n",
    "\n",
    "prod_export_diff[:5, :] = Y[:5, :]\n",
    "prod_export_diff[61:, :] = Y[61:, :]"
   ]
  },
  {
   "cell_type": "code",
   "execution_count": 9,
   "metadata": {},
   "outputs": [],
   "source": [
    "# Lets make all D values smaller than 0, zero (so that when we add the prod_export_diff, it works out)\n",
    "D[D<0] = 0\n",
    "D = D + prod_export_diff"
   ]
  },
  {
   "cell_type": "code",
   "execution_count": 12,
   "metadata": {},
   "outputs": [
    {
     "data": {
      "text/plain": [
       "20"
      ]
     },
     "execution_count": 12,
     "metadata": {},
     "output_type": "execute_result"
    }
   ],
   "source": [
    "comm_2_num['oil']"
   ]
  },
  {
   "cell_type": "code",
   "execution_count": 13,
   "metadata": {},
   "outputs": [
    {
     "data": {
      "text/plain": [
       "97"
      ]
     },
     "execution_count": 13,
     "metadata": {},
     "output_type": "execute_result"
    }
   ],
   "source": [
    "reg_2_num['sau']"
   ]
  },
  {
   "cell_type": "code",
   "execution_count": 16,
   "metadata": {},
   "outputs": [
    {
     "data": {
      "text/plain": [
       "650"
      ]
     },
     "execution_count": 16,
     "metadata": {},
     "output_type": "execute_result"
    }
   ],
   "source": [
    "Y[26, 97]"
   ]
  },
  {
   "cell_type": "code",
   "execution_count": 17,
   "metadata": {},
   "outputs": [
    {
     "data": {
      "text/plain": [
       "1408"
      ]
     },
     "execution_count": 17,
     "metadata": {},
     "output_type": "execute_result"
    }
   ],
   "source": [
    "D[26, 97]"
   ]
  },
  {
   "cell_type": "code",
   "execution_count": null,
   "metadata": {},
   "outputs": [],
   "source": []
  }
 ],
 "metadata": {
  "kernelspec": {
   "display_name": "Python 3",
   "language": "python",
   "name": "python3"
  },
  "language_info": {
   "codemirror_mode": {
    "name": "ipython",
    "version": 3
   },
   "file_extension": ".py",
   "mimetype": "text/x-python",
   "name": "python",
   "nbconvert_exporter": "python",
   "pygments_lexer": "ipython3",
   "version": "3.6.4"
  }
 },
 "nbformat": 4,
 "nbformat_minor": 2
}
