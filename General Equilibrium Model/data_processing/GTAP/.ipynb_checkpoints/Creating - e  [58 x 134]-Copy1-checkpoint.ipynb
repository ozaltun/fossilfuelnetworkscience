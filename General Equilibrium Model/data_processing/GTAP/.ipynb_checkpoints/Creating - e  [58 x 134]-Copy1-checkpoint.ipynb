{
 "cells": [
  {
   "cell_type": "code",
   "execution_count": 1,
   "metadata": {},
   "outputs": [],
   "source": [
    "import numpy as np\n",
    "import pandas as pd\n",
    "import pickle\n",
    "from helper import *"
   ]
  },
  {
   "cell_type": "code",
   "execution_count": 2,
   "metadata": {},
   "outputs": [],
   "source": [
    "root = '/Users/boraozaltun/Dropbox (MIT)/Data/Trade/general_equilibrium_gravity/GTAP/output/baseview/{}.csv'\n",
    "\n",
    "vom =  pd.read_csv(root.format('VOM '), index_col=0, header=1, low_memory=False)\n",
    "GDP =  pd.read_csv(root.format('MSUM'), index_col=0, header=1, low_memory=False)\n",
    "\n",
    "reg_2_num = load_obj('/Users/boraozaltun/Dropbox (MIT)/Data/Trade/general_equilibrium_gravity/GTAP/mapping/reg_2_num.pickle')\n",
    "nsavcomm_2_num = load_obj('/Users/boraozaltun/Dropbox (MIT)/Data/Trade/general_equilibrium_gravity/GTAP/mapping/nsavcomm_2_num.pickle')"
   ]
  },
  {
   "cell_type": "code",
   "execution_count": 5,
   "metadata": {},
   "outputs": [],
   "source": [
    "GDP = GDP[GDP.SUMREP == 'GDP']\n",
    "GDP.drop(['SUMREP'], axis=1, inplace=True)\n",
    "GDP['REG_Number'] = GDP.REG.map(reg_2_num)\n",
    "GDP.set_index('REG_Number', inplace=True)\n",
    "GDP.sort_index(inplace=True)\n",
    "gdp_np = GDP.Value.to_numpy()"
   ]
  },
  {
   "cell_type": "code",
   "execution_count": 8,
   "metadata": {},
   "outputs": [
    {
     "name": "stdout",
     "output_type": "stream",
     "text": [
      "Number of empty values:  []\n"
     ]
    }
   ],
   "source": [
    "vom_np = convertRow2Matrix(vom, ['NSAV_COMM','REG'], [nsavcomm_2_num, reg_2_num])"
   ]
  },
  {
   "cell_type": "code",
   "execution_count": 11,
   "metadata": {},
   "outputs": [
    {
     "data": {
      "text/plain": [
       "(63, 134)"
      ]
     },
     "execution_count": 11,
     "metadata": {},
     "output_type": "execute_result"
    }
   ],
   "source": [
    "vom_np.shape"
   ]
  },
  {
   "cell_type": "code",
   "execution_count": 12,
   "metadata": {},
   "outputs": [],
   "source": [
    "e = vom_np/gdp_np.reshape((1, 134))"
   ]
  },
  {
   "cell_type": "code",
   "execution_count": 10,
   "metadata": {
    "scrolled": true
   },
   "outputs": [
    {
     "data": {
      "text/plain": [
       "{'CGDS': 57,\n",
       " 'Capital': 59,\n",
       " 'Land': 58,\n",
       " 'NatlRes': 60,\n",
       " 'SkLab': 61,\n",
       " 'UnSkLab': 62,\n",
       " 'atp': 49,\n",
       " 'b_t': 25,\n",
       " 'c_b': 5,\n",
       " 'cmn': 50,\n",
       " 'cmt': 18,\n",
       " 'cns': 45,\n",
       " 'coa': 14,\n",
       " 'crp': 32,\n",
       " 'ctl': 8,\n",
       " 'dwe': 56,\n",
       " 'ele': 39,\n",
       " 'ely': 42,\n",
       " 'fmp': 36,\n",
       " 'frs': 12,\n",
       " 'fsh': 13,\n",
       " 'gas': 16,\n",
       " 'gdt': 43,\n",
       " 'gro': 2,\n",
       " 'i_s': 34,\n",
       " 'isr': 52,\n",
       " 'lea': 28,\n",
       " 'lum': 29,\n",
       " 'mil': 21,\n",
       " 'mvh': 37,\n",
       " 'nfm': 35,\n",
       " 'nmm': 33,\n",
       " 'oap': 9,\n",
       " 'obs': 53,\n",
       " 'ocr': 7,\n",
       " 'ofd': 24,\n",
       " 'ofi': 51,\n",
       " 'oil': 15,\n",
       " 'ome': 40,\n",
       " 'omf': 41,\n",
       " 'omn': 17,\n",
       " 'omt': 19,\n",
       " 'osd': 4,\n",
       " 'osg': 55,\n",
       " 'otn': 38,\n",
       " 'otp': 47,\n",
       " 'p_c': 31,\n",
       " 'pcr': 22,\n",
       " 'pdr': 0,\n",
       " 'pfb': 6,\n",
       " 'ppp': 30,\n",
       " 'rmk': 10,\n",
       " 'ros': 54,\n",
       " 'sgr': 23,\n",
       " 'tex': 26,\n",
       " 'trd': 46,\n",
       " 'v_f': 3,\n",
       " 'vol': 20,\n",
       " 'wap': 27,\n",
       " 'wht': 1,\n",
       " 'wol': 11,\n",
       " 'wtp': 48,\n",
       " 'wtr': 44}"
      ]
     },
     "execution_count": 10,
     "metadata": {},
     "output_type": "execute_result"
    }
   ],
   "source": [
    "nsavcomm_2_num"
   ]
  },
  {
   "cell_type": "code",
   "execution_count": 14,
   "metadata": {},
   "outputs": [],
   "source": [
    "e_comm = e[:57, :]\n",
    "\n",
    "e_unsklab = e[62, :]\n",
    "e_capital = e[59, :]\n",
    "e_sklab = e[61, :]\n",
    "e_land = e[58, :]\n",
    "e_natlres = e[60,:]"
   ]
  },
  {
   "cell_type": "code",
   "execution_count": 15,
   "metadata": {},
   "outputs": [],
   "source": [
    "e_unsklab[(e_unsklab<0) & (e_sklab>0)] = 0"
   ]
  },
  {
   "cell_type": "code",
   "execution_count": 16,
   "metadata": {},
   "outputs": [],
   "source": [
    "e_sklab[(e_sklab<0) & (e_unsklab>0)] = 0"
   ]
  },
  {
   "cell_type": "code",
   "execution_count": 17,
   "metadata": {},
   "outputs": [],
   "source": [
    "e_lab = e_unsklab + e_sklab"
   ]
  },
  {
   "cell_type": "code",
   "execution_count": 18,
   "metadata": {},
   "outputs": [],
   "source": [
    "data = [e_lab, e_capital, e_land, e_natlres, e_comm]\n",
    "title = ['labor', 'capital', 'land', 'natlres', 'comm']"
   ]
  },
  {
   "cell_type": "code",
   "execution_count": 19,
   "metadata": {},
   "outputs": [],
   "source": [
    "root_matrix = '/Users/boraozaltun/Dropbox (MIT)/Data/Trade/general_equilibrium_gravity/GTAP/matrices/e_{}.pickle'\n",
    "\n",
    "for i in range(4):\n",
    "    save_obj(data[i], root_matrix.format(title[i]))"
   ]
  },
  {
   "cell_type": "code",
   "execution_count": null,
   "metadata": {},
   "outputs": [],
   "source": []
  }
 ],
 "metadata": {
  "kernelspec": {
   "display_name": "Python 3",
   "language": "python",
   "name": "python3"
  },
  "language_info": {
   "codemirror_mode": {
    "name": "ipython",
    "version": 3
   },
   "file_extension": ".py",
   "mimetype": "text/x-python",
   "name": "python",
   "nbconvert_exporter": "python",
   "pygments_lexer": "ipython3",
   "version": "3.6.3"
  }
 },
 "nbformat": 4,
 "nbformat_minor": 2
}
