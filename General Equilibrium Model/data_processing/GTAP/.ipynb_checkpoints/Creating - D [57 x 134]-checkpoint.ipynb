{
 "cells": [
  {
   "cell_type": "code",
   "execution_count": 1,
   "metadata": {},
   "outputs": [],
   "source": [
    "import numpy as np\n",
    "import pandas as pd\n",
    "import pickle\n",
    "from helper import *"
   ]
  },
  {
   "cell_type": "code",
   "execution_count": 2,
   "metadata": {},
   "outputs": [],
   "source": [
    "#  Creatin the demand matrices"
   ]
  },
  {
   "cell_type": "code",
   "execution_count": 3,
   "metadata": {},
   "outputs": [],
   "source": [
    "## Datasets needed to get production: basedata/VXMD.csv, basedata/VST.csv, basedata/VDFM.csv, basedata/VDPM.csv,\n",
    "## basedata/VDGM.csv, basedata/\n",
    "\n",
    "## or just baseview/vom.csv\n",
    "\n",
    "# Domestic demand for a produce: VDPMir + VDGMir + SjVDFMijr  \n",
    "root = '/Users/boraozaltun/Dropbox (MIT)/Data/Trade/general_equilibrium_gravity/GTAP/output/basedata/{}.csv'\n",
    "\n",
    "vdpm =  pd.read_csv(root.format('VDPM'), index_col=0, header=1, low_memory=False)\n",
    "vdgm =  pd.read_csv(root.format('VDGM'), index_col=0, header=1, low_memory=False)\n",
    "vdfm =  pd.read_csv(root.format('VDFM'), index_col=0, header=1, low_memory=False)\n",
    "\n",
    "vipm =  pd.read_csv(root.format('VIPM'), index_col=0, header=1, low_memory=False)\n",
    "vigm =  pd.read_csv(root.format('VIGM'), index_col=0, header=1, low_memory=False)\n",
    "vifm =  pd.read_csv(root.format('VIFM'), index_col=0, header=1, low_memory=False)\n",
    "\n",
    "comm_2_num = load_obj('/Users/boraozaltun/Dropbox (MIT)/Data/Trade/general_equilibrium_gravity/GTAP/mapping/comm_2_num.pickle')\n",
    "reg_2_num = load_obj('/Users/boraozaltun/Dropbox (MIT)/Data/Trade/general_equilibrium_gravity/GTAP/mapping/reg_2_num.pickle')\n",
    "prodcomm_2_num = load_obj('/Users/boraozaltun/Dropbox (MIT)/Data/Trade/general_equilibrium_gravity/GTAP/mapping/prodcomm_2_num.pickle')"
   ]
  },
  {
   "cell_type": "code",
   "execution_count": 4,
   "metadata": {},
   "outputs": [
    {
     "name": "stdout",
     "output_type": "stream",
     "text": [
      "Number of empty values:  []\n",
      "Number of empty values:  []\n",
      "Number of empty values:  []\n"
     ]
    }
   ],
   "source": [
    "vdpm_np = convertRow2Matrix(vdpm, ['TRAD_COMM','REG'], [comm_2_num, reg_2_num])\n",
    "vdgm_np = convertRow2Matrix(vdgm, ['TRAD_COMM','REG'], [comm_2_num, reg_2_num])\n",
    "vdfm_np = convertRow2Matrix(vdfm, ['TRAD_COMM','PROD_COMM','REG'], [comm_2_num, prodcomm_2_num, reg_2_num])"
   ]
  },
  {
   "cell_type": "code",
   "execution_count": 5,
   "metadata": {},
   "outputs": [
    {
     "name": "stdout",
     "output_type": "stream",
     "text": [
      "Number of empty values:  []\n",
      "Number of empty values:  []\n",
      "Number of empty values:  []\n"
     ]
    }
   ],
   "source": [
    "vipm_np = convertRow2Matrix(vipm, ['TRAD_COMM','REG'], [comm_2_num, reg_2_num])\n",
    "vigm_np = convertRow2Matrix(vigm, ['TRAD_COMM','REG'], [comm_2_num, reg_2_num])\n",
    "vifm_np = convertRow2Matrix(vifm, ['TRAD_COMM','PROD_COMM','REG'], [comm_2_num, prodcomm_2_num, reg_2_num])"
   ]
  },
  {
   "cell_type": "code",
   "execution_count": 6,
   "metadata": {},
   "outputs": [],
   "source": [
    "del vdpm, vdgm, vdfm, vipm, vigm, vifm"
   ]
  },
  {
   "cell_type": "code",
   "execution_count": 7,
   "metadata": {},
   "outputs": [],
   "source": [
    "## See Section 4 in the paper. Demand is calibrated using the trade data... But in the data description,\n",
    "## Check out vim. It seems better for this dataset"
   ]
  },
  {
   "cell_type": "code",
   "execution_count": 8,
   "metadata": {},
   "outputs": [],
   "source": [
    "# Local Supply for Demand for a good in a country :\n",
    "vdm = vdpm_np + vdgm_np + vdfm_np.sum(axis=1)"
   ]
  },
  {
   "cell_type": "code",
   "execution_count": 9,
   "metadata": {},
   "outputs": [],
   "source": [
    "# Imported Supply for Demand in a country :\n",
    "vim = vipm_np + vigm_np + vifm_np.sum(axis=1)"
   ]
  },
  {
   "cell_type": "code",
   "execution_count": 10,
   "metadata": {},
   "outputs": [],
   "source": [
    "D = vdm + vim"
   ]
  },
  {
   "cell_type": "code",
   "execution_count": 11,
   "metadata": {},
   "outputs": [
    {
     "data": {
      "text/plain": [
       "array([  137489.20914147,   147826.65336383,   221815.57694231,\n",
       "         749509.06887655,   160546.5126368 ,    49123.62428812,\n",
       "          65011.94729097,   299227.16139664,   230993.45139349,\n",
       "         470425.8180957 ,   284658.98796858,    28621.14935633,\n",
       "         214147.90718806,   208540.78068795,   240635.17563129,\n",
       "        1765548.59729859,   352441.70151658,   685119.04588698,\n",
       "         372511.9240372 ,   443623.89068812,   264574.30965667,\n",
       "         659278.51389861,   155046.98198922,   144288.26939557,\n",
       "        1987307.24398206,   964045.35201959,  1124988.83662574,\n",
       "         753900.73017379,   368938.51476661,   972816.23939295,\n",
       "        1846467.87823196,  2937920.57306851,  4977832.3981725 ,\n",
       "        1257401.04433143,  1859860.17084922,  1113883.01734104,\n",
       "        1830987.52841707,  3214417.15041144,   947799.67307923,\n",
       "        2612454.95300118,  5394576.02598782,   988395.71970903,\n",
       "        2083531.04722024,   271837.98086641,   366756.92053351,\n",
       "        8289928.58988509, 10302604.18740229,  3874671.14755404,\n",
       "         349482.65729046,   741785.94792704,  2111451.18866957,\n",
       "        3956391.3296925 ,  1430974.01815583, 11232752.75154926,\n",
       "        3212046.8712066 , 13719147.6511841 ,  3250412.10969174])"
      ]
     },
     "execution_count": 11,
     "metadata": {},
     "output_type": "execute_result"
    }
   ],
   "source": [
    "D.sum(axis=1)"
   ]
  },
  {
   "cell_type": "code",
   "execution_count": 12,
   "metadata": {},
   "outputs": [],
   "source": [
    "root_matrix = '/Users/boraozaltun/Dropbox (MIT)/Data/Trade/general_equilibrium_gravity/GTAP/matrices/D.pickle'\n",
    "save_obj(D, root_matrix)"
   ]
  },
  {
   "cell_type": "code",
   "execution_count": 13,
   "metadata": {},
   "outputs": [
    {
     "ename": "NameError",
     "evalue": "name 'Y' is not defined",
     "output_type": "error",
     "traceback": [
      "\u001b[0;31m---------------------------------------------------------------------------\u001b[0m",
      "\u001b[0;31mNameError\u001b[0m                                 Traceback (most recent call last)",
      "\u001b[0;32m<ipython-input-13-7202b157479b>\u001b[0m in \u001b[0;36m<module>\u001b[0;34m()\u001b[0m\n\u001b[0;32m----> 1\u001b[0;31m \u001b[0;34m(\u001b[0m\u001b[0mY\u001b[0m\u001b[0;34m.\u001b[0m\u001b[0msum\u001b[0m\u001b[0;34m(\u001b[0m\u001b[0maxis\u001b[0m\u001b[0;34m=\u001b[0m\u001b[0;36m1\u001b[0m\u001b[0;34m)\u001b[0m \u001b[0;34m-\u001b[0m \u001b[0mD\u001b[0m\u001b[0;34m.\u001b[0m\u001b[0msum\u001b[0m\u001b[0;34m(\u001b[0m\u001b[0maxis\u001b[0m\u001b[0;34m=\u001b[0m\u001b[0;36m1\u001b[0m\u001b[0;34m)\u001b[0m\u001b[0;34m)\u001b[0m\u001b[0;34m\u001b[0m\u001b[0m\n\u001b[0m",
      "\u001b[0;31mNameError\u001b[0m: name 'Y' is not defined"
     ]
    }
   ],
   "source": [
    "(Y.sum(axis=1) - D.sum(axis=1))"
   ]
  },
  {
   "cell_type": "code",
   "execution_count": null,
   "metadata": {},
   "outputs": [],
   "source": [
    "(Y.sum().sum() - D.sum().sum())/Y.sum().sum()"
   ]
  },
  {
   "cell_type": "code",
   "execution_count": null,
   "metadata": {},
   "outputs": [],
   "source": [
    "# This might come to bite you in the ass. Get PRoduction to match consumption. \n",
    "# Maybe since it is \"market prices\", there is this mismatch??"
   ]
  }
 ],
 "metadata": {
  "kernelspec": {
   "display_name": "Python 3",
   "language": "python",
   "name": "python3"
  },
  "language_info": {
   "codemirror_mode": {
    "name": "ipython",
    "version": 3
   },
   "file_extension": ".py",
   "mimetype": "text/x-python",
   "name": "python",
   "nbconvert_exporter": "python",
   "pygments_lexer": "ipython3",
   "version": "3.6.3"
  }
 },
 "nbformat": 4,
 "nbformat_minor": 2
}
