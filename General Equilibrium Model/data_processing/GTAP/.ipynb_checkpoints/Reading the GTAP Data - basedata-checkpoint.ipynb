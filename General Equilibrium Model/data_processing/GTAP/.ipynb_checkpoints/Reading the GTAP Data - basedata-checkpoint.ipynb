{
 "cells": [
  {
   "cell_type": "code",
   "execution_count": 3,
   "metadata": {},
   "outputs": [],
   "source": [
    "import numpy as np\n",
    "import pandas as pd\n",
    "import matplotlib.pyplot as plt"
   ]
  },
  {
   "cell_type": "code",
   "execution_count": 4,
   "metadata": {},
   "outputs": [],
   "source": [
    "root = '/Users/boraozaltun/Dropbox (MIT)/Data/Trade/general_equilibrium_gravity/GTAP/input/{}'"
   ]
  },
  {
   "cell_type": "code",
   "execution_count": 5,
   "metadata": {},
   "outputs": [],
   "source": [
    "file = 'BaseData.csv'"
   ]
  },
  {
   "cell_type": "code",
   "execution_count": 9,
   "metadata": {},
   "outputs": [
    {
     "name": "stdout",
     "output_type": "stream",
     "text": [
      "['!Header: DVER', ' dimensions: 1 [1]', ' description: Format of GTAP data']\n",
      "['!Header: VIMS', ' dimensions: TRAD_COMM*REG*REG [57*134*134]', ' description: Trade - Bilateral Imports at Market Prices']\n",
      "['!Header: VIWS', ' dimensions: TRAD_COMM*REG*REG [57*134*134]', ' description: Trade - Bilateral Imports at World Prices']\n",
      "['!Header: VXWD', ' dimensions: TRAD_COMM*REG*REG [57*134*134]', ' description: Trade - Bilateral Exports at World Prices']\n",
      "['!Header: VXMD', ' dimensions: TRAD_COMM*REG*REG [57*134*134]', ' description: Trade - Bilateral Exports at Market Prices']\n",
      "['!Header: ADRV', ' dimensions: TRAD_COMM*REG*REG [57*134*134]', ' description: Protection - Anti-Dumping Duty']\n",
      "['!Header: TFRV', ' dimensions: TRAD_COMM*REG*REG [57*134*134]', ' description: Protection - Ordinary Import Duty']\n",
      "['!Header: PURV', ' dimensions: TRAD_COMM*REG*REG [57*134*134]', ' description: Protection - Price Undertaking Export Subsidy Equivalent']\n",
      "['!Header: MFRV', ' dimensions: TRAD_COMM*REG*REG [57*134*134]', ' description: Protection - MFA Export Subsidy Equivalent']\n",
      "['!Header: VRRV', ' dimensions: TRAD_COMM*REG*REG [57*134*134]', ' description: Protection - VER Export Subsidy Equivalent']\n",
      "['!Header: XTRV', ' dimensions: TRAD_COMM*REG*REG [57*134*134]', ' description: Protection - Ordinary Export Subsidy']\n",
      "['!Header: VIFM', ' dimensions: TRAD_COMM*PROD_COMM*REG [57*58*134]', \" description: Intermediates - Firms' Imports at Market Prices\"]\n",
      "['!Header: VDFM', ' dimensions: TRAD_COMM*PROD_COMM*REG [57*58*134]', \" description: Intermediates - Firms' Domestic Purchases at Market Prices\"]\n",
      "['!Header: VIFA', ' dimensions: TRAD_COMM*PROD_COMM*REG [57*58*134]', \" description: Intermediates - Firms' Imports at Agents' Prices\"]\n",
      "['!Header: VDFA', ' dimensions: TRAD_COMM*PROD_COMM*REG [57*58*134]', \" description: Intermediates - Firms' Domestic Purchases at Agents' Prices\"]\n",
      "['!Header: ISEP', ' dimensions: TRAD_COMM*PROD_COMM*REG*DIR [57*58*134*2]', ' description: Intermediate Input Subsidies']\n",
      "['!Header: VFM ', ' dimensions: ENDW_COMM*PROD_COMM*REG [5*58*134]', \" description: Endowments - Firms' Purchases at Market Prices\"]\n",
      "['!Header: VIPM', ' dimensions: TRAD_COMM*REG [57*134]', ' description: Intermediates - Household Imports at Market Prices']\n",
      "['!Header: VDPM', ' dimensions: TRAD_COMM*REG [57*134]', ' description: Intermediates - Household Domestic Purchases at Market Prices']\n",
      "['!Header: VIGM', ' dimensions: TRAD_COMM*REG [57*134]', ' description: Intermediates - Government Imports at Market Prices']\n",
      "['!Header: VDGM', ' dimensions: TRAD_COMM*REG [57*134]', ' description: Intermediates - Government Domestic Purchases at Market Prices']\n",
      "['!Header: VST ', ' dimensions: MARG_COMM*REG [3*134]', ' description: Trade - Exports for International Transportation', ' Market Prices']\n",
      "['!Header: EVOA', ' dimensions: ENDW_COMM*REG [5*134]', \" description: Endowments - Output at Agents' Prices\"]\n",
      "['!Header: EVFA', ' dimensions: ENDW_COMM*PROD_COMM*REG [5*58*134]', \" description: Endowments - Firms' Purchases at Agents' Prices\"]\n",
      "['!Header: VIPA', ' dimensions: TRAD_COMM*REG [57*134]', \" description: Intermediates - Household Imports at Agents' Prices\"]\n",
      "['!Header: VDPA', ' dimensions: TRAD_COMM*REG [57*134]', \" description: Intermediates - Household Domestic Purchases at Agents' Prices\"]\n",
      "['!Header: VIGA', ' dimensions: TRAD_COMM*REG [57*134]', \" description: Intermediates - Government Imports at Agents' Prices\"]\n",
      "['!Header: VDGA', ' dimensions: TRAD_COMM*REG [57*134]', \" description: Intermediates - Government Domestic Purchases at Agents' Prices\"]\n",
      "['!Header: SAVE', ' dimensions: REG [134]', \" description: Savings - Net Expenditure at Agents' Prices\"]\n",
      "['!Header: VKB ', ' dimensions: REG [134]', ' description: Capital Stock - Value at Beginning-of-Period']\n",
      "['!Header: VDEP', ' dimensions: REG [134]', ' description: Capital Stock - Value of Depreciation']\n",
      "['!Header: OSEP', ' dimensions: TRAD_COMM*REG [57*134]', ' description: Ordinary Output Subsidies']\n",
      "['!Header: FBEP', ' dimensions: ENDW_COMM*PROD_COMM*REG [5*58*134]', ' description: Factor-Based Subsidies']\n",
      "['!Header: VTWR', ' dimensions: MARG_COMM*TRAD_COMM*REG*REG [3*57*134*134]', ' description: Margins on International Trade']\n",
      "['!Header: DPSM', ' dimensions: REG [134]', ' description: Sum of Distribution Parameters in Household Demand System']\n",
      "['!Header: FTRV', ' dimensions: ENDW_COMM*PROD_COMM*REG [5*58*134]', ' description: gross factor employment tax revenue']\n",
      "['!Header: POP ', ' dimensions: REG [134]', ' description: population']\n",
      "['!Header: TVOM', ' dimensions: TRAD_COMM*REG [57*134]', ' description: sales of domestic product', ' at market prices']\n",
      "['!Header: VTSS', ' dimensions: TARTYPE*TRAD_COMM*REG*REG [2*57*134*134]', ' description: Import tariff Rev by type of tariffs paid']\n"
     ]
    }
   ],
   "source": [
    "import csv\n",
    "\n",
    "data_dict = {}\n",
    "with open(root.format(file)) as csvfile:\n",
    "    readCSV = csv.reader(csvfile, delimiter=',')\n",
    "    for row in readCSV:\n",
    "        if 'Header' in row[0]:\n",
    "            key = row[2].split('description: ')[1]\n",
    "            data_dict[key] = {}\n",
    "            data_dict[key]['header']= row\n",
    "            data_dict[key]['data'] = []\n",
    "            print(row)\n",
    "        else:\n",
    "            data_dict[key]['data'].append(row)\n",
    "        \n",
    "        "
   ]
  },
  {
   "cell_type": "code",
   "execution_count": 10,
   "metadata": {},
   "outputs": [
    {
     "name": "stdout",
     "output_type": "stream",
     "text": [
      "Format of GTAP data\n",
      "Trade - Bilateral Imports at Market Prices\n",
      "Trade - Bilateral Imports at World Prices\n",
      "Trade - Bilateral Exports at World Prices\n",
      "Trade - Bilateral Exports at Market Prices\n",
      "Protection - Anti-Dumping Duty\n",
      "Protection - Ordinary Import Duty\n",
      "Protection - Price Undertaking Export Subsidy Equivalent\n",
      "Protection - MFA Export Subsidy Equivalent\n",
      "Protection - VER Export Subsidy Equivalent\n",
      "Protection - Ordinary Export Subsidy\n",
      "Intermediates - Firms' Imports at Market Prices\n",
      "Intermediates - Firms' Domestic Purchases at Market Prices\n",
      "Intermediates - Firms' Imports at Agents' Prices\n",
      "Intermediates - Firms' Domestic Purchases at Agents' Prices\n",
      "Intermediate Input Subsidies\n",
      "Endowments - Firms' Purchases at Market Prices\n",
      "Intermediates - Household Imports at Market Prices\n",
      "Intermediates - Household Domestic Purchases at Market Prices\n",
      "Intermediates - Government Imports at Market Prices\n",
      "Intermediates - Government Domestic Purchases at Market Prices\n",
      "Trade - Exports for International Transportation\n",
      "Endowments - Output at Agents' Prices\n",
      "Endowments - Firms' Purchases at Agents' Prices\n",
      "Intermediates - Household Imports at Agents' Prices\n",
      "Intermediates - Household Domestic Purchases at Agents' Prices\n",
      "Intermediates - Government Imports at Agents' Prices\n",
      "Intermediates - Government Domestic Purchases at Agents' Prices\n",
      "Savings - Net Expenditure at Agents' Prices\n",
      "Capital Stock - Value at Beginning-of-Period\n",
      "Capital Stock - Value of Depreciation\n",
      "Ordinary Output Subsidies\n",
      "Factor-Based Subsidies\n",
      "Margins on International Trade\n",
      "Sum of Distribution Parameters in Household Demand System\n",
      "gross factor employment tax revenue\n",
      "population\n",
      "sales of domestic product\n",
      "Import tariff Rev by type of tariffs paid\n"
     ]
    }
   ],
   "source": [
    "acronym_list = []\n",
    "for i in data_dict.keys():\n",
    "    print(i)\n",
    "    data_dict[i]['header'][0] = data_dict[i]['header'][0].split('!Header: ')[1]"
   ]
  },
  {
   "cell_type": "code",
   "execution_count": 11,
   "metadata": {},
   "outputs": [],
   "source": [
    "root2 = '/Users/boraozaltun/Dropbox (MIT)/Data/Trade/general_equilibrium_gravity/GTAP/output/basedata/{}'"
   ]
  },
  {
   "cell_type": "code",
   "execution_count": 12,
   "metadata": {},
   "outputs": [],
   "source": [
    "## Just a naive check that there are nnon issues in turning the data into pandas\n",
    "for i in data_dict.keys():\n",
    "    data_dict[i]['data_df'] = pd.DataFrame(data_dict[i]['data'])"
   ]
  },
  {
   "cell_type": "code",
   "execution_count": 13,
   "metadata": {},
   "outputs": [],
   "source": [
    "header_list = []\n",
    "for i in data_dict.keys():\n",
    "    data_dict[i]['data_df'].to_csv(root2.format(i+'.csv'))\n",
    "    header_list.append(data_dict[i]['header'])"
   ]
  },
  {
   "cell_type": "code",
   "execution_count": 14,
   "metadata": {},
   "outputs": [],
   "source": [
    "pd.DataFrame(header_list).to_csv(root2.format('Data Description.csv'))"
   ]
  },
  {
   "cell_type": "code",
   "execution_count": 15,
   "metadata": {},
   "outputs": [],
   "source": [
    "del data_dict"
   ]
  },
  {
   "cell_type": "code",
   "execution_count": null,
   "metadata": {},
   "outputs": [],
   "source": []
  }
 ],
 "metadata": {
  "kernelspec": {
   "display_name": "Python 3",
   "language": "python",
   "name": "python3"
  },
  "language_info": {
   "codemirror_mode": {
    "name": "ipython",
    "version": 3
   },
   "file_extension": ".py",
   "mimetype": "text/x-python",
   "name": "python",
   "nbconvert_exporter": "python",
   "pygments_lexer": "ipython3",
   "version": "3.6.3"
  }
 },
 "nbformat": 4,
 "nbformat_minor": 2
}
