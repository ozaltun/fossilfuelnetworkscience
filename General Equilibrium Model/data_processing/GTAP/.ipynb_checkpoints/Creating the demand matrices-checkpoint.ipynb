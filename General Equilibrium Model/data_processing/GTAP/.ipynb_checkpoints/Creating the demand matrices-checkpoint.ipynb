{
 "cells": [
  {
   "cell_type": "code",
   "execution_count": 1,
   "metadata": {},
   "outputs": [],
   "source": [
    "import numpy as np\n",
    "import pandas as pd\n",
    "import pickle"
   ]
  },
  {
   "cell_type": "code",
   "execution_count": 2,
   "metadata": {},
   "outputs": [],
   "source": [
    "## Datasets needed to get production: basedata/VXMD.csv, basedata/VST.csv, basedata/VDFM.csv, basedata/VDPM.csv,\n",
    "## basedata/VDGM.csv, basedata/\n",
    "\n",
    "## or just baseview/vom.csv\n",
    "\n",
    "\n",
    "############### Some important functions to carry around #####################\n",
    "def save_obj(obj, loc ):\n",
    "    with open(loc, 'wb') as f:\n",
    "        pickle.dump(obj, f, pickle.HIGHEST_PROTOCOL)\n",
    "\n",
    "def load_obj(loc):\n",
    "    with open(loc, 'rb') as f:\n",
    "        return pickle.load(f)\n",
    "\n",
    "def reverse_dict(my_map):\n",
    "    inv_map = {v: k for k, v in my_map.items()}\n",
    "    return inv_map\n",
    "\n",
    "def convertRow2Matrix(df, index_cols, maps):\n",
    "    ''' This is a new function: example use:\n",
    "    \n",
    "    vom_np_2 = convertRow2Matrix(vom, ['TRAD_COMM','REG'], [comm_2_num, reg_2_num])\n",
    "    \n",
    "    '''\n",
    "    df_copy = df.copy()\n",
    "    index_cols_n = [col+'_Number' for col in index_cols]\n",
    "    for i, col in enumerate(index_cols):\n",
    "        df_copy[index_cols_n[i]] = df_copy[col].map(maps[i])\n",
    "    \n",
    "    df_mi = df_copy.set_index(index_cols_n)\n",
    "    df_mi.drop(index_cols, axis=1, inplace=True)\n",
    "    \n",
    "    shape = list(map(len, df_mi.index.levels))\n",
    "    output = np.full(shape, -1000)\n",
    "    \n",
    "    for i in list(df_mi.index.values):\n",
    "        output[i] = df_mi.loc[i].values[0]\n",
    "        \n",
    "    print('Number of empty values: ', output[output<0])\n",
    "    \n",
    "    return output\n",
    "\n",
    "############################################################################\n",
    "\n",
    "# Domestic demand for a produce: VDPMir + VDGMir + SjVDFMijr  \n",
    "root = '/Users/boraozaltun/Dropbox (MIT)/Data/Trade/general_equilibrium_gravity/GTAP/output/basedata/{}.csv'\n",
    "\n",
    "vdpm =  pd.read_csv(root.format('VDPM'), index_col=0, header=1, low_memory=False)\n",
    "vdgm =  pd.read_csv(root.format('VDGM'), index_col=0, header=1, low_memory=False)\n",
    "vdfm =  pd.read_csv(root.format('VDFM'), index_col=0, header=1, low_memory=False)\n",
    "\n",
    "vipm =  pd.read_csv(root.format('VIPM'), index_col=0, header=1, low_memory=False)\n",
    "vigm =  pd.read_csv(root.format('VIGM'), index_col=0, header=1, low_memory=False)\n",
    "vifm =  pd.read_csv(root.format('VIFM'), index_col=0, header=1, low_memory=False)\n",
    "\n",
    "comm_2_num = load_obj('/Users/boraozaltun/Dropbox (MIT)/Data/Trade/general_equilibrium_gravity/GTAP/mapping/comm_2_num.pickle')\n",
    "reg_2_num = load_obj('/Users/boraozaltun/Dropbox (MIT)/Data/Trade/general_equilibrium_gravity/GTAP/mapping/reg_2_num.pickle')\n",
    "prodcomm_2_num = load_obj('/Users/boraozaltun/Dropbox (MIT)/Data/Trade/general_equilibrium_gravity/GTAP/mapping/prodcomm_2_num.pickle')"
   ]
  },
  {
   "cell_type": "code",
   "execution_count": 3,
   "metadata": {},
   "outputs": [],
   "source": [
    "root = '/Users/boraozaltun/Dropbox (MIT)/Data/Trade/general_equilibrium_gravity/GTAP/matrices/{}.pickle'\n",
    "X = load_obj(root.format('X'))\n",
    "Y = load_obj(root.format('Y'))"
   ]
  },
  {
   "cell_type": "code",
   "execution_count": 3,
   "metadata": {},
   "outputs": [
    {
     "name": "stdout",
     "output_type": "stream",
     "text": [
      "Number of empty values:  []\n",
      "Number of empty values:  []\n",
      "Number of empty values:  []\n"
     ]
    }
   ],
   "source": [
    "vdpm_np = convertRow2Matrix(vdpm, ['TRAD_COMM','REG'], [comm_2_num, reg_2_num])\n",
    "vdgm_np = convertRow2Matrix(vdgm, ['TRAD_COMM','REG'], [comm_2_num, reg_2_num])\n",
    "vdfm_np = convertRow2Matrix(vdfm, ['TRAD_COMM','PROD_COMM','REG'], [comm_2_num, prodcomm_2_num, reg_2_num])"
   ]
  },
  {
   "cell_type": "code",
   "execution_count": 4,
   "metadata": {},
   "outputs": [
    {
     "name": "stdout",
     "output_type": "stream",
     "text": [
      "Number of empty values:  []\n",
      "Number of empty values:  []\n",
      "Number of empty values:  []\n"
     ]
    }
   ],
   "source": [
    "vipm_np = convertRow2Matrix(vipm, ['TRAD_COMM','REG'], [comm_2_num, reg_2_num])\n",
    "vigm_np = convertRow2Matrix(vigm, ['TRAD_COMM','REG'], [comm_2_num, reg_2_num])\n",
    "vifm_np = convertRow2Matrix(vifm, ['TRAD_COMM','PROD_COMM','REG'], [comm_2_num, prodcomm_2_num, reg_2_num])"
   ]
  },
  {
   "cell_type": "code",
   "execution_count": null,
   "metadata": {},
   "outputs": [],
   "source": [
    "## See Section 4 in the paper. Demand is calibrated using the trade data... But in the data description,\n",
    "## Check out vim. It seems better for this dataset"
   ]
  },
  {
   "cell_type": "code",
   "execution_count": null,
   "metadata": {},
   "outputs": [],
   "source": [
    "# Local Supply for Demand for a good in a country :\n",
    "vdm = vdpm + vdgm + vdfm + vdfm.sum(axis=1)\n",
    "\n",
    "# Imported Supply for Demand in a country :\n",
    "vim = vipm + vigm + vifm.sum(axis=1)"
   ]
  },
  {
   "cell_type": "code",
   "execution_count": null,
   "metadata": {},
   "outputs": [],
   "source": [
    "print('hello')"
   ]
  },
  {
   "cell_type": "code",
   "execution_count": null,
   "metadata": {},
   "outputs": [],
   "source": [
    "D = vdm + vim"
   ]
  },
  {
   "cell_type": "code",
   "execution_count": 10,
   "metadata": {},
   "outputs": [],
   "source": [
    "D"
   ]
  },
  {
   "cell_type": "code",
   "execution_count": 11,
   "metadata": {},
   "outputs": [],
   "source": [
    "root_matrix = '/Users/boraozaltun/Dropbox (MIT)/Data/Trade/general_equilibrium_gravity/GTAP/matrices/D.pickle'\n",
    "save_obj(D, root_matrix)"
   ]
  },
  {
   "cell_type": "code",
   "execution_count": 15,
   "metadata": {},
   "outputs": [
    {
     "data": {
      "text/plain": [
       "2619625"
      ]
     },
     "execution_count": 15,
     "metadata": {},
     "output_type": "execute_result"
    }
   ],
   "source": [
    "Y[:,0].sum()"
   ]
  },
  {
   "cell_type": "code",
   "execution_count": 16,
   "metadata": {},
   "outputs": [
    {
     "data": {
      "text/plain": [
       "(63, 134)"
      ]
     },
     "execution_count": 16,
     "metadata": {},
     "output_type": "execute_result"
    }
   ],
   "source": [
    "Y.shape"
   ]
  },
  {
   "cell_type": "code",
   "execution_count": 26,
   "metadata": {},
   "outputs": [
    {
     "data": {
      "text/plain": [
       "array([    0,     5,     8,   409,    58,     0,     1,   312,    91,\n",
       "          53,     2,     1,    10,    65,     0,  6899,    69,   648,\n",
       "          13,   407,   612,   415,    64,     7,  3736,   986,  2777,\n",
       "        2323,  1309,  2635,  3233,  7242, 18163,  1586,  2560,  5180,\n",
       "        3295, 19120,  4848, 13510, 28854,  3284,     0,   580,    35,\n",
       "         103,  3016,  4325,   914,  5382,  1119,  1316,   843,  7015,\n",
       "        3142,  3009])"
      ]
     },
     "execution_count": 26,
     "metadata": {},
     "output_type": "execute_result"
    }
   ],
   "source": [
    "X.sum(axis=1)[5:61,0]"
   ]
  },
  {
   "cell_type": "code",
   "execution_count": 27,
   "metadata": {},
   "outputs": [
    {
     "data": {
      "text/plain": [
       "array([    56,   4087,   2649,   4977,   1367,    705,   1203,   2377,\n",
       "         7767,   2415,   4001,   3488,   1803,   2455,  22078,  12473,\n",
       "         6854,  53217,  12688,   4707,   1474,   8756,    556,   2886,\n",
       "        19609,  13230,   4387,   2564,    905,   9966,  26134,  24394,\n",
       "        34584,  13323,  16917,  36951,  19719,  22200,   6617,   6611,\n",
       "        27020,   9239,  25552,   2694,   8436, 188710, 214911,  61577,\n",
       "         7836,  14043,  42053,  66936,  26175, 236759,  64078, 176838])"
      ]
     },
     "execution_count": 27,
     "metadata": {},
     "output_type": "execute_result"
    }
   ],
   "source": [
    "Y[5:61,0]"
   ]
  },
  {
   "cell_type": "code",
   "execution_count": 28,
   "metadata": {},
   "outputs": [
    {
     "data": {
      "text/plain": [
       "{'CGDS': 62,\n",
       " 'Capital': 3,\n",
       " 'Land': 0,\n",
       " 'NatlRes': 4,\n",
       " 'SkLab': 2,\n",
       " 'UnSkLab': 1,\n",
       " 'atp': 54,\n",
       " 'b_t': 30,\n",
       " 'c_b': 10,\n",
       " 'cmn': 55,\n",
       " 'cmt': 23,\n",
       " 'cns': 50,\n",
       " 'coa': 19,\n",
       " 'crp': 37,\n",
       " 'ctl': 13,\n",
       " 'dwe': 61,\n",
       " 'ele': 44,\n",
       " 'ely': 47,\n",
       " 'fmp': 41,\n",
       " 'frs': 17,\n",
       " 'fsh': 18,\n",
       " 'gas': 21,\n",
       " 'gdt': 48,\n",
       " 'gro': 7,\n",
       " 'i_s': 39,\n",
       " 'isr': 57,\n",
       " 'lea': 33,\n",
       " 'lum': 34,\n",
       " 'mil': 26,\n",
       " 'mvh': 42,\n",
       " 'nfm': 40,\n",
       " 'nmm': 38,\n",
       " 'oap': 14,\n",
       " 'obs': 58,\n",
       " 'ocr': 12,\n",
       " 'ofd': 29,\n",
       " 'ofi': 56,\n",
       " 'oil': 20,\n",
       " 'ome': 45,\n",
       " 'omf': 46,\n",
       " 'omn': 22,\n",
       " 'omt': 24,\n",
       " 'osd': 9,\n",
       " 'osg': 60,\n",
       " 'otn': 43,\n",
       " 'otp': 52,\n",
       " 'p_c': 36,\n",
       " 'pcr': 27,\n",
       " 'pdr': 5,\n",
       " 'pfb': 11,\n",
       " 'ppp': 35,\n",
       " 'rmk': 15,\n",
       " 'ros': 59,\n",
       " 'sgr': 28,\n",
       " 'tex': 31,\n",
       " 'trd': 51,\n",
       " 'v_f': 8,\n",
       " 'vol': 25,\n",
       " 'wap': 32,\n",
       " 'wht': 6,\n",
       " 'wol': 16,\n",
       " 'wtp': 53,\n",
       " 'wtr': 49}"
      ]
     },
     "execution_count": 28,
     "metadata": {},
     "output_type": "execute_result"
    }
   ],
   "source": [
    "comm_2_num"
   ]
  },
  {
   "cell_type": "code",
   "execution_count": null,
   "metadata": {},
   "outputs": [],
   "source": []
  }
 ],
 "metadata": {
  "kernelspec": {
   "display_name": "Python 3",
   "language": "python",
   "name": "python3"
  },
  "language_info": {
   "codemirror_mode": {
    "name": "ipython",
    "version": 3
   },
   "file_extension": ".py",
   "mimetype": "text/x-python",
   "name": "python",
   "nbconvert_exporter": "python",
   "pygments_lexer": "ipython3",
   "version": "3.6.3"
  }
 },
 "nbformat": 4,
 "nbformat_minor": 2
}
