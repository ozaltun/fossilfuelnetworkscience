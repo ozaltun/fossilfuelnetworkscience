{
 "cells": [
  {
   "cell_type": "code",
   "execution_count": 1,
   "metadata": {},
   "outputs": [],
   "source": [
    "import numpy as np\n",
    "import pandas as pd\n",
    "import pickle\n",
    "from helper import *"
   ]
  },
  {
   "cell_type": "code",
   "execution_count": 2,
   "metadata": {},
   "outputs": [
    {
     "name": "stderr",
     "output_type": "stream",
     "text": [
      "/anaconda3/lib/python3.6/site-packages/numpy/lib/arraysetops.py:569: FutureWarning: elementwise comparison failed; returning scalar instead, but in the future will perform elementwise comparison\n",
      "  mask |= (ar1 == a)\n"
     ]
    }
   ],
   "source": [
    "## Datasets needed to get production: basedata/VXMD.csv, basedata/VST.csv, basedata/VDFM.csv, basedata/VDPM.csv,\n",
    "## basedata/VDGM.csv, basedata/\n",
    "\n",
    "## or just baseview/vom.csv\n",
    "username = 'ozaltun'\n",
    "root = '/Users/'+username+'/Dropbox (MIT)/Data/Trade/general_equilibrium_gravity/GTAP/output/basedata/VXWD.csv'\n",
    "vxwd = pd.read_csv(root, index_col=0, header=1, low_memory=False)\n",
    "\n",
    "comm_2_num = load_obj('/Users/'+username+'/Dropbox (MIT)/Data/Trade/general_equilibrium_gravity/GTAP/mapping/comm_2_num.pickle')\n",
    "reg_2_num = load_obj('/Users/'+username+'/Dropbox (MIT)/Data/Trade/general_equilibrium_gravity/GTAP/mapping/reg_2_num.pickle')\n"
   ]
  },
  {
   "cell_type": "code",
   "execution_count": 11,
   "metadata": {},
   "outputs": [
    {
     "data": {
      "text/plain": [
       "{'alb': 76,\n",
       " 'are': 99,\n",
       " 'arg': 29,\n",
       " 'arm': 88,\n",
       " 'aus': 0,\n",
       " 'aut': 48,\n",
       " 'aze': 89,\n",
       " 'bel': 49,\n",
       " 'ben': 105,\n",
       " 'bfa': 106,\n",
       " 'bgd': 19,\n",
       " 'bgr': 77,\n",
       " 'bhr': 91,\n",
       " 'blr': 78,\n",
       " 'bol': 30,\n",
       " 'bra': 31,\n",
       " 'bwa': 129,\n",
       " 'can': 25,\n",
       " 'che': 73,\n",
       " 'chl': 32,\n",
       " 'chn': 3,\n",
       " 'civ': 108,\n",
       " 'cmr': 107,\n",
       " 'col': 33,\n",
       " 'cri': 40,\n",
       " 'cyp': 50,\n",
       " 'cze': 51,\n",
       " 'deu': 56,\n",
       " 'dnk': 52,\n",
       " 'ecu': 34,\n",
       " 'egy': 101,\n",
       " 'esp': 70,\n",
       " 'est': 53,\n",
       " 'eth': 117,\n",
       " 'fin': 54,\n",
       " 'fra': 55,\n",
       " 'gbr': 72,\n",
       " 'geo': 90,\n",
       " 'gha': 109,\n",
       " 'gin': 110,\n",
       " 'grc': 57,\n",
       " 'gtm': 41,\n",
       " 'hkg': 4,\n",
       " 'hnd': 42,\n",
       " 'hrv': 79,\n",
       " 'hun': 58,\n",
       " 'idn': 11,\n",
       " 'ind': 20,\n",
       " 'irl': 59,\n",
       " 'irn': 92,\n",
       " 'isr': 93,\n",
       " 'ita': 60,\n",
       " 'jpn': 5,\n",
       " 'kaz': 85,\n",
       " 'ken': 118,\n",
       " 'kgz': 86,\n",
       " 'khm': 10,\n",
       " 'kor': 6,\n",
       " 'kwt': 94,\n",
       " 'lao': 12,\n",
       " 'lka': 23,\n",
       " 'ltu': 62,\n",
       " 'lux': 63,\n",
       " 'lva': 61,\n",
       " 'mar': 102,\n",
       " 'mdg': 119,\n",
       " 'mex': 27,\n",
       " 'mlt': 64,\n",
       " 'mng': 7,\n",
       " 'moz': 122,\n",
       " 'mus': 121,\n",
       " 'mwi': 120,\n",
       " 'mys': 13,\n",
       " 'nam': 130,\n",
       " 'nga': 111,\n",
       " 'nic': 43,\n",
       " 'nld': 65,\n",
       " 'nor': 74,\n",
       " 'npl': 21,\n",
       " 'nzl': 1,\n",
       " 'omn': 95,\n",
       " 'pak': 22,\n",
       " 'pan': 44,\n",
       " 'per': 36,\n",
       " 'phl': 14,\n",
       " 'pol': 66,\n",
       " 'prt': 67,\n",
       " 'pry': 35,\n",
       " 'qat': 96,\n",
       " 'rou': 80,\n",
       " 'rus': 81,\n",
       " 'rwa': 123,\n",
       " 'sau': 97,\n",
       " 'sen': 112,\n",
       " 'sgp': 15,\n",
       " 'slv': 45,\n",
       " 'svk': 68,\n",
       " 'svn': 69,\n",
       " 'swe': 71,\n",
       " 'tgo': 113,\n",
       " 'tha': 16,\n",
       " 'tun': 103,\n",
       " 'tur': 98,\n",
       " 'twn': 8,\n",
       " 'tza': 124,\n",
       " 'uga': 125,\n",
       " 'ukr': 82,\n",
       " 'ury': 37,\n",
       " 'usa': 26,\n",
       " 'ven': 38,\n",
       " 'vnm': 17,\n",
       " 'xac': 116,\n",
       " 'xca': 46,\n",
       " 'xcb': 47,\n",
       " 'xcf': 115,\n",
       " 'xea': 9,\n",
       " 'xec': 128,\n",
       " 'xee': 83,\n",
       " 'xef': 75,\n",
       " 'xer': 84,\n",
       " 'xna': 28,\n",
       " 'xnf': 104,\n",
       " 'xoc': 2,\n",
       " 'xsa': 24,\n",
       " 'xsc': 132,\n",
       " 'xse': 18,\n",
       " 'xsm': 39,\n",
       " 'xsu': 87,\n",
       " 'xtw': 133,\n",
       " 'xwf': 114,\n",
       " 'xws': 100,\n",
       " 'zaf': 131,\n",
       " 'zmb': 126,\n",
       " 'zwe': 127}"
      ]
     },
     "execution_count": 11,
     "metadata": {},
     "output_type": "execute_result"
    }
   ],
   "source": [
    "reg_2_num"
   ]
  },
  {
   "cell_type": "code",
   "execution_count": 3,
   "metadata": {},
   "outputs": [],
   "source": [
    " # Lets go with export values since that is equal to the trade dataset tstrade..."
   ]
  },
  {
   "cell_type": "code",
   "execution_count": 4,
   "metadata": {},
   "outputs": [
    {
     "name": "stdout",
     "output_type": "stream",
     "text": [
      "Number of empty values:  [-1000. -1000. -1000. ... -1000. -1000. -1000.]\n"
     ]
    }
   ],
   "source": [
    "vxwd_np = convertRow2Matrix(vxwd, ['TRAD_COMM','REG','REG.1'], [comm_2_num, reg_2_num, reg_2_num])"
   ]
  },
  {
   "cell_type": "code",
   "execution_count": 5,
   "metadata": {},
   "outputs": [
    {
     "name": "stdout",
     "output_type": "stream",
     "text": [
      "1005670 1005670\n",
      "17822\n"
     ]
    }
   ],
   "source": [
    "print(vxwd.shape[0], 57*134*134 - vxwd_np[vxwd_np<0].shape[0])\n",
    "print(vxwd_np[vxwd_np<0].shape[0])"
   ]
  },
  {
   "cell_type": "code",
   "execution_count": 12,
   "metadata": {},
   "outputs": [],
   "source": [
    "# Number of negatives check out!"
   ]
  },
  {
   "cell_type": "code",
   "execution_count": 13,
   "metadata": {},
   "outputs": [],
   "source": [
    "root_matrix = '/Users/boraozaltun/Dropbox (MIT)/Data/Trade/general_equilibrium_gravity/GTAP/matrices/X.pickle'\n",
    "save_obj(vxwd_np, root_matrix)"
   ]
  },
  {
   "cell_type": "code",
   "execution_count": 14,
   "metadata": {},
   "outputs": [
    {
     "data": {
      "text/plain": [
       "17822"
      ]
     },
     "execution_count": 14,
     "metadata": {},
     "output_type": "execute_result"
    }
   ],
   "source": [
    "vxwd_np[vxwd_np<0].shape[0]"
   ]
  },
  {
   "cell_type": "code",
   "execution_count": 15,
   "metadata": {
    "scrolled": false
   },
   "outputs": [
    {
     "data": {
      "text/plain": [
       "array([[ 9.99999997e-07, -1.00000000e+03, -1.00000000e+03, ...,\n",
       "        -1.00000000e+03, -1.00000000e+03, -1.00000000e+03],\n",
       "       [-1.00000000e+03,  9.99999997e-07, -1.00000000e+03, ...,\n",
       "        -1.00000000e+03, -1.00000000e+03, -1.00000000e+03],\n",
       "       [-1.00000000e+03, -1.00000000e+03,  9.99999997e-07, ...,\n",
       "        -1.00000000e+03, -1.00000000e+03, -1.00000000e+03],\n",
       "       ...,\n",
       "       [-1.00000000e+03, -1.00000000e+03, -1.00000000e+03, ...,\n",
       "         9.99999997e-07, -1.00000000e+03, -1.00000000e+03],\n",
       "       [-1.00000000e+03, -1.00000000e+03, -1.00000000e+03, ...,\n",
       "        -1.00000000e+03,  9.99999997e-07, -1.00000000e+03],\n",
       "       [-1.00000000e+03, -1.00000000e+03, -1.00000000e+03, ...,\n",
       "        -1.00000000e+03, -1.00000000e+03,  9.99999997e-07]])"
      ]
     },
     "execution_count": 15,
     "metadata": {},
     "output_type": "execute_result"
    }
   ],
   "source": [
    "vxwd_np[56,:,:]"
   ]
  },
  {
   "cell_type": "code",
   "execution_count": 16,
   "metadata": {},
   "outputs": [
    {
     "data": {
      "text/plain": [
       "56"
      ]
     },
     "execution_count": 16,
     "metadata": {},
     "output_type": "execute_result"
    }
   ],
   "source": [
    "comm_2_num['dwe']"
   ]
  }
 ],
 "metadata": {
  "kernelspec": {
   "display_name": "Python 3",
   "language": "python",
   "name": "python3"
  },
  "language_info": {
   "codemirror_mode": {
    "name": "ipython",
    "version": 3
   },
   "file_extension": ".py",
   "mimetype": "text/x-python",
   "name": "python",
   "nbconvert_exporter": "python",
   "pygments_lexer": "ipython3",
   "version": "3.6.4"
  }
 },
 "nbformat": 4,
 "nbformat_minor": 2
}
