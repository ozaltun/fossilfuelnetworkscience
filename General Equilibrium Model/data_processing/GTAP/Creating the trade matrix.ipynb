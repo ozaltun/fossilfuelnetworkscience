{
 "cells": [
  {
   "cell_type": "code",
   "execution_count": 2,
   "metadata": {},
   "outputs": [],
   "source": [
    "import numpy as np\n",
    "import pandas as pd\n",
    "import pickle"
   ]
  },
  {
   "cell_type": "code",
   "execution_count": 3,
   "metadata": {},
   "outputs": [
    {
     "name": "stderr",
     "output_type": "stream",
     "text": [
      "/anaconda3/lib/python3.6/site-packages/numpy/lib/arraysetops.py:569: FutureWarning: elementwise comparison failed; returning scalar instead, but in the future will perform elementwise comparison\n",
      "  mask |= (ar1 == a)\n"
     ]
    }
   ],
   "source": [
    "## Datasets needed to get production: basedata/VXMD.csv, basedata/VST.csv, basedata/VDFM.csv, basedata/VDPM.csv,\n",
    "## basedata/VDGM.csv, basedata/\n",
    "\n",
    "## or just baseview/vom.csv\n",
    "\n",
    "\n",
    "############### Some important functions to carry around #####################\n",
    "def save_obj(obj, loc ):\n",
    "    with open(loc, 'wb') as f:\n",
    "        pickle.dump(obj, f, pickle.HIGHEST_PROTOCOL)\n",
    "\n",
    "def load_obj(loc):\n",
    "    with open(loc, 'rb') as f:\n",
    "        return pickle.load(f)\n",
    "\n",
    "def reverse_dict(my_map):\n",
    "    inv_map = {v: k for k, v in my_map.items()}\n",
    "    return inv_map\n",
    "############################################################################\n",
    "root = '/Users/ozaltun/Dropbox (MIT)/Data/Trade/general_equilibrium_gravity/GTAP/output/basedata/VXWD.csv'\n",
    "vxwd = pd.read_csv(root, index_col=0, header=1, low_memory=False)\n",
    "\n",
    "comm_2_num = load_obj('/Users/ozaltun/Dropbox (MIT)/Data/Trade/general_equilibrium_gravity/GTAP/mapping/comm_2_num.pickle')\n",
    "reg_2_num = load_obj('/Users/ozaltun/Dropbox (MIT)/Data/Trade/general_equilibrium_gravity/GTAP/mapping/reg_2_num.pickle')"
   ]
  },
  {
   "cell_type": "code",
   "execution_count": 4,
   "metadata": {},
   "outputs": [],
   "source": [
    " # Lets go with export values since that is equal to the trade dataset tstrade..."
   ]
  },
  {
   "cell_type": "code",
   "execution_count": 5,
   "metadata": {},
   "outputs": [],
   "source": [
    "vxwd['TRAD_COMM_Number'] = vxwd.TRAD_COMM.map(comm_2_num)\n",
    "vxwd['REG_0_Number'] = vxwd.REG.map(reg_2_num)\n",
    "vxwd['REG_1_Number'] = vxwd['REG.1'].map(reg_2_num)"
   ]
  },
  {
   "cell_type": "code",
   "execution_count": 6,
   "metadata": {},
   "outputs": [
    {
     "name": "stdout",
     "output_type": "stream",
     "text": [
      "<class 'pandas.core.frame.DataFrame'>\n",
      "Int64Index: 1005670 entries, 1 to 1005670\n",
      "Data columns (total 7 columns):\n",
      " #   Column            Non-Null Count    Dtype  \n",
      "---  ------            --------------    -----  \n",
      " 0   TRAD_COMM         1005670 non-null  object \n",
      " 1   REG               1005670 non-null  object \n",
      " 2   REG.1             1005670 non-null  object \n",
      " 3   Value             1005670 non-null  float64\n",
      " 4   TRAD_COMM_Number  1005670 non-null  int64  \n",
      " 5   REG_0_Number      1005670 non-null  int64  \n",
      " 6   REG_1_Number      1005670 non-null  int64  \n",
      "dtypes: float64(1), int64(3), object(3)\n",
      "memory usage: 61.4+ MB\n"
     ]
    }
   ],
   "source": [
    "vxwd.info()"
   ]
  },
  {
   "cell_type": "code",
   "execution_count": 7,
   "metadata": {},
   "outputs": [
    {
     "data": {
      "text/html": [
       "<div>\n",
       "<style scoped>\n",
       "    .dataframe tbody tr th:only-of-type {\n",
       "        vertical-align: middle;\n",
       "    }\n",
       "\n",
       "    .dataframe tbody tr th {\n",
       "        vertical-align: top;\n",
       "    }\n",
       "\n",
       "    .dataframe thead th {\n",
       "        text-align: right;\n",
       "    }\n",
       "</style>\n",
       "<table border=\"1\" class=\"dataframe\">\n",
       "  <thead>\n",
       "    <tr style=\"text-align: right;\">\n",
       "      <th></th>\n",
       "      <th></th>\n",
       "      <th></th>\n",
       "      <th>TRAD_COMM</th>\n",
       "      <th>REG</th>\n",
       "      <th>REG.1</th>\n",
       "      <th>Value</th>\n",
       "    </tr>\n",
       "    <tr>\n",
       "      <th>TRAD_COMM_Number</th>\n",
       "      <th>REG_0_Number</th>\n",
       "      <th>REG_1_Number</th>\n",
       "      <th></th>\n",
       "      <th></th>\n",
       "      <th></th>\n",
       "      <th></th>\n",
       "    </tr>\n",
       "  </thead>\n",
       "  <tbody>\n",
       "    <tr>\n",
       "      <th>5</th>\n",
       "      <th>0</th>\n",
       "      <th>0</th>\n",
       "      <td>pdr</td>\n",
       "      <td>aus</td>\n",
       "      <td>aus</td>\n",
       "      <td>0.000001</td>\n",
       "    </tr>\n",
       "    <tr>\n",
       "      <th>6</th>\n",
       "      <th>0</th>\n",
       "      <th>0</th>\n",
       "      <td>wht</td>\n",
       "      <td>aus</td>\n",
       "      <td>aus</td>\n",
       "      <td>0.000001</td>\n",
       "    </tr>\n",
       "    <tr>\n",
       "      <th>7</th>\n",
       "      <th>0</th>\n",
       "      <th>0</th>\n",
       "      <td>gro</td>\n",
       "      <td>aus</td>\n",
       "      <td>aus</td>\n",
       "      <td>0.000002</td>\n",
       "    </tr>\n",
       "    <tr>\n",
       "      <th>8</th>\n",
       "      <th>0</th>\n",
       "      <th>0</th>\n",
       "      <td>v_f</td>\n",
       "      <td>aus</td>\n",
       "      <td>aus</td>\n",
       "      <td>0.016237</td>\n",
       "    </tr>\n",
       "    <tr>\n",
       "      <th>9</th>\n",
       "      <th>0</th>\n",
       "      <th>0</th>\n",
       "      <td>osd</td>\n",
       "      <td>aus</td>\n",
       "      <td>aus</td>\n",
       "      <td>0.000004</td>\n",
       "    </tr>\n",
       "  </tbody>\n",
       "</table>\n",
       "</div>"
      ],
      "text/plain": [
       "                                           TRAD_COMM  REG REG.1     Value\n",
       "TRAD_COMM_Number REG_0_Number REG_1_Number                               \n",
       "5                0            0                  pdr  aus   aus  0.000001\n",
       "6                0            0                  wht  aus   aus  0.000001\n",
       "7                0            0                  gro  aus   aus  0.000002\n",
       "8                0            0                  v_f  aus   aus  0.016237\n",
       "9                0            0                  osd  aus   aus  0.000004"
      ]
     },
     "execution_count": 7,
     "metadata": {},
     "output_type": "execute_result"
    }
   ],
   "source": [
    "vxwd_mi = vxwd.set_index(['TRAD_COMM_Number','REG_0_Number','REG_1_Number'])\n",
    "vxwd_mi.head()"
   ]
  },
  {
   "cell_type": "code",
   "execution_count": 8,
   "metadata": {},
   "outputs": [],
   "source": [
    "vxwd_mi.drop(['TRAD_COMM', 'REG', 'REG.1'], axis=1, inplace=True)"
   ]
  },
  {
   "cell_type": "code",
   "execution_count": 9,
   "metadata": {},
   "outputs": [
    {
     "data": {
      "text/plain": [
       "[63, 134, 134]"
      ]
     },
     "execution_count": 9,
     "metadata": {},
     "output_type": "execute_result"
    }
   ],
   "source": [
    "shape = list(map(len, vxwd_mi.index.levels))\n",
    "shape[0] = 63\n",
    "shape"
   ]
  },
  {
   "cell_type": "code",
   "execution_count": 10,
   "metadata": {},
   "outputs": [],
   "source": [
    "vxwd_np = np.full(shape, -1000)"
   ]
  },
  {
   "cell_type": "code",
   "execution_count": 11,
   "metadata": {
    "scrolled": true
   },
   "outputs": [
    {
     "name": "stdout",
     "output_type": "stream",
     "text": [
      "10000\n",
      "20000\n",
      "30000\n",
      "40000\n",
      "50000\n",
      "60000\n",
      "70000\n",
      "80000\n",
      "90000\n",
      "100000\n",
      "110000\n",
      "120000\n",
      "130000\n",
      "140000\n",
      "150000\n",
      "160000\n",
      "170000\n",
      "180000\n",
      "190000\n",
      "200000\n",
      "210000\n",
      "220000\n",
      "230000\n",
      "240000\n",
      "250000\n",
      "260000\n",
      "270000\n",
      "280000\n",
      "290000\n",
      "300000\n",
      "310000\n",
      "320000\n",
      "330000\n",
      "340000\n",
      "350000\n",
      "360000\n",
      "370000\n",
      "380000\n",
      "390000\n",
      "400000\n",
      "410000\n",
      "420000\n",
      "430000\n",
      "440000\n",
      "450000\n",
      "460000\n",
      "470000\n",
      "480000\n",
      "490000\n",
      "500000\n",
      "510000\n",
      "520000\n",
      "530000\n",
      "540000\n",
      "550000\n",
      "560000\n",
      "570000\n",
      "580000\n",
      "590000\n",
      "600000\n",
      "610000\n",
      "620000\n",
      "630000\n",
      "640000\n",
      "650000\n",
      "660000\n",
      "670000\n",
      "680000\n",
      "690000\n",
      "700000\n",
      "710000\n",
      "720000\n",
      "730000\n",
      "740000\n",
      "750000\n",
      "760000\n",
      "770000\n",
      "780000\n",
      "790000\n",
      "800000\n",
      "810000\n",
      "820000\n",
      "830000\n",
      "840000\n",
      "850000\n",
      "860000\n",
      "870000\n",
      "880000\n",
      "890000\n",
      "900000\n",
      "910000\n",
      "920000\n",
      "930000\n",
      "940000\n",
      "950000\n",
      "960000\n",
      "970000\n",
      "980000\n",
      "990000\n",
      "1000000\n"
     ]
    }
   ],
   "source": [
    "count = 0\n",
    "for i in list(vxwd_mi.index.values):\n",
    "    count +=1\n",
    "    vxwd_np[i] = vxwd_mi.loc[i].values[0]\n",
    "    if count % 10000 == 0:\n",
    "        print(count)"
   ]
  },
  {
   "cell_type": "code",
   "execution_count": 12,
   "metadata": {},
   "outputs": [],
   "source": [
    "# TRAD_COMM are numbers from 5:61\n",
    "vxwd_subset = vxwd_np[5:62, :, :]"
   ]
  },
  {
   "cell_type": "code",
   "execution_count": 13,
   "metadata": {},
   "outputs": [
    {
     "name": "stdout",
     "output_type": "stream",
     "text": [
      "1005670 1005670\n"
     ]
    }
   ],
   "source": [
    "print(vxwd.shape[0], 57*134*134 - vxwd_subset[vxwd_subset<0].shape[0])"
   ]
  },
  {
   "cell_type": "code",
   "execution_count": 14,
   "metadata": {},
   "outputs": [],
   "source": [
    "# Number of None's check out!"
   ]
  },
  {
   "cell_type": "code",
   "execution_count": 15,
   "metadata": {},
   "outputs": [],
   "source": [
    "root_matrix = '/Users/ozaltun/Dropbox (MIT)/Data/Trade/general_equilibrium_gravity/GTAP/matrices/X.pickle'\n",
    "save_obj(vxwd_np, root_matrix)"
   ]
  },
  {
   "cell_type": "code",
   "execution_count": 16,
   "metadata": {},
   "outputs": [
    {
     "data": {
      "text/plain": [
       "17822"
      ]
     },
     "execution_count": 16,
     "metadata": {},
     "output_type": "execute_result"
    }
   ],
   "source": [
    "vxwd_subset[vxwd_subset<0].shape[0]"
   ]
  },
  {
   "cell_type": "code",
   "execution_count": 27,
   "metadata": {
    "scrolled": false
   },
   "outputs": [
    {
     "data": {
      "text/plain": [
       "array([[    0, -1000, -1000, ..., -1000, -1000, -1000],\n",
       "       [-1000,     0, -1000, ..., -1000, -1000, -1000],\n",
       "       [-1000, -1000,     0, ..., -1000, -1000, -1000],\n",
       "       ...,\n",
       "       [-1000, -1000, -1000, ...,     0, -1000, -1000],\n",
       "       [-1000, -1000, -1000, ..., -1000,     0, -1000],\n",
       "       [-1000, -1000, -1000, ..., -1000, -1000,     0]])"
      ]
     },
     "execution_count": 27,
     "metadata": {},
     "output_type": "execute_result"
    }
   ],
   "source": [
    "vxwd_np[61,:,:]"
   ]
  },
  {
   "cell_type": "code",
   "execution_count": 28,
   "metadata": {},
   "outputs": [
    {
     "data": {
      "text/plain": [
       "{'CGDS': 62,\n",
       " 'Capital': 3,\n",
       " 'Land': 0,\n",
       " 'NatlRes': 4,\n",
       " 'SkLab': 2,\n",
       " 'UnSkLab': 1,\n",
       " 'atp': 54,\n",
       " 'b_t': 30,\n",
       " 'c_b': 10,\n",
       " 'cmn': 55,\n",
       " 'cmt': 23,\n",
       " 'cns': 50,\n",
       " 'coa': 19,\n",
       " 'crp': 37,\n",
       " 'ctl': 13,\n",
       " 'dwe': 61,\n",
       " 'ele': 44,\n",
       " 'ely': 47,\n",
       " 'fmp': 41,\n",
       " 'frs': 17,\n",
       " 'fsh': 18,\n",
       " 'gas': 21,\n",
       " 'gdt': 48,\n",
       " 'gro': 7,\n",
       " 'i_s': 39,\n",
       " 'isr': 57,\n",
       " 'lea': 33,\n",
       " 'lum': 34,\n",
       " 'mil': 26,\n",
       " 'mvh': 42,\n",
       " 'nfm': 40,\n",
       " 'nmm': 38,\n",
       " 'oap': 14,\n",
       " 'obs': 58,\n",
       " 'ocr': 12,\n",
       " 'ofd': 29,\n",
       " 'ofi': 56,\n",
       " 'oil': 20,\n",
       " 'ome': 45,\n",
       " 'omf': 46,\n",
       " 'omn': 22,\n",
       " 'omt': 24,\n",
       " 'osd': 9,\n",
       " 'osg': 60,\n",
       " 'otn': 43,\n",
       " 'otp': 52,\n",
       " 'p_c': 36,\n",
       " 'pcr': 27,\n",
       " 'pdr': 5,\n",
       " 'pfb': 11,\n",
       " 'ppp': 35,\n",
       " 'rmk': 15,\n",
       " 'ros': 59,\n",
       " 'sgr': 28,\n",
       " 'tex': 31,\n",
       " 'trd': 51,\n",
       " 'v_f': 8,\n",
       " 'vol': 25,\n",
       " 'wap': 32,\n",
       " 'wht': 6,\n",
       " 'wol': 16,\n",
       " 'wtp': 53,\n",
       " 'wtr': 49}"
      ]
     },
     "execution_count": 28,
     "metadata": {},
     "output_type": "execute_result"
    }
   ],
   "source": [
    "comm_2_num"
   ]
  },
  {
   "cell_type": "code",
   "execution_count": 42,
   "metadata": {},
   "outputs": [
    {
     "data": {
      "text/plain": [
       "array([ 0,  0,  1,  0,  0,  0,  0,  0,  0,  0,  0,  0,  0,  0,  0,  0,  0,\n",
       "        0,  0,  0,  0,  0,  0,  0,  0,  0,  0,  0,  0,  0,  0,  0,  0,  0,\n",
       "        0,  0,  0,  0,  0,  0,  0,  0,  0,  0,  0,  0,  0, 27,  0,  0,  0,\n",
       "        0,  0,  0,  0,  0,  0,  0,  0,  0,  0,  0,  0,  0,  0,  0,  0,  0,\n",
       "        0,  0,  0,  0,  0,  0,  0,  0,  0,  0,  0,  0,  0,  0,  0,  0, 54,\n",
       "        0,  0,  0,  0,  0,  0,  0,  0,  0,  0,  0,  0,  0,  0,  0, 69,  0,\n",
       "        0,  0,  0,  0,  0,  0,  0,  0,  0,  0,  0,  0,  1,  0,  0,  0,  0,\n",
       "        0,  0,  0,  0,  0,  0,  0,  0,  0,  0,  0,  0,  0,  0,  0])"
      ]
     },
     "execution_count": 42,
     "metadata": {},
     "output_type": "execute_result"
    }
   ],
   "source": [
    "np.diag(vxwd_np[25,:,:])"
   ]
  },
  {
   "cell_type": "code",
   "execution_count": 43,
   "metadata": {},
   "outputs": [
    {
     "data": {
      "text/plain": [
       "{'alb': 76,\n",
       " 'are': 99,\n",
       " 'arg': 29,\n",
       " 'arm': 88,\n",
       " 'aus': 0,\n",
       " 'aut': 48,\n",
       " 'aze': 89,\n",
       " 'bel': 49,\n",
       " 'ben': 105,\n",
       " 'bfa': 106,\n",
       " 'bgd': 19,\n",
       " 'bgr': 77,\n",
       " 'bhr': 91,\n",
       " 'blr': 78,\n",
       " 'bol': 30,\n",
       " 'bra': 31,\n",
       " 'bwa': 129,\n",
       " 'can': 25,\n",
       " 'che': 73,\n",
       " 'chl': 32,\n",
       " 'chn': 3,\n",
       " 'civ': 108,\n",
       " 'cmr': 107,\n",
       " 'col': 33,\n",
       " 'cri': 40,\n",
       " 'cyp': 50,\n",
       " 'cze': 51,\n",
       " 'deu': 56,\n",
       " 'dnk': 52,\n",
       " 'ecu': 34,\n",
       " 'egy': 101,\n",
       " 'esp': 70,\n",
       " 'est': 53,\n",
       " 'eth': 117,\n",
       " 'fin': 54,\n",
       " 'fra': 55,\n",
       " 'gbr': 72,\n",
       " 'geo': 90,\n",
       " 'gha': 109,\n",
       " 'gin': 110,\n",
       " 'grc': 57,\n",
       " 'gtm': 41,\n",
       " 'hkg': 4,\n",
       " 'hnd': 42,\n",
       " 'hrv': 79,\n",
       " 'hun': 58,\n",
       " 'idn': 11,\n",
       " 'ind': 20,\n",
       " 'irl': 59,\n",
       " 'irn': 92,\n",
       " 'isr': 93,\n",
       " 'ita': 60,\n",
       " 'jpn': 5,\n",
       " 'kaz': 85,\n",
       " 'ken': 118,\n",
       " 'kgz': 86,\n",
       " 'khm': 10,\n",
       " 'kor': 6,\n",
       " 'kwt': 94,\n",
       " 'lao': 12,\n",
       " 'lka': 23,\n",
       " 'ltu': 62,\n",
       " 'lux': 63,\n",
       " 'lva': 61,\n",
       " 'mar': 102,\n",
       " 'mdg': 119,\n",
       " 'mex': 27,\n",
       " 'mlt': 64,\n",
       " 'mng': 7,\n",
       " 'moz': 122,\n",
       " 'mus': 121,\n",
       " 'mwi': 120,\n",
       " 'mys': 13,\n",
       " 'nam': 130,\n",
       " 'nga': 111,\n",
       " 'nic': 43,\n",
       " 'nld': 65,\n",
       " 'nor': 74,\n",
       " 'npl': 21,\n",
       " 'nzl': 1,\n",
       " 'omn': 95,\n",
       " 'pak': 22,\n",
       " 'pan': 44,\n",
       " 'per': 36,\n",
       " 'phl': 14,\n",
       " 'pol': 66,\n",
       " 'prt': 67,\n",
       " 'pry': 35,\n",
       " 'qat': 96,\n",
       " 'rou': 80,\n",
       " 'rus': 81,\n",
       " 'rwa': 123,\n",
       " 'sau': 97,\n",
       " 'sen': 112,\n",
       " 'sgp': 15,\n",
       " 'slv': 45,\n",
       " 'svk': 68,\n",
       " 'svn': 69,\n",
       " 'swe': 71,\n",
       " 'tgo': 113,\n",
       " 'tha': 16,\n",
       " 'tun': 103,\n",
       " 'tur': 98,\n",
       " 'twn': 8,\n",
       " 'tza': 124,\n",
       " 'uga': 125,\n",
       " 'ukr': 82,\n",
       " 'ury': 37,\n",
       " 'usa': 26,\n",
       " 'ven': 38,\n",
       " 'vnm': 17,\n",
       " 'xac': 116,\n",
       " 'xca': 46,\n",
       " 'xcb': 47,\n",
       " 'xcf': 115,\n",
       " 'xea': 9,\n",
       " 'xec': 128,\n",
       " 'xee': 83,\n",
       " 'xef': 75,\n",
       " 'xer': 84,\n",
       " 'xna': 28,\n",
       " 'xnf': 104,\n",
       " 'xoc': 2,\n",
       " 'xsa': 24,\n",
       " 'xsc': 132,\n",
       " 'xse': 18,\n",
       " 'xsm': 39,\n",
       " 'xsu': 87,\n",
       " 'xtw': 133,\n",
       " 'xwf': 114,\n",
       " 'xws': 100,\n",
       " 'zaf': 131,\n",
       " 'zmb': 126,\n",
       " 'zwe': 127}"
      ]
     },
     "execution_count": 43,
     "metadata": {},
     "output_type": "execute_result"
    }
   ],
   "source": [
    "reg_2_num"
   ]
  },
  {
   "cell_type": "code",
   "execution_count": null,
   "metadata": {},
   "outputs": [],
   "source": []
  }
 ],
 "metadata": {
  "kernelspec": {
   "display_name": "Python 3",
   "language": "python",
   "name": "python3"
  },
  "language_info": {
   "codemirror_mode": {
    "name": "ipython",
    "version": 3
   },
   "file_extension": ".py",
   "mimetype": "text/x-python",
   "name": "python",
   "nbconvert_exporter": "python",
   "pygments_lexer": "ipython3",
   "version": "3.6.4"
  }
 },
 "nbformat": 4,
 "nbformat_minor": 2
}
