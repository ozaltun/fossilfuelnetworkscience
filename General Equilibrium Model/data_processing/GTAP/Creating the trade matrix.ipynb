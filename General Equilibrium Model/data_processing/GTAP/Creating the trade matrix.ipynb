{
 "cells": [
  {
   "cell_type": "code",
   "execution_count": 1,
   "metadata": {},
   "outputs": [],
   "source": [
    "import numpy as np\n",
    "import pandas as pd\n",
    "import matplotlib.pyplot as plt"
   ]
  },
  {
   "cell_type": "code",
   "execution_count": null,
   "metadata": {},
   "outputs": [],
   "source": []
  },
  {
   "cell_type": "code",
   "execution_count": 4,
   "metadata": {},
   "outputs": [],
   "source": [
    "root = '/Users/ozaltun/Dropbox (MIT)/Data/Trade/general_equilibrium_gravity/GTAP/output/basedata/{}.csv'"
   ]
  },
  {
   "cell_type": "code",
   "execution_count": 33,
   "metadata": {},
   "outputs": [
    {
     "name": "stderr",
     "output_type": "stream",
     "text": [
      "/anaconda3/lib/python3.6/site-packages/numpy/lib/arraysetops.py:569: FutureWarning: elementwise comparison failed; returning scalar instead, but in the future will perform elementwise comparison\n",
      "  mask |= (ar1 == a)\n"
     ]
    }
   ],
   "source": [
    "files = ['VXWD'] # Lets go with import values since we want to sum all import values D_ng = sum(i Xnig)\n",
    "data = {}\n",
    "\n",
    "for i in files:\n",
    "    data[i] = pd.read_csv(root.format(i), index_col=0, header=1, low_memory=False)\n",
    "    # data[i].set_index(data[i].columns.tolist()[:3], inplace=True)"
   ]
  },
  {
   "cell_type": "code",
   "execution_count": 34,
   "metadata": {},
   "outputs": [],
   "source": [
    "df = data['VXWD']"
   ]
  },
  {
   "cell_type": "code",
   "execution_count": 35,
   "metadata": {},
   "outputs": [
    {
     "data": {
      "text/html": [
       "<div>\n",
       "<style scoped>\n",
       "    .dataframe tbody tr th:only-of-type {\n",
       "        vertical-align: middle;\n",
       "    }\n",
       "\n",
       "    .dataframe tbody tr th {\n",
       "        vertical-align: top;\n",
       "    }\n",
       "\n",
       "    .dataframe thead th {\n",
       "        text-align: right;\n",
       "    }\n",
       "</style>\n",
       "<table border=\"1\" class=\"dataframe\">\n",
       "  <thead>\n",
       "    <tr style=\"text-align: right;\">\n",
       "      <th></th>\n",
       "      <th>TRAD_COMM</th>\n",
       "      <th>REG</th>\n",
       "      <th>REG.1</th>\n",
       "      <th>Value</th>\n",
       "    </tr>\n",
       "    <tr>\n",
       "      <th>0</th>\n",
       "      <th></th>\n",
       "      <th></th>\n",
       "      <th></th>\n",
       "      <th></th>\n",
       "    </tr>\n",
       "  </thead>\n",
       "  <tbody>\n",
       "    <tr>\n",
       "      <th>60</th>\n",
       "      <td>gro</td>\n",
       "      <td>nzl</td>\n",
       "      <td>aus</td>\n",
       "      <td>1.338201</td>\n",
       "    </tr>\n",
       "    <tr>\n",
       "      <th>61</th>\n",
       "      <td>v_f</td>\n",
       "      <td>nzl</td>\n",
       "      <td>aus</td>\n",
       "      <td>70.237961</td>\n",
       "    </tr>\n",
       "    <tr>\n",
       "      <th>65</th>\n",
       "      <td>ocr</td>\n",
       "      <td>nzl</td>\n",
       "      <td>aus</td>\n",
       "      <td>17.789104</td>\n",
       "    </tr>\n",
       "    <tr>\n",
       "      <th>66</th>\n",
       "      <td>ctl</td>\n",
       "      <td>nzl</td>\n",
       "      <td>aus</td>\n",
       "      <td>57.478527</td>\n",
       "    </tr>\n",
       "    <tr>\n",
       "      <th>67</th>\n",
       "      <td>oap</td>\n",
       "      <td>nzl</td>\n",
       "      <td>aus</td>\n",
       "      <td>17.625679</td>\n",
       "    </tr>\n",
       "    <tr>\n",
       "      <th>...</th>\n",
       "      <td>...</td>\n",
       "      <td>...</td>\n",
       "      <td>...</td>\n",
       "      <td>...</td>\n",
       "    </tr>\n",
       "    <tr>\n",
       "      <th>998037</th>\n",
       "      <td>ome</td>\n",
       "      <td>zaf</td>\n",
       "      <td>xsc</td>\n",
       "      <td>18.021301</td>\n",
       "    </tr>\n",
       "    <tr>\n",
       "      <th>998038</th>\n",
       "      <td>omf</td>\n",
       "      <td>zaf</td>\n",
       "      <td>xsc</td>\n",
       "      <td>1.511665</td>\n",
       "    </tr>\n",
       "    <tr>\n",
       "      <th>998085</th>\n",
       "      <td>crp</td>\n",
       "      <td>xsc</td>\n",
       "      <td>xsc</td>\n",
       "      <td>4.826372</td>\n",
       "    </tr>\n",
       "    <tr>\n",
       "      <th>999654</th>\n",
       "      <td>crp</td>\n",
       "      <td>usa</td>\n",
       "      <td>xtw</td>\n",
       "      <td>1.013679</td>\n",
       "    </tr>\n",
       "    <tr>\n",
       "      <th>999662</th>\n",
       "      <td>ome</td>\n",
       "      <td>usa</td>\n",
       "      <td>xtw</td>\n",
       "      <td>1.230989</td>\n",
       "    </tr>\n",
       "  </tbody>\n",
       "</table>\n",
       "<p>162105 rows × 4 columns</p>\n",
       "</div>"
      ],
      "text/plain": [
       "       TRAD_COMM  REG REG.1      Value\n",
       "0                                     \n",
       "60           gro  nzl   aus   1.338201\n",
       "61           v_f  nzl   aus  70.237961\n",
       "65           ocr  nzl   aus  17.789104\n",
       "66           ctl  nzl   aus  57.478527\n",
       "67           oap  nzl   aus  17.625679\n",
       "...          ...  ...   ...        ...\n",
       "998037       ome  zaf   xsc  18.021301\n",
       "998038       omf  zaf   xsc   1.511665\n",
       "998085       crp  xsc   xsc   4.826372\n",
       "999654       crp  usa   xtw   1.013679\n",
       "999662       ome  usa   xtw   1.230989\n",
       "\n",
       "[162105 rows x 4 columns]"
      ]
     },
     "execution_count": 35,
     "metadata": {},
     "output_type": "execute_result"
    }
   ],
   "source": [
    "df[df.Value>1]"
   ]
  },
  {
   "cell_type": "code",
   "execution_count": 40,
   "metadata": {},
   "outputs": [
    {
     "data": {
      "text/plain": [
       "(1005670, 4)"
      ]
     },
     "execution_count": 40,
     "metadata": {},
     "output_type": "execute_result"
    }
   ],
   "source": [
    "df.shape"
   ]
  },
  {
   "cell_type": "code",
   "execution_count": 36,
   "metadata": {},
   "outputs": [
    {
     "name": "stderr",
     "output_type": "stream",
     "text": [
      "/anaconda3/lib/python3.6/site-packages/numpy/lib/arraysetops.py:569: FutureWarning: elementwise comparison failed; returning scalar instead, but in the future will perform elementwise comparison\n",
      "  mask |= (ar1 == a)\n"
     ]
    }
   ],
   "source": [
    "df2 = pd.read_csv('/Users/ozaltun/Dropbox (MIT)/Data/Trade/general_equilibrium_gravity/GTAP/output/tstrade/VTTS.csv', index_col=0, header=1, low_memory=False)"
   ]
  },
  {
   "cell_type": "code",
   "execution_count": 37,
   "metadata": {},
   "outputs": [],
   "source": [
    "df2 = df2[df2.YEAR == 'Y2007' ]"
   ]
  },
  {
   "cell_type": "code",
   "execution_count": 38,
   "metadata": {},
   "outputs": [
    {
     "data": {
      "text/plain": [
       "YEAR     Y2007\n",
       "Value       70\n",
       "Name: (v_f, nzl, aus), dtype: object"
      ]
     },
     "execution_count": 38,
     "metadata": {},
     "output_type": "execute_result"
    }
   ],
   "source": [
    "df2.set_index(df2.columns.tolist()[:3]).loc[('v_f', 'nzl','aus')]"
   ]
  },
  {
   "cell_type": "code",
   "execution_count": 39,
   "metadata": {},
   "outputs": [
    {
     "data": {
      "text/plain": [
       "Index(['TRAD_COMM', 'REG', 'REG.1'], dtype='object')"
      ]
     },
     "execution_count": 39,
     "metadata": {},
     "output_type": "execute_result"
    }
   ],
   "source": [
    "df2.columns[:3]"
   ]
  },
  {
   "cell_type": "code",
   "execution_count": 21,
   "metadata": {},
   "outputs": [
    {
     "data": {
      "text/html": [
       "<div>\n",
       "<style scoped>\n",
       "    .dataframe tbody tr th:only-of-type {\n",
       "        vertical-align: middle;\n",
       "    }\n",
       "\n",
       "    .dataframe tbody tr th {\n",
       "        vertical-align: top;\n",
       "    }\n",
       "\n",
       "    .dataframe thead th {\n",
       "        text-align: right;\n",
       "    }\n",
       "</style>\n",
       "<table border=\"1\" class=\"dataframe\">\n",
       "  <thead>\n",
       "    <tr style=\"text-align: right;\">\n",
       "      <th></th>\n",
       "      <th>TRAD_COMM</th>\n",
       "      <th>REG</th>\n",
       "      <th>REG.1</th>\n",
       "      <th>YEAR</th>\n",
       "      <th>Value</th>\n",
       "    </tr>\n",
       "    <tr>\n",
       "      <th>0</th>\n",
       "      <th></th>\n",
       "      <th></th>\n",
       "      <th></th>\n",
       "      <th></th>\n",
       "      <th></th>\n",
       "    </tr>\n",
       "  </thead>\n",
       "  <tbody>\n",
       "    <tr>\n",
       "      <th>1074866</th>\n",
       "      <td>pdr</td>\n",
       "      <td>aus</td>\n",
       "      <td>nzl</td>\n",
       "      <td>Y2007</td>\n",
       "      <td>1</td>\n",
       "    </tr>\n",
       "    <tr>\n",
       "      <th>1075633</th>\n",
       "      <td>pdr</td>\n",
       "      <td>aus</td>\n",
       "      <td>xoc</td>\n",
       "      <td>Y2007</td>\n",
       "      <td>8</td>\n",
       "    </tr>\n",
       "    <tr>\n",
       "      <th>1075862</th>\n",
       "      <td>pdr</td>\n",
       "      <td>tha</td>\n",
       "      <td>xoc</td>\n",
       "      <td>Y2007</td>\n",
       "      <td>6</td>\n",
       "    </tr>\n",
       "    <tr>\n",
       "      <th>1076385</th>\n",
       "      <td>pdr</td>\n",
       "      <td>lao</td>\n",
       "      <td>chn</td>\n",
       "      <td>Y2007</td>\n",
       "      <td>1</td>\n",
       "    </tr>\n",
       "    <tr>\n",
       "      <th>1078088</th>\n",
       "      <td>pdr</td>\n",
       "      <td>tha</td>\n",
       "      <td>hkg</td>\n",
       "      <td>Y2007</td>\n",
       "      <td>1</td>\n",
       "    </tr>\n",
       "    <tr>\n",
       "      <th>...</th>\n",
       "      <td>...</td>\n",
       "      <td>...</td>\n",
       "      <td>...</td>\n",
       "      <td>...</td>\n",
       "      <td>...</td>\n",
       "    </tr>\n",
       "    <tr>\n",
       "      <th>1176498</th>\n",
       "      <td>pdr</td>\n",
       "      <td>pak</td>\n",
       "      <td>xec</td>\n",
       "      <td>Y2007</td>\n",
       "      <td>1</td>\n",
       "    </tr>\n",
       "    <tr>\n",
       "      <th>1176931</th>\n",
       "      <td>pdr</td>\n",
       "      <td>egy</td>\n",
       "      <td>xec</td>\n",
       "      <td>Y2007</td>\n",
       "      <td>8</td>\n",
       "    </tr>\n",
       "    <tr>\n",
       "      <th>1177232</th>\n",
       "      <td>pdr</td>\n",
       "      <td>zaf</td>\n",
       "      <td>bwa</td>\n",
       "      <td>Y2007</td>\n",
       "      <td>5</td>\n",
       "    </tr>\n",
       "    <tr>\n",
       "      <th>1177425</th>\n",
       "      <td>pdr</td>\n",
       "      <td>zaf</td>\n",
       "      <td>nam</td>\n",
       "      <td>Y2007</td>\n",
       "      <td>3</td>\n",
       "    </tr>\n",
       "    <tr>\n",
       "      <th>1178779</th>\n",
       "      <td>pdr</td>\n",
       "      <td>zaf</td>\n",
       "      <td>xsc</td>\n",
       "      <td>Y2007</td>\n",
       "      <td>1</td>\n",
       "    </tr>\n",
       "  </tbody>\n",
       "</table>\n",
       "<p>196 rows × 5 columns</p>\n",
       "</div>"
      ],
      "text/plain": [
       "        TRAD_COMM  REG REG.1   YEAR  Value\n",
       "0                                         \n",
       "1074866       pdr  aus   nzl  Y2007      1\n",
       "1075633       pdr  aus   xoc  Y2007      8\n",
       "1075862       pdr  tha   xoc  Y2007      6\n",
       "1076385       pdr  lao   chn  Y2007      1\n",
       "1078088       pdr  tha   hkg  Y2007      1\n",
       "...           ...  ...   ...    ...    ...\n",
       "1176498       pdr  pak   xec  Y2007      1\n",
       "1176931       pdr  egy   xec  Y2007      8\n",
       "1177232       pdr  zaf   bwa  Y2007      5\n",
       "1177425       pdr  zaf   nam  Y2007      3\n",
       "1178779       pdr  zaf   xsc  Y2007      1\n",
       "\n",
       "[196 rows x 5 columns]"
      ]
     },
     "execution_count": 21,
     "metadata": {},
     "output_type": "execute_result"
    }
   ],
   "source": [
    "df2[df2.TRAD_COMM == 'pdr']"
   ]
  },
  {
   "cell_type": "code",
   "execution_count": null,
   "metadata": {},
   "outputs": [],
   "source": [
    "## This suggesting that I actually use VXWD!"
   ]
  },
  {
   "cell_type": "code",
   "execution_count": 45,
   "metadata": {},
   "outputs": [],
   "source": [
    "df_mi = df.set_index(['TRAD_COMM', 'REG', 'REG.1'])"
   ]
  },
  {
   "cell_type": "code",
   "execution_count": 46,
   "metadata": {},
   "outputs": [],
   "source": [
    "shape = map(len, df_mi.index.levels)"
   ]
  },
  {
   "cell_type": "code",
   "execution_count": 49,
   "metadata": {},
   "outputs": [
    {
     "ename": "TypeError",
     "evalue": "expected sequence object with len >= 0 or a single integer",
     "output_type": "error",
     "traceback": [
      "\u001b[0;31m---------------------------------------------------------------------------\u001b[0m",
      "\u001b[0;31mTypeError\u001b[0m                                 Traceback (most recent call last)",
      "\u001b[0;32m<ipython-input-49-e8025d128b58>\u001b[0m in \u001b[0;36m<module>\u001b[0;34m()\u001b[0m\n\u001b[0;32m----> 1\u001b[0;31m \u001b[0marr\u001b[0m \u001b[0;34m=\u001b[0m \u001b[0mnp\u001b[0m\u001b[0;34m.\u001b[0m\u001b[0mfull\u001b[0m\u001b[0;34m(\u001b[0m\u001b[0mshape\u001b[0m\u001b[0;34m,\u001b[0m \u001b[0mnp\u001b[0m\u001b[0;34m.\u001b[0m\u001b[0mnan\u001b[0m\u001b[0;34m)\u001b[0m\u001b[0;34m\u001b[0m\u001b[0m\n\u001b[0m",
      "\u001b[0;32m/anaconda3/lib/python3.6/site-packages/numpy/core/numeric.py\u001b[0m in \u001b[0;36mfull\u001b[0;34m(shape, fill_value, dtype, order)\u001b[0m\n\u001b[1;32m    333\u001b[0m     \u001b[0;32mif\u001b[0m \u001b[0mdtype\u001b[0m \u001b[0;32mis\u001b[0m \u001b[0;32mNone\u001b[0m\u001b[0;34m:\u001b[0m\u001b[0;34m\u001b[0m\u001b[0m\n\u001b[1;32m    334\u001b[0m         \u001b[0mdtype\u001b[0m \u001b[0;34m=\u001b[0m \u001b[0marray\u001b[0m\u001b[0;34m(\u001b[0m\u001b[0mfill_value\u001b[0m\u001b[0;34m)\u001b[0m\u001b[0;34m.\u001b[0m\u001b[0mdtype\u001b[0m\u001b[0;34m\u001b[0m\u001b[0m\n\u001b[0;32m--> 335\u001b[0;31m     \u001b[0ma\u001b[0m \u001b[0;34m=\u001b[0m \u001b[0mempty\u001b[0m\u001b[0;34m(\u001b[0m\u001b[0mshape\u001b[0m\u001b[0;34m,\u001b[0m \u001b[0mdtype\u001b[0m\u001b[0;34m,\u001b[0m \u001b[0morder\u001b[0m\u001b[0;34m)\u001b[0m\u001b[0;34m\u001b[0m\u001b[0m\n\u001b[0m\u001b[1;32m    336\u001b[0m     \u001b[0mmultiarray\u001b[0m\u001b[0;34m.\u001b[0m\u001b[0mcopyto\u001b[0m\u001b[0;34m(\u001b[0m\u001b[0ma\u001b[0m\u001b[0;34m,\u001b[0m \u001b[0mfill_value\u001b[0m\u001b[0;34m,\u001b[0m \u001b[0mcasting\u001b[0m\u001b[0;34m=\u001b[0m\u001b[0;34m'unsafe'\u001b[0m\u001b[0;34m)\u001b[0m\u001b[0;34m\u001b[0m\u001b[0m\n\u001b[1;32m    337\u001b[0m     \u001b[0;32mreturn\u001b[0m \u001b[0ma\u001b[0m\u001b[0;34m\u001b[0m\u001b[0m\n",
      "\u001b[0;31mTypeError\u001b[0m: expected sequence object with len >= 0 or a single integer"
     ]
    }
   ],
   "source": [
    "arr = np.full(shape, np.nan)"
   ]
  },
  {
   "cell_type": "code",
   "execution_count": 50,
   "metadata": {},
   "outputs": [
    {
     "data": {
      "text/plain": [
       "FrozenList([['atp', 'b_t', 'c_b', 'cmn', 'cmt', 'cns', 'coa', 'crp', 'ctl', 'dwe', 'ele', 'ely', 'fmp', 'frs', 'fsh', 'gas', 'gdt', 'gro', 'i_s', 'isr', 'lea', 'lum', 'mil', 'mvh', 'nfm', 'nmm', 'oap', 'obs', 'ocr', 'ofd', 'ofi', 'oil', 'ome', 'omf', 'omn', 'omt', 'osd', 'osg', 'otn', 'otp', 'p_c', 'pcr', 'pdr', 'pfb', 'ppp', 'rmk', 'ros', 'sgr', 'tex', 'trd', 'v_f', 'vol', 'wap', 'wht', 'wol', 'wtp', 'wtr'], ['alb', 'are', 'arg', 'arm', 'aus', 'aut', 'aze', 'bel', 'ben', 'bfa', 'bgd', 'bgr', 'bhr', 'blr', 'bol', 'bra', 'bwa', 'can', 'che', 'chl', 'chn', 'civ', 'cmr', 'col', 'cri', 'cyp', 'cze', 'deu', 'dnk', 'ecu', 'egy', 'esp', 'est', 'eth', 'fin', 'fra', 'gbr', 'geo', 'gha', 'gin', 'grc', 'gtm', 'hkg', 'hnd', 'hrv', 'hun', 'idn', 'ind', 'irl', 'irn', 'isr', 'ita', 'jpn', 'kaz', 'ken', 'kgz', 'khm', 'kor', 'kwt', 'lao', 'lka', 'ltu', 'lux', 'lva', 'mar', 'mdg', 'mex', 'mlt', 'mng', 'moz', 'mus', 'mwi', 'mys', 'nam', 'nga', 'nic', 'nld', 'nor', 'npl', 'nzl', 'omn', 'pak', 'pan', 'per', 'phl', 'pol', 'prt', 'pry', 'qat', 'rou', 'rus', 'rwa', 'sau', 'sen', 'sgp', 'slv', 'svk', 'svn', 'swe', 'tgo', ...], ['alb', 'are', 'arg', 'arm', 'aus', 'aut', 'aze', 'bel', 'ben', 'bfa', 'bgd', 'bgr', 'bhr', 'blr', 'bol', 'bra', 'bwa', 'can', 'che', 'chl', 'chn', 'civ', 'cmr', 'col', 'cri', 'cyp', 'cze', 'deu', 'dnk', 'ecu', 'egy', 'esp', 'est', 'eth', 'fin', 'fra', 'gbr', 'geo', 'gha', 'gin', 'grc', 'gtm', 'hkg', 'hnd', 'hrv', 'hun', 'idn', 'ind', 'irl', 'irn', 'isr', 'ita', 'jpn', 'kaz', 'ken', 'kgz', 'khm', 'kor', 'kwt', 'lao', 'lka', 'ltu', 'lux', 'lva', 'mar', 'mdg', 'mex', 'mlt', 'mng', 'moz', 'mus', 'mwi', 'mys', 'nam', 'nga', 'nic', 'nld', 'nor', 'npl', 'nzl', 'omn', 'pak', 'pan', 'per', 'phl', 'pol', 'prt', 'pry', 'qat', 'rou', 'rus', 'rwa', 'sau', 'sen', 'sgp', 'slv', 'svk', 'svn', 'swe', 'tgo', ...]])"
      ]
     },
     "execution_count": 50,
     "metadata": {},
     "output_type": "execute_result"
    }
   ],
   "source": [
    "df_mi.index.levels"
   ]
  },
  {
   "cell_type": "code",
   "execution_count": null,
   "metadata": {},
   "outputs": [],
   "source": []
  }
 ],
 "metadata": {
  "kernelspec": {
   "display_name": "Python 3",
   "language": "python",
   "name": "python3"
  },
  "language_info": {
   "codemirror_mode": {
    "name": "ipython",
    "version": 3
   },
   "file_extension": ".py",
   "mimetype": "text/x-python",
   "name": "python",
   "nbconvert_exporter": "python",
   "pygments_lexer": "ipython3",
   "version": "3.6.4"
  }
 },
 "nbformat": 4,
 "nbformat_minor": 2
}
