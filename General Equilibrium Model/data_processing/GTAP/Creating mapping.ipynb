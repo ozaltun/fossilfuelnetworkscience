{
 "cells": [
  {
   "cell_type": "code",
   "execution_count": 1,
   "metadata": {},
   "outputs": [],
   "source": [
    "import pickle\n",
    "import numpy as np\n",
    "import pandas as pd\n",
    "from helper import *\n",
    "\n",
    "root = '/Users/ozaltun/Dropbox (MIT)/Data/Trade/general_equilibrium_gravity/GTAP/output/baseview/VOM .csv'\n",
    "vom = pd.read_csv(root, index_col=0, header=1)\n",
    "\n",
    "NSAV_COMM = vom.NSAV_COMM.unique().tolist()\n",
    "\n",
    "comm_2_num = {}\n",
    "for i in range(len(NSAV_COMM)):\n",
    "    comm_2_num[NSAV_COMM[i]] = i\n",
    "    \n",
    "save_root = '/Users/ozaltun/Dropbox (MIT)/Data/Trade/general_equilibrium_gravity/GTAP/mapping/comm_2_num.pickle'\n",
    "save_obj(comm_2_num, save_root)\n",
    "\n",
    "REG = vom.REG.unique().tolist()\n",
    "\n",
    "reg_2_num = {REG[i]:i for i in range(len(REG))}\n",
    "\n",
    "\n",
    "save_root = '/Users/ozaltun/Dropbox (MIT)/Data/Trade/general_equilibrium_gravity/GTAP/mapping/reg_2_num.pickle'\n",
    "save_obj(reg_2_num, save_root)"
   ]
  }
 ],
 "metadata": {
  "kernelspec": {
   "display_name": "Python 3",
   "language": "python",
   "name": "python3"
  },
  "language_info": {
   "codemirror_mode": {
    "name": "ipython",
    "version": 3
   },
   "file_extension": ".py",
   "mimetype": "text/x-python",
   "name": "python",
   "nbconvert_exporter": "python",
   "pygments_lexer": "ipython3",
   "version": "3.6.3"
  }
 },
 "nbformat": 4,
 "nbformat_minor": 2
}
