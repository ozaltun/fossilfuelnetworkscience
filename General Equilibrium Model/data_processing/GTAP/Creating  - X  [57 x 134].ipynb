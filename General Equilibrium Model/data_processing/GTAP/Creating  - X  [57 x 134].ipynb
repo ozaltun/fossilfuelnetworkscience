{
 "cells": [
  {
   "cell_type": "code",
   "execution_count": 1,
   "metadata": {},
   "outputs": [],
   "source": [
    "import numpy as np\n",
    "import pandas as pd\n",
    "import pickle\n",
    "from helper import *"
   ]
  },
  {
   "cell_type": "code",
   "execution_count": 2,
   "metadata": {},
   "outputs": [
    {
     "name": "stderr",
     "output_type": "stream",
     "text": [
      "/Library/Frameworks/Python.framework/Versions/3.6/lib/python3.6/site-packages/numpy/lib/arraysetops.py:522: FutureWarning: elementwise comparison failed; returning scalar instead, but in the future will perform elementwise comparison\n",
      "  mask |= (ar1 == a)\n"
     ]
    }
   ],
   "source": [
    "## Datasets needed to get production: basedata/VXMD.csv, basedata/VST.csv, basedata/VDFM.csv, basedata/VDPM.csv,\n",
    "## basedata/VDGM.csv, basedata/\n",
    "\n",
    "## or just baseview/vom.csv\n",
    "\n",
    "root = '/Users/boraozaltun/Dropbox (MIT)/Data/Trade/general_equilibrium_gravity/GTAP/output/basedata/VXWD.csv'\n",
    "vxwd = pd.read_csv(root, index_col=0, header=1, low_memory=False)\n",
    "\n",
    "comm_2_num = load_obj('/Users/boraozaltun/Dropbox (MIT)/Data/Trade/general_equilibrium_gravity/GTAP/mapping/comm_2_num.pickle')\n",
    "reg_2_num = load_obj('/Users/boraozaltun/Dropbox (MIT)/Data/Trade/general_equilibrium_gravity/GTAP/mapping/reg_2_num.pickle')"
   ]
  },
  {
   "cell_type": "code",
   "execution_count": 4,
   "metadata": {},
   "outputs": [],
   "source": [
    " # Lets go with export values since that is equal to the trade dataset tstrade..."
   ]
  },
  {
   "cell_type": "code",
   "execution_count": 3,
   "metadata": {},
   "outputs": [
    {
     "name": "stdout",
     "output_type": "stream",
     "text": [
      "Number of empty values:  [-1000. -1000. -1000. ... -1000. -1000. -1000.]\n"
     ]
    }
   ],
   "source": [
    "vxwd_np = convertRow2Matrix(vxwd, ['TRAD_COMM','REG','REG.1'], [comm_2_num, reg_2_num, reg_2_num])"
   ]
  },
  {
   "cell_type": "code",
   "execution_count": 11,
   "metadata": {},
   "outputs": [
    {
     "name": "stdout",
     "output_type": "stream",
     "text": [
      "1005670 1005670\n"
     ]
    }
   ],
   "source": [
    "print(vxwd.shape[0], 57*134*134 - vxwd_np[vxwd_np<0].shape[0])"
   ]
  },
  {
   "cell_type": "code",
   "execution_count": 12,
   "metadata": {},
   "outputs": [],
   "source": [
    "# Number of negatives check out!"
   ]
  },
  {
   "cell_type": "code",
   "execution_count": 13,
   "metadata": {},
   "outputs": [],
   "source": [
    "root_matrix = '/Users/boraozaltun/Dropbox (MIT)/Data/Trade/general_equilibrium_gravity/GTAP/matrices/X.pickle'\n",
    "save_obj(vxwd_np, root_matrix)"
   ]
  },
  {
   "cell_type": "code",
   "execution_count": 14,
   "metadata": {},
   "outputs": [
    {
     "data": {
      "text/plain": [
       "17822"
      ]
     },
     "execution_count": 14,
     "metadata": {},
     "output_type": "execute_result"
    }
   ],
   "source": [
    "vxwd_np[vxwd_np<0].shape[0]"
   ]
  },
  {
   "cell_type": "code",
   "execution_count": 15,
   "metadata": {
    "scrolled": false
   },
   "outputs": [
    {
     "data": {
      "text/plain": [
       "array([[ 9.99999997e-07, -1.00000000e+03, -1.00000000e+03, ...,\n",
       "        -1.00000000e+03, -1.00000000e+03, -1.00000000e+03],\n",
       "       [-1.00000000e+03,  9.99999997e-07, -1.00000000e+03, ...,\n",
       "        -1.00000000e+03, -1.00000000e+03, -1.00000000e+03],\n",
       "       [-1.00000000e+03, -1.00000000e+03,  9.99999997e-07, ...,\n",
       "        -1.00000000e+03, -1.00000000e+03, -1.00000000e+03],\n",
       "       ...,\n",
       "       [-1.00000000e+03, -1.00000000e+03, -1.00000000e+03, ...,\n",
       "         9.99999997e-07, -1.00000000e+03, -1.00000000e+03],\n",
       "       [-1.00000000e+03, -1.00000000e+03, -1.00000000e+03, ...,\n",
       "        -1.00000000e+03,  9.99999997e-07, -1.00000000e+03],\n",
       "       [-1.00000000e+03, -1.00000000e+03, -1.00000000e+03, ...,\n",
       "        -1.00000000e+03, -1.00000000e+03,  9.99999997e-07]])"
      ]
     },
     "execution_count": 15,
     "metadata": {},
     "output_type": "execute_result"
    }
   ],
   "source": [
    "vxwd_np[56,:,:]"
   ]
  },
  {
   "cell_type": "code",
   "execution_count": 16,
   "metadata": {},
   "outputs": [
    {
     "data": {
      "text/plain": [
       "56"
      ]
     },
     "execution_count": 16,
     "metadata": {},
     "output_type": "execute_result"
    }
   ],
   "source": [
    "comm_2_num['dwe']"
   ]
  }
 ],
 "metadata": {
  "kernelspec": {
   "display_name": "Python 3",
   "language": "python",
   "name": "python3"
  },
  "language_info": {
   "codemirror_mode": {
    "name": "ipython",
    "version": 3
   },
   "file_extension": ".py",
   "mimetype": "text/x-python",
   "name": "python",
   "nbconvert_exporter": "python",
   "pygments_lexer": "ipython3",
   "version": "3.6.3"
  }
 },
 "nbformat": 4,
 "nbformat_minor": 2
}
