{
 "cells": [
  {
   "cell_type": "code",
   "execution_count": 1,
   "metadata": {},
   "outputs": [],
   "source": [
    "import numpy as np\n",
    "import pandas as pd\n",
    "import pickle\n",
    "\n",
    "def save_obj(obj, loc ):\n",
    "    with open(loc, 'wb') as f:\n",
    "        pickle.dump(obj, f, pickle.HIGHEST_PROTOCOL)\n",
    "\n",
    "def load_obj(loc):\n",
    "    with open(loc, 'rb') as f:\n",
    "        return pickle.load(f)\n",
    "\n",
    "def reverse_dict(my_map):\n",
    "    inv_map = {v: k for k, v in my_map.items()}\n",
    "    return inv_map\n",
    "\n",
    "reg_2_num = load_obj('/Users/boraozaltun/Dropbox (MIT)/Data/Trade/general_equilibrium_gravity/GTAP/mapping/reg_2_num.pickle')\n",
    "\n",
    "comm_2_num = load_obj('/Users/boraozaltun/Dropbox (MIT)/Data/Trade/general_equilibrium_gravity/GTAP/mapping/comm_2_num.pickle')\n",
    "\n",
    "prodcomm_2_num = load_obj('/Users/boraozaltun/Dropbox (MIT)/Data/Trade/general_equilibrium_gravity/GTAP/mapping/prodcomm_2_num.pickle')\n",
    "nsavcomm_2_num = load_obj('/Users/boraozaltun/Dropbox (MIT)/Data/Trade/general_equilibrium_gravity/GTAP/mapping/nsavcomm_2_num.pickle')\n",
    "demdcomm_2_num = load_obj('/Users/boraozaltun/Dropbox (MIT)/Data/Trade/general_equilibrium_gravity/GTAP/mapping/demdcomm_2_num.pickle')"
   ]
  },
  {
   "cell_type": "code",
   "execution_count": 2,
   "metadata": {},
   "outputs": [],
   "source": [
    "root = '/Users/boraozaltun/Dropbox (MIT)/Data/Trade/general_equilibrium_gravity/GTAP/matrices/{}.pickle'"
   ]
  },
  {
   "cell_type": "code",
   "execution_count": 3,
   "metadata": {},
   "outputs": [],
   "source": [
    "F_goods = ['b_t','tex','wap','lea','lum','ppp','p_c','crp','nmm','fmp','mvh','otn','ele',\\\n",
    "           'ome','omf','ely','gdt','wtr','cns','trd','otp','wtp','atp','cmn','ofi','isr','obs','ros','osg']\n",
    "\n",
    "C_goods = ['pdr','wht','gro','v_f','osd','c_b','pfb','ocr','ctl','oap','rmk','wol','frs','fsh','coa','oil',\\\n",
    "           'gas','omn','cmt','omt','vol','mil','pcr','sgr','i_s','nfm','ofd']"
   ]
  },
  {
   "cell_type": "code",
   "execution_count": 4,
   "metadata": {},
   "outputs": [
    {
     "data": {
      "text/plain": [
       "56"
      ]
     },
     "execution_count": 4,
     "metadata": {},
     "output_type": "execute_result"
    }
   ],
   "source": [
    "len(F_goods)+len(C_goods)"
   ]
  },
  {
   "cell_type": "code",
   "execution_count": 5,
   "metadata": {},
   "outputs": [],
   "source": [
    "data = {}\n",
    "n = 134\n",
    "g = len(C_goods)\n",
    "k = len(F_goods)\n",
    "\n",
    "data['n'] = n\n",
    "data['g'] = g\n",
    "data['k'] = k"
   ]
  },
  {
   "cell_type": "code",
   "execution_count": 6,
   "metadata": {},
   "outputs": [],
   "source": [
    "# Lets get the easy one out of the way\n",
    "data['E'] = load_obj(root.format('E')).reshape((n, 1))"
   ]
  },
  {
   "cell_type": "code",
   "execution_count": 7,
   "metadata": {},
   "outputs": [],
   "source": [
    "# Now production:\n",
    "Y = load_obj(root.format('Y'))\n",
    "data['Y_g'] = np.zeros((n, g))\n",
    "data['Y_k'] = np.zeros((n, k))\n",
    "\n",
    "\n",
    "for i, key in enumerate(C_goods):\n",
    "    data['Y_g'][:, i] = Y[comm_2_num[key], :]\n",
    "\n",
    "\n",
    "for i, key in enumerate(F_goods):\n",
    "    data['Y_k'][:, i] = Y[comm_2_num[key], :]"
   ]
  },
  {
   "cell_type": "code",
   "execution_count": 8,
   "metadata": {},
   "outputs": [],
   "source": [
    "# Now demand:\n",
    "D = load_obj(root.format('D'))\n",
    "data['D_g_old'] = np.zeros((n, g))\n",
    "data['D_k_old'] = np.zeros((n, k))\n",
    "\n",
    "\n",
    "for i, key in enumerate(C_goods):\n",
    "    data['D_g_old'][:, i] = D[comm_2_num[key], :]\n",
    "\n",
    "\n",
    "for i, key in enumerate(F_goods):\n",
    "    data['D_k_old'][:, i] = D[comm_2_num[key], :]"
   ]
  },
  {
   "cell_type": "code",
   "execution_count": 9,
   "metadata": {},
   "outputs": [],
   "source": [
    "# Now trade\n",
    "X = load_obj(root.format('X'))\n",
    "\n",
    "data['X_g'] = np.zeros((n, n, g))\n",
    "data['X_k'] = np.zeros((n, n, k))\n",
    "\n",
    "\n",
    "for i, key in enumerate(C_goods):\n",
    "    data['X_g'][:, :, i] = X[comm_2_num[key], :, :].T\n",
    "\n",
    "\n",
    "for i, key in enumerate(F_goods):\n",
    "    data['X_k'][:, :, i] = X[comm_2_num[key], :, :].T"
   ]
  },
  {
   "cell_type": "code",
   "execution_count": 10,
   "metadata": {},
   "outputs": [
    {
     "name": "stdout",
     "output_type": "stream",
     "text": [
      "7 15\n",
      "17 15\n",
      "115 15\n",
      "122 25\n",
      "132 15\n"
     ]
    }
   ],
   "source": [
    "# Adjust local consumption\n",
    "for i in range(n):\n",
    "    temp = np.zeros(g)\n",
    "    for j in range(n):\n",
    "        if i != j:\n",
    "            temp += data['X_g'][j, i, :]\n",
    "        \n",
    "    data['X_g'][i, i, :] = data['Y_g'][i,:] - temp\n",
    "\n",
    "# Re-adjust with demand figures\n",
    "idx_g = np.where(data['X_g'] <= 0)\n",
    "data['X_g'][idx_g] = data['D_g_old'][idx_g[1:]]\n",
    "\n",
    "# Now go back \n",
    "for i in range(idx_g[0].shape[0]):\n",
    "    print(idx_g[1][i], idx_g[2][i])\n",
    "    data['Y_g'][idx_g[1][i], idx_g[2][i]] += data['X_g'][:, idx_g[1][i], idx_g[2][i]].sum()"
   ]
  },
  {
   "cell_type": "code",
   "execution_count": 11,
   "metadata": {},
   "outputs": [
    {
     "name": "stdout",
     "output_type": "stream",
     "text": [
      "86 4\n",
      "113 1\n",
      "114 11\n"
     ]
    }
   ],
   "source": [
    "for i in range(n):\n",
    "    temp = np.zeros(k)\n",
    "    for j in range(n):\n",
    "        if i != j:\n",
    "            temp += data['X_k'][j, i, :]\n",
    "        \n",
    "    data['X_k'][i, i, :] = data['Y_k'][i,:] - temp\n",
    "\n",
    "idx_k = np.where(data['X_k'] <= 0)\n",
    "data['X_k'][idx_k] = data['D_k_old'][idx_k[1:]]\n",
    "\n",
    " \n",
    "for i in range(idx_k[0].shape[0]):\n",
    "    print(idx_k[1][i], idx_k[2][i])\n",
    "    data['Y_g'][idx_k[1][i], idx_k[2][i]] += data['X_k'][:, idx_k[1][i], idx_k[2][i]].sum()"
   ]
  },
  {
   "cell_type": "code",
   "execution_count": 12,
   "metadata": {},
   "outputs": [],
   "source": [
    "data['D_g'] = data['X_g'].sum(axis=1)\n",
    "data['D_k'] = data['X_k'].sum(axis=1)"
   ]
  },
  {
   "cell_type": "code",
   "execution_count": 13,
   "metadata": {},
   "outputs": [],
   "source": [
    "# Trade fraction\n",
    "data['lambda_g'] = data['X_g']/data['D_g'].reshape((n, 1, g))\n",
    "data['lambda_k'] = data['X_k']/data['D_k'].reshape((n, 1, k))"
   ]
  },
  {
   "cell_type": "code",
   "execution_count": 14,
   "metadata": {},
   "outputs": [],
   "source": [
    "# Now interlinkage\n",
    "d = load_obj(root.format('d_l'))\n",
    "\n",
    "data['d'] = np.zeros((n, k, g))\n",
    "\n",
    "for i, comm in enumerate(C_goods):\n",
    "    for j, final in enumerate(F_goods):\n",
    "        data['d'][:, j, i] = d[comm_2_num[comm], comm_2_num[final], :]"
   ]
  },
  {
   "cell_type": "code",
   "execution_count": 15,
   "metadata": {},
   "outputs": [],
   "source": [
    "# Share of labor\n",
    "e_labor = load_obj(root.format('e_labor'))\n",
    "\n",
    "data['e_L'] = e_labor.reshape((n, 1))\n",
    "\n",
    "\n",
    "# Share of commodities\n",
    "e_comm = load_obj(root.format('e_comm'))\n",
    "data['e'] = np.zeros((n, g))\n",
    "\n",
    "for i, key in enumerate(C_goods):\n",
    "    data['e'][:, i] = e_comm[comm_2_num[key], :]\n"
   ]
  },
  {
   "cell_type": "code",
   "execution_count": 16,
   "metadata": {},
   "outputs": [],
   "source": [
    "data['e_L'] =( 1 - data['e'].sum(axis=1)).reshape((n, 1))"
   ]
  },
  {
   "cell_type": "code",
   "execution_count": 20,
   "metadata": {},
   "outputs": [
    {
     "data": {
      "text/plain": [
       "array([0.27835701, 0.3294482 , 0.41913555, 0.56087113, 0.18008043,\n",
       "       0.1475382 , 0.21798218, 0.64649758, 0.22391398, 0.23915743,\n",
       "       0.64012794, 0.50648693, 1.00171498, 0.47306545, 0.39112444,\n",
       "       0.03917416, 0.3326907 , 0.63301321, 0.7763111 , 0.62158066,\n",
       "       0.42483334, 0.49062759, 0.48754147, 0.39213039, 0.48794164,\n",
       "       0.22421672, 0.10877491, 0.25494029, 0.16055771, 0.37507264,\n",
       "       0.67248152, 0.2875467 , 0.55101063, 0.32102221, 0.66282989,\n",
       "       0.67018581, 0.58789847, 0.31057899, 0.48380186, 0.61472596,\n",
       "       0.38345971, 0.48012966, 0.51937406, 0.61053925, 0.2982315 ,\n",
       "       0.36007275, 0.50201007, 0.24998124, 0.12861005, 0.22014831,\n",
       "       0.19989755, 0.2393051 , 0.16523011, 0.27001176, 0.18403446,\n",
       "       0.13951954, 0.11332903, 0.18601292, 0.24586698, 0.14783745,\n",
       "       0.15093358, 0.37063091, 0.26544557, 0.16839146, 0.08925727,\n",
       "       0.16877676, 0.29998648, 0.15165387, 0.31322973, 0.19830619,\n",
       "       0.14877962, 0.12462032, 0.10086627, 0.14128976, 0.31703459,\n",
       "       0.28050818, 0.36659191, 0.41300683, 0.42214943, 0.32940921,\n",
       "       0.39501972, 0.46763334, 0.50224661, 0.55311349, 0.28479016,\n",
       "       0.8354035 , 0.67655682, 1.00573094, 0.52060712, 0.77425016,\n",
       "       0.50983921, 0.50779565, 0.59363347, 0.12357959, 0.5965647 ,\n",
       "       0.62350512, 0.4801376 , 0.69368452, 0.28833807, 0.45712516,\n",
       "       0.81850319, 0.51110597, 0.50262649, 0.47117369, 0.72807769,\n",
       "       0.45204039, 0.59628941, 0.61027651, 0.6838291 , 0.64331662,\n",
       "       0.74778305, 0.8448135 , 0.38778347, 0.57257923, 0.70326495,\n",
       "       0.62895173, 0.80985027, 0.6226483 , 0.798282  , 0.78013058,\n",
       "       0.7437943 , 0.38424933, 0.73191816, 0.59113086, 0.57516149,\n",
       "       0.54272092, 0.89694051, 0.98565604, 0.57599212, 0.48956572,\n",
       "       0.58420647, 0.351632  , 0.5999969 , 0.22328622])"
      ]
     },
     "execution_count": 20,
     "metadata": {},
     "output_type": "execute_result"
    }
   ],
   "source": [
    "data['e'].sum(axis=1)"
   ]
  },
  {
   "cell_type": "code",
   "execution_count": 42,
   "metadata": {},
   "outputs": [],
   "source": [
    "# alpha\n",
    "alpha = load_obj(root.format('alpha'))\n",
    "data['alpha'] = np.zeros((n, k))\n",
    "\n",
    "for i, key in enumerate(F_goods):\n",
    "    data['alpha'][:, i] = alpha[comm_2_num[key], :]"
   ]
  },
  {
   "cell_type": "code",
   "execution_count": 43,
   "metadata": {},
   "outputs": [
    {
     "data": {
      "text/plain": [
       "(array([ 86, 113, 114]), array([ 86, 113, 114]), array([ 4,  1, 11]))"
      ]
     },
     "execution_count": 43,
     "metadata": {},
     "output_type": "execute_result"
    }
   ],
   "source": [
    "idx_k"
   ]
  },
  {
   "cell_type": "code",
   "execution_count": 44,
   "metadata": {},
   "outputs": [
    {
     "data": {
      "text/plain": [
       "(array([  7,  17, 115, 122, 132]),\n",
       " array([  7,  17, 115, 122, 132]),\n",
       " array([15, 15, 15, 25, 15]))"
      ]
     },
     "execution_count": 44,
     "metadata": {},
     "output_type": "execute_result"
    }
   ],
   "source": [
    "idx_g"
   ]
  },
  {
   "cell_type": "code",
   "execution_count": 45,
   "metadata": {},
   "outputs": [],
   "source": [
    "# phi\n",
    "phi_labor = load_obj(root.format('phi_labor'))\n",
    "phi_comm = load_obj(root.format('phi_comm'))\n",
    "phi_natlres = load_obj(root.format('phi_natlres')) # See if you need to integrate land\n",
    "\n",
    "\n",
    "data['phi_L_g'] = np.zeros((n, g))\n",
    "data['phi_L_k'] = np.zeros((n, k))\n",
    "\n",
    "data['phi_R'] = np.zeros((n, g))\n",
    "\n",
    "data['phi'] = np.zeros((n, k, g))\n",
    "\n",
    "for i, key in enumerate(C_goods):\n",
    "    data['phi_L_g'][:, i] = phi_labor[comm_2_num[key], :]\n",
    "    data['phi_R'][:, i] = phi_natlres[comm_2_num[key], :]\n",
    "    \n",
    "for i, key in enumerate(F_goods):    \n",
    "    data['phi_L_k'][:, i] = phi_labor[comm_2_num[key], :]\n",
    "    \n",
    "for i, comm in enumerate(C_goods):\n",
    "    for j, final in enumerate(F_goods):\n",
    "        data['phi'][:, j, i] = d[comm_2_num[comm], comm_2_num[final], :]"
   ]
  },
  {
   "cell_type": "code",
   "execution_count": 46,
   "metadata": {},
   "outputs": [
    {
     "name": "stdout",
     "output_type": "stream",
     "text": [
      "(array([], dtype=int64), array([], dtype=int64), array([], dtype=int64)) (array([], dtype=int64), array([], dtype=int64))\n",
      "3.0917156944473025e-08 308.94022842087634 15.917555809000001\n"
     ]
    }
   ],
   "source": [
    "# Update based on notes:\n",
    "data['phi'] = data['d']*data['D_g'].reshape((n, 1, g))/data['Y_k'].reshape((n, k, 1))\n",
    "\n",
    "data['phi_L_k'] = 1 - data['phi'].sum(axis=2)\n",
    "\n",
    "print(np.where(data['phi'] >1), np.where(data['phi_L_k'] <=0))\n"
   ]
  },
  {
   "cell_type": "code",
   "execution_count": 47,
   "metadata": {},
   "outputs": [],
   "source": [
    "data['theta_k'] = np.ones((k, 1))*5.\n",
    "data['theta_g'] = np.ones((g, 1))*5.\n",
    "\n",
    "data['eta'] = np.ones((k, 1))*0.4\n",
    "data['rho_g'] = np.ones((g, 1))*0.4\n",
    "\n",
    "data['sigma'] = 0.4"
   ]
  },
  {
   "cell_type": "code",
   "execution_count": 48,
   "metadata": {},
   "outputs": [],
   "source": [
    "### Change non zero elements to zero ###"
   ]
  },
  {
   "cell_type": "code",
   "execution_count": 49,
   "metadata": {},
   "outputs": [
    {
     "name": "stdout",
     "output_type": "stream",
     "text": [
      "n\n",
      "g\n",
      "k\n",
      "E\n",
      "Y_g\n",
      "Y_k\n",
      "D_g_old\n",
      "D_k_old\n",
      "X_g\n",
      "X_k\n",
      "D_g\n",
      "D_k\n",
      "lambda_g\n",
      "lambda_k\n",
      "d\n",
      "e_L\n",
      "e\n",
      "alpha\n",
      "phi_L_g\n",
      "phi_L_k\n",
      "phi_R\n",
      "phi\n",
      "theta_k\n",
      "theta_g\n",
      "eta\n",
      "rho_g\n",
      "sigma\n"
     ]
    }
   ],
   "source": [
    "for i in data.keys():\n",
    "    print(i)\n",
    "    if i not in ['n', 'g','k','sigma']:\n",
    "        data[i][data[i]<0] = 0"
   ]
  },
  {
   "cell_type": "code",
   "execution_count": 50,
   "metadata": {},
   "outputs": [],
   "source": [
    "loc = '/Users/boraozaltun/Dropbox (MIT)/Data/Trade/general_equilibrium_gravity/final_data/data_20200212.pickle'\n",
    "save_obj(data, loc)"
   ]
  },
  {
   "cell_type": "code",
   "execution_count": null,
   "metadata": {},
   "outputs": [],
   "source": []
  }
 ],
 "metadata": {
  "kernelspec": {
   "display_name": "Python 3",
   "language": "python",
   "name": "python3"
  },
  "language_info": {
   "codemirror_mode": {
    "name": "ipython",
    "version": 3
   },
   "file_extension": ".py",
   "mimetype": "text/x-python",
   "name": "python",
   "nbconvert_exporter": "python",
   "pygments_lexer": "ipython3",
   "version": "3.6.3"
  }
 },
 "nbformat": 4,
 "nbformat_minor": 2
}
