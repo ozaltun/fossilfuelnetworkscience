{
 "cells": [
  {
   "cell_type": "code",
   "execution_count": 1,
   "metadata": {},
   "outputs": [],
   "source": [
    "# I think that the 12 equations can be reduced to (2) w_hat, r_hat. Lets see!"
   ]
  },
  {
   "cell_type": "code",
   "execution_count": 1,
   "metadata": {},
   "outputs": [],
   "source": [
    "from scipy.optimize import fsolve, root, newton_krylov\n",
    "import numpy as np\n",
    "import pandas as pd\n",
    "import matplotlib.pyplot as plt\n",
    "import autograd\n",
    "from counterfactual_functions import *\n",
    "from helper import *"
   ]
  },
  {
   "cell_type": "code",
   "execution_count": 2,
   "metadata": {},
   "outputs": [],
   "source": [
    "data_dict = load_obj('/Users/boraozaltun/Dropbox (MIT)/Data/Trade/general_equilibrium_gravity/final_data/data_20200210.pickle')\n",
    "\n",
    "# For stability\n",
    "\n",
    "data_dict['phi_R'][data_dict['phi_R'] == 0 ] = 1e-6\n",
    "\n"
   ]
  },
  {
   "cell_type": "code",
   "execution_count": 3,
   "metadata": {},
   "outputs": [],
   "source": [
    "reg_2_num = load_obj('/Users/boraozaltun/Dropbox (MIT)/Data/Trade/general_equilibrium_gravity/GTAP/mapping/reg_2_num.pickle')\n",
    "comm_2_num = load_obj('/Users/boraozaltun/Dropbox (MIT)/Data/Trade/general_equilibrium_gravity/GTAP/mapping/comm_2_num.pickle')"
   ]
  },
  {
   "cell_type": "code",
   "execution_count": 4,
   "metadata": {},
   "outputs": [],
   "source": [
    "n = data_dict['n']\n",
    "g = data_dict['g']\n",
    "k = data_dict['k']\n",
    "\n",
    "data_dict['R_hat'] = np.ones((n, g))\n",
    "# data_dict['R_hat'][reg_2_num['usa'], comm_2_num['oil']] = 2\n",
    "# data_dict['R_hat'][reg_2_num['usa'], comm_2_num['gas']] = 2"
   ]
  },
  {
   "cell_type": "code",
   "execution_count": 5,
   "metadata": {},
   "outputs": [],
   "source": [
    "X_0 = np.ones(n*g + n)*2\n",
    "F = lambda x: reduced_counterfactual(x, data_dict)"
   ]
  },
  {
   "cell_type": "code",
   "execution_count": 6,
   "metadata": {},
   "outputs": [],
   "source": [
    "# It seems quite early on, something is going wrong\n",
    "# Also, curious if I can speed it up in different ways "
   ]
  },
  {
   "cell_type": "code",
   "execution_count": 7,
   "metadata": {},
   "outputs": [],
   "source": [
    "# X = F(X_0)\n",
    "# r_hat, w_hat = get_values_from_X_reduced(X, data_dict)"
   ]
  },
  {
   "cell_type": "code",
   "execution_count": 8,
   "metadata": {},
   "outputs": [
    {
     "name": "stdout",
     "output_type": "stream",
     "text": [
      "2.9595525251394355 0.00033417601268734965 0.5476144547011765\n"
     ]
    }
   ],
   "source": [
    "data = dict(data_dict)\n",
    "X = X_0\n",
    "n = data['n']\n",
    "g = data['g']\n",
    "k = data['k']\n",
    "\n",
    "r_hat, w_hat = get_values_from_X_reduced(X, data)\n",
    "\n",
    "\n",
    "C_g_hat = get_C_g_hat(w_hat, r_hat, data)\n",
    "E_hat = get_E_hat(w_hat, r_hat, data)\n",
    "\n",
    "\n",
    "P_g_goods_hat = get_P_g_goods_hat(C_g_hat, data)\n",
    "\n",
    "C_k_hat = get_C_k_hat(w_hat, P_g_goods_hat, data)\n",
    "\n",
    "P_k_goods_hat = get_P_k_goods_hat(C_k_hat, data)\n",
    "\n",
    "P_k_hat = get_P_k_hat(P_k_goods_hat, data)\n",
    "\n",
    "D_k_hat = get_D_k_hat(E_hat, P_k_goods_hat, P_k_hat, data)\n",
    "print(np.mean(C_k_hat), np.mean(P_k_goods_hat), np.mean(D_k_hat))"
   ]
  },
  {
   "cell_type": "code",
   "execution_count": 9,
   "metadata": {},
   "outputs": [],
   "source": [
    "\n",
    "\n",
    "C_k_hat = get_C_k_hat(w_hat, P_g_goods_hat, data)\n",
    "\n",
    "P_k_goods_hat = get_P_k_goods_hat(C_k_hat, data)\n",
    "\n",
    "P_k_hat = get_P_k_hat(P_k_goods_hat, data)\n",
    "\n",
    "D_k_hat = get_D_k_hat(E_hat, P_k_goods_hat, P_k_hat, data)"
   ]
  },
  {
   "cell_type": "code",
   "execution_count": 10,
   "metadata": {},
   "outputs": [
    {
     "name": "stdout",
     "output_type": "stream",
     "text": [
      "266.0741536166373\n",
      "188.5652114911648\n"
     ]
    }
   ],
   "source": [
    "Y_k_hat = get_Y_k_hat(C_k_hat, P_k_goods_hat, D_k_hat, data)\n",
    "print(np.mean(Y_k_hat))\n",
    "D_g_hat = get_D_g_hat(P_g_goods_hat, C_k_hat, Y_k_hat, data)\n",
    "print(np.mean(D_g_hat))\n",
    "Y_g_hat = get_Y_g_hat(C_g_hat, P_g_goods_hat, D_g_hat, data)"
   ]
  },
  {
   "cell_type": "code",
   "execution_count": 15,
   "metadata": {},
   "outputs": [
    {
     "data": {
      "text/plain": [
       "-1.293046727910194e+46"
      ]
     },
     "execution_count": 15,
     "metadata": {},
     "output_type": "execute_result"
    }
   ],
   "source": [
    "np.mean(r_hat - get_r_hat(Y_g_hat, C_g_hat, data))"
   ]
  },
  {
   "cell_type": "code",
   "execution_count": 16,
   "metadata": {},
   "outputs": [
    {
     "data": {
      "text/plain": [
       "-193164.7953519865"
      ]
     },
     "execution_count": 16,
     "metadata": {},
     "output_type": "execute_result"
    }
   ],
   "source": [
    "np.mean(w_hat - get_w_hat(w_hat, Y_g_hat, Y_k_hat, C_k_hat, C_g_hat, data))"
   ]
  },
  {
   "cell_type": "code",
   "execution_count": null,
   "metadata": {},
   "outputs": [],
   "source": [
    "# The problem is that the cost of producing a commodity in some countries is 0 because they do not have "
   ]
  }
 ],
 "metadata": {
  "kernelspec": {
   "display_name": "Python 3",
   "language": "python",
   "name": "python3"
  },
  "language_info": {
   "codemirror_mode": {
    "name": "ipython",
    "version": 3
   },
   "file_extension": ".py",
   "mimetype": "text/x-python",
   "name": "python",
   "nbconvert_exporter": "python",
   "pygments_lexer": "ipython3",
   "version": "3.6.3"
  }
 },
 "nbformat": 4,
 "nbformat_minor": 2
}
