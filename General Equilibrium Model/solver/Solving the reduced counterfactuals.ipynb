{
 "cells": [
  {
   "cell_type": "code",
   "execution_count": 1,
   "metadata": {},
   "outputs": [],
   "source": [
    "# I think that the 12 equations can be reduced to (2) w_hat, r_hat. Lets see!"
   ]
  },
  {
   "cell_type": "code",
   "execution_count": 10,
   "metadata": {},
   "outputs": [],
   "source": [
    "from scipy.optimize import fsolve, root, newton_krylov\n",
    "import numpy as np\n",
    "import pandas as pd\n",
    "import matplotlib.pyplot as plt\n",
    "import autograd\n",
    "from counterfactual_functions import *\n",
    "from helper import *"
   ]
  },
  {
   "cell_type": "code",
   "execution_count": 11,
   "metadata": {},
   "outputs": [],
   "source": [
    "data_dict = load_obj('/Users/boraozaltun/Dropbox (MIT)/Data/Trade/general_equilibrium_gravity/final_data/data_20200210.pickle')\n",
    "\n",
    "# For stability\n",
    "\n",
    "data_dict['phi_R'][data_dict['phi_R'] == 0 ] = 1e-10\n",
    "\n"
   ]
  },
  {
   "cell_type": "code",
   "execution_count": 12,
   "metadata": {},
   "outputs": [],
   "source": [
    "reg_2_num = load_obj('/Users/boraozaltun/Dropbox (MIT)/Data/Trade/general_equilibrium_gravity/GTAP/mapping/reg_2_num.pickle')\n",
    "comm_2_num = load_obj('/Users/boraozaltun/Dropbox (MIT)/Data/Trade/general_equilibrium_gravity/GTAP/mapping/comm_2_num.pickle')"
   ]
  },
  {
   "cell_type": "code",
   "execution_count": 13,
   "metadata": {},
   "outputs": [],
   "source": [
    "n = data_dict['n']\n",
    "g = data_dict['g']\n",
    "k = data_dict['k']\n",
    "\n",
    "data_dict['R_hat'] = np.ones((n, g))\n",
    "data_dict['R_hat'][reg_2_num['usa'], comm_2_num['oil']] = 2\n",
    "data_dict['R_hat'][reg_2_num['usa'], comm_2_num['gas']] = 2"
   ]
  },
  {
   "cell_type": "code",
   "execution_count": 14,
   "metadata": {},
   "outputs": [],
   "source": [
    "X_0 = np.ones(n*g + n)\n",
    "F = lambda x: reduced_counterfactual(x, data_dict)"
   ]
  },
  {
   "cell_type": "code",
   "execution_count": 15,
   "metadata": {},
   "outputs": [
    {
     "name": "stdout",
     "output_type": "stream",
     "text": [
      "(4958,)\n",
      "-1.0458161913878195e+162\n",
      "(4958,)\n",
      "-1.0458161913878195e+162\n"
     ]
    },
    {
     "ename": "ValueError",
     "evalue": "Jacobian inversion yielded zero vector. This indicates a bug in the Jacobian approximation.",
     "output_type": "error",
     "traceback": [
      "\u001b[0;31m---------------------------------------------------------------------------\u001b[0m",
      "\u001b[0;31mValueError\u001b[0m                                Traceback (most recent call last)",
      "\u001b[0;32m<ipython-input-15-acbeed1e57cf>\u001b[0m in \u001b[0;36m<module>\u001b[0;34m()\u001b[0m\n\u001b[0;32m----> 1\u001b[0;31m \u001b[0mX\u001b[0m \u001b[0;34m=\u001b[0m \u001b[0mnewton_krylov\u001b[0m\u001b[0;34m(\u001b[0m\u001b[0mF\u001b[0m\u001b[0;34m,\u001b[0m \u001b[0mX_0\u001b[0m\u001b[0;34m,\u001b[0m \u001b[0mmethod\u001b[0m\u001b[0;34m=\u001b[0m\u001b[0;34m'lgmres'\u001b[0m\u001b[0;34m,\u001b[0m \u001b[0mverbose\u001b[0m\u001b[0;34m=\u001b[0m\u001b[0;36m1\u001b[0m\u001b[0;34m)\u001b[0m\u001b[0;34m\u001b[0m\u001b[0m\n\u001b[0m",
      "\u001b[0;32m/Library/Frameworks/Python.framework/Versions/3.6/lib/python3.6/site-packages/scipy/optimize/nonlin.py\u001b[0m in \u001b[0;36mnewton_krylov\u001b[0;34m(F, xin, iter, rdiff, method, inner_maxiter, inner_M, outer_k, verbose, maxiter, f_tol, f_rtol, x_tol, x_rtol, tol_norm, line_search, callback, **kw)\u001b[0m\n",
      "\u001b[0;32m/Library/Frameworks/Python.framework/Versions/3.6/lib/python3.6/site-packages/scipy/optimize/nonlin.py\u001b[0m in \u001b[0;36mnonlin_solve\u001b[0;34m(F, x0, jacobian, iter, verbose, maxiter, f_tol, f_rtol, x_tol, x_rtol, tol_norm, line_search, callback, full_output, raise_exception)\u001b[0m\n\u001b[1;32m    313\u001b[0m \u001b[0;34m\u001b[0m\u001b[0m\n\u001b[1;32m    314\u001b[0m         \u001b[0;32mif\u001b[0m \u001b[0mnorm\u001b[0m\u001b[0;34m(\u001b[0m\u001b[0mdx\u001b[0m\u001b[0;34m)\u001b[0m \u001b[0;34m==\u001b[0m \u001b[0;36m0\u001b[0m\u001b[0;34m:\u001b[0m\u001b[0;34m\u001b[0m\u001b[0m\n\u001b[0;32m--> 315\u001b[0;31m             raise ValueError(\"Jacobian inversion yielded zero vector. \"\n\u001b[0m\u001b[1;32m    316\u001b[0m                              \u001b[0;34m\"This indicates a bug in the Jacobian \"\u001b[0m\u001b[0;34m\u001b[0m\u001b[0m\n\u001b[1;32m    317\u001b[0m                              \"approximation.\")\n",
      "\u001b[0;31mValueError\u001b[0m: Jacobian inversion yielded zero vector. This indicates a bug in the Jacobian approximation."
     ]
    }
   ],
   "source": [
    "X = newton_krylov(F, X_0, method='lgmres', verbose=1)"
   ]
  },
  {
   "cell_type": "code",
   "execution_count": null,
   "metadata": {},
   "outputs": [],
   "source": [
    "X = root(F, X_0, tol=1e-4)"
   ]
  },
  {
   "cell_type": "code",
   "execution_count": 9,
   "metadata": {},
   "outputs": [],
   "source": [
    "# Need to check code! After dinner :) "
   ]
  },
  {
   "cell_type": "code",
   "execution_count": 10,
   "metadata": {},
   "outputs": [],
   "source": [
    "# It seems quite early on, something is going wrong\n",
    "# Also, curious if I can speed it up in different ways "
   ]
  },
  {
   "cell_type": "code",
   "execution_count": 8,
   "metadata": {},
   "outputs": [
    {
     "name": "stdout",
     "output_type": "stream",
     "text": [
      "0.2737347266475954\n",
      "2.6956060730391063e+53\n",
      "3.568845922235284e+52\n",
      "nan\n",
      "(4958,)\n",
      "nan\n"
     ]
    },
    {
     "name": "stderr",
     "output_type": "stream",
     "text": [
      "/Users/boraozaltun/GitHub/fossilfuelnetworkscience/General Equilibrium Model/solver/counterfactual_functions.py:49: RuntimeWarning: divide by zero encountered in power\n",
      "  C_g_hat_temp = C_g_hat ** (-data['theta_g'].reshape((1, data['g'])))\n",
      "/Users/boraozaltun/GitHub/fossilfuelnetworkscience/General Equilibrium Model/solver/counterfactual_functions.py:104: RuntimeWarning: divide by zero encountered in power\n",
      "  C_g_hat_temp = C_g_hat **(-data['theta_g'].reshape((1, data['g'])))\n",
      "/Users/boraozaltun/GitHub/fossilfuelnetworkscience/General Equilibrium Model/solver/counterfactual_functions.py:109: RuntimeWarning: invalid value encountered in multiply\n",
      "  Y_g_hat = C_g_hat_temp/data['Y_g'] * np.sum(part_1, axis=1).reshape(data['n'], data['g'])\n",
      "/Users/boraozaltun/GitHub/fossilfuelnetworkscience/General Equilibrium Model/solver/counterfactual_functions.py:147: RuntimeWarning: divide by zero encountered in power\n",
      "  part2 = (C_g_hat) ** (1 - 1/data['rho_g'].reshape((1, data['g'])))\n",
      "/Users/boraozaltun/GitHub/fossilfuelnetworkscience/General Equilibrium Model/solver/counterfactual_functions.py:156: RuntimeWarning: divide by zero encountered in true_divide\n",
      "  C_g_hat)**(1-data['rho_g'].reshape((1, data['g'])))) *Y_g_hat\n",
      "/Users/boraozaltun/GitHub/fossilfuelnetworkscience/General Equilibrium Model/solver/counterfactual_functions.py:156: RuntimeWarning: invalid value encountered in multiply\n",
      "  C_g_hat)**(1-data['rho_g'].reshape((1, data['g'])))) *Y_g_hat\n"
     ]
    },
    {
     "data": {
      "text/plain": [
       "array([ 1.00000000e+00,  1.00000000e+00,  1.00000000e+00, ...,\n",
       "       -3.41255893e+07, -1.80051212e+00,             nan])"
      ]
     },
     "execution_count": 8,
     "metadata": {},
     "output_type": "execute_result"
    }
   ],
   "source": [
    "F(X_0)"
   ]
  },
  {
   "cell_type": "code",
   "execution_count": 41,
   "metadata": {},
   "outputs": [],
   "source": [
    "data = dict(data_dict)\n"
   ]
  },
  {
   "cell_type": "code",
   "execution_count": 42,
   "metadata": {},
   "outputs": [],
   "source": [
    "X = X_0\n",
    "r_hat, w_hat = get_values_from_X_reduced(X, data)\n",
    "\n",
    "\n",
    "C_g_hat = get_C_g_hat(w_hat, r_hat, data)\n",
    "E_hat = get_E_hat(w_hat, r_hat, data)\n",
    "\n",
    "\n"
   ]
  },
  {
   "cell_type": "code",
   "execution_count": 43,
   "metadata": {},
   "outputs": [],
   "source": [
    "P_g_goods_hat = get_P_g_goods_hat(C_g_hat, data) # This is happening because C_g_hat has zeros"
   ]
  },
  {
   "cell_type": "code",
   "execution_count": 44,
   "metadata": {},
   "outputs": [
    {
     "data": {
      "text/plain": [
       "array([], dtype=float64)"
      ]
     },
     "execution_count": 44,
     "metadata": {},
     "output_type": "execute_result"
    }
   ],
   "source": [
    "P_g_goods_hat[np.isnan(P_g_goods_hat) == True]"
   ]
  },
  {
   "cell_type": "code",
   "execution_count": 45,
   "metadata": {},
   "outputs": [],
   "source": [
    "\n",
    "\n",
    "C_k_hat = get_C_k_hat(w_hat, P_g_goods_hat, data)\n",
    "\n",
    "P_k_goods_hat = get_P_k_goods_hat(C_k_hat, data)\n",
    "\n",
    "P_k_hat = get_P_k_hat(P_k_goods_hat, data)\n",
    "\n",
    "D_k_hat = get_D_k_hat(E_hat, P_k_goods_hat, P_k_hat, data)"
   ]
  },
  {
   "cell_type": "code",
   "execution_count": 46,
   "metadata": {},
   "outputs": [
    {
     "data": {
      "text/plain": [
       "array([], dtype=float64)"
      ]
     },
     "execution_count": 46,
     "metadata": {},
     "output_type": "execute_result"
    }
   ],
   "source": [
    "C_g_hat[C_g_hat == 0]"
   ]
  },
  {
   "cell_type": "code",
   "execution_count": 47,
   "metadata": {},
   "outputs": [
    {
     "data": {
      "text/plain": [
       "array([4.39058090e-13, 6.78113102e-13, 2.59658597e-13, 1.75263098e-13,\n",
       "       2.58802656e-12, 3.26194691e-13, 4.51152233e-13, 4.78483973e-11,\n",
       "       1.71405616e-13, 7.35208360e-13, 3.01557078e-10, 1.31655082e-13,\n",
       "       1.47417378e-11, 1.39593636e-13, 4.82654619e-13, 6.54852754e-13,\n",
       "       2.88356703e-13, 2.01656104e-11, 8.35330680e-09, 5.84197890e-13,\n",
       "       3.82709500e-13, 4.21519106e-10, 3.03923883e-13, 2.41876546e-12,\n",
       "       7.25582542e-11, 1.66005953e-13, 1.96581327e-10, 1.15855180e-14,\n",
       "       2.93770684e-11, 2.48210252e-13, 7.70534104e-16, 1.18960217e-13,\n",
       "       7.93442449e-13, 1.02030152e-13, 1.12763402e-15, 3.26461128e-10,\n",
       "       3.67974026e-13, 7.37111876e-13, 2.24519457e-15, 2.44704402e-12,\n",
       "       1.61649303e-12, 2.26129610e-11, 2.94302564e-10, 3.62120809e-13,\n",
       "       5.45196718e-10, 1.87294593e-12, 7.59241387e-11, 6.72489505e-13,\n",
       "       2.12604919e-12, 3.11229290e-12, 1.50673224e-09, 4.64686242e-13,\n",
       "       1.41731900e-13, 3.64414408e-11, 3.42843494e-13, 5.62797075e-13,\n",
       "       1.09653632e-12, 7.40682602e-13, 4.32673164e-13, 1.44381475e-12,\n",
       "       3.78665949e-13, 3.66692405e-13, 4.63231320e-13, 1.47383786e-09,\n",
       "       1.57016752e-10, 5.20329907e-13, 3.73604550e-13, 5.08373003e-13,\n",
       "       3.16023431e-13, 6.09160790e-10, 5.55458718e-13, 6.30919604e-13,\n",
       "       3.82944199e-13, 2.50020609e-13, 7.18125660e-14, 1.07189913e-12,\n",
       "       3.31365864e-13, 4.01485448e-13, 2.44855809e-13, 4.67887270e-13,\n",
       "       2.91842316e-13, 4.68760305e-14, 3.17546650e-13, 3.74552831e-10,\n",
       "       3.08547102e-12, 2.97765527e-14, 5.55297849e-13, 1.12748789e-16,\n",
       "       6.78228995e-10, 1.02442572e-15, 1.14676274e-13, 4.30475046e-14,\n",
       "       4.03252097e-17, 1.09874418e-12, 5.14422757e-15, 1.85465303e-15,\n",
       "       3.12475912e-16, 3.14585086e-15, 6.53177154e-13, 4.57096970e-16,\n",
       "       3.86407349e-14, 5.29447240e-14, 3.93315398e-13, 1.04295538e-13,\n",
       "       1.34774401e-08, 4.81611518e-10, 1.39692425e-11, 1.25051329e-13,\n",
       "       2.31339855e-13, 5.30164012e-13, 6.01624425e-12, 4.10368635e-14,\n",
       "       1.96417795e-12, 3.08556752e-10, 3.19284573e-14, 1.45406103e-12,\n",
       "       2.79714448e-17, 2.27191494e-12, 4.80377702e-13, 1.69254723e-11,\n",
       "       1.01420568e-04, 2.34921230e-11, 5.93034082e-10, 6.25672360e-13,\n",
       "       2.41288032e-11, 5.18132508e-12, 1.08884796e-07, 6.23211081e-05,\n",
       "       1.80591375e-08, 2.09028650e-05, 4.72232269e-10, 3.85620532e-09,\n",
       "       2.63963660e-11, 1.11723915e-13])"
      ]
     },
     "execution_count": 47,
     "metadata": {},
     "output_type": "execute_result"
    }
   ],
   "source": [
    "data['lambda_g'][:, 129, 15]"
   ]
  },
  {
   "cell_type": "code",
   "execution_count": null,
   "metadata": {},
   "outputs": [],
   "source": [
    "# The problem is that the cost of producing a commodity in some countries is 0 because they do not have "
   ]
  }
 ],
 "metadata": {
  "kernelspec": {
   "display_name": "Python 3",
   "language": "python",
   "name": "python3"
  },
  "language_info": {
   "codemirror_mode": {
    "name": "ipython",
    "version": 3
   },
   "file_extension": ".py",
   "mimetype": "text/x-python",
   "name": "python",
   "nbconvert_exporter": "python",
   "pygments_lexer": "ipython3",
   "version": "3.6.3"
  }
 },
 "nbformat": 4,
 "nbformat_minor": 2
}
