{
 "cells": [
  {
   "cell_type": "code",
   "execution_count": 1,
   "metadata": {},
   "outputs": [],
   "source": [
    "import numpy as np\n",
    "import pandas as pd\n",
    "import matplotlib.pyplot as plt"
   ]
  },
  {
   "cell_type": "markdown",
   "metadata": {},
   "source": [
    "This notebook is an initial draft at coding up the functions for replicating/altering the Commodity\n",
    "Trade Matters model. This is the counterfactual setup given, it is altered such that the counterfactual\n",
    "scenario is looking at the impact of a supply shock. This is captured by R_hat: the endowment of \n",
    "natural resources.\n",
    "\n",
    "In order to have a consistent framework: axis 0 will default to countries, axis 1 will default to countries\n",
    "and axis 2 will default to goods (commodities or final goods)."
   ]
  },
  {
   "cell_type": "code",
   "execution_count": 3,
   "metadata": {},
   "outputs": [],
   "source": [
    "syn_data = {'g':4, 'k':4, 'n':3}"
   ]
  },
  {
   "cell_type": "code",
   "execution_count": 4,
   "metadata": {},
   "outputs": [],
   "source": [
    "## Expenditure"
   ]
  },
  {
   "cell_type": "code",
   "execution_count": 5,
   "metadata": {},
   "outputs": [],
   "source": [
    "def get_E_hat(w_hat, r_hat, data):\n",
    "    ''' This is a function that returns the total expenditure change for all countries as a vector E_hat. \n",
    "    variables: w_hat, r_hat \n",
    "    parameters: data['e_L'], data['e_R']\n",
    "    output: E_hat (nx1)\n",
    "    '''\n",
    "    E_hat = w_hat*data['e_L'] + (r_hat * data['e_R']) @ np.ones((data['g'], 1))\n",
    "    return E_hat"
   ]
  },
  {
   "cell_type": "code",
   "execution_count": 6,
   "metadata": {},
   "outputs": [],
   "source": [
    "syn_data['e_L'] = np.ones((3,1))*.5\n",
    "syn_data['e_R'] = np.ones((3, 4))*2\n",
    "w_hat = np.ones((3,1))\n",
    "r_hat = np.ones((3, 4))"
   ]
  },
  {
   "cell_type": "code",
   "execution_count": 7,
   "metadata": {},
   "outputs": [
    {
     "data": {
      "text/plain": [
       "array([[8.5],\n",
       "       [8.5],\n",
       "       [8.5]])"
      ]
     },
     "execution_count": 7,
     "metadata": {},
     "output_type": "execute_result"
    }
   ],
   "source": [
    "get_E_hat(w_hat, r_hat, syn_data)"
   ]
  },
  {
   "cell_type": "code",
   "execution_count": 8,
   "metadata": {},
   "outputs": [],
   "source": [
    "# Seems right"
   ]
  },
  {
   "cell_type": "code",
   "execution_count": 9,
   "metadata": {},
   "outputs": [],
   "source": [
    "## Price index"
   ]
  },
  {
   "cell_type": "code",
   "execution_count": 10,
   "metadata": {},
   "outputs": [],
   "source": [
    "def get_P_f_hat(P_f_goods_hat, data):\n",
    "    ''' This is a function that returns the price index change for a country as a vector P_f_hat.\n",
    "    variables: P_f_goods_hat\n",
    "    parameters: data['alpha'], data['sigma']\n",
    "    output: P_f_hat (nx1)\n",
    "    '''\n",
    "    new_matrix = data['alpha'] * (P_f_goods_hat)**(1-data['sigma']) \n",
    "    P_f_hat = (new_matrix @ np.ones((data['k'], 1)) )**(1/(1-data['sigma']))\n",
    "    \n",
    "    return P_f_hat"
   ]
  },
  {
   "cell_type": "code",
   "execution_count": 11,
   "metadata": {},
   "outputs": [],
   "source": [
    "syn_data['sigma'] = 2 \n",
    "syn_data['alpha']=np.ones((3, 4))*2\n",
    "\n",
    "P_f_goods_hat = np.ones((3, 4))*2"
   ]
  },
  {
   "cell_type": "code",
   "execution_count": 12,
   "metadata": {},
   "outputs": [
    {
     "data": {
      "text/plain": [
       "array([[0.25],\n",
       "       [0.25],\n",
       "       [0.25]])"
      ]
     },
     "execution_count": 12,
     "metadata": {},
     "output_type": "execute_result"
    }
   ],
   "source": [
    "get_P_f_hat(P_f_goods_hat, syn_data)"
   ]
  },
  {
   "cell_type": "code",
   "execution_count": 13,
   "metadata": {},
   "outputs": [],
   "source": [
    "# Seems right"
   ]
  },
  {
   "cell_type": "code",
   "execution_count": 14,
   "metadata": {},
   "outputs": [],
   "source": [
    "def get_P_f_goods_hat(C_f_hat, data):\n",
    "    ''' This is a function that returns the price index for final goods change for a country as a vector P_f_hat.\n",
    "    variables: C_f_hat\n",
    "    parameters: data['lambda_f'], data['theta_k']\n",
    "    output: P_f_goods_hat (nxk)\n",
    "    TODO: You can make this more efficient by getting rid of the for loop...'''\n",
    "    \n",
    "    P_f_goods_hat = np.zeros((data['n'], data['k']))\n",
    "    C_f_hat_temp = C_f_hat ** data['theta_k'].reshape((1, data['k']))\n",
    "    part1 = np.sum(data['lambda_f'] * C_f_hat_temp.reshape((1, data['n'], data['k'])), axis=1)\n",
    "    part2 = part1.reshape((data['n'], data['k']))\n",
    "    P_f_goods_hat = part2 ** data['theta_k'].reshape((1, data['k']))\n",
    "\n",
    "    return P_f_goods_hat"
   ]
  },
  {
   "cell_type": "code",
   "execution_count": 26,
   "metadata": {},
   "outputs": [],
   "source": [
    "syn_data['lambda_f'] = np.ones((3, 3, 4))*2\n",
    "syn_data['theta_k'] = np.arange(4.0).reshape((4,1))\n",
    "\n",
    "C_f_hat = np.ones((3, 4))*4"
   ]
  },
  {
   "cell_type": "code",
   "execution_count": 27,
   "metadata": {},
   "outputs": [],
   "source": [
    "data=syn_data"
   ]
  },
  {
   "cell_type": "code",
   "execution_count": 28,
   "metadata": {},
   "outputs": [],
   "source": [
    "P_f_goods_hat = np.zeros((data['n'], data['k']))"
   ]
  },
  {
   "cell_type": "code",
   "execution_count": 31,
   "metadata": {},
   "outputs": [],
   "source": [
    "\n",
    "C_f_hat_temp = C_f_hat ** (-data['theta_k'].reshape((1, data['k'])))\n"
   ]
  },
  {
   "cell_type": "code",
   "execution_count": 32,
   "metadata": {},
   "outputs": [
    {
     "data": {
      "text/plain": [
       "array([[1.      , 0.25    , 0.0625  , 0.015625],\n",
       "       [1.      , 0.25    , 0.0625  , 0.015625],\n",
       "       [1.      , 0.25    , 0.0625  , 0.015625]])"
      ]
     },
     "execution_count": 32,
     "metadata": {},
     "output_type": "execute_result"
    }
   ],
   "source": [
    "C_f_hat_temp"
   ]
  },
  {
   "cell_type": "code",
   "execution_count": 33,
   "metadata": {},
   "outputs": [],
   "source": [
    "part1 = np.sum(data['lambda_f'] * C_f_hat_temp.reshape((1, data['n'], data['k'])), axis=1)"
   ]
  },
  {
   "cell_type": "code",
   "execution_count": 34,
   "metadata": {},
   "outputs": [
    {
     "data": {
      "text/plain": [
       "array([[6.     , 1.5    , 0.375  , 0.09375],\n",
       "       [6.     , 1.5    , 0.375  , 0.09375],\n",
       "       [6.     , 1.5    , 0.375  , 0.09375]])"
      ]
     },
     "execution_count": 34,
     "metadata": {},
     "output_type": "execute_result"
    }
   ],
   "source": [
    "part1"
   ]
  },
  {
   "cell_type": "code",
   "execution_count": 35,
   "metadata": {},
   "outputs": [],
   "source": [
    "part2 = part1.reshape((data['n'], data['k']))\n"
   ]
  },
  {
   "cell_type": "code",
   "execution_count": 36,
   "metadata": {},
   "outputs": [
    {
     "name": "stderr",
     "output_type": "stream",
     "text": [
      "/anaconda3/lib/python3.6/site-packages/ipykernel_launcher.py:1: RuntimeWarning: divide by zero encountered in true_divide\n",
      "  \"\"\"Entry point for launching an IPython kernel.\n"
     ]
    }
   ],
   "source": [
    "P_f_goods_hat = part2 ** (-1/data['theta_k'].reshape((1, data['k'])))\n",
    "\n",
    "\n"
   ]
  },
  {
   "cell_type": "code",
   "execution_count": 37,
   "metadata": {},
   "outputs": [
    {
     "data": {
      "text/plain": [
       "array([[0.        , 0.66666667, 1.63299316, 2.20128483],\n",
       "       [0.        , 0.66666667, 1.63299316, 2.20128483],\n",
       "       [0.        , 0.66666667, 1.63299316, 2.20128483]])"
      ]
     },
     "execution_count": 37,
     "metadata": {},
     "output_type": "execute_result"
    }
   ],
   "source": [
    "P_f_goods_hat"
   ]
  },
  {
   "cell_type": "code",
   "execution_count": 38,
   "metadata": {},
   "outputs": [
    {
     "data": {
      "text/plain": [
       "array([[6.     , 1.5    , 0.375  , 0.09375],\n",
       "       [6.     , 1.5    , 0.375  , 0.09375],\n",
       "       [6.     , 1.5    , 0.375  , 0.09375]])"
      ]
     },
     "execution_count": 38,
     "metadata": {},
     "output_type": "execute_result"
    }
   ],
   "source": [
    "part2"
   ]
  },
  {
   "cell_type": "code",
   "execution_count": 40,
   "metadata": {},
   "outputs": [
    {
     "data": {
      "text/plain": [
       "array([[0.],\n",
       "       [1.],\n",
       "       [2.],\n",
       "       [3.]])"
      ]
     },
     "execution_count": 40,
     "metadata": {},
     "output_type": "execute_result"
    }
   ],
   "source": [
    "data['theta_k']"
   ]
  },
  {
   "cell_type": "code",
   "execution_count": null,
   "metadata": {},
   "outputs": [],
   "source": []
  }
 ],
 "metadata": {
  "kernelspec": {
   "display_name": "Python 3",
   "language": "python",
   "name": "python3"
  }
 },
 "nbformat": 4,
 "nbformat_minor": 2
}
