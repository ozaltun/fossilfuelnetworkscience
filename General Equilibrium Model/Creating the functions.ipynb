{
 "cells": [
  {
   "cell_type": "code",
   "execution_count": 3,
   "metadata": {},
   "outputs": [],
   "source": [
    "import numpy as np\n",
    "import pandas as pd\n",
    "import matplotlib.pyplot as plt"
   ]
  },
  {
   "cell_type": "markdown",
   "metadata": {},
   "source": [
    "This notebook is an initial draft at coding up the functions for replicating/altering the Commodity\n",
    "Trade Matters model. This is the counterfactual setup given, it is altered such that the counterfactual\n",
    "scenario is looking at the impact of a supply shock. This is captured by R_hat: the endowment of \n",
    "natural resources.\n",
    "\n",
    "In order to have a consistent framework: axis 0 will default to countries, axis 1 will default to countries\n",
    "and axis 2 will default to goods (commodities or final goods)."
   ]
  },
  {
   "cell_type": "code",
   "execution_count": 4,
   "metadata": {},
   "outputs": [],
   "source": [
    "syn_data = {'g':4, 'k':4, 'n':3}"
   ]
  },
  {
   "cell_type": "code",
   "execution_count": 5,
   "metadata": {},
   "outputs": [],
   "source": [
    "## Expenditure"
   ]
  },
  {
   "cell_type": "code",
   "execution_count": 6,
   "metadata": {},
   "outputs": [],
   "source": [
    "def get_E_hat(w_hat, r_hat, data):\n",
    "    ''' This is a function that returns the total expenditure change for all countries as a vector E_hat. \n",
    "    variables: w_hat, r_hat \n",
    "    parameters: data['e_L'], data['e_R']\n",
    "    output: E_hat (nx1)\n",
    "    '''\n",
    "    E_hat = w_hat*data['e_L'] + (r_hat * data['e_R']) @ np.ones((data['g'], 1))\n",
    "    return E_hat"
   ]
  },
  {
   "cell_type": "code",
   "execution_count": 7,
   "metadata": {},
   "outputs": [],
   "source": [
    "syn_data['e_L'] = np.ones((3,1))*.5\n",
    "syn_data['e_R'] = np.ones((3, 4))*2\n",
    "w_hat = np.ones((3,1))\n",
    "r_hat = np.ones((3, 4))"
   ]
  },
  {
   "cell_type": "code",
   "execution_count": 8,
   "metadata": {},
   "outputs": [
    {
     "data": {
      "text/plain": [
       "array([[8.5],\n",
       "       [8.5],\n",
       "       [8.5]])"
      ]
     },
     "execution_count": 8,
     "metadata": {},
     "output_type": "execute_result"
    }
   ],
   "source": [
    "get_E_hat(w_hat, r_hat, syn_data)"
   ]
  },
  {
   "cell_type": "code",
   "execution_count": 9,
   "metadata": {},
   "outputs": [],
   "source": [
    "# Seems right"
   ]
  },
  {
   "cell_type": "code",
   "execution_count": 10,
   "metadata": {},
   "outputs": [],
   "source": [
    "## Price index"
   ]
  },
  {
   "cell_type": "code",
   "execution_count": 11,
   "metadata": {},
   "outputs": [],
   "source": [
    "def get_P_f_hat(P_f_goods_hat, data):\n",
    "    ''' This is a function that returns the price index change for a country as a vector P_f_hat.\n",
    "    variables: P_f_goods_hat\n",
    "    parameters: data['alpha'], data['sigma']\n",
    "    output: P_f_hat (nx1)\n",
    "    '''\n",
    "    new_matrix = data['alpha'] * (P_f_goods_hat)**(1-data['sigma']) \n",
    "    P_f_hat = (new_matrix @ np.ones((data['k'], 1)) )**(1/(1-data['sigma']))\n",
    "    \n",
    "    return P_f_hat"
   ]
  },
  {
   "cell_type": "code",
   "execution_count": 12,
   "metadata": {},
   "outputs": [],
   "source": [
    "syn_data['sigma'] = 2 \n",
    "syn_data['alpha']=np.ones((3, 4))*2\n",
    "\n",
    "P_f_goods_hat = np.ones((3, 4))*2"
   ]
  },
  {
   "cell_type": "code",
   "execution_count": 13,
   "metadata": {},
   "outputs": [
    {
     "data": {
      "text/plain": [
       "array([[0.25],\n",
       "       [0.25],\n",
       "       [0.25]])"
      ]
     },
     "execution_count": 13,
     "metadata": {},
     "output_type": "execute_result"
    }
   ],
   "source": [
    "get_P_f_hat(P_f_goods_hat, syn_data)"
   ]
  },
  {
   "cell_type": "code",
   "execution_count": 14,
   "metadata": {},
   "outputs": [],
   "source": [
    "# Seems right"
   ]
  },
  {
   "cell_type": "code",
   "execution_count": 15,
   "metadata": {},
   "outputs": [],
   "source": [
    "def get_P_f_goods_hat(C_f_hat, data):\n",
    "    ''' This is a function that returns the price index for final goods change for a country and final good matrix.\n",
    "    variables: C_f_hat\n",
    "    parameters: data['lambda_f'], data['theta_k']\n",
    "    output: P_f_goods_hat (nxk)\n",
    "    '''\n",
    "    \n",
    "    P_f_goods_hat = np.zeros((data['n'], data['k']))\n",
    "    C_f_hat_temp = C_f_hat ** (-data['theta_k'].reshape((1, data['k'])))\n",
    "    part1 = np.sum(data['lambda_f'] * C_f_hat_temp.reshape((1, data['n'], data['k'])), axis=1)\n",
    "    part2 = part1.reshape((data['n'], data['k']))\n",
    "    P_f_goods_hat = part2 ** (-1/data['theta_k'].reshape((1, data['k'])))\n",
    "\n",
    "    return P_f_goods_hat"
   ]
  },
  {
   "cell_type": "code",
   "execution_count": 20,
   "metadata": {},
   "outputs": [],
   "source": [
    "syn_data['lambda_f'] = np.ones((3, 3, 4))*2\n",
    "syn_data['theta_k'] = np.linspace(1, 4, 4).reshape((4,1)) \n",
    "\n",
    "C_f_hat = np.ones((3, 4))*4"
   ]
  },
  {
   "cell_type": "code",
   "execution_count": 21,
   "metadata": {},
   "outputs": [],
   "source": [
    "P_f_goods_hat = get_P_f_goods_hat(C_f_hat, syn_data)"
   ]
  },
  {
   "cell_type": "code",
   "execution_count": 22,
   "metadata": {},
   "outputs": [
    {
     "data": {
      "text/plain": [
       "array([[0.66666667, 1.63299316, 2.20128483, 2.55577242],\n",
       "       [0.66666667, 1.63299316, 2.20128483, 2.55577242],\n",
       "       [0.66666667, 1.63299316, 2.20128483, 2.55577242]])"
      ]
     },
     "execution_count": 22,
     "metadata": {},
     "output_type": "execute_result"
    }
   ],
   "source": [
    "P_f_goods_hat"
   ]
  },
  {
   "cell_type": "code",
   "execution_count": 29,
   "metadata": {},
   "outputs": [
    {
     "data": {
      "text/plain": [
       "array([[0.16903749],\n",
       "       [0.16903749],\n",
       "       [0.16903749]])"
      ]
     },
     "execution_count": 29,
     "metadata": {},
     "output_type": "execute_result"
    }
   ],
   "source": [
    "get_P_f_hat(P_f_goods_hat, syn_data)"
   ]
  },
  {
   "cell_type": "code",
   "execution_count": 23,
   "metadata": {},
   "outputs": [],
   "source": [
    "def get_P_c_goods_hat(C_g_hat, data):\n",
    "    ''' This is a function that returns the price index for change inn commodities for a country and commodity matrix.\n",
    "    variables: C_g_hat\n",
    "    parameters: data['lambda_c'], data['theta_g']\n",
    "    output: P_g_goods_hat (nxg)\n",
    "    '''\n",
    "        \n",
    "    P_g_goods_hat = np.zeros((data['n'], data['g']))\n",
    "    C_g_hat_temp = C_g_hat ** (-data['theta_g'].reshape((1, data['g'])))\n",
    "    part1 = np.sum(data['lambda_c'] * C_g_hat_temp.reshape((1, data['n'], data['g'])), axis=1)\n",
    "    part2 = part1.reshape((data['n'], data['g']))\n",
    "    P_g_goods_hat = part2 ** (-1/data['theta_g'].reshape((1, data['g'])))\n",
    "\n",
    "    return P_g_goods_hat"
   ]
  },
  {
   "cell_type": "code",
   "execution_count": 27,
   "metadata": {},
   "outputs": [],
   "source": [
    "syn_data['lambda_c'] = np.ones((3, 3, 4))\n",
    "syn_data['theta_g'] =  np.linspace(1, 4, 4).reshape((4,1))*2\n",
    "\n",
    "C_g_hat = np.ones((3, 4))*4\n",
    "\n",
    "P_g_goods_hat = get_P_c_goods_hat(C_g_hat, syn_data)"
   ]
  },
  {
   "cell_type": "code",
   "execution_count": 28,
   "metadata": {},
   "outputs": [
    {
     "data": {
      "text/plain": [
       "array([[2.30940108, 3.03934274, 3.33073271, 3.48674217],\n",
       "       [2.30940108, 3.03934274, 3.33073271, 3.48674217],\n",
       "       [2.30940108, 3.03934274, 3.33073271, 3.48674217]])"
      ]
     },
     "execution_count": 28,
     "metadata": {},
     "output_type": "execute_result"
    }
   ],
   "source": [
    "P_g_goods_hat"
   ]
  },
  {
   "cell_type": "code",
   "execution_count": 35,
   "metadata": {},
   "outputs": [],
   "source": [
    "## Demand \n",
    "# TODO: Check if they sort of work"
   ]
  },
  {
   "cell_type": "code",
   "execution_count": 36,
   "metadata": {},
   "outputs": [],
   "source": [
    "def get_D_f_hat(E_hat, P_f_goods_hat, P_f_hat, data):\n",
    "    ''' This is a function that returns the demand for final goods for a country.\n",
    "    variables: E_hat, P_f_goods_hat, P_f_hat\n",
    "    parameters: data['sigma']\n",
    "    output: D_f_hat (nxk)'''\n",
    "    \n",
    "    D_f_hat = E_hat * (P_f_goods_hat/P_f_hat) ** (1 - data['sigma'])\n",
    "    \n",
    "    return D_f_hat"
   ]
  },
  {
   "cell_type": "code",
   "execution_count": 37,
   "metadata": {},
   "outputs": [],
   "source": [
    "def get_D_c_hat(P_c_goods_hat, C_f_hat, Y_f_hat, data):\n",
    "    ''' This is a function that returns the demand for commodities for a country.\n",
    "    variables: P_c_goods_hat, C_f_hat, Y_f_hat\n",
    "    parameters: data['d'], data['eta']\n",
    "    output: D_c_hat (nxg)\n",
    "    TODO: Problem with reshape\n",
    "    '''\n",
    "    C_f_hat_temp = C_f_hat **(data['eta'].reshape(1, data['k']) - 1)\n",
    "    \n",
    "    part_1 = data['d'] * ( C_f_hat_temp * Y_f_hat ).reshape((data['n'], data['k'], 1))\n",
    "    part_2 = P_c_goods_hat.reshape((data['n'], 1, data['g'])) **(1 - data['eta'].reshape((1, data['k'], 1)))\n",
    "    D_c_hat = np.sum(part_1*part_2, axis=1).reshape((data['n'], data['g']))\n",
    "    \n",
    "    return D_c_hat\n",
    "    "
   ]
  },
  {
   "cell_type": "code",
   "execution_count": 41,
   "metadata": {},
   "outputs": [],
   "source": [
    "syn_data['d'] = np.ones((3, 4, 4))*2\n",
    "syn_data['eta'] = np.ones((syn_data['k'], 1))*4"
   ]
  },
  {
   "cell_type": "code",
   "execution_count": 42,
   "metadata": {},
   "outputs": [],
   "source": [
    "## Production\n",
    "# TODO: Check if they work"
   ]
  },
  {
   "cell_type": "code",
   "execution_count": 43,
   "metadata": {},
   "outputs": [],
   "source": [
    "def get_Y_f_hat(C_f_hat, P_f_hat, D_f_hat, data):\n",
    "    ''' This is a function that returns the total production for a given final good and country.\n",
    "    variables: C_f_hat, P_f_hat, D_f_hat\n",
    "    parameters: data['X_f'], data['Y_f'], data['theta_k']'''\n",
    "    \n",
    "    C_f_hat_temp = C_f_hat **(-data['theta_k'].reshape((1, data['k'])))\n",
    "    P_f_hat_temp = P_f_hat **(data['theta_k'].reshape((1, data['k'])))\n",
    "    \n",
    "    part_1 = data['X_f'] * (P_f_hat_temp * D_f_hat).reshape((data['n'],1,data['k']))\n",
    "    \n",
    "    Y_f_hat = C_f_hat_temp/data['Y_f'] * np.sum(part_1, axis=1).reshape(data['n'], data['k'])\n",
    "    \n",
    "    return Y_f_hat"
   ]
  },
  {
   "cell_type": "code",
   "execution_count": 44,
   "metadata": {},
   "outputs": [],
   "source": [
    "def get_Y_c_hat(C_c_hat, P_c_hat, D_c_hat, data):    \n",
    "    ''' This is a function that returns the total production for a given final good and country.\n",
    "    variables: C_c_hat, P_c_hat, D_c_hat\n",
    "    parameters: data['X_c'], data['Y_c'], data['theta_g']'''\n",
    "    \n",
    "    C_c_hat_temp = C_c_hat **(-data['theta_g'].reshape((1, data['g'])))\n",
    "    P_c_hat_temp = P_c_hat **(data['theta_g'].reshape((1, data['g'])))\n",
    "    \n",
    "    part_1 = data['X_c'] * (P_c_hat_temp * D_c_hat).reshape((data['n'],1,data['g']))\n",
    "    \n",
    "    Y_c_hat = C_c_hat_temp/data['Y_c'] * np.sum(part_1, axis=1).reshape(data['n'], data['g'])\n",
    "    \n",
    "    return Y_c_hat"
   ]
  },
  {
   "cell_type": "code",
   "execution_count": 47,
   "metadata": {},
   "outputs": [],
   "source": [
    "## Cost of production\n",
    "# TODO: Check if they are working"
   ]
  },
  {
   "cell_type": "code",
   "execution_count": null,
   "metadata": {},
   "outputs": [],
   "source": [
    "def get_C_f_hat(w_hat, P_c_goods_hat, D_f_hat, data):\n",
    "    ''' This is a function that returns the cost of final good in a country.\n",
    "    variables: w_hat, P_c_goods_hat, D_f_hat\n",
    "    parameters: data['phi_L_k'], data['phi'], data['eta'] '''\n",
    "    \n",
    "    part1 = data['phi_L_k'] * (w_hat.reshape((data['n'], 1)) ** (1 - data['eta'].reshape((1, data['k']))))\n",
    "    part2 = data['phi'] * ((P_c_hat_goods.reshape(data['n'], 1, data['k'])) ** (1 - data['eta'].reshape((1, data['k'],1))) )\n",
    "    \n",
    "    C_f_hat = (part1 + np.sum(part2, axis=2).reshape((data['n'], data['k']))) ** (1/(1-data['eta'].reshape((1, data['k'])) ))\n",
    "    \n",
    "    return C_f_hat"
   ]
  },
  {
   "cell_type": "code",
   "execution_count": null,
   "metadata": {},
   "outputs": [],
   "source": [
    "def get_C_c_hat(w_hat, r_hat, data):\n",
    "    ''' This is a function that returns the cost of Commodities in a country.\n",
    "    variables: w_hat, r_hat\n",
    "    parameters: data['phi_L_g'], data['phi_R'], data['rho_g']\n",
    "    '''\n",
    "    \n",
    "    part1 = data['phi_R'] * (r_hat ** (1- data['rho_g'].reshape((1, data['g']))))\n",
    "    part2 = data['phi_L_g'] * (w_hat.reshape((data['n'], 1)) ** (1 - data['rho_g'].reshape((1, data['g']))))\n",
    "    \n",
    "    C_c_hat = (part1 + part2) ** (1/(1-data['rho_g'].reshape((1, data['g'])) ))\n",
    "    \n",
    "    return C_c_hat"
   ]
  },
  {
   "cell_type": "code",
   "execution_count": null,
   "metadata": {},
   "outputs": [],
   "source": [
    "## Cost of production\n",
    "# TODO: Write the equations out\n",
    "# TODO: Check if they are working"
   ]
  },
  {
   "cell_type": "code",
   "execution_count": 48,
   "metadata": {},
   "outputs": [],
   "source": [
    "def get_r_hat(Y_c_hat, C_c_hat, data):\n",
    "    ''' This is a function that returns the ...\n",
    "    variables: Y_c_hat, C_c_hat\n",
    "    parameters: data['R_hat'], data['rho_g']'''\n",
    "    \n",
    "    part1 = (Y_c_hat/data['R_hat']) ** (1/data['rho_g'].reshape((1, data['g'])))\n",
    "    part2 = (C_c_hat) ** (1 - 1/data['rho_g'].reshape((1, data['g'])))\n",
    "\n",
    "    r_hat = part1*part2\n",
    "    \n",
    "    return r_hat"
   ]
  },
  {
   "cell_type": "code",
   "execution_count": 49,
   "metadata": {},
   "outputs": [],
   "source": [
    "def get_w_hat(C_c_hat, C_f_hat, Y_c_hat, Y_f_hat, data):\n",
    "    ''' This is a function that returns change in wage in a given country\n",
    "    variables: C_c_hat, Y_c_hat, C_f_hat, Y_f_hat\n",
    "    parameters: data['phi_L_g], data['phi_L_k], data['Y_c'], data['Y_f'], data['']'''\n",
    "    \n",
    "    '''I will not define this here as it has many w_hats in the equation itself. I can define this when I am \n",
    "    defining the equlibirium. It will be the only complicated equation I will state.'''\n",
    "    return None"
   ]
  }
 ],
 "metadata": {
  "kernelspec": {
   "display_name": "Python 3",
   "language": "python",
   "name": "python3"
  },
  "language_info": {
   "codemirror_mode": {
    "name": "ipython",
    "version": 3
   },
   "file_extension": ".py",
   "mimetype": "text/x-python",
   "name": "python",
   "nbconvert_exporter": "python",
   "pygments_lexer": "ipython3",
   "version": "3.6.3"
  }
 },
 "nbformat": 4,
 "nbformat_minor": 2
}
