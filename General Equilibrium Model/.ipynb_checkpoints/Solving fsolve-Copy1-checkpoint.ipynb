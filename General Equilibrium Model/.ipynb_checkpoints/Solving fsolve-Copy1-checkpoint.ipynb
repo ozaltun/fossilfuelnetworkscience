{
 "cells": [
  {
   "cell_type": "code",
   "execution_count": 1,
   "metadata": {},
   "outputs": [],
   "source": [
    "from scipy.optimize import newton_krylov\n",
    "import numpy as np\n",
    "import pandas as pd\n",
    "import matplotlib.pyplot as plt\n",
    "import autograd\n",
    "from counterfactual_functions import *\n",
    "from helper import *"
   ]
  },
  {
   "cell_type": "code",
   "execution_count": 2,
   "metadata": {},
   "outputs": [],
   "source": [
    "data_dict = load_obj('/Users/boraozaltun/Dropbox (MIT)/Data/Trade/general_equilibrium_gravity/final_data/data_20200210.pickle')"
   ]
  },
  {
   "cell_type": "code",
   "execution_count": 3,
   "metadata": {},
   "outputs": [],
   "source": [
    "reg_2_num = load_obj('/Users/boraozaltun/Dropbox (MIT)/Data/Trade/general_equilibrium_gravity/GTAP/mapping/reg_2_num.pickle')\n",
    "comm_2_num = load_obj('/Users/boraozaltun/Dropbox (MIT)/Data/Trade/general_equilibrium_gravity/GTAP/mapping/comm_2_num.pickle')"
   ]
  },
  {
   "cell_type": "code",
   "execution_count": 4,
   "metadata": {},
   "outputs": [],
   "source": [
    "n = data_dict['n']\n",
    "g = data_dict['g']\n",
    "k = data_dict['k']\n",
    "\n",
    "data_dict['R_hat'] = np.ones((n, g))\n",
    "data_dict['R_hat'][reg_2_num['usa'], comm_2_num['oil']] = 2\n",
    "data_dict['R_hat'][reg_2_num['usa'], comm_2_num['gas']] = 2"
   ]
  },
  {
   "cell_type": "code",
   "execution_count": 27,
   "metadata": {},
   "outputs": [],
   "source": [
    "X_0 = np.ones(5*n*g + 4*n*k + 3*n)*0.05\n",
    "F = lambda x: counterfactual(x, data_dict)"
   ]
  },
  {
   "cell_type": "code",
   "execution_count": 28,
   "metadata": {},
   "outputs": [],
   "source": [
    "dF = autograd.jacobian(F)"
   ]
  },
  {
   "cell_type": "code",
   "execution_count": 29,
   "metadata": {},
   "outputs": [
    {
     "name": "stdout",
     "output_type": "stream",
     "text": [
      "0:  |F(x)| = 1.02708e+06; step 1\n",
      "1:  |F(x)| = 1.02708e+06; step 1\n",
      "2:  |F(x)| = 1.02708e+06; step 1\n",
      "3:  |F(x)| = 1.02708e+06; step 1\n",
      "4:  |F(x)| = 1.02708e+06; step 1\n",
      "5:  |F(x)| = 1.02708e+06; step 1\n",
      "6:  |F(x)| = 1.02708e+06; step 1\n",
      "7:  |F(x)| = 1.02708e+06; step 1\n",
      "8:  |F(x)| = 1.02708e+06; step 1\n",
      "9:  |F(x)| = 1.02708e+06; step 1\n",
      "10:  |F(x)| = 1.02708e+06; step 1\n",
      "11:  |F(x)| = 1.02708e+06; step 1\n",
      "12:  |F(x)| = 1.02708e+06; step 1\n",
      "13:  |F(x)| = 1.02708e+06; step 1\n",
      "14:  |F(x)| = 1.02708e+06; step 1\n",
      "15:  |F(x)| = 1.02708e+06; step 1\n",
      "16:  |F(x)| = 1.02708e+06; step 1\n",
      "17:  |F(x)| = 1.02708e+06; step 1\n",
      "18:  |F(x)| = 1.02708e+06; step 1\n",
      "19:  |F(x)| = 1.02708e+06; step 1\n",
      "20:  |F(x)| = 1.02708e+06; step 1\n"
     ]
    },
    {
     "ename": "ValueError",
     "evalue": "Jacobian inversion yielded zero vector. This indicates a bug in the Jacobian approximation.",
     "output_type": "error",
     "traceback": [
      "\u001b[0;31m---------------------------------------------------------------------------\u001b[0m",
      "\u001b[0;31mValueError\u001b[0m                                Traceback (most recent call last)",
      "\u001b[0;32m<ipython-input-29-3ceefb071011>\u001b[0m in \u001b[0;36m<module>\u001b[0;34m()\u001b[0m\n\u001b[0;32m----> 1\u001b[0;31m \u001b[0mX\u001b[0m \u001b[0;34m=\u001b[0m \u001b[0mnewton_krylov\u001b[0m\u001b[0;34m(\u001b[0m\u001b[0mF\u001b[0m\u001b[0;34m,\u001b[0m \u001b[0mX_0\u001b[0m\u001b[0;34m,\u001b[0m \u001b[0mverbose\u001b[0m\u001b[0;34m=\u001b[0m\u001b[0;36m1\u001b[0m\u001b[0;34m,\u001b[0m \u001b[0mf_tol\u001b[0m\u001b[0;34m=\u001b[0m\u001b[0;36m10e-4\u001b[0m\u001b[0;34m)\u001b[0m\u001b[0;34m\u001b[0m\u001b[0m\n\u001b[0m",
      "\u001b[0;32m/Library/Frameworks/Python.framework/Versions/3.6/lib/python3.6/site-packages/scipy/optimize/nonlin.py\u001b[0m in \u001b[0;36mnewton_krylov\u001b[0;34m(F, xin, iter, rdiff, method, inner_maxiter, inner_M, outer_k, verbose, maxiter, f_tol, f_rtol, x_tol, x_rtol, tol_norm, line_search, callback, **kw)\u001b[0m\n",
      "\u001b[0;32m/Library/Frameworks/Python.framework/Versions/3.6/lib/python3.6/site-packages/scipy/optimize/nonlin.py\u001b[0m in \u001b[0;36mnonlin_solve\u001b[0;34m(F, x0, jacobian, iter, verbose, maxiter, f_tol, f_rtol, x_tol, x_rtol, tol_norm, line_search, callback, full_output, raise_exception)\u001b[0m\n\u001b[1;32m    313\u001b[0m \u001b[0;34m\u001b[0m\u001b[0m\n\u001b[1;32m    314\u001b[0m         \u001b[0;32mif\u001b[0m \u001b[0mnorm\u001b[0m\u001b[0;34m(\u001b[0m\u001b[0mdx\u001b[0m\u001b[0;34m)\u001b[0m \u001b[0;34m==\u001b[0m \u001b[0;36m0\u001b[0m\u001b[0;34m:\u001b[0m\u001b[0;34m\u001b[0m\u001b[0m\n\u001b[0;32m--> 315\u001b[0;31m             raise ValueError(\"Jacobian inversion yielded zero vector. \"\n\u001b[0m\u001b[1;32m    316\u001b[0m                              \u001b[0;34m\"This indicates a bug in the Jacobian \"\u001b[0m\u001b[0;34m\u001b[0m\u001b[0m\n\u001b[1;32m    317\u001b[0m                              \"approximation.\")\n",
      "\u001b[0;31mValueError\u001b[0m: Jacobian inversion yielded zero vector. This indicates a bug in the Jacobian approximation."
     ]
    }
   ],
   "source": [
    "X = newton_krylov(F, X_0, verbose=1, f_tol=10e-4)  "
   ]
  },
  {
   "cell_type": "code",
   "execution_count": 30,
   "metadata": {},
   "outputs": [],
   "source": [
    "# Next step, define the jacobiann !! This way you can also check your functions:\n",
    "## (1) Manually define the Jacobian and code it up\n",
    "## (2) Compare the answers of autodiff on original function and jacobian results!"
   ]
  },
  {
   "cell_type": "code",
   "execution_count": 31,
   "metadata": {},
   "outputs": [],
   "source": [
    "# If this does not make the process easier, then start to decrease number of countries + \n",
    "# go over data! "
   ]
  },
  {
   "cell_type": "code",
   "execution_count": 32,
   "metadata": {},
   "outputs": [],
   "source": [
    "# Need to do all this today"
   ]
  },
  {
   "cell_type": "code",
   "execution_count": 33,
   "metadata": {},
   "outputs": [],
   "source": [
    "## If the above two don't work, compress the equations in ways you can!"
   ]
  },
  {
   "cell_type": "code",
   "execution_count": null,
   "metadata": {},
   "outputs": [],
   "source": []
  }
 ],
 "metadata": {
  "kernelspec": {
   "display_name": "Python 3",
   "language": "python",
   "name": "python3"
  },
  "language_info": {
   "codemirror_mode": {
    "name": "ipython",
    "version": 3
   },
   "file_extension": ".py",
   "mimetype": "text/x-python",
   "name": "python",
   "nbconvert_exporter": "python",
   "pygments_lexer": "ipython3",
   "version": "3.6.3"
  }
 },
 "nbformat": 4,
 "nbformat_minor": 2
}
