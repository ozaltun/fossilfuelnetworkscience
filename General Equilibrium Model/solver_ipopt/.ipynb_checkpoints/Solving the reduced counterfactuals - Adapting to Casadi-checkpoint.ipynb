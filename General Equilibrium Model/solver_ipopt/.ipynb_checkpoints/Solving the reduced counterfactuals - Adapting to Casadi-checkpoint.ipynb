{
 "cells": [
  {
   "cell_type": "code",
   "execution_count": 1,
   "metadata": {},
   "outputs": [],
   "source": [
    "# I think that the 12 equations can be reduced to (2) w_hat, r_hat. Lets see!"
   ]
  },
  {
   "cell_type": "code",
   "execution_count": 1,
   "metadata": {},
   "outputs": [],
   "source": [
    "from casadi import *\n",
    "import numpy as np\n",
    "import pandas as pd\n",
    "import matplotlib.pyplot as plt\n",
    "\n",
    "\n",
    "from counterfactual_functions import *\n",
    "from helper import *"
   ]
  },
  {
   "cell_type": "code",
   "execution_count": 2,
   "metadata": {},
   "outputs": [],
   "source": [
    "myenv = 'boraozaltun'"
   ]
  },
  {
   "cell_type": "code",
   "execution_count": 3,
   "metadata": {},
   "outputs": [],
   "source": [
    "data_dict = load_obj('/Users/'+myenv+'/Dropbox (MIT)/Data/Trade/general_equilibrium_gravity/final_data/data_20200212.pickle')\n",
    "\n",
    "# For stability\n",
    "\n",
    "data_dict['phi_R'][data_dict['phi_R'] == 0 ] = 1e-14\n",
    "\n",
    "reg_2_num = load_obj('/Users/'+myenv+'/Dropbox (MIT)/Data/Trade/general_equilibrium_gravity/GTAP/mapping/reg_2_num.pickle')\n",
    "comm_2_num = load_obj('/Users/'+myenv+'/Dropbox (MIT)/Data/Trade/general_equilibrium_gravity/GTAP/mapping/comm_2_num.pickle')\n",
    "\n",
    "\n",
    "n = data_dict['n']\n",
    "g = data_dict['g']\n",
    "k = data_dict['k']\n",
    "\n",
    "data_dict['R_hat'] = np.ones((n, g))\n",
    "# data_dict['R_hat'][reg_2_num['usa'], comm_2_num['oil']] = 2\n",
    "# data_dict['R_hat'][reg_2_num['usa'], comm_2_num['gas']] = 2"
   ]
  },
  {
   "cell_type": "code",
   "execution_count": 4,
   "metadata": {},
   "outputs": [],
   "source": [
    "r_hat = SX.sym('r_hat', n, g)\n",
    "w_hat = SX.sym('w_hat', n)"
   ]
  },
  {
   "cell_type": "code",
   "execution_count": 5,
   "metadata": {},
   "outputs": [
    {
     "data": {
      "text/plain": [
       "array([[2., 2.],\n",
       "       [1., 1.]])"
      ]
     },
     "execution_count": 5,
     "metadata": {},
     "output_type": "execute_result"
    }
   ],
   "source": [
    "temp = np.ones((, 2))"
   ]
  },
  {
   "cell_type": "code",
   "execution_count": 6,
   "metadata": {},
   "outputs": [
    {
     "data": {
      "text/plain": [
       "(2, 1)"
      ]
     },
     "execution_count": 6,
     "metadata": {},
     "output_type": "execute_result"
    }
   ],
   "source": [
    "np.array([[2], [1]]).shape"
   ]
  },
  {
   "cell_type": "code",
   "execution_count": 7,
   "metadata": {},
   "outputs": [
    {
     "data": {
      "text/plain": [
       "(134, 1)"
      ]
     },
     "execution_count": 7,
     "metadata": {},
     "output_type": "execute_result"
    }
   ],
   "source": [
    "sum2(r_hat).shape"
   ]
  },
  {
   "cell_type": "code",
   "execution_count": 11,
   "metadata": {},
   "outputs": [],
   "source": [
    "C_g_hat = get_C_g_hat(w_hat, r_hat, data_dict)"
   ]
  },
  {
   "cell_type": "code",
   "execution_count": 12,
   "metadata": {},
   "outputs": [],
   "source": [
    "E_hat = get_E_hat(w_hat, r_hat, data_dict)"
   ]
  },
  {
   "cell_type": "code",
   "execution_count": 22,
   "metadata": {},
   "outputs": [],
   "source": [
    " temp = SX.sym('temp', n, n, g)"
   ]
  },
  {
   "cell_type": "code",
   "execution_count": 14,
   "metadata": {},
   "outputs": [
    {
     "ename": "RuntimeError",
     "evalue": ".../casadi/core/matrix_impl.hpp:1284: Dimension mismatch for pow(x,y), x is 134x27, while y is 1x27",
     "output_type": "error",
     "traceback": [
      "\u001b[0;31m---------------------------------------------------------------------------\u001b[0m",
      "\u001b[0;31mRuntimeError\u001b[0m                              Traceback (most recent call last)",
      "\u001b[0;32m<ipython-input-14-b78edabe2381>\u001b[0m in \u001b[0;36m<module>\u001b[0;34m()\u001b[0m\n\u001b[0;32m----> 1\u001b[0;31m \u001b[0mP_g_goods_hat\u001b[0m \u001b[0;34m=\u001b[0m \u001b[0mget_P_g_goods_hat\u001b[0m\u001b[0;34m(\u001b[0m\u001b[0mC_g_hat\u001b[0m\u001b[0;34m,\u001b[0m \u001b[0mdata_dict\u001b[0m\u001b[0;34m)\u001b[0m\u001b[0;34m\u001b[0m\u001b[0m\n\u001b[0m",
      "\u001b[0;32m~/GitHub/fossilfuelnetworkscience/General Equilibrium Model/solver_casadi/counterfactual_functions.py\u001b[0m in \u001b[0;36mget_P_g_goods_hat\u001b[0;34m(C_g_hat, data)\u001b[0m\n\u001b[1;32m     46\u001b[0m     '''\n\u001b[1;32m     47\u001b[0m \u001b[0;34m\u001b[0m\u001b[0m\n\u001b[0;32m---> 48\u001b[0;31m     \u001b[0mC_g_hat_temp\u001b[0m \u001b[0;34m=\u001b[0m \u001b[0mC_g_hat\u001b[0m \u001b[0;34m**\u001b[0m \u001b[0;34m(\u001b[0m\u001b[0;34m-\u001b[0m\u001b[0mdata\u001b[0m\u001b[0;34m[\u001b[0m\u001b[0;34m'theta_g'\u001b[0m\u001b[0;34m]\u001b[0m\u001b[0;34m.\u001b[0m\u001b[0mreshape\u001b[0m\u001b[0;34m(\u001b[0m\u001b[0;34m(\u001b[0m\u001b[0;36m1\u001b[0m\u001b[0;34m,\u001b[0m \u001b[0mdata\u001b[0m\u001b[0;34m[\u001b[0m\u001b[0;34m'g'\u001b[0m\u001b[0;34m]\u001b[0m\u001b[0;34m)\u001b[0m\u001b[0;34m)\u001b[0m\u001b[0;34m)\u001b[0m\u001b[0;34m\u001b[0m\u001b[0m\n\u001b[0m\u001b[1;32m     49\u001b[0m     \u001b[0mpart1\u001b[0m \u001b[0;34m=\u001b[0m \u001b[0mnp\u001b[0m\u001b[0;34m.\u001b[0m\u001b[0msum\u001b[0m\u001b[0;34m(\u001b[0m\u001b[0mdata\u001b[0m\u001b[0;34m[\u001b[0m\u001b[0;34m'lambda_g'\u001b[0m\u001b[0;34m]\u001b[0m \u001b[0;34m*\u001b[0m \u001b[0mC_g_hat_temp\u001b[0m\u001b[0;34m.\u001b[0m\u001b[0mreshape\u001b[0m\u001b[0;34m(\u001b[0m\u001b[0;34m(\u001b[0m\u001b[0;36m1\u001b[0m\u001b[0;34m,\u001b[0m \u001b[0mdata\u001b[0m\u001b[0;34m[\u001b[0m\u001b[0;34m'n'\u001b[0m\u001b[0;34m]\u001b[0m\u001b[0;34m,\u001b[0m \u001b[0mdata\u001b[0m\u001b[0;34m[\u001b[0m\u001b[0;34m'g'\u001b[0m\u001b[0;34m]\u001b[0m\u001b[0;34m)\u001b[0m\u001b[0;34m)\u001b[0m\u001b[0;34m,\u001b[0m \u001b[0maxis\u001b[0m\u001b[0;34m=\u001b[0m\u001b[0;36m1\u001b[0m\u001b[0;34m)\u001b[0m\u001b[0;34m\u001b[0m\u001b[0m\n\u001b[1;32m     50\u001b[0m     \u001b[0mpart2\u001b[0m \u001b[0;34m=\u001b[0m \u001b[0mpart1\u001b[0m\u001b[0;34m.\u001b[0m\u001b[0mreshape\u001b[0m\u001b[0;34m(\u001b[0m\u001b[0;34m(\u001b[0m\u001b[0mdata\u001b[0m\u001b[0;34m[\u001b[0m\u001b[0;34m'n'\u001b[0m\u001b[0;34m]\u001b[0m\u001b[0;34m,\u001b[0m \u001b[0mdata\u001b[0m\u001b[0;34m[\u001b[0m\u001b[0;34m'g'\u001b[0m\u001b[0;34m]\u001b[0m\u001b[0;34m)\u001b[0m\u001b[0;34m)\u001b[0m\u001b[0;34m\u001b[0m\u001b[0m\n",
      "\u001b[0;32m/Library/Frameworks/Python.framework/Versions/3.6/lib/python3.6/site-packages/casadi/casadi.py\u001b[0m in \u001b[0;36m__pow__\u001b[0;34m(x, n)\u001b[0m\n\u001b[1;32m   6128\u001b[0m     \u001b[0;32mdef\u001b[0m \u001b[0m__ne__\u001b[0m\u001b[0;34m(\u001b[0m\u001b[0mx\u001b[0m\u001b[0;34m,\u001b[0m \u001b[0my\u001b[0m\u001b[0;34m)\u001b[0m\u001b[0;34m:\u001b[0m \u001b[0;32mreturn\u001b[0m \u001b[0m_casadi\u001b[0m\u001b[0;34m.\u001b[0m\u001b[0mne\u001b[0m\u001b[0;34m(\u001b[0m\u001b[0mx\u001b[0m\u001b[0;34m,\u001b[0m \u001b[0my\u001b[0m\u001b[0;34m)\u001b[0m\u001b[0;34m\u001b[0m\u001b[0m\n\u001b[1;32m   6129\u001b[0m     \u001b[0;32mdef\u001b[0m \u001b[0m__rne__\u001b[0m\u001b[0;34m(\u001b[0m\u001b[0mx\u001b[0m\u001b[0;34m,\u001b[0m \u001b[0my\u001b[0m\u001b[0;34m)\u001b[0m\u001b[0;34m:\u001b[0m \u001b[0;32mreturn\u001b[0m \u001b[0m_casadi\u001b[0m\u001b[0;34m.\u001b[0m\u001b[0mne\u001b[0m\u001b[0;34m(\u001b[0m\u001b[0my\u001b[0m\u001b[0;34m,\u001b[0m \u001b[0mx\u001b[0m\u001b[0;34m)\u001b[0m\u001b[0;34m\u001b[0m\u001b[0m\n\u001b[0;32m-> 6130\u001b[0;31m     \u001b[0;32mdef\u001b[0m \u001b[0m__pow__\u001b[0m\u001b[0;34m(\u001b[0m\u001b[0mx\u001b[0m\u001b[0;34m,\u001b[0m \u001b[0mn\u001b[0m\u001b[0;34m)\u001b[0m\u001b[0;34m:\u001b[0m \u001b[0;32mreturn\u001b[0m \u001b[0m_casadi\u001b[0m\u001b[0;34m.\u001b[0m\u001b[0mpower\u001b[0m\u001b[0;34m(\u001b[0m\u001b[0mx\u001b[0m\u001b[0;34m,\u001b[0m \u001b[0mn\u001b[0m\u001b[0;34m)\u001b[0m\u001b[0;34m\u001b[0m\u001b[0m\n\u001b[0m\u001b[1;32m   6131\u001b[0m     \u001b[0;32mdef\u001b[0m \u001b[0m__rpow__\u001b[0m\u001b[0;34m(\u001b[0m\u001b[0mn\u001b[0m\u001b[0;34m,\u001b[0m \u001b[0mx\u001b[0m\u001b[0;34m)\u001b[0m\u001b[0;34m:\u001b[0m \u001b[0;32mreturn\u001b[0m \u001b[0m_casadi\u001b[0m\u001b[0;34m.\u001b[0m\u001b[0mpower\u001b[0m\u001b[0;34m(\u001b[0m\u001b[0mx\u001b[0m\u001b[0;34m,\u001b[0m \u001b[0mn\u001b[0m\u001b[0;34m)\u001b[0m\u001b[0;34m\u001b[0m\u001b[0m\n\u001b[1;32m   6132\u001b[0m     \u001b[0;32mdef\u001b[0m \u001b[0m__arctan2__\u001b[0m\u001b[0;34m(\u001b[0m\u001b[0mx\u001b[0m\u001b[0;34m,\u001b[0m \u001b[0my\u001b[0m\u001b[0;34m)\u001b[0m\u001b[0;34m:\u001b[0m \u001b[0;32mreturn\u001b[0m \u001b[0m_casadi\u001b[0m\u001b[0;34m.\u001b[0m\u001b[0matan2\u001b[0m\u001b[0;34m(\u001b[0m\u001b[0mx\u001b[0m\u001b[0;34m,\u001b[0m \u001b[0my\u001b[0m\u001b[0;34m)\u001b[0m\u001b[0;34m\u001b[0m\u001b[0m\n",
      "\u001b[0;31mRuntimeError\u001b[0m: .../casadi/core/matrix_impl.hpp:1284: Dimension mismatch for pow(x,y), x is 134x27, while y is 1x27"
     ]
    }
   ],
   "source": [
    "P_g_goods_hat = get_P_g_goods_hat(C_g_hat, data_dict)"
   ]
  },
  {
   "cell_type": "code",
   "execution_count": 29,
   "metadata": {},
   "outputs": [
    {
     "ename": "NotImplementedError",
     "evalue": "Wrong number or type of arguments for function 'SX_enlarge'.\n  Prototype:\nenlarge(self,int,int,[int],[int],bool)\n  You have: \n",
     "output_type": "error",
     "traceback": [
      "\u001b[0;31m---------------------------------------------------------------------------\u001b[0m",
      "\u001b[0;31mNotImplementedError\u001b[0m                       Traceback (most recent call last)",
      "\u001b[0;32m<ipython-input-29-1adee1bdbe7c>\u001b[0m in \u001b[0;36m<module>\u001b[0;34m()\u001b[0m\n\u001b[0;32m----> 1\u001b[0;31m \u001b[0mr_hat\u001b[0m\u001b[0;34m.\u001b[0m\u001b[0menlarge\u001b[0m\u001b[0;34m(\u001b[0m\u001b[0;36m1\u001b[0m\u001b[0;34m,\u001b[0m \u001b[0mn\u001b[0m\u001b[0;34m,\u001b[0m \u001b[0mg\u001b[0m\u001b[0;34m)\u001b[0m\u001b[0;34m\u001b[0m\u001b[0m\n\u001b[0m",
      "\u001b[0;32m/Library/Frameworks/Python.framework/Versions/3.6/lib/python3.6/site-packages/casadi/casadi.py\u001b[0m in \u001b[0;36menlarge\u001b[0;34m(self, *args)\u001b[0m\n\u001b[1;32m   8422\u001b[0m \u001b[0;34m\u001b[0m\u001b[0m\n\u001b[1;32m   8423\u001b[0m         \"\"\"\n\u001b[0;32m-> 8424\u001b[0;31m         \u001b[0;32mreturn\u001b[0m \u001b[0m_casadi\u001b[0m\u001b[0;34m.\u001b[0m\u001b[0mSX_enlarge\u001b[0m\u001b[0;34m(\u001b[0m\u001b[0mself\u001b[0m\u001b[0;34m,\u001b[0m \u001b[0;34m*\u001b[0m\u001b[0margs\u001b[0m\u001b[0;34m)\u001b[0m\u001b[0;34m\u001b[0m\u001b[0m\n\u001b[0m\u001b[1;32m   8425\u001b[0m \u001b[0;34m\u001b[0m\u001b[0m\n\u001b[1;32m   8426\u001b[0m \u001b[0;34m\u001b[0m\u001b[0m\n",
      "\u001b[0;31mNotImplementedError\u001b[0m: Wrong number or type of arguments for function 'SX_enlarge'.\n  Prototype:\nenlarge(self,int,int,[int],[int],bool)\n  You have: \n"
     ]
    }
   ],
   "source": [
    "lambda_temp = sum0(data_dict['lambda_g'][0,:,:]*r_hat)"
   ]
  },
  {
   "cell_type": "code",
   "execution_count": 25,
   "metadata": {},
   "outputs": [
    {
     "name": "stdout",
     "output_type": "stream",
     "text": [
      "0\n"
     ]
    },
    {
     "ename": "TypeError",
     "evalue": "list indices must be integers or slices, not tuple",
     "output_type": "error",
     "traceback": [
      "\u001b[0;31m---------------------------------------------------------------------------\u001b[0m",
      "\u001b[0;31mTypeError\u001b[0m                                 Traceback (most recent call last)",
      "\u001b[0;32m<ipython-input-25-8731fec8dada>\u001b[0m in \u001b[0;36m<module>\u001b[0;34m()\u001b[0m\n\u001b[1;32m      2\u001b[0m \u001b[0;32mfor\u001b[0m \u001b[0mi\u001b[0m \u001b[0;32min\u001b[0m \u001b[0mrange\u001b[0m\u001b[0;34m(\u001b[0m\u001b[0;36m5\u001b[0m\u001b[0;34m)\u001b[0m\u001b[0;34m:\u001b[0m\u001b[0;34m\u001b[0m\u001b[0m\n\u001b[1;32m      3\u001b[0m     \u001b[0mprint\u001b[0m\u001b[0;34m(\u001b[0m\u001b[0mi\u001b[0m\u001b[0;34m)\u001b[0m\u001b[0;34m\u001b[0m\u001b[0m\n\u001b[0;32m----> 4\u001b[0;31m     \u001b[0mtemp\u001b[0m\u001b[0;34m[\u001b[0m\u001b[0;36m0\u001b[0m\u001b[0;34m,\u001b[0m \u001b[0;34m:\u001b[0m\u001b[0;34m,\u001b[0m \u001b[0;34m:\u001b[0m\u001b[0;34m]\u001b[0m \u001b[0;34m=\u001b[0m \u001b[0mr_hat\u001b[0m\u001b[0;34m\u001b[0m\u001b[0m\n\u001b[0m",
      "\u001b[0;31mTypeError\u001b[0m: list indices must be integers or slices, not tuple"
     ]
    }
   ],
   "source": [
    "for i in range(5):\n",
    "    print(i)\n",
    "    temp[0, :, :] = r_hat"
   ]
  },
  {
   "cell_type": "code",
   "execution_count": 26,
   "metadata": {},
   "outputs": [
    {
     "ename": "TypeError",
     "evalue": "can't multiply sequence by non-int of type 'SX'",
     "output_type": "error",
     "traceback": [
      "\u001b[0;31m---------------------------------------------------------------------------\u001b[0m",
      "\u001b[0;31mTypeError\u001b[0m                                 Traceback (most recent call last)",
      "\u001b[0;32m<ipython-input-26-a7b58ab5ddaa>\u001b[0m in \u001b[0;36m<module>\u001b[0;34m()\u001b[0m\n\u001b[0;32m----> 1\u001b[0;31m \u001b[0mtemp\u001b[0m\u001b[0;34m*\u001b[0m\u001b[0mr_hat\u001b[0m\u001b[0;34m\u001b[0m\u001b[0m\n\u001b[0m",
      "\u001b[0;31mTypeError\u001b[0m: can't multiply sequence by non-int of type 'SX'"
     ]
    }
   ],
   "source": [
    "temp*r_hat"
   ]
  },
  {
   "cell_type": "code",
   "execution_count": 16,
   "metadata": {},
   "outputs": [
    {
     "data": {
      "text/plain": [
       "SX([w_hat_0, w_hat_1, w_hat_2, w_hat_3, w_hat_4, w_hat_5, w_hat_6, w_hat_7, w_hat_8, w_hat_9, w_hat_10, w_hat_11, w_hat_12, w_hat_13, w_hat_14, w_hat_15, w_hat_16, w_hat_17, w_hat_18, w_hat_19, w_hat_20, w_hat_21, w_hat_22, w_hat_23, w_hat_24, w_hat_25, w_hat_26, w_hat_27, w_hat_28, w_hat_29, w_hat_30, w_hat_31, w_hat_32, w_hat_33, w_hat_34, w_hat_35, w_hat_36, w_hat_37, w_hat_38, w_hat_39, w_hat_40, w_hat_41, w_hat_42, w_hat_43, w_hat_44, w_hat_45, w_hat_46, w_hat_47, w_hat_48, w_hat_49, w_hat_50, w_hat_51, w_hat_52, w_hat_53, w_hat_54, w_hat_55, w_hat_56, w_hat_57, w_hat_58, w_hat_59, w_hat_60, w_hat_61, w_hat_62, w_hat_63, w_hat_64, w_hat_65, w_hat_66, w_hat_67, w_hat_68, w_hat_69, w_hat_70, w_hat_71, w_hat_72, w_hat_73, w_hat_74, w_hat_75, w_hat_76, w_hat_77, w_hat_78, w_hat_79, w_hat_80, w_hat_81, w_hat_82, w_hat_83, w_hat_84, w_hat_85, w_hat_86, w_hat_87, w_hat_88, w_hat_89, w_hat_90, w_hat_91, w_hat_92, w_hat_93, w_hat_94, w_hat_95, w_hat_96, w_hat_97, w_hat_98, w_hat_99, w_hat_100, w_hat_101, w_hat_102, w_hat_103, w_hat_104, w_hat_105, w_hat_106, w_hat_107, w_hat_108, w_hat_109, w_hat_110, w_hat_111, w_hat_112, w_hat_113, w_hat_114, w_hat_115, w_hat_116, w_hat_117, w_hat_118, w_hat_119, w_hat_120, w_hat_121, w_hat_122, w_hat_123, w_hat_124, w_hat_125, w_hat_126, w_hat_127, w_hat_128, w_hat_129, w_hat_130, w_hat_131, w_hat_132, w_hat_133])"
      ]
     },
     "execution_count": 16,
     "metadata": {},
     "output_type": "execute_result"
    }
   ],
   "source": [
    "def reduced_counterfactual(X, data):\n",
    "\n",
    "    n = data['n']\n",
    "    g = data['g']\n",
    "    k = data['k']\n",
    "\n",
    "    r_hat, w_hat = get_values_from_X_reduced(X, data)\n",
    "    # print(r_hat.mean())\n",
    "\n",
    "    C_g_hat = get_C_g_hat(w_hat, r_hat, data)\n",
    "    E_hat = get_E_hat(w_hat, r_hat, data)\n",
    "\n",
    "    P_g_goods_hat = get_P_g_goods_hat(C_g_hat, data)\n",
    "\n",
    "    C_k_hat = get_C_k_hat(w_hat, P_g_goods_hat, data)\n",
    "\n",
    "    P_k_goods_hat = get_P_k_goods_hat(C_k_hat, data)\n",
    "\n",
    "    P_k_hat = get_P_k_hat(P_k_goods_hat, data)\n",
    "\n",
    "    D_k_hat = get_D_k_hat(E_hat, P_k_goods_hat, P_k_hat, data)\n",
    "\n",
    "    Y_k_hat = get_Y_k_hat(C_k_hat, P_k_goods_hat, D_k_hat, data)\n",
    "    # print(np.mean(Y_k_hat))\n",
    "    D_g_hat = get_D_g_hat(P_g_goods_hat, C_k_hat, Y_k_hat, data)\n",
    "    # print(np.mean(D_g_hat))\n",
    "    Y_g_hat = get_Y_g_hat(C_g_hat, P_g_goods_hat, D_g_hat, data)\n",
    "    # print(np.mean(Y_g_hat))\n",
    "    values = []\n",
    "    values.append(r_hat - get_r_hat(r_hat, Y_g_hat, C_g_hat, data))\n",
    "    values.append(w_hat - get_w_hat(w_hat, Y_g_hat, Y_k_hat, C_k_hat, C_g_hat, data))\n",
    "    # print(get_r_hat(r_hat, Y_g_hat, C_g_hat, data)[0:3,0:3])\n",
    "\n",
    "\n",
    "    output = get_Res_from_values_reduced(values, data)\n",
    "    # print(output.shape)\n",
    "    # print(np.mean(output))\n",
    "\n",
    "    return output"
   ]
  },
  {
   "cell_type": "code",
   "execution_count": 6,
   "metadata": {},
   "outputs": [],
   "source": [
    "X_0 = np.ones(n*g + n)*2\n",
    "F = lambda x: reduced_counterfactual(x, data_dict)"
   ]
  },
  {
   "cell_type": "code",
   "execution_count": 6,
   "metadata": {},
   "outputs": [],
   "source": [
    "# It seems quite early on, something is going wrong\n",
    "# Also, curious if I can speed it up in different ways "
   ]
  },
  {
   "cell_type": "code",
   "execution_count": 7,
   "metadata": {},
   "outputs": [],
   "source": [
    "# X = F(X_0)\n",
    "# r_hat, w_hat = get_values_from_X_reduced(X, data_dict)"
   ]
  },
  {
   "cell_type": "code",
   "execution_count": 8,
   "metadata": {},
   "outputs": [
    {
     "name": "stdout",
     "output_type": "stream",
     "text": [
      "1.3802919896785053 2.199434289114182\n",
      "2.9595509933004256 0.00033401133571680575 0.5474694532976458\n"
     ]
    }
   ],
   "source": [
    "data = dict(data_dict)\n",
    "X = X_0\n",
    "n = data['n']\n",
    "g = data['g']\n",
    "k = data['k']\n",
    "\n",
    "r_hat, w_hat = get_values_from_X_reduced(X, data)\n",
    "\n",
    "\n",
    "C_g_hat = get_C_g_hat(w_hat, r_hat, data)\n",
    "E_hat = get_E_hat(w_hat, r_hat, data)\n",
    "print(np.mean(C_g_hat), np.mean(E_hat))\n",
    "\n",
    "P_g_goods_hat = get_P_g_goods_hat(C_g_hat, data)\n",
    "\n",
    "C_k_hat = get_C_k_hat(w_hat, P_g_goods_hat, data)\n",
    "\n",
    "P_k_goods_hat = get_P_k_goods_hat(C_k_hat, data)\n",
    "\n",
    "P_k_hat = get_P_k_hat(P_k_goods_hat, data)\n",
    "\n",
    "D_k_hat = get_D_k_hat(E_hat, P_k_goods_hat, P_k_hat, data)\n",
    "print(np.mean(C_k_hat), np.mean(P_k_goods_hat), np.mean(D_k_hat))"
   ]
  },
  {
   "cell_type": "code",
   "execution_count": 9,
   "metadata": {},
   "outputs": [],
   "source": [
    "\n",
    "\n",
    "C_k_hat = get_C_k_hat(w_hat, P_g_goods_hat, data)\n",
    "\n",
    "P_k_goods_hat = get_P_k_goods_hat(C_k_hat, data)\n",
    "\n",
    "P_k_hat = get_P_k_hat(P_k_goods_hat, data)\n",
    "\n",
    "D_k_hat = get_D_k_hat(E_hat, P_k_goods_hat, P_k_hat, data)"
   ]
  },
  {
   "cell_type": "code",
   "execution_count": 10,
   "metadata": {},
   "outputs": [
    {
     "name": "stdout",
     "output_type": "stream",
     "text": [
      "264.25153033634206\n",
      "187.36189848390111\n",
      "5.66386466788699\n"
     ]
    }
   ],
   "source": [
    "Y_k_hat = get_Y_k_hat(C_k_hat, P_k_goods_hat, D_k_hat, data)\n",
    "print(np.mean(Y_k_hat))\n",
    "D_g_hat = get_D_g_hat(P_g_goods_hat, C_k_hat, Y_k_hat, data)\n",
    "print(np.mean(D_g_hat))\n",
    "Y_g_hat = get_Y_g_hat(C_g_hat, P_g_goods_hat, D_g_hat, data)\n",
    "print(np.mean(Y_g_hat))"
   ]
  },
  {
   "cell_type": "code",
   "execution_count": 15,
   "metadata": {},
   "outputs": [],
   "source": [
    "values = []\n",
    "values.append(r_hat - get_r_hat(r_hat, Y_g_hat, C_g_hat, data))\n",
    "values.append(w_hat - get_w_hat(w_hat, Y_g_hat, Y_k_hat, C_k_hat, C_g_hat, data))"
   ]
  },
  {
   "cell_type": "code",
   "execution_count": 16,
   "metadata": {},
   "outputs": [
    {
     "name": "stdout",
     "output_type": "stream",
     "text": [
      "(4958,)\n",
      "-4099000.1776324636\n"
     ]
    }
   ],
   "source": [
    "output = get_X_from_values_reduced(values, data)\n",
    "print(output.shape)\n",
    "print(np.mean(output))"
   ]
  },
  {
   "cell_type": "code",
   "execution_count": 13,
   "metadata": {},
   "outputs": [],
   "source": [
    "# The problem is that the cost of producing a commodity in some countries is 0 because they do not have "
   ]
  },
  {
   "cell_type": "code",
   "execution_count": 14,
   "metadata": {},
   "outputs": [
    {
     "name": "stdout",
     "output_type": "stream",
     "text": [
      "E (134, 1)\n",
      "Y_g (134, 36)\n",
      "Y_k (134, 32)\n",
      "D_g (134, 36)\n",
      "D_k (134, 32)\n",
      "X_g (134, 134, 36)\n",
      "X_k (134, 134, 32)\n",
      "lambda_g (134, 134, 36)\n",
      "lambda_k (134, 134, 32)\n",
      "d (134, 32, 36)\n",
      "e_L (134, 1)\n",
      "e (134, 36)\n",
      "alpha (134, 32)\n",
      "phi_L_g (134, 36)\n",
      "phi_L_k (134, 32)\n",
      "phi_R (134, 36)\n",
      "phi (134, 32, 36)\n",
      "theta_k (32, 1)\n",
      "theta_g (36, 1)\n",
      "eta (32, 1)\n",
      "rho_g (36, 1)\n",
      "R_hat (134, 36)\n"
     ]
    }
   ],
   "source": [
    "for i in data.keys():\n",
    "    if i not in ['n', 'g', 'k', 'sigma']:\n",
    "        print(i, data[i].shape)"
   ]
  },
  {
   "cell_type": "code",
   "execution_count": 16,
   "metadata": {},
   "outputs": [
    {
     "data": {
      "text/plain": [
       "dict_keys(['n', 'g', 'k', 'E', 'Y_g', 'Y_k', 'D_g', 'D_k', 'X_g', 'X_k', 'lambda_g', 'lambda_k', 'd', 'e_L', 'e', 'alpha', 'phi_L_g', 'phi_L_k', 'phi_R', 'phi', 'theta_k', 'theta_g', 'eta', 'rho_g', 'sigma', 'R_hat'])"
      ]
     },
     "execution_count": 16,
     "metadata": {},
     "output_type": "execute_result"
    }
   ],
   "source": [
    "data.keys()"
   ]
  },
  {
   "cell_type": "code",
   "execution_count": null,
   "metadata": {},
   "outputs": [],
   "source": []
  }
 ],
 "metadata": {
  "kernelspec": {
   "display_name": "Python 3",
   "language": "python",
   "name": "python3"
  },
  "language_info": {
   "codemirror_mode": {
    "name": "ipython",
    "version": 3
   },
   "file_extension": ".py",
   "mimetype": "text/x-python",
   "name": "python",
   "nbconvert_exporter": "python",
   "pygments_lexer": "ipython3",
   "version": "3.6.3"
  }
 },
 "nbformat": 4,
 "nbformat_minor": 2
}
